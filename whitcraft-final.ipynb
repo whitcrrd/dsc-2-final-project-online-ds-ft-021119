{
 "cells": [
  {
   "cell_type": "markdown",
   "metadata": {},
   "source": [
    "###### Reed Whitcraft\n",
    "Mod 02 Final Project"
   ]
  },
  {
   "cell_type": "markdown",
   "metadata": {},
   "source": [
    "## Mod 02 Project"
   ]
  },
  {
   "cell_type": "markdown",
   "metadata": {},
   "source": [
    "# Preface\n",
    "\n",
    "    1. Observation\n",
    "    2. Examine Research\n",
    "    3. Form Hypothesis\n",
    "    4. Conduct Experiment\n",
    "    5. Analyze Experimental Results\n",
    "    6. Draw Conclusions"
   ]
  },
  {
   "cell_type": "markdown",
   "metadata": {},
   "source": [
    "# Setup & Configuration\n",
    "***"
   ]
  },
  {
   "cell_type": "markdown",
   "metadata": {},
   "source": [
    "### Import Dependencies"
   ]
  },
  {
   "cell_type": "code",
   "execution_count": 3,
   "metadata": {},
   "outputs": [],
   "source": [
    "# import dependencies\n",
    "import pandas as pd\n",
    "import numpy as np\n",
    "import scipy.stats as stats\n",
    "\n",
    "# sql/database/orm libraries\n",
    "import sqlalchemy\n",
    "import sqlite3 as sql\n",
    "from sqlalchemy import create_engine\n",
    "from sqlalchemy.orm import Session, sessionmaker\n",
    "from sqlalchemy import inspect\n",
    "\n",
    "# interactive notebook library\n",
    "from ipywidgets import interact, interactive\n",
    "\n",
    "# plotting/visualization libraries\n",
    "import matplotlib.pyplot as plt\n",
    "import seaborn as sns\n",
    "%matplotlib inline"
   ]
  },
  {
   "cell_type": "markdown",
   "metadata": {},
   "source": [
    "### Establish Database Connection & Preview Tables"
   ]
  },
  {
   "cell_type": "code",
   "execution_count": 4,
   "metadata": {},
   "outputs": [],
   "source": [
    "# Open a connection to the sql server.\n",
    "# using sqlite3 to initially get data into dataframes quickly\n",
    "connect = sql.connect('Northwind_small.sqlite')\n",
    "c = connect.cursor()\n",
    "# Get table names\n",
    "raw = c.execute(\"\"\"select name from sqlite_master where type = 'table'\"\"\").fetchall()\n",
    "tables = []\n",
    "for table in raw:\n",
    "    tables.append(table[0])"
   ]
  },
  {
   "cell_type": "code",
   "execution_count": 5,
   "metadata": {},
   "outputs": [
    {
     "data": {
      "application/vnd.jupyter.widget-view+json": {
       "model_id": "2e9cd358081c4f178495235964947ead",
       "version_major": 2,
       "version_minor": 0
      },
      "text/plain": [
       "interactive(children=(Dropdown(description='Table', options=('Employee', 'Category', 'Customer', 'Shipper', 'S…"
      ]
     },
     "metadata": {},
     "output_type": "display_data"
    }
   ],
   "source": [
    "@interact\n",
    "\n",
    "# query tables from above, and load them into a hash to view head/description/shape/etc\n",
    "def table_preview(Table = tables, Preview = ['Head','Description', 'Shape','Unique','Types']):\n",
    "    statement = \"SELECT * FROM [\" + Table + \"]\"\n",
    "    print(statement)\n",
    "    df = pd.read_sql_query(statement, connect)\n",
    "    preview_return = {'Head':df.head(10), 'Description':df.describe(), \n",
    "                      'Shape':df.shape, 'Unique':df.nunique(axis = 0), 'Types':df.dtypes}\n",
    "    out = preview_return[Preview]\n",
    "    return out"
   ]
  },
  {
   "cell_type": "code",
   "execution_count": 6,
   "metadata": {},
   "outputs": [
    {
     "name": "stdout",
     "output_type": "stream",
     "text": [
      "2019-04-04 17:19:16,458 INFO sqlalchemy.engine.base.Engine SELECT CAST('test plain returns' AS VARCHAR(60)) AS anon_1\n",
      "2019-04-04 17:19:16,458 INFO sqlalchemy.engine.base.Engine ()\n",
      "2019-04-04 17:19:16,459 INFO sqlalchemy.engine.base.Engine SELECT CAST('test unicode returns' AS VARCHAR(60)) AS anon_1\n",
      "2019-04-04 17:19:16,460 INFO sqlalchemy.engine.base.Engine ()\n",
      "2019-04-04 17:19:16,462 INFO sqlalchemy.engine.base.Engine SELECT name FROM sqlite_master WHERE type='table' ORDER BY name\n",
      "2019-04-04 17:19:16,462 INFO sqlalchemy.engine.base.Engine ()\n",
      "['Category', 'Customer', 'CustomerCustomerDemo', 'CustomerDemographic', 'Employee', 'EmployeeTerritory', 'Order', 'OrderDetail', 'Product', 'Region', 'Shipper', 'Supplier', 'Territory']\n"
     ]
    }
   ],
   "source": [
    "# connecting to database\n",
    "engine = create_engine(\"sqlite:///Northwind_small.sqlite\", echo=True)\n",
    "Session = sessionmaker(bind=engine)\n",
    "session = Session()\n",
    "inspector = inspect(engine)\n",
    "print(inspector.get_table_names()) # print table names"
   ]
  },
  {
   "cell_type": "code",
   "execution_count": 7,
   "metadata": {},
   "outputs": [
    {
     "name": "stdout",
     "output_type": "stream",
     "text": [
      "2019-04-04 17:19:16,615 INFO sqlalchemy.engine.base.Engine SELECT name FROM sqlite_master WHERE type='table' ORDER BY name\n",
      "2019-04-04 17:19:16,616 INFO sqlalchemy.engine.base.Engine ()\n",
      "2019-04-04 17:19:16,618 INFO sqlalchemy.engine.base.Engine PRAGMA table_info(\"Category\")\n",
      "2019-04-04 17:19:16,619 INFO sqlalchemy.engine.base.Engine ()\n",
      "2019-04-04 17:19:16,620 INFO sqlalchemy.engine.base.Engine SELECT sql FROM  (SELECT * FROM sqlite_master UNION ALL   SELECT * FROM sqlite_temp_master) WHERE name = 'Category' AND type = 'table'\n",
      "2019-04-04 17:19:16,621 INFO sqlalchemy.engine.base.Engine ()\n",
      "2019-04-04 17:19:16,622 INFO sqlalchemy.engine.base.Engine PRAGMA foreign_key_list(\"Category\")\n",
      "2019-04-04 17:19:16,623 INFO sqlalchemy.engine.base.Engine ()\n",
      "2019-04-04 17:19:16,624 INFO sqlalchemy.engine.base.Engine SELECT sql FROM  (SELECT * FROM sqlite_master UNION ALL   SELECT * FROM sqlite_temp_master) WHERE name = 'Category' AND type = 'table'\n",
      "2019-04-04 17:19:16,624 INFO sqlalchemy.engine.base.Engine ()\n",
      "2019-04-04 17:19:16,626 INFO sqlalchemy.engine.base.Engine PRAGMA index_list(\"Category\")\n",
      "2019-04-04 17:19:16,627 INFO sqlalchemy.engine.base.Engine ()\n",
      "2019-04-04 17:19:16,628 INFO sqlalchemy.engine.base.Engine PRAGMA index_list(\"Category\")\n",
      "2019-04-04 17:19:16,629 INFO sqlalchemy.engine.base.Engine ()\n",
      "2019-04-04 17:19:16,630 INFO sqlalchemy.engine.base.Engine SELECT sql FROM  (SELECT * FROM sqlite_master UNION ALL   SELECT * FROM sqlite_temp_master) WHERE name = 'Category' AND type = 'table'\n",
      "2019-04-04 17:19:16,630 INFO sqlalchemy.engine.base.Engine ()\n",
      "2019-04-04 17:19:16,634 INFO sqlalchemy.engine.base.Engine PRAGMA table_info(\"Customer\")\n",
      "2019-04-04 17:19:16,635 INFO sqlalchemy.engine.base.Engine ()\n",
      "2019-04-04 17:19:16,638 INFO sqlalchemy.engine.base.Engine SELECT sql FROM  (SELECT * FROM sqlite_master UNION ALL   SELECT * FROM sqlite_temp_master) WHERE name = 'Customer' AND type = 'table'\n",
      "2019-04-04 17:19:16,639 INFO sqlalchemy.engine.base.Engine ()\n",
      "2019-04-04 17:19:16,640 INFO sqlalchemy.engine.base.Engine PRAGMA foreign_key_list(\"Customer\")\n",
      "2019-04-04 17:19:16,640 INFO sqlalchemy.engine.base.Engine ()\n",
      "2019-04-04 17:19:16,641 INFO sqlalchemy.engine.base.Engine SELECT sql FROM  (SELECT * FROM sqlite_master UNION ALL   SELECT * FROM sqlite_temp_master) WHERE name = 'Customer' AND type = 'table'\n",
      "2019-04-04 17:19:16,642 INFO sqlalchemy.engine.base.Engine ()\n",
      "2019-04-04 17:19:16,643 INFO sqlalchemy.engine.base.Engine PRAGMA index_list(\"Customer\")\n",
      "2019-04-04 17:19:16,643 INFO sqlalchemy.engine.base.Engine ()\n",
      "2019-04-04 17:19:16,644 INFO sqlalchemy.engine.base.Engine PRAGMA index_list(\"Customer\")\n",
      "2019-04-04 17:19:16,645 INFO sqlalchemy.engine.base.Engine ()\n",
      "2019-04-04 17:19:16,646 INFO sqlalchemy.engine.base.Engine PRAGMA index_info(\"sqlite_autoindex_Customer_1\")\n",
      "2019-04-04 17:19:16,646 INFO sqlalchemy.engine.base.Engine ()\n",
      "2019-04-04 17:19:16,647 INFO sqlalchemy.engine.base.Engine SELECT sql FROM  (SELECT * FROM sqlite_master UNION ALL   SELECT * FROM sqlite_temp_master) WHERE name = 'Customer' AND type = 'table'\n",
      "2019-04-04 17:19:16,648 INFO sqlalchemy.engine.base.Engine ()\n",
      "2019-04-04 17:19:16,649 INFO sqlalchemy.engine.base.Engine PRAGMA table_info(\"CustomerCustomerDemo\")\n",
      "2019-04-04 17:19:16,650 INFO sqlalchemy.engine.base.Engine ()\n",
      "2019-04-04 17:19:16,652 INFO sqlalchemy.engine.base.Engine SELECT sql FROM  (SELECT * FROM sqlite_master UNION ALL   SELECT * FROM sqlite_temp_master) WHERE name = 'CustomerCustomerDemo' AND type = 'table'\n",
      "2019-04-04 17:19:16,652 INFO sqlalchemy.engine.base.Engine ()\n",
      "2019-04-04 17:19:16,654 INFO sqlalchemy.engine.base.Engine PRAGMA foreign_key_list(\"CustomerCustomerDemo\")\n",
      "2019-04-04 17:19:16,654 INFO sqlalchemy.engine.base.Engine ()\n",
      "2019-04-04 17:19:16,655 INFO sqlalchemy.engine.base.Engine SELECT sql FROM  (SELECT * FROM sqlite_master UNION ALL   SELECT * FROM sqlite_temp_master) WHERE name = 'CustomerCustomerDemo' AND type = 'table'\n",
      "2019-04-04 17:19:16,656 INFO sqlalchemy.engine.base.Engine ()\n",
      "2019-04-04 17:19:16,657 INFO sqlalchemy.engine.base.Engine PRAGMA index_list(\"CustomerCustomerDemo\")\n",
      "2019-04-04 17:19:16,657 INFO sqlalchemy.engine.base.Engine ()\n",
      "2019-04-04 17:19:16,658 INFO sqlalchemy.engine.base.Engine PRAGMA index_list(\"CustomerCustomerDemo\")\n",
      "2019-04-04 17:19:16,658 INFO sqlalchemy.engine.base.Engine ()\n",
      "2019-04-04 17:19:16,659 INFO sqlalchemy.engine.base.Engine PRAGMA index_info(\"sqlite_autoindex_CustomerCustomerDemo_1\")\n",
      "2019-04-04 17:19:16,660 INFO sqlalchemy.engine.base.Engine ()\n",
      "2019-04-04 17:19:16,660 INFO sqlalchemy.engine.base.Engine SELECT sql FROM  (SELECT * FROM sqlite_master UNION ALL   SELECT * FROM sqlite_temp_master) WHERE name = 'CustomerCustomerDemo' AND type = 'table'\n",
      "2019-04-04 17:19:16,661 INFO sqlalchemy.engine.base.Engine ()\n",
      "2019-04-04 17:19:16,662 INFO sqlalchemy.engine.base.Engine PRAGMA table_info(\"CustomerDemographic\")\n",
      "2019-04-04 17:19:16,663 INFO sqlalchemy.engine.base.Engine ()\n",
      "2019-04-04 17:19:16,664 INFO sqlalchemy.engine.base.Engine SELECT sql FROM  (SELECT * FROM sqlite_master UNION ALL   SELECT * FROM sqlite_temp_master) WHERE name = 'CustomerDemographic' AND type = 'table'\n",
      "2019-04-04 17:19:16,665 INFO sqlalchemy.engine.base.Engine ()\n",
      "2019-04-04 17:19:16,666 INFO sqlalchemy.engine.base.Engine PRAGMA foreign_key_list(\"CustomerDemographic\")\n",
      "2019-04-04 17:19:16,667 INFO sqlalchemy.engine.base.Engine ()\n",
      "2019-04-04 17:19:16,668 INFO sqlalchemy.engine.base.Engine SELECT sql FROM  (SELECT * FROM sqlite_master UNION ALL   SELECT * FROM sqlite_temp_master) WHERE name = 'CustomerDemographic' AND type = 'table'\n",
      "2019-04-04 17:19:16,668 INFO sqlalchemy.engine.base.Engine ()\n",
      "2019-04-04 17:19:16,670 INFO sqlalchemy.engine.base.Engine PRAGMA index_list(\"CustomerDemographic\")\n",
      "2019-04-04 17:19:16,670 INFO sqlalchemy.engine.base.Engine ()\n",
      "2019-04-04 17:19:16,671 INFO sqlalchemy.engine.base.Engine PRAGMA index_list(\"CustomerDemographic\")\n",
      "2019-04-04 17:19:16,672 INFO sqlalchemy.engine.base.Engine ()\n",
      "2019-04-04 17:19:16,673 INFO sqlalchemy.engine.base.Engine PRAGMA index_info(\"sqlite_autoindex_CustomerDemographic_1\")\n",
      "2019-04-04 17:19:16,673 INFO sqlalchemy.engine.base.Engine ()\n",
      "2019-04-04 17:19:16,674 INFO sqlalchemy.engine.base.Engine SELECT sql FROM  (SELECT * FROM sqlite_master UNION ALL   SELECT * FROM sqlite_temp_master) WHERE name = 'CustomerDemographic' AND type = 'table'\n",
      "2019-04-04 17:19:16,675 INFO sqlalchemy.engine.base.Engine ()\n",
      "2019-04-04 17:19:16,677 INFO sqlalchemy.engine.base.Engine PRAGMA table_info(\"Employee\")\n",
      "2019-04-04 17:19:16,677 INFO sqlalchemy.engine.base.Engine ()\n",
      "2019-04-04 17:19:16,680 INFO sqlalchemy.engine.base.Engine SELECT sql FROM  (SELECT * FROM sqlite_master UNION ALL   SELECT * FROM sqlite_temp_master) WHERE name = 'Employee' AND type = 'table'\n",
      "2019-04-04 17:19:16,680 INFO sqlalchemy.engine.base.Engine ()\n",
      "2019-04-04 17:19:16,682 INFO sqlalchemy.engine.base.Engine PRAGMA foreign_key_list(\"Employee\")\n",
      "2019-04-04 17:19:16,683 INFO sqlalchemy.engine.base.Engine ()\n",
      "2019-04-04 17:19:16,683 INFO sqlalchemy.engine.base.Engine SELECT sql FROM  (SELECT * FROM sqlite_master UNION ALL   SELECT * FROM sqlite_temp_master) WHERE name = 'Employee' AND type = 'table'\n",
      "2019-04-04 17:19:16,684 INFO sqlalchemy.engine.base.Engine ()\n",
      "2019-04-04 17:19:16,685 INFO sqlalchemy.engine.base.Engine PRAGMA index_list(\"Employee\")\n",
      "2019-04-04 17:19:16,685 INFO sqlalchemy.engine.base.Engine ()\n",
      "2019-04-04 17:19:16,686 INFO sqlalchemy.engine.base.Engine PRAGMA index_list(\"Employee\")\n",
      "2019-04-04 17:19:16,687 INFO sqlalchemy.engine.base.Engine ()\n",
      "2019-04-04 17:19:16,687 INFO sqlalchemy.engine.base.Engine SELECT sql FROM  (SELECT * FROM sqlite_master UNION ALL   SELECT * FROM sqlite_temp_master) WHERE name = 'Employee' AND type = 'table'\n",
      "2019-04-04 17:19:16,688 INFO sqlalchemy.engine.base.Engine ()\n",
      "2019-04-04 17:19:16,689 INFO sqlalchemy.engine.base.Engine PRAGMA table_info(\"EmployeeTerritory\")\n",
      "2019-04-04 17:19:16,689 INFO sqlalchemy.engine.base.Engine ()\n",
      "2019-04-04 17:19:16,691 INFO sqlalchemy.engine.base.Engine SELECT sql FROM  (SELECT * FROM sqlite_master UNION ALL   SELECT * FROM sqlite_temp_master) WHERE name = 'EmployeeTerritory' AND type = 'table'\n",
      "2019-04-04 17:19:16,691 INFO sqlalchemy.engine.base.Engine ()\n"
     ]
    },
    {
     "name": "stdout",
     "output_type": "stream",
     "text": [
      "2019-04-04 17:19:16,692 INFO sqlalchemy.engine.base.Engine PRAGMA foreign_key_list(\"EmployeeTerritory\")\n",
      "2019-04-04 17:19:16,693 INFO sqlalchemy.engine.base.Engine ()\n",
      "2019-04-04 17:19:16,695 INFO sqlalchemy.engine.base.Engine SELECT sql FROM  (SELECT * FROM sqlite_master UNION ALL   SELECT * FROM sqlite_temp_master) WHERE name = 'EmployeeTerritory' AND type = 'table'\n",
      "2019-04-04 17:19:16,696 INFO sqlalchemy.engine.base.Engine ()\n",
      "2019-04-04 17:19:16,697 INFO sqlalchemy.engine.base.Engine PRAGMA index_list(\"EmployeeTerritory\")\n",
      "2019-04-04 17:19:16,698 INFO sqlalchemy.engine.base.Engine ()\n",
      "2019-04-04 17:19:16,699 INFO sqlalchemy.engine.base.Engine PRAGMA index_list(\"EmployeeTerritory\")\n",
      "2019-04-04 17:19:16,700 INFO sqlalchemy.engine.base.Engine ()\n",
      "2019-04-04 17:19:16,701 INFO sqlalchemy.engine.base.Engine PRAGMA index_info(\"sqlite_autoindex_EmployeeTerritory_1\")\n",
      "2019-04-04 17:19:16,701 INFO sqlalchemy.engine.base.Engine ()\n",
      "2019-04-04 17:19:16,702 INFO sqlalchemy.engine.base.Engine SELECT sql FROM  (SELECT * FROM sqlite_master UNION ALL   SELECT * FROM sqlite_temp_master) WHERE name = 'EmployeeTerritory' AND type = 'table'\n",
      "2019-04-04 17:19:16,703 INFO sqlalchemy.engine.base.Engine ()\n",
      "2019-04-04 17:19:16,704 INFO sqlalchemy.engine.base.Engine PRAGMA table_info(\"Order\")\n",
      "2019-04-04 17:19:16,705 INFO sqlalchemy.engine.base.Engine ()\n",
      "2019-04-04 17:19:16,709 INFO sqlalchemy.engine.base.Engine SELECT sql FROM  (SELECT * FROM sqlite_master UNION ALL   SELECT * FROM sqlite_temp_master) WHERE name = 'Order' AND type = 'table'\n",
      "2019-04-04 17:19:16,709 INFO sqlalchemy.engine.base.Engine ()\n",
      "2019-04-04 17:19:16,711 INFO sqlalchemy.engine.base.Engine PRAGMA foreign_key_list(\"Order\")\n",
      "2019-04-04 17:19:16,711 INFO sqlalchemy.engine.base.Engine ()\n",
      "2019-04-04 17:19:16,712 INFO sqlalchemy.engine.base.Engine SELECT sql FROM  (SELECT * FROM sqlite_master UNION ALL   SELECT * FROM sqlite_temp_master) WHERE name = 'Order' AND type = 'table'\n",
      "2019-04-04 17:19:16,713 INFO sqlalchemy.engine.base.Engine ()\n",
      "2019-04-04 17:19:16,714 INFO sqlalchemy.engine.base.Engine PRAGMA index_list(\"Order\")\n",
      "2019-04-04 17:19:16,715 INFO sqlalchemy.engine.base.Engine ()\n",
      "2019-04-04 17:19:16,715 INFO sqlalchemy.engine.base.Engine PRAGMA index_list(\"Order\")\n",
      "2019-04-04 17:19:16,716 INFO sqlalchemy.engine.base.Engine ()\n",
      "2019-04-04 17:19:16,716 INFO sqlalchemy.engine.base.Engine SELECT sql FROM  (SELECT * FROM sqlite_master UNION ALL   SELECT * FROM sqlite_temp_master) WHERE name = 'Order' AND type = 'table'\n",
      "2019-04-04 17:19:16,717 INFO sqlalchemy.engine.base.Engine ()\n",
      "2019-04-04 17:19:16,718 INFO sqlalchemy.engine.base.Engine PRAGMA table_info(\"OrderDetail\")\n",
      "2019-04-04 17:19:16,718 INFO sqlalchemy.engine.base.Engine ()\n",
      "2019-04-04 17:19:16,721 INFO sqlalchemy.engine.base.Engine SELECT sql FROM  (SELECT * FROM sqlite_master UNION ALL   SELECT * FROM sqlite_temp_master) WHERE name = 'OrderDetail' AND type = 'table'\n",
      "2019-04-04 17:19:16,721 INFO sqlalchemy.engine.base.Engine ()\n",
      "2019-04-04 17:19:16,722 INFO sqlalchemy.engine.base.Engine PRAGMA foreign_key_list(\"OrderDetail\")\n",
      "2019-04-04 17:19:16,723 INFO sqlalchemy.engine.base.Engine ()\n",
      "2019-04-04 17:19:16,724 INFO sqlalchemy.engine.base.Engine SELECT sql FROM  (SELECT * FROM sqlite_master UNION ALL   SELECT * FROM sqlite_temp_master) WHERE name = 'OrderDetail' AND type = 'table'\n",
      "2019-04-04 17:19:16,724 INFO sqlalchemy.engine.base.Engine ()\n",
      "2019-04-04 17:19:16,725 INFO sqlalchemy.engine.base.Engine PRAGMA index_list(\"OrderDetail\")\n",
      "2019-04-04 17:19:16,726 INFO sqlalchemy.engine.base.Engine ()\n",
      "2019-04-04 17:19:16,727 INFO sqlalchemy.engine.base.Engine PRAGMA index_list(\"OrderDetail\")\n",
      "2019-04-04 17:19:16,728 INFO sqlalchemy.engine.base.Engine ()\n",
      "2019-04-04 17:19:16,729 INFO sqlalchemy.engine.base.Engine PRAGMA index_info(\"sqlite_autoindex_OrderDetail_1\")\n",
      "2019-04-04 17:19:16,730 INFO sqlalchemy.engine.base.Engine ()\n",
      "2019-04-04 17:19:16,731 INFO sqlalchemy.engine.base.Engine SELECT sql FROM  (SELECT * FROM sqlite_master UNION ALL   SELECT * FROM sqlite_temp_master) WHERE name = 'OrderDetail' AND type = 'table'\n",
      "2019-04-04 17:19:16,731 INFO sqlalchemy.engine.base.Engine ()\n",
      "2019-04-04 17:19:16,733 INFO sqlalchemy.engine.base.Engine PRAGMA table_info(\"Product\")\n",
      "2019-04-04 17:19:16,733 INFO sqlalchemy.engine.base.Engine ()\n",
      "2019-04-04 17:19:16,736 INFO sqlalchemy.engine.base.Engine SELECT sql FROM  (SELECT * FROM sqlite_master UNION ALL   SELECT * FROM sqlite_temp_master) WHERE name = 'Product' AND type = 'table'\n",
      "2019-04-04 17:19:16,737 INFO sqlalchemy.engine.base.Engine ()\n",
      "2019-04-04 17:19:16,738 INFO sqlalchemy.engine.base.Engine PRAGMA foreign_key_list(\"Product\")\n",
      "2019-04-04 17:19:16,739 INFO sqlalchemy.engine.base.Engine ()\n",
      "2019-04-04 17:19:16,739 INFO sqlalchemy.engine.base.Engine SELECT sql FROM  (SELECT * FROM sqlite_master UNION ALL   SELECT * FROM sqlite_temp_master) WHERE name = 'Product' AND type = 'table'\n",
      "2019-04-04 17:19:16,740 INFO sqlalchemy.engine.base.Engine ()\n",
      "2019-04-04 17:19:16,741 INFO sqlalchemy.engine.base.Engine PRAGMA index_list(\"Product\")\n",
      "2019-04-04 17:19:16,741 INFO sqlalchemy.engine.base.Engine ()\n",
      "2019-04-04 17:19:16,742 INFO sqlalchemy.engine.base.Engine PRAGMA index_list(\"Product\")\n",
      "2019-04-04 17:19:16,742 INFO sqlalchemy.engine.base.Engine ()\n",
      "2019-04-04 17:19:16,743 INFO sqlalchemy.engine.base.Engine SELECT sql FROM  (SELECT * FROM sqlite_master UNION ALL   SELECT * FROM sqlite_temp_master) WHERE name = 'Product' AND type = 'table'\n",
      "2019-04-04 17:19:16,744 INFO sqlalchemy.engine.base.Engine ()\n",
      "2019-04-04 17:19:16,745 INFO sqlalchemy.engine.base.Engine PRAGMA table_info(\"Region\")\n",
      "2019-04-04 17:19:16,746 INFO sqlalchemy.engine.base.Engine ()\n",
      "2019-04-04 17:19:16,747 INFO sqlalchemy.engine.base.Engine SELECT sql FROM  (SELECT * FROM sqlite_master UNION ALL   SELECT * FROM sqlite_temp_master) WHERE name = 'Region' AND type = 'table'\n",
      "2019-04-04 17:19:16,748 INFO sqlalchemy.engine.base.Engine ()\n",
      "2019-04-04 17:19:16,749 INFO sqlalchemy.engine.base.Engine PRAGMA foreign_key_list(\"Region\")\n",
      "2019-04-04 17:19:16,749 INFO sqlalchemy.engine.base.Engine ()\n",
      "2019-04-04 17:19:16,750 INFO sqlalchemy.engine.base.Engine SELECT sql FROM  (SELECT * FROM sqlite_master UNION ALL   SELECT * FROM sqlite_temp_master) WHERE name = 'Region' AND type = 'table'\n",
      "2019-04-04 17:19:16,750 INFO sqlalchemy.engine.base.Engine ()\n",
      "2019-04-04 17:19:16,751 INFO sqlalchemy.engine.base.Engine PRAGMA index_list(\"Region\")\n",
      "2019-04-04 17:19:16,752 INFO sqlalchemy.engine.base.Engine ()\n",
      "2019-04-04 17:19:16,752 INFO sqlalchemy.engine.base.Engine PRAGMA index_list(\"Region\")\n",
      "2019-04-04 17:19:16,753 INFO sqlalchemy.engine.base.Engine ()\n",
      "2019-04-04 17:19:16,753 INFO sqlalchemy.engine.base.Engine SELECT sql FROM  (SELECT * FROM sqlite_master UNION ALL   SELECT * FROM sqlite_temp_master) WHERE name = 'Region' AND type = 'table'\n",
      "2019-04-04 17:19:16,754 INFO sqlalchemy.engine.base.Engine ()\n",
      "2019-04-04 17:19:16,755 INFO sqlalchemy.engine.base.Engine PRAGMA table_info(\"Shipper\")\n",
      "2019-04-04 17:19:16,755 INFO sqlalchemy.engine.base.Engine ()\n",
      "2019-04-04 17:19:16,756 INFO sqlalchemy.engine.base.Engine SELECT sql FROM  (SELECT * FROM sqlite_master UNION ALL   SELECT * FROM sqlite_temp_master) WHERE name = 'Shipper' AND type = 'table'\n",
      "2019-04-04 17:19:16,757 INFO sqlalchemy.engine.base.Engine ()\n",
      "2019-04-04 17:19:16,757 INFO sqlalchemy.engine.base.Engine PRAGMA foreign_key_list(\"Shipper\")\n",
      "2019-04-04 17:19:16,758 INFO sqlalchemy.engine.base.Engine ()\n",
      "2019-04-04 17:19:16,758 INFO sqlalchemy.engine.base.Engine SELECT sql FROM  (SELECT * FROM sqlite_master UNION ALL   SELECT * FROM sqlite_temp_master) WHERE name = 'Shipper' AND type = 'table'\n",
      "2019-04-04 17:19:16,759 INFO sqlalchemy.engine.base.Engine ()\n",
      "2019-04-04 17:19:16,760 INFO sqlalchemy.engine.base.Engine PRAGMA index_list(\"Shipper\")\n",
      "2019-04-04 17:19:16,760 INFO sqlalchemy.engine.base.Engine ()\n",
      "2019-04-04 17:19:16,761 INFO sqlalchemy.engine.base.Engine PRAGMA index_list(\"Shipper\")\n",
      "2019-04-04 17:19:16,761 INFO sqlalchemy.engine.base.Engine ()\n",
      "2019-04-04 17:19:16,762 INFO sqlalchemy.engine.base.Engine SELECT sql FROM  (SELECT * FROM sqlite_master UNION ALL   SELECT * FROM sqlite_temp_master) WHERE name = 'Shipper' AND type = 'table'\n",
      "2019-04-04 17:19:16,763 INFO sqlalchemy.engine.base.Engine ()\n"
     ]
    },
    {
     "name": "stdout",
     "output_type": "stream",
     "text": [
      "2019-04-04 17:19:16,764 INFO sqlalchemy.engine.base.Engine PRAGMA table_info(\"Supplier\")\n",
      "2019-04-04 17:19:16,764 INFO sqlalchemy.engine.base.Engine ()\n",
      "2019-04-04 17:19:16,766 INFO sqlalchemy.engine.base.Engine SELECT sql FROM  (SELECT * FROM sqlite_master UNION ALL   SELECT * FROM sqlite_temp_master) WHERE name = 'Supplier' AND type = 'table'\n",
      "2019-04-04 17:19:16,766 INFO sqlalchemy.engine.base.Engine ()\n",
      "2019-04-04 17:19:16,767 INFO sqlalchemy.engine.base.Engine PRAGMA foreign_key_list(\"Supplier\")\n",
      "2019-04-04 17:19:16,768 INFO sqlalchemy.engine.base.Engine ()\n",
      "2019-04-04 17:19:16,769 INFO sqlalchemy.engine.base.Engine SELECT sql FROM  (SELECT * FROM sqlite_master UNION ALL   SELECT * FROM sqlite_temp_master) WHERE name = 'Supplier' AND type = 'table'\n",
      "2019-04-04 17:19:16,769 INFO sqlalchemy.engine.base.Engine ()\n",
      "2019-04-04 17:19:16,770 INFO sqlalchemy.engine.base.Engine PRAGMA index_list(\"Supplier\")\n",
      "2019-04-04 17:19:16,771 INFO sqlalchemy.engine.base.Engine ()\n",
      "2019-04-04 17:19:16,772 INFO sqlalchemy.engine.base.Engine PRAGMA index_list(\"Supplier\")\n",
      "2019-04-04 17:19:16,773 INFO sqlalchemy.engine.base.Engine ()\n",
      "2019-04-04 17:19:16,774 INFO sqlalchemy.engine.base.Engine SELECT sql FROM  (SELECT * FROM sqlite_master UNION ALL   SELECT * FROM sqlite_temp_master) WHERE name = 'Supplier' AND type = 'table'\n",
      "2019-04-04 17:19:16,774 INFO sqlalchemy.engine.base.Engine ()\n",
      "2019-04-04 17:19:16,775 INFO sqlalchemy.engine.base.Engine PRAGMA table_info(\"Territory\")\n",
      "2019-04-04 17:19:16,776 INFO sqlalchemy.engine.base.Engine ()\n",
      "2019-04-04 17:19:16,777 INFO sqlalchemy.engine.base.Engine SELECT sql FROM  (SELECT * FROM sqlite_master UNION ALL   SELECT * FROM sqlite_temp_master) WHERE name = 'Territory' AND type = 'table'\n",
      "2019-04-04 17:19:16,777 INFO sqlalchemy.engine.base.Engine ()\n",
      "2019-04-04 17:19:16,778 INFO sqlalchemy.engine.base.Engine PRAGMA foreign_key_list(\"Territory\")\n",
      "2019-04-04 17:19:16,778 INFO sqlalchemy.engine.base.Engine ()\n",
      "2019-04-04 17:19:16,779 INFO sqlalchemy.engine.base.Engine SELECT sql FROM  (SELECT * FROM sqlite_master UNION ALL   SELECT * FROM sqlite_temp_master) WHERE name = 'Territory' AND type = 'table'\n",
      "2019-04-04 17:19:16,780 INFO sqlalchemy.engine.base.Engine ()\n",
      "2019-04-04 17:19:16,780 INFO sqlalchemy.engine.base.Engine PRAGMA index_list(\"Territory\")\n",
      "2019-04-04 17:19:16,781 INFO sqlalchemy.engine.base.Engine ()\n",
      "2019-04-04 17:19:16,782 INFO sqlalchemy.engine.base.Engine PRAGMA index_list(\"Territory\")\n",
      "2019-04-04 17:19:16,782 INFO sqlalchemy.engine.base.Engine ()\n",
      "2019-04-04 17:19:16,783 INFO sqlalchemy.engine.base.Engine PRAGMA index_info(\"sqlite_autoindex_Territory_1\")\n",
      "2019-04-04 17:19:16,783 INFO sqlalchemy.engine.base.Engine ()\n",
      "2019-04-04 17:19:16,784 INFO sqlalchemy.engine.base.Engine SELECT sql FROM  (SELECT * FROM sqlite_master UNION ALL   SELECT * FROM sqlite_temp_master) WHERE name = 'Territory' AND type = 'table'\n",
      "2019-04-04 17:19:16,784 INFO sqlalchemy.engine.base.Engine ()\n"
     ]
    }
   ],
   "source": [
    "# import sqalchemy, an ORM, and their query API for accessing database\n",
    "from sqlalchemy import MetaData\n",
    "from sqlalchemy.ext.automap import automap_base\n",
    "from sqlalchemy.sql import func\n",
    "\n",
    "# initial setup to later map table names to objects & columns to attributes\n",
    "metadata = MetaData()\n",
    "metadata.reflect(engine)\n",
    "Base = automap_base(metadata=metadata)\n",
    "Base.prepare()"
   ]
  },
  {
   "cell_type": "code",
   "execution_count": 8,
   "metadata": {},
   "outputs": [],
   "source": [
    "# Mapping to classes\n",
    "Employee, Customer = Base.classes.Employee, Base.classes.Customer\n",
    "Product, Category = Base.classes.Product, Base.classes.Category\n",
    "Order, OrderDetail = Base.classes.Order, Base.classes.OrderDetail\n",
    "Shipper, Supplier = Base.classes.Shipper, Base.classes.Supplier"
   ]
  },
  {
   "cell_type": "markdown",
   "metadata": {},
   "source": [
    "### Helper Methods"
   ]
  },
  {
   "cell_type": "code",
   "execution_count": 9,
   "metadata": {},
   "outputs": [],
   "source": [
    "# helper methods :)\n",
    "\n",
    "def effect_size_blurb(effect_size):\n",
    "    e_size = \"\"\n",
    "    if effect_size <= 0.20:\n",
    "        e_size = \"small\"\n",
    "    elif effect_size >0.20 and effect_size <=0.50:\n",
    "        e_size = \"small/medium\"\n",
    "    elif effect_size > 0.50 and effect_size <=0.80:\n",
    "        e_size = \"medium/large\"\n",
    "    elif effect_size > 0.80 and effect_size <=1.20:\n",
    "        e_size = \"large/very large\"\n",
    "    else:\n",
    "        e_size = \"huge\" \n",
    "        \n",
    "    init = \"Effect size is a measurement of the strength of a relationship between two variables on a numeric scale, and Cohen's d calculates this as the difference between two means divided by a standard deviation for the combined data. \"\n",
    "    init2 = \"Generally, 0.01 is considered very small, 0.20 small, 0.50 medium, 0.80 large, 1.20 very large, and 2.0 huge. \"\n",
    "    init3 = \"Typically, a lower Cohen's d score indicates the need for larger sample sizes. \"\n",
    "    init4 = \"With a cohen's d value of \" + str(round(effect_size, 3)) + \", we can say that the effect size is \" + e_size\n",
    "    \n",
    "    return init + init2 + init3 + init4"
   ]
  },
  {
   "cell_type": "markdown",
   "metadata": {},
   "source": [
    "# Hypothesis Tests\n",
    "***\n",
    "\n",
    "## Question 01: Do Discounts Increase The Overall Order Size?\n",
    "\n",
    "Economically, there is a negative relationship between price and demand - as price goes up, demand falls, and as price goes down, demand rises.  For this case study, I will look to see if the presence of discounts (decrease in price) increases the overall order size (quantity demanded) by comparing the average total quantities ordered in two groups - (1) Orders that have at least one item discounted (Discounted), and (2) Orders that contain no discounted items (Undiscounted).\n",
    "\n",
    "Formally,\n",
    "\n",
    "#### Null Hypothesis\n",
    "\n",
    ">**Ho:** Discounted Mean Quantity Ordered = Undiscounted Mean Quantity Ordered\n",
    "\n",
    "#### Alternate Hypothesis\n",
    "\n",
    ">**Ha:** Discounted Mean Quantity Ordered > Undiscounted Mean Quantity Ordered\n",
    "\n",
    "First, we have to query our database - aggregating the OrderDetails (line items) for each Order, and separating discounted and undiscounted orders."
   ]
  },
  {
   "cell_type": "markdown",
   "metadata": {},
   "source": [
    "### Query database for orders with and without any discounted items"
   ]
  },
  {
   "cell_type": "code",
   "execution_count": 10,
   "metadata": {},
   "outputs": [
    {
     "name": "stdout",
     "output_type": "stream",
     "text": [
      "2019-04-04 17:19:17,631 INFO sqlalchemy.engine.base.Engine SELECT anon_1.\"Id\", anon_1.\"OrderId\", anon_1.\"ProductId\", anon_1.\"UnitPrice\", anon_1.\"Quantity\", anon_1.\"Discount\", anon_1.\"TotalQuantity\", anon_1.\"MaxDiscount\", anon_1.\"MinDiscount\" \n",
      "FROM (SELECT \"OrderDetail\".\"Id\" AS \"Id\", \"OrderDetail\".\"OrderId\" AS \"OrderId\", \"OrderDetail\".\"ProductId\" AS \"ProductId\", \"OrderDetail\".\"UnitPrice\" AS \"UnitPrice\", \"OrderDetail\".\"Quantity\" AS \"Quantity\", \"OrderDetail\".\"Discount\" AS \"Discount\", sum(\"OrderDetail\".\"Quantity\") AS \"TotalQuantity\", max(\"OrderDetail\".\"Discount\") AS \"MaxDiscount\", min(\"OrderDetail\".\"Discount\") AS \"MinDiscount\" \n",
      "FROM \"OrderDetail\" GROUP BY \"OrderDetail\".\"OrderId\") AS anon_1 \n",
      "WHERE anon_1.\"MaxDiscount\" > ? GROUP BY anon_1.\"OrderId\"\n",
      "2019-04-04 17:19:17,632 INFO sqlalchemy.engine.base.Engine (0,)\n",
      "2019-04-04 17:19:17,649 INFO sqlalchemy.engine.base.Engine SELECT anon_1.\"Id\", anon_1.\"OrderId\", anon_1.\"ProductId\", anon_1.\"UnitPrice\", anon_1.\"Quantity\", anon_1.\"Discount\", anon_1.\"TotalQuantity\", anon_1.\"MaxDiscount\", anon_1.\"MinDiscount\" \n",
      "FROM (SELECT \"OrderDetail\".\"Id\" AS \"Id\", \"OrderDetail\".\"OrderId\" AS \"OrderId\", \"OrderDetail\".\"ProductId\" AS \"ProductId\", \"OrderDetail\".\"UnitPrice\" AS \"UnitPrice\", \"OrderDetail\".\"Quantity\" AS \"Quantity\", \"OrderDetail\".\"Discount\" AS \"Discount\", sum(\"OrderDetail\".\"Quantity\") AS \"TotalQuantity\", max(\"OrderDetail\".\"Discount\") AS \"MaxDiscount\", min(\"OrderDetail\".\"Discount\") AS \"MinDiscount\" \n",
      "FROM \"OrderDetail\" GROUP BY \"OrderDetail\".\"OrderId\") AS anon_1 \n",
      "WHERE anon_1.\"MaxDiscount\" = ? GROUP BY anon_1.\"OrderId\"\n",
      "2019-04-04 17:19:17,649 INFO sqlalchemy.engine.base.Engine (0,)\n"
     ]
    },
    {
     "name": "stderr",
     "output_type": "stream",
     "text": [
      "/anaconda3/lib/python3.7/site-packages/sqlalchemy/sql/sqltypes.py:603: SAWarning: Dialect sqlite+pysqlite does *not* support Decimal objects natively, and SQLAlchemy must convert from floating point - rounding errors and other issues may occur. Please consider storing Decimal numbers as strings or integers on this platform for lossless storage.\n",
      "  'storage.' % (dialect.name, dialect.driver))\n"
     ]
    }
   ],
   "source": [
    "# query OrderDetail => grouped (aggregated) by Order (Orders have many OrderDetails)\n",
    "# sum quantities across OrderDetail that belong to same Order\n",
    "# find MaxDiscount that belong to same Order (to determine non-discounted orders, which will = 0)\n",
    "subquery = session.query(OrderDetail, \n",
    "                         func.sum(OrderDetail.Quantity).label(\"TotalQuantity\"), \n",
    "                         func.max(OrderDetail.Discount).label(\"MaxDiscount\"), \n",
    "                         func.min(OrderDetail.Discount).label(\"MinDiscount\")\n",
    "                        ).group_by(OrderDetail.OrderId).subquery()\n",
    "\n",
    "query = session.query(subquery).filter(subquery.c.MaxDiscount > 0).group_by(subquery.c.OrderId)\n",
    "discounted_orders = pd.read_sql(query.statement, engine) # 380 total\n",
    "\n",
    "# same as query above, *EXCEPT* filtering for MaxDiscount == 0\n",
    "# this way, we have orders that have no items with discounts\n",
    "subquery2 = session.query(OrderDetail, \n",
    "                         func.sum(OrderDetail.Quantity).label(\"TotalQuantity\"), \n",
    "                         func.max(OrderDetail.Discount).label(\"MaxDiscount\"), \n",
    "                         func.min(OrderDetail.Discount).label(\"MinDiscount\")\n",
    "                        ).group_by(OrderDetail.OrderId).subquery()\n",
    "\n",
    "query2 = session.query(subquery2).filter(subquery2.c.MaxDiscount == 0).group_by(subquery2.c.OrderId)\n",
    "undiscounted_orders = pd.read_sql(query2.statement, engine) # 450 total"
   ]
  },
  {
   "cell_type": "markdown",
   "metadata": {},
   "source": [
    "### Normality and Variance Checks of Both Samples"
   ]
  },
  {
   "cell_type": "code",
   "execution_count": 11,
   "metadata": {},
   "outputs": [
    {
     "name": "stderr",
     "output_type": "stream",
     "text": [
      "/anaconda3/lib/python3.7/site-packages/scipy/stats/stats.py:1713: FutureWarning: Using a non-tuple sequence for multidimensional indexing is deprecated; use `arr[tuple(seq)]` instead of `arr[seq]`. In the future this will be interpreted as an array index, `arr[np.array(seq)]`, which will result either in an error or a different result.\n",
      "  return np.add.reduce(sorted[indexer] * weights, axis=axis) / sumval\n"
     ]
    },
    {
     "data": {
      "text/plain": [
       "<matplotlib.legend.Legend at 0x1a19e12a58>"
      ]
     },
     "execution_count": 11,
     "metadata": {},
     "output_type": "execute_result"
    },
    {
     "data": {
      "image/png": "[encoded data removed]",
      "text/plain": [
       "<Figure size 432x288 with 1 Axes>"
      ]
     },
     "metadata": {
      "needs_background": "light"
     },
     "output_type": "display_data"
    }
   ],
   "source": [
    "# Take a look at the distributions of these orders' quantities\n",
    "sns.distplot(discounted_orders.Quantity, label=\"Discounted Orders\")\n",
    "sns.distplot(undiscounted_orders.Quantity, label=\"Undiscounted Orders\")\n",
    "plt.legend()"
   ]
  },
  {
   "cell_type": "markdown",
   "metadata": {},
   "source": [
    "#### Confirming Non-Normality of Distributions\n",
    "\n",
    "Here, we'll use the Shapiro-Wilk normality test, which tests if a random sample comes from a normal distribution.\n",
    "\n",
    ">Ho: Sample data is normally distributed\n",
    "\n",
    ">Ha: Sample data is not normally distributed\n",
    "\n",
    "Here, if we get a p-value less than 0.05, we have to reject our null hypothesis that the data is normally distributed, and accept that the data is not from a normal distribution.  Ideally, we want the null hypothesis to not be rejected (but, correctly!), but that rarely happens with real data and large samples.  If the null hypothesis is rejectable, then we'll have to consider repeated sampling, normalization (log), or accepting the distribution given that our sample sizes are large enough."
   ]
  },
  {
   "cell_type": "code",
   "execution_count": 12,
   "metadata": {},
   "outputs": [
    {
     "name": "stdout",
     "output_type": "stream",
     "text": [
      "p-value for discounted orders:  1.4756438800923866e-14\n",
      "p-value for undiscounted orders:  2.308488827657349e-21\n",
      "t-stat for discounted orders:  0.9065327048301697\n",
      "t-stat for undiscounted orders:  0.8325416445732117\n"
     ]
    }
   ],
   "source": [
    "shapiro_discounted = stats.shapiro(discounted_orders.Quantity)\n",
    "shapiro_undiscounted = stats.shapiro(undiscounted_orders.Quantity)\n",
    "\n",
    "# p-value for discounted orders distribution test\n",
    "print(\"p-value for discounted orders: \", shapiro_discounted[1]) \n",
    "\n",
    "# p-value for undiscounted orders distribution test\n",
    "print(\"p-value for undiscounted orders: \", shapiro_undiscounted[1])\n",
    "\n",
    "print('t-stat for discounted orders: ', shapiro_discounted[0])\n",
    "print('t-stat for undiscounted orders: ', shapiro_undiscounted[0])\n",
    "# p-value (discounted) => reject null hypothesis => not normally distributed sample\n",
    "# p-value (undiscounted) => reject null hypothesis => not normally distributed sample"
   ]
  },
  {
   "cell_type": "markdown",
   "metadata": {},
   "source": [
    "#### Variance Check of Both Samples\n",
    "\n",
    "Now, we have to check if the variances of these samples are the same, and we will do this by applying the Levene test through scipy's **stats.levene()** method. \n",
    "\n",
    "> Ho: Sample variances are the same (and come from populations with equal variances)\n",
    "\n",
    "> Ha: Sample variances are not the same\n",
    "\n",
    "Ideally, again, we want the null hypothesis to not be rejected."
   ]
  },
  {
   "cell_type": "code",
   "execution_count": 13,
   "metadata": {},
   "outputs": [
    {
     "data": {
      "text/plain": [
       "LeveneResult(statistic=2.7726510597324077, pvalue=0.0962655288672859)"
      ]
     },
     "execution_count": 13,
     "metadata": {},
     "output_type": "execute_result"
    }
   ],
   "source": [
    "stats.levene(discounted_orders.Quantity, undiscounted_orders.Quantity)\n",
    "# p-value of 0.0962, above our threshold of 0.05, so *accept* null hypothesis that variances are similar\n",
    "# and conclude that the sample variances are not from populations with equal variances"
   ]
  },
  {
   "cell_type": "markdown",
   "metadata": {},
   "source": [
    "### T-Test Both Samples & Analysis"
   ]
  },
  {
   "cell_type": "code",
   "execution_count": 14,
   "metadata": {},
   "outputs": [],
   "source": [
    "# helper method to measure effect size\n",
    "# represents the magnitude of differences between two groups on a given variable\n",
    "# with larger values representing a greater differentation between two groups on that variable\n",
    "\n",
    "def pooled_var(group1, group2, col_name):\n",
    "    n1, n2 = len(group1), len(group2)\n",
    "    var1 = group1[col_name].var()\n",
    "    var2 = group2[col_name].var()\n",
    "    \n",
    "    pooled_var = (n1 * var1 + n2 * var2) / (n1 + n2)\n",
    "    \n",
    "    return pooled_var\n",
    "\n",
    "# for calculating effect size\n",
    "def cohens_d(group1, group2, col_name):\n",
    "    diff = group1[col_name].mean() - group2[col_name].mean()\n",
    "    \n",
    "    # calculate pooled threshold\n",
    "    pooled_v = pooled_var(group1, group2, col_name)\n",
    "    \n",
    "    # calculate cohen's d statistic\n",
    "    d = diff / np.sqrt(pooled_v)\n",
    "    \n",
    "    return d"
   ]
  },
  {
   "cell_type": "code",
   "execution_count": 15,
   "metadata": {},
   "outputs": [
    {
     "name": "stdout",
     "output_type": "stream",
     "text": [
      "p-value = 1.028e-07\n",
      "t-stat = 5.238\n",
      "cohen d = -0.365\n"
     ]
    }
   ],
   "source": [
    "from statsmodels.stats.weightstats import ttest_ind\n",
    "# import scipy.stats\n",
    "\n",
    "tstat, pvalue, df = ttest_ind(discounted_orders.Quantity, undiscounted_orders.Quantity, alternative='larger')\n",
    "\n",
    "# calculate pooled variance\n",
    "pooled_v = pooled_var(undiscounted_orders, discounted_orders, \"Quantity\")\n",
    "# calculate effect size using cohen's d\n",
    "cohen_d = cohens_d(undiscounted_orders, discounted_orders, \"Quantity\")\n",
    "\n",
    "print('p-value = {0:1.3e}'.format(pvalue))\n",
    "print('t-stat = {0:1.3f}'.format(tstat))\n",
    "print('cohen d = {0:1.3f}'.format(cohen_d))\n",
    "\n",
    "e = effect_size_blurb(cohen_d)"
   ]
  },
  {
   "cell_type": "markdown",
   "metadata": {
    "variables": {
     "e": "&quot;Effect size is a measurement of the strength of a relationship between two variables on a numeric scale, and Cohen&#39;s d calculates this as the difference between two means divided by a standard deviation for the combined data. Generally, 0.01 is considered very small, 0.20 small, 0.50 medium, 0.80 large, 1.20 very large, and 2.0 huge. Typically, a lower Cohen&#39;s d score indicates the need for larger sample sizes. With a cohen&#39;s d value of -0.365, we can say that the effect size is small&quot;",
     "pvalue": "1.0277048388780602e-07",
     "tstat": "5.238460432956115"
    }
   },
   "source": [
    "Given the p-value of {{pvalue}}, which is < our set significance level of 0.05, and the t-statistic of {{tstat}}, we can confidently reject the null hypothesis in favor of our alternative hypothesis.  That is, we can say that the average quantity order of discounted orders and undiscounted orders are not the same, and discounted orders have a higher average quantity of items.  \n",
    "\n",
    "{{e}}\n"
   ]
  },
  {
   "cell_type": "markdown",
   "metadata": {},
   "source": [
    "## Question 01B: Do Discount Rates Have Different Effects On Demand? Are Higher Discounts More Effective In Increasing Quantity Demanded Than Lower Discounts?"
   ]
  },
  {
   "cell_type": "markdown",
   "metadata": {},
   "source": [
    "Same scenario as before - a decrease in price, typically, results in an increase in demand.  In theory, a greater decrease in price should result in a greater increase in quantity demanded. Let's take a look at the types of discounts that have been offered."
   ]
  },
  {
   "cell_type": "markdown",
   "metadata": {},
   "source": [
    "### Query Database\n",
    "\n",
    "#### Inspect Discount Rates and Frequency"
   ]
  },
  {
   "cell_type": "code",
   "execution_count": 16,
   "metadata": {},
   "outputs": [
    {
     "name": "stdout",
     "output_type": "stream",
     "text": [
      "2019-04-04 17:19:22,421 INFO sqlalchemy.engine.base.Engine SELECT anon_1.\"Discount\", anon_1.\"DiscountCount\" \n",
      "FROM (SELECT \"OrderDetail\".\"Discount\" AS \"Discount\", count(\"OrderDetail\".\"Discount\") AS \"DiscountCount\" \n",
      "FROM \"OrderDetail\" GROUP BY \"OrderDetail\".\"Discount\") AS anon_1 ORDER BY anon_1.\"DiscountCount\" DESC\n",
      "2019-04-04 17:19:22,422 INFO sqlalchemy.engine.base.Engine ()\n",
      "Total Number of OrderDetails: 2155\n"
     ]
    },
    {
     "data": {
      "text/html": [
       "<div>\n",
       "<style scoped>\n",
       "    .dataframe tbody tr th:only-of-type {\n",
       "        vertical-align: middle;\n",
       "    }\n",
       "\n",
       "    .dataframe tbody tr th {\n",
       "        vertical-align: top;\n",
       "    }\n",
       "\n",
       "    .dataframe thead th {\n",
       "        text-align: right;\n",
       "    }\n",
       "</style>\n",
       "<table border=\"1\" class=\"dataframe\">\n",
       "  <thead>\n",
       "    <tr style=\"text-align: right;\">\n",
       "      <th></th>\n",
       "      <th>Discount</th>\n",
       "      <th>DiscountCount</th>\n",
       "    </tr>\n",
       "  </thead>\n",
       "  <tbody>\n",
       "    <tr>\n",
       "      <th>0</th>\n",
       "      <td>0.00</td>\n",
       "      <td>1317</td>\n",
       "    </tr>\n",
       "    <tr>\n",
       "      <th>1</th>\n",
       "      <td>0.05</td>\n",
       "      <td>185</td>\n",
       "    </tr>\n",
       "    <tr>\n",
       "      <th>2</th>\n",
       "      <td>0.10</td>\n",
       "      <td>173</td>\n",
       "    </tr>\n",
       "    <tr>\n",
       "      <th>3</th>\n",
       "      <td>0.20</td>\n",
       "      <td>161</td>\n",
       "    </tr>\n",
       "    <tr>\n",
       "      <th>4</th>\n",
       "      <td>0.15</td>\n",
       "      <td>157</td>\n",
       "    </tr>\n",
       "    <tr>\n",
       "      <th>5</th>\n",
       "      <td>0.25</td>\n",
       "      <td>154</td>\n",
       "    </tr>\n",
       "    <tr>\n",
       "      <th>6</th>\n",
       "      <td>0.03</td>\n",
       "      <td>3</td>\n",
       "    </tr>\n",
       "    <tr>\n",
       "      <th>7</th>\n",
       "      <td>0.02</td>\n",
       "      <td>2</td>\n",
       "    </tr>\n",
       "    <tr>\n",
       "      <th>8</th>\n",
       "      <td>0.01</td>\n",
       "      <td>1</td>\n",
       "    </tr>\n",
       "    <tr>\n",
       "      <th>9</th>\n",
       "      <td>0.04</td>\n",
       "      <td>1</td>\n",
       "    </tr>\n",
       "    <tr>\n",
       "      <th>10</th>\n",
       "      <td>0.06</td>\n",
       "      <td>1</td>\n",
       "    </tr>\n",
       "  </tbody>\n",
       "</table>\n",
       "</div>"
      ],
      "text/plain": [
       "    Discount  DiscountCount\n",
       "0       0.00           1317\n",
       "1       0.05            185\n",
       "2       0.10            173\n",
       "3       0.20            161\n",
       "4       0.15            157\n",
       "5       0.25            154\n",
       "6       0.03              3\n",
       "7       0.02              2\n",
       "8       0.01              1\n",
       "9       0.04              1\n",
       "10      0.06              1"
      ]
     },
     "execution_count": 16,
     "metadata": {},
     "output_type": "execute_result"
    }
   ],
   "source": [
    "# query OrderDetail table for Discount & count the appearances of Discount\n",
    "subquery = session.query(OrderDetail.Discount,\n",
    "                      func.count(OrderDetail.Discount).label(\"DiscountCount\")\n",
    "                     ).group_by(OrderDetail.Discount).subquery()\n",
    "\n",
    "query = session.query(subquery\n",
    "                     ).order_by(subquery.c.DiscountCount.desc())\n",
    "\n",
    "discount_counts = pd.read_sql(query.statement, engine)\n",
    "print(\"Total Number of OrderDetails:\", discount_counts.DiscountCount.sum())\n",
    "discount_counts.head(11)"
   ]
  },
  {
   "cell_type": "markdown",
   "metadata": {},
   "source": [
    "<table>\n",
    "    <thead>\n",
    "        <tr>\n",
    "            <th colspan=\"3\" style=\"text-align: center\">Out of the 2,155 OrderDetails</th>\n",
    "        </tr>\n",
    "        <tr>\n",
    "            <th># Of OrderDetails</th>\n",
    "            <th>Discount</th>\n",
    "            <th>% Of All OrderDetails</th>\n",
    "        </tr>\n",
    "    </thead>\n",
    "    <tbody>\n",
    "        <tr>\n",
    "            <td style=\"text-align: center\">1,317</td>\n",
    "            <td style=\"text-align: center\">0%</td>\n",
    "            <td style=\"text-align: center\">61.1%</td>\n",
    "        </tr>\n",
    "        <tr>\n",
    "            <td style=\"text-align: center\">185</td>\n",
    "            <td style=\"text-align: center\">5%</td>\n",
    "            <td style=\"text-align: center\">8.5%</td>\n",
    "        </tr>\n",
    "        <tr>\n",
    "            <td style=\"text-align: center\">173</td>\n",
    "            <td style=\"text-align: center\">10%</td>\n",
    "            <td style=\"text-align: center\">8.0%</td>\n",
    "        </tr>\n",
    "        <tr>\n",
    "            <td style=\"text-align: center\">161</td>\n",
    "            <td style=\"text-align: center\">20%</td>\n",
    "            <td style=\"text-align: center\">7.5%</td>\n",
    "        </tr>\n",
    "        <tr>\n",
    "            <td style=\"text-align: center\">157</td>\n",
    "            <td style=\"text-align: center\">15%</td>\n",
    "            <td style=\"text-align: center\">7.3%</td>\n",
    "        </tr>\n",
    "        <tr>\n",
    "            <td style=\"text-align: center\">154</td>\n",
    "            <td style=\"text-align: center\">25%</td>\n",
    "            <td style=\"text-align: center\">7.1%</td>\n",
    "        </tr>\n",
    "    </tbody>\n",
    "</table>"
   ]
  },
  {
   "cell_type": "markdown",
   "metadata": {},
   "source": [
    "#### Query Function To Get Orders By Discount\n",
    "\n",
    "Now that we know what kind of discount rates have been offered and their frequency, we have a better idea of what we want to query.  Here, we'll write a function that takes a discount rate as its input, queries the OrderDetail table, and aggregates quantities ordered for the given discount rate per order:"
   ]
  },
  {
   "cell_type": "code",
   "execution_count": 17,
   "metadata": {},
   "outputs": [],
   "source": [
    "# takes Discount (fraction) as input and returns TotalQuantity\n",
    "# from OrderDetails that have the chosen Discount\n",
    "def query_orders_by_discount(discount):\n",
    "    query = session.query(OrderDetail.OrderId, \n",
    "                            func.sum(OrderDetail.Quantity).label(\"TotalQuantity\")\n",
    "                            ).filter(OrderDetail.Discount == discount).group_by(OrderDetail.OrderId)\n",
    "    orders = pd.read_sql(query.statement, engine)\n",
    "    return orders"
   ]
  },
  {
   "cell_type": "code",
   "execution_count": 18,
   "metadata": {},
   "outputs": [
    {
     "name": "stdout",
     "output_type": "stream",
     "text": [
      "2019-04-04 17:19:23,776 INFO sqlalchemy.engine.base.Engine SELECT \"OrderDetail\".\"OrderId\", sum(\"OrderDetail\".\"Quantity\") AS \"TotalQuantity\" \n",
      "FROM \"OrderDetail\" \n",
      "WHERE \"OrderDetail\".\"Discount\" = ? GROUP BY \"OrderDetail\".\"OrderId\"\n",
      "2019-04-04 17:19:23,776 INFO sqlalchemy.engine.base.Engine (0,)\n",
      "2019-04-04 17:19:23,781 INFO sqlalchemy.engine.base.Engine SELECT \"OrderDetail\".\"OrderId\", sum(\"OrderDetail\".\"Quantity\") AS \"TotalQuantity\" \n",
      "FROM \"OrderDetail\" \n",
      "WHERE \"OrderDetail\".\"Discount\" = ? GROUP BY \"OrderDetail\".\"OrderId\"\n",
      "2019-04-04 17:19:23,782 INFO sqlalchemy.engine.base.Engine (0.05,)\n",
      "2019-04-04 17:19:23,786 INFO sqlalchemy.engine.base.Engine SELECT \"OrderDetail\".\"OrderId\", sum(\"OrderDetail\".\"Quantity\") AS \"TotalQuantity\" \n",
      "FROM \"OrderDetail\" \n",
      "WHERE \"OrderDetail\".\"Discount\" = ? GROUP BY \"OrderDetail\".\"OrderId\"\n",
      "2019-04-04 17:19:23,787 INFO sqlalchemy.engine.base.Engine (0.1,)\n",
      "2019-04-04 17:19:23,790 INFO sqlalchemy.engine.base.Engine SELECT \"OrderDetail\".\"OrderId\", sum(\"OrderDetail\".\"Quantity\") AS \"TotalQuantity\" \n",
      "FROM \"OrderDetail\" \n",
      "WHERE \"OrderDetail\".\"Discount\" = ? GROUP BY \"OrderDetail\".\"OrderId\"\n",
      "2019-04-04 17:19:23,791 INFO sqlalchemy.engine.base.Engine (0.15,)\n",
      "2019-04-04 17:19:23,795 INFO sqlalchemy.engine.base.Engine SELECT \"OrderDetail\".\"OrderId\", sum(\"OrderDetail\".\"Quantity\") AS \"TotalQuantity\" \n",
      "FROM \"OrderDetail\" \n",
      "WHERE \"OrderDetail\".\"Discount\" = ? GROUP BY \"OrderDetail\".\"OrderId\"\n",
      "2019-04-04 17:19:23,795 INFO sqlalchemy.engine.base.Engine (0.2,)\n",
      "2019-04-04 17:19:23,799 INFO sqlalchemy.engine.base.Engine SELECT \"OrderDetail\".\"OrderId\", sum(\"OrderDetail\".\"Quantity\") AS \"TotalQuantity\" \n",
      "FROM \"OrderDetail\" \n",
      "WHERE \"OrderDetail\".\"Discount\" = ? GROUP BY \"OrderDetail\".\"OrderId\"\n",
      "2019-04-04 17:19:23,800 INFO sqlalchemy.engine.base.Engine (0.25,)\n"
     ]
    }
   ],
   "source": [
    "discount_0 = query_orders_by_discount(0) # full-price\n",
    "discount_5 = query_orders_by_discount(0.05)\n",
    "discount_10 = query_orders_by_discount(0.10)\n",
    "discount_15 = query_orders_by_discount(0.15)\n",
    "discount_20 = query_orders_by_discount(0.20)\n",
    "discount_25 = query_orders_by_discount(0.25)"
   ]
  },
  {
   "cell_type": "code",
   "execution_count": 19,
   "metadata": {},
   "outputs": [
    {
     "data": {
      "application/vnd.jupyter.widget-view+json": {
       "model_id": "0282c808f1804230b275078ec557a7df",
       "version_major": 2,
       "version_minor": 0
      },
      "text/plain": [
       "interactive(children=(Dropdown(description='Table', options=('0%', '5%', '10%', '15%', '20%', '25%'), value='0…"
      ]
     },
     "metadata": {},
     "output_type": "display_data"
    }
   ],
   "source": [
    "# interactive to preview what the queries returned.\n",
    "preview_select = [\"0%\", \"5%\", \"10%\", \"15%\", \"20%\", \"25%\"]\n",
    "preview_hash = {\"0%\": discount_0, \"5%\": discount_5, \"10%\": discount_10, \"15%\": discount_15, \"20%\": discount_20, \"25%\": discount_25}\n",
    "@interact\n",
    "def table_preview(Table = preview_select, Preview = ['Head','Description']):\n",
    "    df = preview_hash[Table]\n",
    "    preview_return = {'Head':df.head(10), 'Description':df.describe()}\n",
    "    out = preview_return[Preview]\n",
    "    return out"
   ]
  },
  {
   "cell_type": "markdown",
   "metadata": {},
   "source": [
    "### Normality & Variance Checks"
   ]
  },
  {
   "cell_type": "code",
   "execution_count": 51,
   "metadata": {},
   "outputs": [
    {
     "data": {
      "text/plain": [
       "<matplotlib.legend.Legend at 0x1a1cbb1a90>"
      ]
     },
     "execution_count": 51,
     "metadata": {},
     "output_type": "execute_result"
    },
    {
     "data": {
      "image/png": "[encoded data removed]",
      "text/plain": [
       "<Figure size 864x216 with 2 Axes>"
      ]
     },
     "metadata": {
      "needs_background": "light"
     },
     "output_type": "display_data"
    },
    {
     "data": {
      "image/png": "[encoded data removed]",
      "text/plain": [
       "<Figure size 864x216 with 2 Axes>"
      ]
     },
     "metadata": {
      "needs_background": "light"
     },
     "output_type": "display_data"
    },
    {
     "data": {
      "image/png": "[encoded data removed]",
      "text/plain": [
       "<Figure size 864x216 with 2 Axes>"
      ]
     },
     "metadata": {
      "needs_background": "light"
     },
     "output_type": "display_data"
    }
   ],
   "source": [
    "# Take a look at the distributions of quantities ordered at given discount rates\n",
    "fig, (ax1, ax2) = plt.subplots(1,2, figsize=(12,3))\n",
    "p = sns.distplot(discount_0.TotalQuantity, label=\"Quantities @ Full Retail\", ax=ax1)\n",
    "p.legend()\n",
    "p = sns.distplot(discount_5.TotalQuantity, label=\"Quantities @ 5% Discount\", ax=ax2)\n",
    "p.legend()\n",
    "\n",
    "fig, (ax1, ax2) = plt.subplots(1,2, figsize=(12,3))\n",
    "p = sns.distplot(discount_10.TotalQuantity, label=\"Quantities @ 10% Discount\", ax=ax1)\n",
    "p.legend()\n",
    "p = sns.distplot(discount_15.TotalQuantity, label=\"Quantities @ 15% Discount\", ax=ax2)\n",
    "p.legend()\n",
    "\n",
    "fig, (ax1, ax2) = plt.subplots(1,2, figsize=(12,3))\n",
    "p = sns.distplot(discount_20.TotalQuantity, label=\"Quantities @ 20% Discount\", ax=ax1)\n",
    "p.legend()\n",
    "p = sns.distplot(discount_25.TotalQuantity, label=\"Quantities @ 25% Discount\", ax=ax2)\n",
    "p.legend()"
   ]
  },
  {
   "cell_type": "markdown",
   "metadata": {},
   "source": [
    "#### Confirming Non-Normality of Distributions\n",
    "\n",
    "Here, we'll use the Shapiro-Wilk normality test, which tests if a random sample comes from a normal distribution.\n",
    "\n",
    ">Ho: Sample data is normally distributed\n",
    "\n",
    ">Ha: Sample data is not normally distributed"
   ]
  },
  {
   "cell_type": "code",
   "execution_count": 52,
   "metadata": {},
   "outputs": [
    {
     "name": "stdout",
     "output_type": "stream",
     "text": [
      "p-value for normality:  5.044674471569341e-44\n",
      "t-stat for normality:  0.6599211692810059\n",
      "*_*_*_*_*\n",
      "p-value for normality:  1.6800632777017265e-18\n",
      "t-stat for normality:  0.659333348274231\n",
      "*_*_*_*_*\n",
      "p-value for normality:  3.6745625975761434e-17\n",
      "t-stat for normality:  0.6594877243041992\n",
      "*_*_*_*_*\n",
      "p-value for normality:  3.798118234800944e-17\n",
      "t-stat for normality:  0.6600745916366577\n",
      "*_*_*_*_*\n",
      "p-value for normality:  6.551650292757264e-17\n",
      "t-stat for normality:  0.6601555943489075\n",
      "*_*_*_*_*\n",
      "p-value for normality:  8.058693297745585e-17\n",
      "t-stat for normality:  0.6589568853378296\n",
      "*_*_*_*_*\n"
     ]
    }
   ],
   "source": [
    "discounts_list = [discount_0, discount_5, discount_10, discount_15, discount_20, discount_25]\n",
    "for discount in discounts_list:\n",
    "    shapiro_stat = stats.shapiro(discount)\n",
    "    print(\"p-value for normality: \", shapiro_stat[1])\n",
    "    print(\"t-stat for normality: \", shapiro_stat[0])\n",
    "    print(\"*_*_*_*_*\")"
   ]
  },
  {
   "cell_type": "markdown",
   "metadata": {},
   "source": [
    "Very low p-values across the board for all ranges of discounts, so we have to reject our null hypothesis that these samples are normally distributed."
   ]
  },
  {
   "cell_type": "markdown",
   "metadata": {},
   "source": [
    "### T-Test Both Samples & Analysis\n",
    "\n",
    "With non-normally distributed samples, we are going to use the Welch's t-test again, assuming unequal variances between the discount samples"
   ]
  },
  {
   "cell_type": "code",
   "execution_count": 53,
   "metadata": {},
   "outputs": [
    {
     "data": {
      "application/vnd.jupyter.widget-view+json": {
       "model_id": "22899d473f814bc8b51844690d9c1ffd",
       "version_major": 2,
       "version_minor": 0
      },
      "text/plain": [
       "interactive(children=(Dropdown(description='Discount1', options=('25%', '20%', '15%', '10%', '5%', '0%'), valu…"
      ]
     },
     "metadata": {},
     "output_type": "display_data"
    }
   ],
   "source": [
    "@interact\n",
    "# creates a dropdown to compare discount rates via Welch's t-test\n",
    "# Given that we have set the \"alternative\"=\"larger\" as a parameter to ttest_ind()\n",
    "# this means Discount1 = \"Greater Discount % \n",
    "# AKA The mean that the Alternative Hypothesis says is higher\n",
    "# Discount2 = Lower Discount or Undiscounted Orders\n",
    "def table_preview(Discount1 = ['25%', '20%', '15%', '10%', '5%', '0%'], Discount2 = ['5%','10%','15%', '20%', '25%', '0%']):\n",
    "    \n",
    "    discount_dict = {\n",
    "        '0%': discount_0,\n",
    "        '5%': discount_5, \n",
    "        '10%':discount_10, \n",
    "        '15%':discount_15, \n",
    "        '20%': discount_20, \n",
    "        '25%': discount_25\n",
    "    }\n",
    "    selected_discount_1 = discount_dict[Discount1] # defaults to first in list\n",
    "    selected_discount_2 = discount_dict[Discount2] # defaults to first in list\n",
    "    \n",
    "    tstat, pvalue, df = ttest_ind(selected_discount_1.TotalQuantity, selected_discount_2.TotalQuantity, usevar='unequal', alternative='larger')\n",
    "    \n",
    "    # calculate pooled variance\n",
    "    pooled_v = pooled_var(selected_discount_1, selected_discount_2, \"TotalQuantity\")\n",
    "    \n",
    "    # calculate effect size using cohen's d\n",
    "    cohen_d = cohens_d(selected_discount_1, selected_discount_2, \"TotalQuantity\")\n",
    "    \n",
    "    print(\"Comparing {} Discount vs. {} Discount, we get the following:\".format(Discount1, Discount2))\n",
    "    print('p-value = {0:1.3e} \\n hey'.format(pvalue))\n",
    "    print('t-stat = {0:1.3f}'.format(tstat))\n",
    "    print('cohen d = {0:1.3f}'.format(cohen_d))"
   ]
  },
  {
   "cell_type": "markdown",
   "metadata": {},
   "source": [
    "<table>\n",
    "    <thead>\n",
    "        <tr>\n",
    "            <th>Comparison</th>\n",
    "            <th>P-Value</th>\n",
    "            <th>T-Stat</th>\n",
    "            <th>Cohen's d</th>\n",
    "            <th>Accept/Reject Null</th>\n",
    "            <th>Effect Size</th>\n",
    "            <th>Conclusion</th>\n",
    "        </tr>\n",
    "    </thead>\n",
    "    <tbody>\n",
    "        <tr>\n",
    "            <td>25% vs. Full Retail</td>\n",
    "            <td>5.348e-02</td>\n",
    "            <td>1.630</td>\n",
    "            <td>0.228</td>\n",
    "            <td>Accept Null</td>\n",
    "            <td>Small</td>\n",
    "            <td>P value close to 0.05, but above; low t-stat</td>\n",
    "        </tr>\n",
    "        <tr>\n",
    "            <td>20% vs. Full Retail</td>\n",
    "            <td>1.239e-02</td>\n",
    "            <td>2.283</td>\n",
    "            <td>0.285</td>\n",
    "            <td>Reject Null</td>\n",
    "            <td>Small</td>\n",
    "            <td>P value below 0.05; high t-stat</td>\n",
    "        </tr>\n",
    "        <tr>\n",
    "            <td>15% vs. Full Retail</td>\n",
    "            <td>3.923e-03 </td>\n",
    "            <td>2.716</td>\n",
    "            <td>0.320</td>\n",
    "            <td>Reject Null</td>\n",
    "            <td>Small/Med</td>\n",
    "            <td>P value well below 0.05; high t-stat</td>\n",
    "        </tr>\n",
    "        <tr>\n",
    "            <td>10% vs. Full Retail</td>\n",
    "            <td>2.017e-04</td>\n",
    "            <td>3.659</td>\n",
    "            <td>0.388</td>\n",
    "            <td>Reject Null</td>\n",
    "            <td>Small/Med</td>\n",
    "            <td>P value well below 0.05; very high t-stat</td>\n",
    "        </tr>\n",
    "        <tr>\n",
    "            <td>5% vs. Full Retail</td>\n",
    "            <td>1.898e-03</td>\n",
    "            <td>2.956</td>\n",
    "            <td>0.331</td>\n",
    "            <td>Reject Null</td>\n",
    "            <td>Small</td>\n",
    "            <td>P value well beloe 0.05; bery high t-stat</td>\n",
    "        </tr>\n",
    "        <tr>\n",
    "            <td colspan=\"7\" style='text-align: center'>Comparison of Discounts vs. 5% Discount</td>\n",
    "        </tr>\n",
    "        <tr>\n",
    "            <td>25% vs. 5%</td>\n",
    "            <td>7.159e-01</td>\n",
    "            <td>-0.572</td>\n",
    "            <td>-0.093</td>\n",
    "            <td>Accept Null</td>\n",
    "            <td>Very Small</td>\n",
    "            <td>High P value; low t-stat</td>\n",
    "        </tr>\n",
    "        <tr>\n",
    "            <td>20% vs. 5%</td>\n",
    "            <td>6.131e-01 </td>\n",
    "            <td>-0.288</td>\n",
    "            <td>-0.046</td>\n",
    "            <td>Accept Null</td>\n",
    "            <td>Very Small</td>\n",
    "            <td>High P value; very low t-stat</td>\n",
    "        </tr>\n",
    "        <tr>\n",
    "            <td>15% vs. 5%</td>\n",
    "            <td>5.310e-01 </td>\n",
    "            <td>-0.078</td>\n",
    "            <td>-0.012</td>\n",
    "            <td>Accept Null</td>\n",
    "            <td>Very Small</td>\n",
    "            <td>High P value; very low t-stat</td>\n",
    "        </tr>\n",
    "        <tr>\n",
    "            <td>10% vs. 5%</td>\n",
    "            <td>3.599e-01 </td>\n",
    "            <td>0.359</td>\n",
    "            <td>0.056</td>\n",
    "            <td>Accept Null</td>\n",
    "            <td>Very Small</td>\n",
    "            <td>High P value; very low t-stat</td>\n",
    "        </tr>\n",
    "    </tbody>\n",
    "</table>"
   ]
  },
  {
   "cell_type": "markdown",
   "metadata": {},
   "source": [
    "Looking at the above table, we can conclude that quantities ordered with discounts of 20%, 15%, 10%, and 5% are greater than the quantities ordered at full retail price.  Additionally, we can see that at discount rates of 15%, 10%, and 5%, we have the lowest p-values and highest t-stats.  Discount rates of 15% and 10% have a small-medium effect size while the other discount rates have smaller effect sizes.  \n",
    "\n",
    "This isn't surprising - at all discount rates (excluding 25%), we see an increase in total quantities ordered compared to full-retail-priced orders.  \n",
    "\n",
    "My initial takeaway is that, potentially, the higher discount rates at 25% and 20% are an indication of product liquidation.  That is, given that we are dealing with food products, with a discount that high, it could be the case that the company was trying to get rid of extra inventory (or products that are expiring soon and will have 0 value if not sold).\n",
    "\n",
    "Additionally, with the success of 10% and 5% discount rates (and with the lowest p-values, and highest t-stats), I caution that these products may be more popular (demanded), so, when discounted, demand increases across the board. It could also be the case that these products sold at a 10% and 5% discount have a higher price elasticity of demand (small change in price results in bigger increase in demand) than the products that had higher discount rates, which could be more inelastic (changes in price have a relatively small effect on the quantity of the good demanded).\n",
    "\n",
    "Going forward, I would consider looking at products that have been sold at different discount rates, and see how the quantity demanded for these change under different discount nrates."
   ]
  },
  {
   "cell_type": "code",
   "execution_count": null,
   "metadata": {},
   "outputs": [],
   "source": []
  },
  {
   "cell_type": "code",
   "execution_count": null,
   "metadata": {},
   "outputs": [],
   "source": []
  },
  {
   "cell_type": "code",
   "execution_count": null,
   "metadata": {},
   "outputs": [],
   "source": []
  },
  {
   "cell_type": "code",
   "execution_count": null,
   "metadata": {},
   "outputs": [],
   "source": []
  },
  {
   "cell_type": "code",
   "execution_count": null,
   "metadata": {},
   "outputs": [],
   "source": []
  },
  {
   "cell_type": "code",
   "execution_count": null,
   "metadata": {},
   "outputs": [],
   "source": []
  }
 ],
 "metadata": {
  "kernelspec": {
   "display_name": "Python 3",
   "language": "python",
   "name": "python3"
  },
  "language_info": {
   "codemirror_mode": {
    "name": "ipython",
    "version": 3
   },
   "file_extension": ".py",
   "mimetype": "text/x-python",
   "name": "python",
   "nbconvert_exporter": "python",
   "pygments_lexer": "ipython3",
   "version": "3.7.1"
  },
  "toc": {
   "base_numbering": 1,
   "nav_menu": {},
   "number_sections": true,
   "sideBar": true,
   "skip_h1_title": false,
   "title_cell": "Table of Contents",
   "title_sidebar": "Contents",
   "toc_cell": false,
   "toc_position": {},
   "toc_section_display": true,
   "toc_window_display": false
  }
 },
 "nbformat": 4,
 "nbformat_minor": 2
}
