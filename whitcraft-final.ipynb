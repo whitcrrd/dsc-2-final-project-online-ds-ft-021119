{
 "cells": [
  {
   "cell_type": "markdown",
   "metadata": {},
   "source": [
    "###### Reed Whitcraft\n",
    "Mod 02 Final Project"
   ]
  },
  {
   "cell_type": "markdown",
   "metadata": {},
   "source": [
    "## Mod 02 Project"
   ]
  },
  {
   "cell_type": "markdown",
   "metadata": {},
   "source": [
    "# Preface"
   ]
  },
  {
   "cell_type": "markdown",
   "metadata": {},
   "source": [
    "For this project, I will be looking at Northwind, a fictitious trading company, and its sales records with the hopes of finding strategies the company can employ to drive sales.  In hypothesis testing, the process follows this generic path:\n",
    "\n",
    "    1. **Determination of Question** - You must know what you're looking for.\n",
    "    \n",
    "    2. **Statement of Null & Alternative Hypothesis** - The null hypothesis can thought of as the opposite of the working hypothesis.  It is hard (or maybe impossible) to conclusively confirm a hypothesis, but it is possible to conclusively negate one.  So, by setting the null hypothesis to the opposite, if I can find results that are statistically significant when testing, I can reject the null in favor of the alternative hypothesis.\n",
    "    \n",
    "    3. **Collection of Data** - Now that we have our question and hypothesis stated, we can gather our data.\n",
    "    \n",
    "    4. **Handle Data** - Many tests require normality of distributions and equal variances, so once we have our data, we will have to check for these.  If not normal, we can either conduct repeated random samples to normalize our data, or consider non-parametric tests that do not have these assumptions on distribution/variance.\n",
    "    \n",
    "    5. **Calculate Test Statistic** - Data is now ready, and we can test our null hypothesis\n",
    "    \n",
    "    6. **Review Results & Draw Conclusions** - Compare the test statistics, and compare with our significance level threhold, reject/accept our null hypothesis, and explain our results\n",
    "    \n",
    "\n",
    "Typically, when testing, one sets the confidence level to 95%, which results in an alpha value of 0.05.  So, in future comparisons, if we get p-values that are less than 0.05, we would consider this statistically significant, and allow us to reject the null hypothesis."
   ]
  },
  {
   "cell_type": "markdown",
   "metadata": {},
   "source": [
    "# Setup & Configuration\n",
    "***"
   ]
  },
  {
   "cell_type": "markdown",
   "metadata": {},
   "source": [
    "### Import Dependencies"
   ]
  },
  {
   "cell_type": "code",
   "execution_count": 5,
   "metadata": {},
   "outputs": [],
   "source": [
    "# import dependencies\n",
    "import pandas as pd\n",
    "import numpy as np\n",
    "import scipy.stats as stats\n",
    "from sklearn.preprocessing import MinMaxScaler\n",
    "\n",
    "# sql/database/orm libraries\n",
    "import sqlalchemy\n",
    "import sqlite3 as sql\n",
    "from sqlalchemy import create_engine\n",
    "from sqlalchemy.orm import Session, sessionmaker\n",
    "from sqlalchemy import inspect\n",
    "\n",
    "# interactive notebook library\n",
    "from ipywidgets import interact, interactive\n",
    "\n",
    "# plotting/visualization libraries\n",
    "import matplotlib.pyplot as plt\n",
    "import seaborn as sns\n",
    "%matplotlib inline"
   ]
  },
  {
   "cell_type": "markdown",
   "metadata": {},
   "source": [
    "### Establish Database Connection & Preview Tables"
   ]
  },
  {
   "cell_type": "code",
   "execution_count": 6,
   "metadata": {},
   "outputs": [],
   "source": [
    "# Open a connection to the sql server.\n",
    "# using sqlite3 to initially get data into dataframes quickly\n",
    "connect = sql.connect('Northwind_small.sqlite')\n",
    "c = connect.cursor()\n",
    "# Get table names\n",
    "raw = c.execute(\"\"\"select name from sqlite_master where type = 'table'\"\"\").fetchall()\n",
    "tables = []\n",
    "for table in raw:\n",
    "    tables.append(table[0])"
   ]
  },
  {
   "cell_type": "code",
   "execution_count": 7,
   "metadata": {},
   "outputs": [
    {
     "data": {
      "application/vnd.jupyter.widget-view+json": {
       "model_id": "708fbc44e1ff42008d86d7c1476db016",
       "version_major": 2,
       "version_minor": 0
      },
      "text/plain": [
       "interactive(children=(Dropdown(description='Table', options=('Employee', 'Category', 'Customer', 'Shipper', 'S…"
      ]
     },
     "metadata": {},
     "output_type": "display_data"
    }
   ],
   "source": [
    "@interact\n",
    "\n",
    "# query tables from above, and load them into a hash to view head/description/shape/etc\n",
    "def table_preview(Table = tables, Preview = ['Head','Description', 'Shape','Unique','Types']):\n",
    "    statement = \"SELECT * FROM [\" + Table + \"]\"\n",
    "    print(statement)\n",
    "    df = pd.read_sql_query(statement, connect)\n",
    "    preview_return = {'Head':df.head(10), 'Description':df.describe(), \n",
    "                      'Shape':df.shape, 'Unique':df.nunique(axis = 0), 'Types':df.dtypes}\n",
    "    out = preview_return[Preview]\n",
    "    return out"
   ]
  },
  {
   "cell_type": "code",
   "execution_count": 8,
   "metadata": {},
   "outputs": [
    {
     "name": "stdout",
     "output_type": "stream",
     "text": [
      "2019-04-08 14:11:49,540 INFO sqlalchemy.engine.base.Engine SELECT CAST('test plain returns' AS VARCHAR(60)) AS anon_1\n",
      "2019-04-08 14:11:49,540 INFO sqlalchemy.engine.base.Engine ()\n",
      "2019-04-08 14:11:49,541 INFO sqlalchemy.engine.base.Engine SELECT CAST('test unicode returns' AS VARCHAR(60)) AS anon_1\n",
      "2019-04-08 14:11:49,542 INFO sqlalchemy.engine.base.Engine ()\n",
      "2019-04-08 14:11:49,544 INFO sqlalchemy.engine.base.Engine SELECT name FROM sqlite_master WHERE type='table' ORDER BY name\n",
      "2019-04-08 14:11:49,544 INFO sqlalchemy.engine.base.Engine ()\n",
      "['Category', 'Customer', 'CustomerCustomerDemo', 'CustomerDemographic', 'Employee', 'EmployeeTerritory', 'Order', 'OrderDetail', 'Product', 'Region', 'Shipper', 'Supplier', 'Territory', 'sqlite_sequence']\n"
     ]
    }
   ],
   "source": [
    "# connecting to database\n",
    "engine = create_engine(\"sqlite:///Northwind_small.sqlite\", echo=True)\n",
    "Session = sessionmaker(bind=engine)\n",
    "session = Session()\n",
    "inspector = inspect(engine)\n",
    "print(inspector.get_table_names()) # print table names"
   ]
  },
  {
   "cell_type": "code",
   "execution_count": 9,
   "metadata": {},
   "outputs": [
    {
     "name": "stdout",
     "output_type": "stream",
     "text": [
      "2019-04-08 14:11:49,555 INFO sqlalchemy.engine.base.Engine SELECT name FROM sqlite_master WHERE type='table' ORDER BY name\n",
      "2019-04-08 14:11:49,556 INFO sqlalchemy.engine.base.Engine ()\n",
      "2019-04-08 14:11:49,559 INFO sqlalchemy.engine.base.Engine PRAGMA table_info(\"Category\")\n",
      "2019-04-08 14:11:49,559 INFO sqlalchemy.engine.base.Engine ()\n",
      "2019-04-08 14:11:49,561 INFO sqlalchemy.engine.base.Engine SELECT sql FROM  (SELECT * FROM sqlite_master UNION ALL   SELECT * FROM sqlite_temp_master) WHERE name = 'Category' AND type = 'table'\n",
      "2019-04-08 14:11:49,561 INFO sqlalchemy.engine.base.Engine ()\n",
      "2019-04-08 14:11:49,563 INFO sqlalchemy.engine.base.Engine PRAGMA foreign_key_list(\"Category\")\n",
      "2019-04-08 14:11:49,563 INFO sqlalchemy.engine.base.Engine ()\n",
      "2019-04-08 14:11:49,565 INFO sqlalchemy.engine.base.Engine SELECT sql FROM  (SELECT * FROM sqlite_master UNION ALL   SELECT * FROM sqlite_temp_master) WHERE name = 'Category' AND type = 'table'\n",
      "2019-04-08 14:11:49,565 INFO sqlalchemy.engine.base.Engine ()\n",
      "2019-04-08 14:11:49,567 INFO sqlalchemy.engine.base.Engine PRAGMA index_list(\"Category\")\n",
      "2019-04-08 14:11:49,567 INFO sqlalchemy.engine.base.Engine ()\n",
      "2019-04-08 14:11:49,568 INFO sqlalchemy.engine.base.Engine PRAGMA index_list(\"Category\")\n",
      "2019-04-08 14:11:49,568 INFO sqlalchemy.engine.base.Engine ()\n",
      "2019-04-08 14:11:49,569 INFO sqlalchemy.engine.base.Engine SELECT sql FROM  (SELECT * FROM sqlite_master UNION ALL   SELECT * FROM sqlite_temp_master) WHERE name = 'Category' AND type = 'table'\n",
      "2019-04-08 14:11:49,570 INFO sqlalchemy.engine.base.Engine ()\n",
      "2019-04-08 14:11:49,572 INFO sqlalchemy.engine.base.Engine PRAGMA table_info(\"Customer\")\n",
      "2019-04-08 14:11:49,573 INFO sqlalchemy.engine.base.Engine ()\n",
      "2019-04-08 14:11:49,574 INFO sqlalchemy.engine.base.Engine SELECT sql FROM  (SELECT * FROM sqlite_master UNION ALL   SELECT * FROM sqlite_temp_master) WHERE name = 'Customer' AND type = 'table'\n",
      "2019-04-08 14:11:49,575 INFO sqlalchemy.engine.base.Engine ()\n",
      "2019-04-08 14:11:49,576 INFO sqlalchemy.engine.base.Engine PRAGMA foreign_key_list(\"Customer\")\n",
      "2019-04-08 14:11:49,577 INFO sqlalchemy.engine.base.Engine ()\n",
      "2019-04-08 14:11:49,578 INFO sqlalchemy.engine.base.Engine SELECT sql FROM  (SELECT * FROM sqlite_master UNION ALL   SELECT * FROM sqlite_temp_master) WHERE name = 'Customer' AND type = 'table'\n",
      "2019-04-08 14:11:49,578 INFO sqlalchemy.engine.base.Engine ()\n",
      "2019-04-08 14:11:49,579 INFO sqlalchemy.engine.base.Engine PRAGMA index_list(\"Customer\")\n",
      "2019-04-08 14:11:49,580 INFO sqlalchemy.engine.base.Engine ()\n",
      "2019-04-08 14:11:49,581 INFO sqlalchemy.engine.base.Engine PRAGMA index_list(\"Customer\")\n",
      "2019-04-08 14:11:49,581 INFO sqlalchemy.engine.base.Engine ()\n",
      "2019-04-08 14:11:49,583 INFO sqlalchemy.engine.base.Engine PRAGMA index_info(\"sqlite_autoindex_Customer_1\")\n",
      "2019-04-08 14:11:49,584 INFO sqlalchemy.engine.base.Engine ()\n",
      "2019-04-08 14:11:49,585 INFO sqlalchemy.engine.base.Engine SELECT sql FROM  (SELECT * FROM sqlite_master UNION ALL   SELECT * FROM sqlite_temp_master) WHERE name = 'Customer' AND type = 'table'\n",
      "2019-04-08 14:11:49,585 INFO sqlalchemy.engine.base.Engine ()\n",
      "2019-04-08 14:11:49,586 INFO sqlalchemy.engine.base.Engine PRAGMA table_info(\"CustomerCustomerDemo\")\n",
      "2019-04-08 14:11:49,587 INFO sqlalchemy.engine.base.Engine ()\n",
      "2019-04-08 14:11:49,588 INFO sqlalchemy.engine.base.Engine SELECT sql FROM  (SELECT * FROM sqlite_master UNION ALL   SELECT * FROM sqlite_temp_master) WHERE name = 'CustomerCustomerDemo' AND type = 'table'\n",
      "2019-04-08 14:11:49,589 INFO sqlalchemy.engine.base.Engine ()\n",
      "2019-04-08 14:11:49,590 INFO sqlalchemy.engine.base.Engine PRAGMA foreign_key_list(\"CustomerCustomerDemo\")\n",
      "2019-04-08 14:11:49,590 INFO sqlalchemy.engine.base.Engine ()\n",
      "2019-04-08 14:11:49,591 INFO sqlalchemy.engine.base.Engine SELECT sql FROM  (SELECT * FROM sqlite_master UNION ALL   SELECT * FROM sqlite_temp_master) WHERE name = 'CustomerCustomerDemo' AND type = 'table'\n",
      "2019-04-08 14:11:49,591 INFO sqlalchemy.engine.base.Engine ()\n",
      "2019-04-08 14:11:49,592 INFO sqlalchemy.engine.base.Engine PRAGMA index_list(\"CustomerCustomerDemo\")\n",
      "2019-04-08 14:11:49,593 INFO sqlalchemy.engine.base.Engine ()\n",
      "2019-04-08 14:11:49,594 INFO sqlalchemy.engine.base.Engine PRAGMA index_list(\"CustomerCustomerDemo\")\n",
      "2019-04-08 14:11:49,594 INFO sqlalchemy.engine.base.Engine ()\n",
      "2019-04-08 14:11:49,596 INFO sqlalchemy.engine.base.Engine PRAGMA index_info(\"sqlite_autoindex_CustomerCustomerDemo_1\")\n",
      "2019-04-08 14:11:49,596 INFO sqlalchemy.engine.base.Engine ()\n",
      "2019-04-08 14:11:49,598 INFO sqlalchemy.engine.base.Engine SELECT sql FROM  (SELECT * FROM sqlite_master UNION ALL   SELECT * FROM sqlite_temp_master) WHERE name = 'CustomerCustomerDemo' AND type = 'table'\n",
      "2019-04-08 14:11:49,598 INFO sqlalchemy.engine.base.Engine ()\n",
      "2019-04-08 14:11:49,599 INFO sqlalchemy.engine.base.Engine PRAGMA table_info(\"CustomerDemographic\")\n",
      "2019-04-08 14:11:49,600 INFO sqlalchemy.engine.base.Engine ()\n",
      "2019-04-08 14:11:49,601 INFO sqlalchemy.engine.base.Engine SELECT sql FROM  (SELECT * FROM sqlite_master UNION ALL   SELECT * FROM sqlite_temp_master) WHERE name = 'CustomerDemographic' AND type = 'table'\n",
      "2019-04-08 14:11:49,601 INFO sqlalchemy.engine.base.Engine ()\n",
      "2019-04-08 14:11:49,602 INFO sqlalchemy.engine.base.Engine PRAGMA foreign_key_list(\"CustomerDemographic\")\n",
      "2019-04-08 14:11:49,603 INFO sqlalchemy.engine.base.Engine ()\n",
      "2019-04-08 14:11:49,603 INFO sqlalchemy.engine.base.Engine SELECT sql FROM  (SELECT * FROM sqlite_master UNION ALL   SELECT * FROM sqlite_temp_master) WHERE name = 'CustomerDemographic' AND type = 'table'\n",
      "2019-04-08 14:11:49,603 INFO sqlalchemy.engine.base.Engine ()\n",
      "2019-04-08 14:11:49,604 INFO sqlalchemy.engine.base.Engine PRAGMA index_list(\"CustomerDemographic\")\n",
      "2019-04-08 14:11:49,605 INFO sqlalchemy.engine.base.Engine ()\n",
      "2019-04-08 14:11:49,605 INFO sqlalchemy.engine.base.Engine PRAGMA index_list(\"CustomerDemographic\")\n",
      "2019-04-08 14:11:49,606 INFO sqlalchemy.engine.base.Engine ()\n",
      "2019-04-08 14:11:49,606 INFO sqlalchemy.engine.base.Engine PRAGMA index_info(\"sqlite_autoindex_CustomerDemographic_1\")\n",
      "2019-04-08 14:11:49,607 INFO sqlalchemy.engine.base.Engine ()\n",
      "2019-04-08 14:11:49,608 INFO sqlalchemy.engine.base.Engine SELECT sql FROM  (SELECT * FROM sqlite_master UNION ALL   SELECT * FROM sqlite_temp_master) WHERE name = 'CustomerDemographic' AND type = 'table'\n",
      "2019-04-08 14:11:49,608 INFO sqlalchemy.engine.base.Engine ()\n",
      "2019-04-08 14:11:49,610 INFO sqlalchemy.engine.base.Engine PRAGMA table_info(\"Employee\")\n",
      "2019-04-08 14:11:49,610 INFO sqlalchemy.engine.base.Engine ()\n",
      "2019-04-08 14:11:49,613 INFO sqlalchemy.engine.base.Engine SELECT sql FROM  (SELECT * FROM sqlite_master UNION ALL   SELECT * FROM sqlite_temp_master) WHERE name = 'Employee' AND type = 'table'\n",
      "2019-04-08 14:11:49,614 INFO sqlalchemy.engine.base.Engine ()\n",
      "2019-04-08 14:11:49,615 INFO sqlalchemy.engine.base.Engine PRAGMA foreign_key_list(\"Employee\")\n",
      "2019-04-08 14:11:49,615 INFO sqlalchemy.engine.base.Engine ()\n",
      "2019-04-08 14:11:49,616 INFO sqlalchemy.engine.base.Engine SELECT sql FROM  (SELECT * FROM sqlite_master UNION ALL   SELECT * FROM sqlite_temp_master) WHERE name = 'Employee' AND type = 'table'\n",
      "2019-04-08 14:11:49,617 INFO sqlalchemy.engine.base.Engine ()\n",
      "2019-04-08 14:11:49,617 INFO sqlalchemy.engine.base.Engine PRAGMA index_list(\"Employee\")\n",
      "2019-04-08 14:11:49,618 INFO sqlalchemy.engine.base.Engine ()\n",
      "2019-04-08 14:11:49,619 INFO sqlalchemy.engine.base.Engine PRAGMA index_list(\"Employee\")\n",
      "2019-04-08 14:11:49,619 INFO sqlalchemy.engine.base.Engine ()\n",
      "2019-04-08 14:11:49,620 INFO sqlalchemy.engine.base.Engine SELECT sql FROM  (SELECT * FROM sqlite_master UNION ALL   SELECT * FROM sqlite_temp_master) WHERE name = 'Employee' AND type = 'table'\n",
      "2019-04-08 14:11:49,620 INFO sqlalchemy.engine.base.Engine ()\n",
      "2019-04-08 14:11:49,621 INFO sqlalchemy.engine.base.Engine PRAGMA table_info(\"EmployeeTerritory\")\n",
      "2019-04-08 14:11:49,622 INFO sqlalchemy.engine.base.Engine ()\n",
      "2019-04-08 14:11:49,623 INFO sqlalchemy.engine.base.Engine SELECT sql FROM  (SELECT * FROM sqlite_master UNION ALL   SELECT * FROM sqlite_temp_master) WHERE name = 'EmployeeTerritory' AND type = 'table'\n",
      "2019-04-08 14:11:49,623 INFO sqlalchemy.engine.base.Engine ()\n"
     ]
    },
    {
     "name": "stdout",
     "output_type": "stream",
     "text": [
      "2019-04-08 14:11:49,624 INFO sqlalchemy.engine.base.Engine PRAGMA foreign_key_list(\"EmployeeTerritory\")\n",
      "2019-04-08 14:11:49,625 INFO sqlalchemy.engine.base.Engine ()\n",
      "2019-04-08 14:11:49,625 INFO sqlalchemy.engine.base.Engine SELECT sql FROM  (SELECT * FROM sqlite_master UNION ALL   SELECT * FROM sqlite_temp_master) WHERE name = 'EmployeeTerritory' AND type = 'table'\n",
      "2019-04-08 14:11:49,626 INFO sqlalchemy.engine.base.Engine ()\n",
      "2019-04-08 14:11:49,626 INFO sqlalchemy.engine.base.Engine PRAGMA index_list(\"EmployeeTerritory\")\n",
      "2019-04-08 14:11:49,627 INFO sqlalchemy.engine.base.Engine ()\n",
      "2019-04-08 14:11:49,627 INFO sqlalchemy.engine.base.Engine PRAGMA index_list(\"EmployeeTerritory\")\n",
      "2019-04-08 14:11:49,628 INFO sqlalchemy.engine.base.Engine ()\n",
      "2019-04-08 14:11:49,628 INFO sqlalchemy.engine.base.Engine PRAGMA index_info(\"sqlite_autoindex_EmployeeTerritory_1\")\n",
      "2019-04-08 14:11:49,629 INFO sqlalchemy.engine.base.Engine ()\n",
      "2019-04-08 14:11:49,630 INFO sqlalchemy.engine.base.Engine SELECT sql FROM  (SELECT * FROM sqlite_master UNION ALL   SELECT * FROM sqlite_temp_master) WHERE name = 'EmployeeTerritory' AND type = 'table'\n",
      "2019-04-08 14:11:49,630 INFO sqlalchemy.engine.base.Engine ()\n",
      "2019-04-08 14:11:49,631 INFO sqlalchemy.engine.base.Engine PRAGMA table_info(\"Order\")\n",
      "2019-04-08 14:11:49,632 INFO sqlalchemy.engine.base.Engine ()\n",
      "2019-04-08 14:11:49,633 INFO sqlalchemy.engine.base.Engine SELECT sql FROM  (SELECT * FROM sqlite_master UNION ALL   SELECT * FROM sqlite_temp_master) WHERE name = 'Order' AND type = 'table'\n",
      "2019-04-08 14:11:49,633 INFO sqlalchemy.engine.base.Engine ()\n",
      "2019-04-08 14:11:49,634 INFO sqlalchemy.engine.base.Engine PRAGMA foreign_key_list(\"Order\")\n",
      "2019-04-08 14:11:49,636 INFO sqlalchemy.engine.base.Engine ()\n",
      "2019-04-08 14:11:49,636 INFO sqlalchemy.engine.base.Engine SELECT sql FROM  (SELECT * FROM sqlite_master UNION ALL   SELECT * FROM sqlite_temp_master) WHERE name = 'Order' AND type = 'table'\n",
      "2019-04-08 14:11:49,636 INFO sqlalchemy.engine.base.Engine ()\n",
      "2019-04-08 14:11:49,637 INFO sqlalchemy.engine.base.Engine PRAGMA index_list(\"Order\")\n",
      "2019-04-08 14:11:49,638 INFO sqlalchemy.engine.base.Engine ()\n",
      "2019-04-08 14:11:49,638 INFO sqlalchemy.engine.base.Engine PRAGMA index_list(\"Order\")\n",
      "2019-04-08 14:11:49,639 INFO sqlalchemy.engine.base.Engine ()\n",
      "2019-04-08 14:11:49,639 INFO sqlalchemy.engine.base.Engine SELECT sql FROM  (SELECT * FROM sqlite_master UNION ALL   SELECT * FROM sqlite_temp_master) WHERE name = 'Order' AND type = 'table'\n",
      "2019-04-08 14:11:49,640 INFO sqlalchemy.engine.base.Engine ()\n",
      "2019-04-08 14:11:49,641 INFO sqlalchemy.engine.base.Engine PRAGMA table_info(\"OrderDetail\")\n",
      "2019-04-08 14:11:49,641 INFO sqlalchemy.engine.base.Engine ()\n",
      "2019-04-08 14:11:49,643 INFO sqlalchemy.engine.base.Engine SELECT sql FROM  (SELECT * FROM sqlite_master UNION ALL   SELECT * FROM sqlite_temp_master) WHERE name = 'OrderDetail' AND type = 'table'\n",
      "2019-04-08 14:11:49,644 INFO sqlalchemy.engine.base.Engine ()\n",
      "2019-04-08 14:11:49,645 INFO sqlalchemy.engine.base.Engine PRAGMA foreign_key_list(\"OrderDetail\")\n",
      "2019-04-08 14:11:49,645 INFO sqlalchemy.engine.base.Engine ()\n",
      "2019-04-08 14:11:49,646 INFO sqlalchemy.engine.base.Engine SELECT sql FROM  (SELECT * FROM sqlite_master UNION ALL   SELECT * FROM sqlite_temp_master) WHERE name = 'OrderDetail' AND type = 'table'\n",
      "2019-04-08 14:11:49,646 INFO sqlalchemy.engine.base.Engine ()\n",
      "2019-04-08 14:11:49,647 INFO sqlalchemy.engine.base.Engine PRAGMA index_list(\"OrderDetail\")\n",
      "2019-04-08 14:11:49,648 INFO sqlalchemy.engine.base.Engine ()\n",
      "2019-04-08 14:11:49,649 INFO sqlalchemy.engine.base.Engine PRAGMA index_list(\"OrderDetail\")\n",
      "2019-04-08 14:11:49,649 INFO sqlalchemy.engine.base.Engine ()\n",
      "2019-04-08 14:11:49,650 INFO sqlalchemy.engine.base.Engine PRAGMA index_info(\"sqlite_autoindex_OrderDetail_1\")\n",
      "2019-04-08 14:11:49,650 INFO sqlalchemy.engine.base.Engine ()\n",
      "2019-04-08 14:11:49,651 INFO sqlalchemy.engine.base.Engine SELECT sql FROM  (SELECT * FROM sqlite_master UNION ALL   SELECT * FROM sqlite_temp_master) WHERE name = 'OrderDetail' AND type = 'table'\n",
      "2019-04-08 14:11:49,651 INFO sqlalchemy.engine.base.Engine ()\n",
      "2019-04-08 14:11:49,652 INFO sqlalchemy.engine.base.Engine PRAGMA table_info(\"Product\")\n",
      "2019-04-08 14:11:49,653 INFO sqlalchemy.engine.base.Engine ()\n",
      "2019-04-08 14:11:49,654 INFO sqlalchemy.engine.base.Engine SELECT sql FROM  (SELECT * FROM sqlite_master UNION ALL   SELECT * FROM sqlite_temp_master) WHERE name = 'Product' AND type = 'table'\n",
      "2019-04-08 14:11:49,655 INFO sqlalchemy.engine.base.Engine ()\n",
      "2019-04-08 14:11:49,656 INFO sqlalchemy.engine.base.Engine PRAGMA foreign_key_list(\"Product\")\n",
      "2019-04-08 14:11:49,656 INFO sqlalchemy.engine.base.Engine ()\n",
      "2019-04-08 14:11:49,657 INFO sqlalchemy.engine.base.Engine SELECT sql FROM  (SELECT * FROM sqlite_master UNION ALL   SELECT * FROM sqlite_temp_master) WHERE name = 'Product' AND type = 'table'\n",
      "2019-04-08 14:11:49,657 INFO sqlalchemy.engine.base.Engine ()\n",
      "2019-04-08 14:11:49,658 INFO sqlalchemy.engine.base.Engine PRAGMA index_list(\"Product\")\n",
      "2019-04-08 14:11:49,658 INFO sqlalchemy.engine.base.Engine ()\n",
      "2019-04-08 14:11:49,659 INFO sqlalchemy.engine.base.Engine PRAGMA index_list(\"Product\")\n",
      "2019-04-08 14:11:49,659 INFO sqlalchemy.engine.base.Engine ()\n",
      "2019-04-08 14:11:49,660 INFO sqlalchemy.engine.base.Engine SELECT sql FROM  (SELECT * FROM sqlite_master UNION ALL   SELECT * FROM sqlite_temp_master) WHERE name = 'Product' AND type = 'table'\n",
      "2019-04-08 14:11:49,660 INFO sqlalchemy.engine.base.Engine ()\n",
      "2019-04-08 14:11:49,661 INFO sqlalchemy.engine.base.Engine PRAGMA table_info(\"Region\")\n",
      "2019-04-08 14:11:49,662 INFO sqlalchemy.engine.base.Engine ()\n",
      "2019-04-08 14:11:49,663 INFO sqlalchemy.engine.base.Engine SELECT sql FROM  (SELECT * FROM sqlite_master UNION ALL   SELECT * FROM sqlite_temp_master) WHERE name = 'Region' AND type = 'table'\n",
      "2019-04-08 14:11:49,664 INFO sqlalchemy.engine.base.Engine ()\n",
      "2019-04-08 14:11:49,666 INFO sqlalchemy.engine.base.Engine PRAGMA foreign_key_list(\"Region\")\n",
      "2019-04-08 14:11:49,666 INFO sqlalchemy.engine.base.Engine ()\n",
      "2019-04-08 14:11:49,667 INFO sqlalchemy.engine.base.Engine SELECT sql FROM  (SELECT * FROM sqlite_master UNION ALL   SELECT * FROM sqlite_temp_master) WHERE name = 'Region' AND type = 'table'\n",
      "2019-04-08 14:11:49,668 INFO sqlalchemy.engine.base.Engine ()\n",
      "2019-04-08 14:11:49,669 INFO sqlalchemy.engine.base.Engine PRAGMA index_list(\"Region\")\n",
      "2019-04-08 14:11:49,670 INFO sqlalchemy.engine.base.Engine ()\n",
      "2019-04-08 14:11:49,671 INFO sqlalchemy.engine.base.Engine PRAGMA index_list(\"Region\")\n",
      "2019-04-08 14:11:49,672 INFO sqlalchemy.engine.base.Engine ()\n",
      "2019-04-08 14:11:49,672 INFO sqlalchemy.engine.base.Engine SELECT sql FROM  (SELECT * FROM sqlite_master UNION ALL   SELECT * FROM sqlite_temp_master) WHERE name = 'Region' AND type = 'table'\n",
      "2019-04-08 14:11:49,673 INFO sqlalchemy.engine.base.Engine ()\n",
      "2019-04-08 14:11:49,675 INFO sqlalchemy.engine.base.Engine PRAGMA table_info(\"Shipper\")\n",
      "2019-04-08 14:11:49,675 INFO sqlalchemy.engine.base.Engine ()\n",
      "2019-04-08 14:11:49,677 INFO sqlalchemy.engine.base.Engine SELECT sql FROM  (SELECT * FROM sqlite_master UNION ALL   SELECT * FROM sqlite_temp_master) WHERE name = 'Shipper' AND type = 'table'\n",
      "2019-04-08 14:11:49,677 INFO sqlalchemy.engine.base.Engine ()\n",
      "2019-04-08 14:11:49,679 INFO sqlalchemy.engine.base.Engine PRAGMA foreign_key_list(\"Shipper\")\n",
      "2019-04-08 14:11:49,680 INFO sqlalchemy.engine.base.Engine ()\n",
      "2019-04-08 14:11:49,680 INFO sqlalchemy.engine.base.Engine SELECT sql FROM  (SELECT * FROM sqlite_master UNION ALL   SELECT * FROM sqlite_temp_master) WHERE name = 'Shipper' AND type = 'table'\n",
      "2019-04-08 14:11:49,681 INFO sqlalchemy.engine.base.Engine ()\n",
      "2019-04-08 14:11:49,682 INFO sqlalchemy.engine.base.Engine PRAGMA index_list(\"Shipper\")\n",
      "2019-04-08 14:11:49,683 INFO sqlalchemy.engine.base.Engine ()\n",
      "2019-04-08 14:11:49,683 INFO sqlalchemy.engine.base.Engine PRAGMA index_list(\"Shipper\")\n",
      "2019-04-08 14:11:49,684 INFO sqlalchemy.engine.base.Engine ()\n",
      "2019-04-08 14:11:49,685 INFO sqlalchemy.engine.base.Engine SELECT sql FROM  (SELECT * FROM sqlite_master UNION ALL   SELECT * FROM sqlite_temp_master) WHERE name = 'Shipper' AND type = 'table'\n",
      "2019-04-08 14:11:49,685 INFO sqlalchemy.engine.base.Engine ()\n"
     ]
    },
    {
     "name": "stdout",
     "output_type": "stream",
     "text": [
      "2019-04-08 14:11:49,686 INFO sqlalchemy.engine.base.Engine PRAGMA table_info(\"Supplier\")\n",
      "2019-04-08 14:11:49,687 INFO sqlalchemy.engine.base.Engine ()\n",
      "2019-04-08 14:11:49,689 INFO sqlalchemy.engine.base.Engine SELECT sql FROM  (SELECT * FROM sqlite_master UNION ALL   SELECT * FROM sqlite_temp_master) WHERE name = 'Supplier' AND type = 'table'\n",
      "2019-04-08 14:11:49,689 INFO sqlalchemy.engine.base.Engine ()\n",
      "2019-04-08 14:11:49,690 INFO sqlalchemy.engine.base.Engine PRAGMA foreign_key_list(\"Supplier\")\n",
      "2019-04-08 14:11:49,690 INFO sqlalchemy.engine.base.Engine ()\n",
      "2019-04-08 14:11:49,691 INFO sqlalchemy.engine.base.Engine SELECT sql FROM  (SELECT * FROM sqlite_master UNION ALL   SELECT * FROM sqlite_temp_master) WHERE name = 'Supplier' AND type = 'table'\n",
      "2019-04-08 14:11:49,691 INFO sqlalchemy.engine.base.Engine ()\n",
      "2019-04-08 14:11:49,692 INFO sqlalchemy.engine.base.Engine PRAGMA index_list(\"Supplier\")\n",
      "2019-04-08 14:11:49,692 INFO sqlalchemy.engine.base.Engine ()\n",
      "2019-04-08 14:11:49,693 INFO sqlalchemy.engine.base.Engine PRAGMA index_list(\"Supplier\")\n",
      "2019-04-08 14:11:49,693 INFO sqlalchemy.engine.base.Engine ()\n",
      "2019-04-08 14:11:49,694 INFO sqlalchemy.engine.base.Engine SELECT sql FROM  (SELECT * FROM sqlite_master UNION ALL   SELECT * FROM sqlite_temp_master) WHERE name = 'Supplier' AND type = 'table'\n",
      "2019-04-08 14:11:49,694 INFO sqlalchemy.engine.base.Engine ()\n",
      "2019-04-08 14:11:49,696 INFO sqlalchemy.engine.base.Engine PRAGMA table_info(\"Territory\")\n",
      "2019-04-08 14:11:49,696 INFO sqlalchemy.engine.base.Engine ()\n",
      "2019-04-08 14:11:49,697 INFO sqlalchemy.engine.base.Engine SELECT sql FROM  (SELECT * FROM sqlite_master UNION ALL   SELECT * FROM sqlite_temp_master) WHERE name = 'Territory' AND type = 'table'\n",
      "2019-04-08 14:11:49,698 INFO sqlalchemy.engine.base.Engine ()\n",
      "2019-04-08 14:11:49,700 INFO sqlalchemy.engine.base.Engine PRAGMA foreign_key_list(\"Territory\")\n",
      "2019-04-08 14:11:49,701 INFO sqlalchemy.engine.base.Engine ()\n",
      "2019-04-08 14:11:49,702 INFO sqlalchemy.engine.base.Engine SELECT sql FROM  (SELECT * FROM sqlite_master UNION ALL   SELECT * FROM sqlite_temp_master) WHERE name = 'Territory' AND type = 'table'\n",
      "2019-04-08 14:11:49,702 INFO sqlalchemy.engine.base.Engine ()\n",
      "2019-04-08 14:11:49,703 INFO sqlalchemy.engine.base.Engine PRAGMA index_list(\"Territory\")\n",
      "2019-04-08 14:11:49,704 INFO sqlalchemy.engine.base.Engine ()\n",
      "2019-04-08 14:11:49,704 INFO sqlalchemy.engine.base.Engine PRAGMA index_list(\"Territory\")\n",
      "2019-04-08 14:11:49,705 INFO sqlalchemy.engine.base.Engine ()\n",
      "2019-04-08 14:11:49,705 INFO sqlalchemy.engine.base.Engine PRAGMA index_info(\"sqlite_autoindex_Territory_1\")\n",
      "2019-04-08 14:11:49,706 INFO sqlalchemy.engine.base.Engine ()\n",
      "2019-04-08 14:11:49,707 INFO sqlalchemy.engine.base.Engine SELECT sql FROM  (SELECT * FROM sqlite_master UNION ALL   SELECT * FROM sqlite_temp_master) WHERE name = 'Territory' AND type = 'table'\n",
      "2019-04-08 14:11:49,707 INFO sqlalchemy.engine.base.Engine ()\n",
      "2019-04-08 14:11:49,708 INFO sqlalchemy.engine.base.Engine PRAGMA table_info(\"sqlite_sequence\")\n",
      "2019-04-08 14:11:49,709 INFO sqlalchemy.engine.base.Engine ()\n",
      "2019-04-08 14:11:49,711 INFO sqlalchemy.engine.base.Engine SELECT sql FROM  (SELECT * FROM sqlite_master UNION ALL   SELECT * FROM sqlite_temp_master) WHERE name = 'sqlite_sequence' AND type = 'table'\n",
      "2019-04-08 14:11:49,711 INFO sqlalchemy.engine.base.Engine ()\n",
      "2019-04-08 14:11:49,712 INFO sqlalchemy.engine.base.Engine PRAGMA foreign_key_list(\"sqlite_sequence\")\n",
      "2019-04-08 14:11:49,713 INFO sqlalchemy.engine.base.Engine ()\n",
      "2019-04-08 14:11:49,713 INFO sqlalchemy.engine.base.Engine SELECT sql FROM  (SELECT * FROM sqlite_master UNION ALL   SELECT * FROM sqlite_temp_master) WHERE name = 'sqlite_sequence' AND type = 'table'\n",
      "2019-04-08 14:11:49,714 INFO sqlalchemy.engine.base.Engine ()\n",
      "2019-04-08 14:11:49,715 INFO sqlalchemy.engine.base.Engine PRAGMA index_list(\"sqlite_sequence\")\n",
      "2019-04-08 14:11:49,715 INFO sqlalchemy.engine.base.Engine ()\n",
      "2019-04-08 14:11:49,716 INFO sqlalchemy.engine.base.Engine PRAGMA index_list(\"sqlite_sequence\")\n",
      "2019-04-08 14:11:49,716 INFO sqlalchemy.engine.base.Engine ()\n",
      "2019-04-08 14:11:49,717 INFO sqlalchemy.engine.base.Engine SELECT sql FROM  (SELECT * FROM sqlite_master UNION ALL   SELECT * FROM sqlite_temp_master) WHERE name = 'sqlite_sequence' AND type = 'table'\n",
      "2019-04-08 14:11:49,718 INFO sqlalchemy.engine.base.Engine ()\n",
      "2019-04-08 14:11:49,728 INFO sqlalchemy.engine.base.Engine SELECT name FROM sqlite_master WHERE type='table' ORDER BY name\n",
      "2019-04-08 14:11:49,728 INFO sqlalchemy.engine.base.Engine ()\n",
      "2019-04-08 14:11:49,730 INFO sqlalchemy.engine.base.Engine PRAGMA table_info(\"Category\")\n",
      "2019-04-08 14:11:49,731 INFO sqlalchemy.engine.base.Engine ()\n",
      "2019-04-08 14:11:49,733 INFO sqlalchemy.engine.base.Engine SELECT sql FROM  (SELECT * FROM sqlite_master UNION ALL   SELECT * FROM sqlite_temp_master) WHERE name = 'Category' AND type = 'table'\n",
      "2019-04-08 14:11:49,734 INFO sqlalchemy.engine.base.Engine ()\n",
      "2019-04-08 14:11:49,735 INFO sqlalchemy.engine.base.Engine PRAGMA foreign_key_list(\"Category\")\n",
      "2019-04-08 14:11:49,736 INFO sqlalchemy.engine.base.Engine ()\n",
      "2019-04-08 14:11:49,736 INFO sqlalchemy.engine.base.Engine SELECT sql FROM  (SELECT * FROM sqlite_master UNION ALL   SELECT * FROM sqlite_temp_master) WHERE name = 'Category' AND type = 'table'\n",
      "2019-04-08 14:11:49,737 INFO sqlalchemy.engine.base.Engine ()\n",
      "2019-04-08 14:11:49,738 INFO sqlalchemy.engine.base.Engine PRAGMA index_list(\"Category\")\n",
      "2019-04-08 14:11:49,738 INFO sqlalchemy.engine.base.Engine ()\n",
      "2019-04-08 14:11:49,739 INFO sqlalchemy.engine.base.Engine PRAGMA index_list(\"Category\")\n",
      "2019-04-08 14:11:49,740 INFO sqlalchemy.engine.base.Engine ()\n",
      "2019-04-08 14:11:49,740 INFO sqlalchemy.engine.base.Engine SELECT sql FROM  (SELECT * FROM sqlite_master UNION ALL   SELECT * FROM sqlite_temp_master) WHERE name = 'Category' AND type = 'table'\n",
      "2019-04-08 14:11:49,741 INFO sqlalchemy.engine.base.Engine ()\n",
      "2019-04-08 14:11:49,742 INFO sqlalchemy.engine.base.Engine PRAGMA table_info(\"Customer\")\n",
      "2019-04-08 14:11:49,742 INFO sqlalchemy.engine.base.Engine ()\n",
      "2019-04-08 14:11:49,743 INFO sqlalchemy.engine.base.Engine SELECT sql FROM  (SELECT * FROM sqlite_master UNION ALL   SELECT * FROM sqlite_temp_master) WHERE name = 'Customer' AND type = 'table'\n",
      "2019-04-08 14:11:49,744 INFO sqlalchemy.engine.base.Engine ()\n",
      "2019-04-08 14:11:49,745 INFO sqlalchemy.engine.base.Engine PRAGMA foreign_key_list(\"Customer\")\n",
      "2019-04-08 14:11:49,745 INFO sqlalchemy.engine.base.Engine ()\n",
      "2019-04-08 14:11:49,746 INFO sqlalchemy.engine.base.Engine SELECT sql FROM  (SELECT * FROM sqlite_master UNION ALL   SELECT * FROM sqlite_temp_master) WHERE name = 'Customer' AND type = 'table'\n",
      "2019-04-08 14:11:49,746 INFO sqlalchemy.engine.base.Engine ()\n",
      "2019-04-08 14:11:49,747 INFO sqlalchemy.engine.base.Engine PRAGMA index_list(\"Customer\")\n",
      "2019-04-08 14:11:49,748 INFO sqlalchemy.engine.base.Engine ()\n",
      "2019-04-08 14:11:49,749 INFO sqlalchemy.engine.base.Engine PRAGMA index_list(\"Customer\")\n",
      "2019-04-08 14:11:49,749 INFO sqlalchemy.engine.base.Engine ()\n",
      "2019-04-08 14:11:49,750 INFO sqlalchemy.engine.base.Engine PRAGMA index_info(\"sqlite_autoindex_Customer_1\")\n",
      "2019-04-08 14:11:49,750 INFO sqlalchemy.engine.base.Engine ()\n",
      "2019-04-08 14:11:49,751 INFO sqlalchemy.engine.base.Engine SELECT sql FROM  (SELECT * FROM sqlite_master UNION ALL   SELECT * FROM sqlite_temp_master) WHERE name = 'Customer' AND type = 'table'\n",
      "2019-04-08 14:11:49,752 INFO sqlalchemy.engine.base.Engine ()\n",
      "2019-04-08 14:11:49,753 INFO sqlalchemy.engine.base.Engine PRAGMA table_info(\"CustomerCustomerDemo\")\n",
      "2019-04-08 14:11:49,753 INFO sqlalchemy.engine.base.Engine ()\n",
      "2019-04-08 14:11:49,754 INFO sqlalchemy.engine.base.Engine SELECT sql FROM  (SELECT * FROM sqlite_master UNION ALL   SELECT * FROM sqlite_temp_master) WHERE name = 'CustomerCustomerDemo' AND type = 'table'\n",
      "2019-04-08 14:11:49,755 INFO sqlalchemy.engine.base.Engine ()\n",
      "2019-04-08 14:11:49,756 INFO sqlalchemy.engine.base.Engine PRAGMA foreign_key_list(\"CustomerCustomerDemo\")\n",
      "2019-04-08 14:11:49,756 INFO sqlalchemy.engine.base.Engine ()\n",
      "2019-04-08 14:11:49,757 INFO sqlalchemy.engine.base.Engine SELECT sql FROM  (SELECT * FROM sqlite_master UNION ALL   SELECT * FROM sqlite_temp_master) WHERE name = 'CustomerCustomerDemo' AND type = 'table'\n"
     ]
    },
    {
     "name": "stdout",
     "output_type": "stream",
     "text": [
      "2019-04-08 14:11:49,757 INFO sqlalchemy.engine.base.Engine ()\n",
      "2019-04-08 14:11:49,758 INFO sqlalchemy.engine.base.Engine PRAGMA index_list(\"CustomerCustomerDemo\")\n",
      "2019-04-08 14:11:49,758 INFO sqlalchemy.engine.base.Engine ()\n",
      "2019-04-08 14:11:49,760 INFO sqlalchemy.engine.base.Engine PRAGMA index_list(\"CustomerCustomerDemo\")\n",
      "2019-04-08 14:11:49,760 INFO sqlalchemy.engine.base.Engine ()\n",
      "2019-04-08 14:11:49,761 INFO sqlalchemy.engine.base.Engine PRAGMA index_info(\"sqlite_autoindex_CustomerCustomerDemo_1\")\n",
      "2019-04-08 14:11:49,762 INFO sqlalchemy.engine.base.Engine ()\n",
      "2019-04-08 14:11:49,763 INFO sqlalchemy.engine.base.Engine SELECT sql FROM  (SELECT * FROM sqlite_master UNION ALL   SELECT * FROM sqlite_temp_master) WHERE name = 'CustomerCustomerDemo' AND type = 'table'\n",
      "2019-04-08 14:11:49,763 INFO sqlalchemy.engine.base.Engine ()\n",
      "2019-04-08 14:11:49,764 INFO sqlalchemy.engine.base.Engine PRAGMA table_info(\"CustomerDemographic\")\n",
      "2019-04-08 14:11:49,764 INFO sqlalchemy.engine.base.Engine ()\n",
      "2019-04-08 14:11:49,765 INFO sqlalchemy.engine.base.Engine SELECT sql FROM  (SELECT * FROM sqlite_master UNION ALL   SELECT * FROM sqlite_temp_master) WHERE name = 'CustomerDemographic' AND type = 'table'\n",
      "2019-04-08 14:11:49,766 INFO sqlalchemy.engine.base.Engine ()\n",
      "2019-04-08 14:11:49,766 INFO sqlalchemy.engine.base.Engine PRAGMA foreign_key_list(\"CustomerDemographic\")\n",
      "2019-04-08 14:11:49,767 INFO sqlalchemy.engine.base.Engine ()\n",
      "2019-04-08 14:11:49,767 INFO sqlalchemy.engine.base.Engine SELECT sql FROM  (SELECT * FROM sqlite_master UNION ALL   SELECT * FROM sqlite_temp_master) WHERE name = 'CustomerDemographic' AND type = 'table'\n",
      "2019-04-08 14:11:49,768 INFO sqlalchemy.engine.base.Engine ()\n",
      "2019-04-08 14:11:49,769 INFO sqlalchemy.engine.base.Engine PRAGMA index_list(\"CustomerDemographic\")\n",
      "2019-04-08 14:11:49,769 INFO sqlalchemy.engine.base.Engine ()\n",
      "2019-04-08 14:11:49,770 INFO sqlalchemy.engine.base.Engine PRAGMA index_list(\"CustomerDemographic\")\n",
      "2019-04-08 14:11:49,770 INFO sqlalchemy.engine.base.Engine ()\n",
      "2019-04-08 14:11:49,771 INFO sqlalchemy.engine.base.Engine PRAGMA index_info(\"sqlite_autoindex_CustomerDemographic_1\")\n",
      "2019-04-08 14:11:49,771 INFO sqlalchemy.engine.base.Engine ()\n",
      "2019-04-08 14:11:49,772 INFO sqlalchemy.engine.base.Engine SELECT sql FROM  (SELECT * FROM sqlite_master UNION ALL   SELECT * FROM sqlite_temp_master) WHERE name = 'CustomerDemographic' AND type = 'table'\n",
      "2019-04-08 14:11:49,772 INFO sqlalchemy.engine.base.Engine ()\n",
      "2019-04-08 14:11:49,773 INFO sqlalchemy.engine.base.Engine PRAGMA table_info(\"Employee\")\n",
      "2019-04-08 14:11:49,773 INFO sqlalchemy.engine.base.Engine ()\n",
      "2019-04-08 14:11:49,774 INFO sqlalchemy.engine.base.Engine SELECT sql FROM  (SELECT * FROM sqlite_master UNION ALL   SELECT * FROM sqlite_temp_master) WHERE name = 'Employee' AND type = 'table'\n",
      "2019-04-08 14:11:49,775 INFO sqlalchemy.engine.base.Engine ()\n",
      "2019-04-08 14:11:49,776 INFO sqlalchemy.engine.base.Engine PRAGMA foreign_key_list(\"Employee\")\n",
      "2019-04-08 14:11:49,776 INFO sqlalchemy.engine.base.Engine ()\n",
      "2019-04-08 14:11:49,777 INFO sqlalchemy.engine.base.Engine SELECT sql FROM  (SELECT * FROM sqlite_master UNION ALL   SELECT * FROM sqlite_temp_master) WHERE name = 'Employee' AND type = 'table'\n",
      "2019-04-08 14:11:49,778 INFO sqlalchemy.engine.base.Engine ()\n",
      "2019-04-08 14:11:49,779 INFO sqlalchemy.engine.base.Engine PRAGMA index_list(\"Employee\")\n",
      "2019-04-08 14:11:49,779 INFO sqlalchemy.engine.base.Engine ()\n",
      "2019-04-08 14:11:49,780 INFO sqlalchemy.engine.base.Engine PRAGMA index_list(\"Employee\")\n",
      "2019-04-08 14:11:49,780 INFO sqlalchemy.engine.base.Engine ()\n",
      "2019-04-08 14:11:49,781 INFO sqlalchemy.engine.base.Engine SELECT sql FROM  (SELECT * FROM sqlite_master UNION ALL   SELECT * FROM sqlite_temp_master) WHERE name = 'Employee' AND type = 'table'\n",
      "2019-04-08 14:11:49,782 INFO sqlalchemy.engine.base.Engine ()\n",
      "2019-04-08 14:11:49,783 INFO sqlalchemy.engine.base.Engine PRAGMA table_info(\"EmployeeTerritory\")\n",
      "2019-04-08 14:11:49,783 INFO sqlalchemy.engine.base.Engine ()\n",
      "2019-04-08 14:11:49,785 INFO sqlalchemy.engine.base.Engine SELECT sql FROM  (SELECT * FROM sqlite_master UNION ALL   SELECT * FROM sqlite_temp_master) WHERE name = 'EmployeeTerritory' AND type = 'table'\n",
      "2019-04-08 14:11:49,785 INFO sqlalchemy.engine.base.Engine ()\n",
      "2019-04-08 14:11:49,786 INFO sqlalchemy.engine.base.Engine PRAGMA foreign_key_list(\"EmployeeTerritory\")\n",
      "2019-04-08 14:11:49,786 INFO sqlalchemy.engine.base.Engine ()\n",
      "2019-04-08 14:11:49,787 INFO sqlalchemy.engine.base.Engine SELECT sql FROM  (SELECT * FROM sqlite_master UNION ALL   SELECT * FROM sqlite_temp_master) WHERE name = 'EmployeeTerritory' AND type = 'table'\n",
      "2019-04-08 14:11:49,787 INFO sqlalchemy.engine.base.Engine ()\n",
      "2019-04-08 14:11:49,788 INFO sqlalchemy.engine.base.Engine PRAGMA index_list(\"EmployeeTerritory\")\n",
      "2019-04-08 14:11:49,789 INFO sqlalchemy.engine.base.Engine ()\n",
      "2019-04-08 14:11:49,789 INFO sqlalchemy.engine.base.Engine PRAGMA index_list(\"EmployeeTerritory\")\n",
      "2019-04-08 14:11:49,790 INFO sqlalchemy.engine.base.Engine ()\n",
      "2019-04-08 14:11:49,791 INFO sqlalchemy.engine.base.Engine PRAGMA index_info(\"sqlite_autoindex_EmployeeTerritory_1\")\n",
      "2019-04-08 14:11:49,791 INFO sqlalchemy.engine.base.Engine ()\n",
      "2019-04-08 14:11:49,792 INFO sqlalchemy.engine.base.Engine SELECT sql FROM  (SELECT * FROM sqlite_master UNION ALL   SELECT * FROM sqlite_temp_master) WHERE name = 'EmployeeTerritory' AND type = 'table'\n",
      "2019-04-08 14:11:49,792 INFO sqlalchemy.engine.base.Engine ()\n",
      "2019-04-08 14:11:49,793 INFO sqlalchemy.engine.base.Engine PRAGMA table_info(\"Order\")\n",
      "2019-04-08 14:11:49,794 INFO sqlalchemy.engine.base.Engine ()\n",
      "2019-04-08 14:11:49,795 INFO sqlalchemy.engine.base.Engine SELECT sql FROM  (SELECT * FROM sqlite_master UNION ALL   SELECT * FROM sqlite_temp_master) WHERE name = 'Order' AND type = 'table'\n",
      "2019-04-08 14:11:49,796 INFO sqlalchemy.engine.base.Engine ()\n",
      "2019-04-08 14:11:49,797 INFO sqlalchemy.engine.base.Engine PRAGMA foreign_key_list(\"Order\")\n",
      "2019-04-08 14:11:49,797 INFO sqlalchemy.engine.base.Engine ()\n",
      "2019-04-08 14:11:49,798 INFO sqlalchemy.engine.base.Engine SELECT sql FROM  (SELECT * FROM sqlite_master UNION ALL   SELECT * FROM sqlite_temp_master) WHERE name = 'Order' AND type = 'table'\n",
      "2019-04-08 14:11:49,799 INFO sqlalchemy.engine.base.Engine ()\n",
      "2019-04-08 14:11:49,800 INFO sqlalchemy.engine.base.Engine PRAGMA index_list(\"Order\")\n",
      "2019-04-08 14:11:49,800 INFO sqlalchemy.engine.base.Engine ()\n",
      "2019-04-08 14:11:49,801 INFO sqlalchemy.engine.base.Engine PRAGMA index_list(\"Order\")\n",
      "2019-04-08 14:11:49,801 INFO sqlalchemy.engine.base.Engine ()\n",
      "2019-04-08 14:11:49,802 INFO sqlalchemy.engine.base.Engine SELECT sql FROM  (SELECT * FROM sqlite_master UNION ALL   SELECT * FROM sqlite_temp_master) WHERE name = 'Order' AND type = 'table'\n",
      "2019-04-08 14:11:49,803 INFO sqlalchemy.engine.base.Engine ()\n",
      "2019-04-08 14:11:49,803 INFO sqlalchemy.engine.base.Engine PRAGMA table_info(\"OrderDetail\")\n",
      "2019-04-08 14:11:49,804 INFO sqlalchemy.engine.base.Engine ()\n",
      "2019-04-08 14:11:49,805 INFO sqlalchemy.engine.base.Engine SELECT sql FROM  (SELECT * FROM sqlite_master UNION ALL   SELECT * FROM sqlite_temp_master) WHERE name = 'OrderDetail' AND type = 'table'\n",
      "2019-04-08 14:11:49,806 INFO sqlalchemy.engine.base.Engine ()\n",
      "2019-04-08 14:11:49,807 INFO sqlalchemy.engine.base.Engine PRAGMA foreign_key_list(\"OrderDetail\")\n",
      "2019-04-08 14:11:49,807 INFO sqlalchemy.engine.base.Engine ()\n",
      "2019-04-08 14:11:49,808 INFO sqlalchemy.engine.base.Engine SELECT sql FROM  (SELECT * FROM sqlite_master UNION ALL   SELECT * FROM sqlite_temp_master) WHERE name = 'OrderDetail' AND type = 'table'\n",
      "2019-04-08 14:11:49,809 INFO sqlalchemy.engine.base.Engine ()\n",
      "2019-04-08 14:11:49,810 INFO sqlalchemy.engine.base.Engine PRAGMA index_list(\"OrderDetail\")\n",
      "2019-04-08 14:11:49,810 INFO sqlalchemy.engine.base.Engine ()\n",
      "2019-04-08 14:11:49,811 INFO sqlalchemy.engine.base.Engine PRAGMA index_list(\"OrderDetail\")\n",
      "2019-04-08 14:11:49,811 INFO sqlalchemy.engine.base.Engine ()\n",
      "2019-04-08 14:11:49,812 INFO sqlalchemy.engine.base.Engine PRAGMA index_info(\"sqlite_autoindex_OrderDetail_1\")\n",
      "2019-04-08 14:11:49,813 INFO sqlalchemy.engine.base.Engine ()\n",
      "2019-04-08 14:11:49,813 INFO sqlalchemy.engine.base.Engine SELECT sql FROM  (SELECT * FROM sqlite_master UNION ALL   SELECT * FROM sqlite_temp_master) WHERE name = 'OrderDetail' AND type = 'table'\n"
     ]
    },
    {
     "name": "stdout",
     "output_type": "stream",
     "text": [
      "2019-04-08 14:11:49,814 INFO sqlalchemy.engine.base.Engine ()\n",
      "2019-04-08 14:11:49,815 INFO sqlalchemy.engine.base.Engine PRAGMA table_info(\"Product\")\n",
      "2019-04-08 14:11:49,815 INFO sqlalchemy.engine.base.Engine ()\n",
      "2019-04-08 14:11:49,816 INFO sqlalchemy.engine.base.Engine SELECT sql FROM  (SELECT * FROM sqlite_master UNION ALL   SELECT * FROM sqlite_temp_master) WHERE name = 'Product' AND type = 'table'\n",
      "2019-04-08 14:11:49,817 INFO sqlalchemy.engine.base.Engine ()\n",
      "2019-04-08 14:11:49,818 INFO sqlalchemy.engine.base.Engine PRAGMA foreign_key_list(\"Product\")\n",
      "2019-04-08 14:11:49,818 INFO sqlalchemy.engine.base.Engine ()\n",
      "2019-04-08 14:11:49,819 INFO sqlalchemy.engine.base.Engine SELECT sql FROM  (SELECT * FROM sqlite_master UNION ALL   SELECT * FROM sqlite_temp_master) WHERE name = 'Product' AND type = 'table'\n",
      "2019-04-08 14:11:49,819 INFO sqlalchemy.engine.base.Engine ()\n",
      "2019-04-08 14:11:49,820 INFO sqlalchemy.engine.base.Engine PRAGMA index_list(\"Product\")\n",
      "2019-04-08 14:11:49,821 INFO sqlalchemy.engine.base.Engine ()\n",
      "2019-04-08 14:11:49,821 INFO sqlalchemy.engine.base.Engine PRAGMA index_list(\"Product\")\n",
      "2019-04-08 14:11:49,822 INFO sqlalchemy.engine.base.Engine ()\n",
      "2019-04-08 14:11:49,822 INFO sqlalchemy.engine.base.Engine SELECT sql FROM  (SELECT * FROM sqlite_master UNION ALL   SELECT * FROM sqlite_temp_master) WHERE name = 'Product' AND type = 'table'\n",
      "2019-04-08 14:11:49,823 INFO sqlalchemy.engine.base.Engine ()\n",
      "2019-04-08 14:11:49,824 INFO sqlalchemy.engine.base.Engine PRAGMA table_info(\"Region\")\n",
      "2019-04-08 14:11:49,824 INFO sqlalchemy.engine.base.Engine ()\n",
      "2019-04-08 14:11:49,825 INFO sqlalchemy.engine.base.Engine SELECT sql FROM  (SELECT * FROM sqlite_master UNION ALL   SELECT * FROM sqlite_temp_master) WHERE name = 'Region' AND type = 'table'\n",
      "2019-04-08 14:11:49,825 INFO sqlalchemy.engine.base.Engine ()\n",
      "2019-04-08 14:11:49,826 INFO sqlalchemy.engine.base.Engine PRAGMA foreign_key_list(\"Region\")\n",
      "2019-04-08 14:11:49,827 INFO sqlalchemy.engine.base.Engine ()\n",
      "2019-04-08 14:11:49,827 INFO sqlalchemy.engine.base.Engine SELECT sql FROM  (SELECT * FROM sqlite_master UNION ALL   SELECT * FROM sqlite_temp_master) WHERE name = 'Region' AND type = 'table'\n",
      "2019-04-08 14:11:49,828 INFO sqlalchemy.engine.base.Engine ()\n",
      "2019-04-08 14:11:49,829 INFO sqlalchemy.engine.base.Engine PRAGMA index_list(\"Region\")\n",
      "2019-04-08 14:11:49,829 INFO sqlalchemy.engine.base.Engine ()\n",
      "2019-04-08 14:11:49,835 INFO sqlalchemy.engine.base.Engine PRAGMA index_list(\"Region\")\n",
      "2019-04-08 14:11:49,836 INFO sqlalchemy.engine.base.Engine ()\n",
      "2019-04-08 14:11:49,836 INFO sqlalchemy.engine.base.Engine SELECT sql FROM  (SELECT * FROM sqlite_master UNION ALL   SELECT * FROM sqlite_temp_master) WHERE name = 'Region' AND type = 'table'\n",
      "2019-04-08 14:11:49,837 INFO sqlalchemy.engine.base.Engine ()\n",
      "2019-04-08 14:11:49,838 INFO sqlalchemy.engine.base.Engine PRAGMA table_info(\"Shipper\")\n",
      "2019-04-08 14:11:49,838 INFO sqlalchemy.engine.base.Engine ()\n",
      "2019-04-08 14:11:49,839 INFO sqlalchemy.engine.base.Engine SELECT sql FROM  (SELECT * FROM sqlite_master UNION ALL   SELECT * FROM sqlite_temp_master) WHERE name = 'Shipper' AND type = 'table'\n",
      "2019-04-08 14:11:49,840 INFO sqlalchemy.engine.base.Engine ()\n",
      "2019-04-08 14:11:49,841 INFO sqlalchemy.engine.base.Engine PRAGMA foreign_key_list(\"Shipper\")\n",
      "2019-04-08 14:11:49,842 INFO sqlalchemy.engine.base.Engine ()\n",
      "2019-04-08 14:11:49,843 INFO sqlalchemy.engine.base.Engine SELECT sql FROM  (SELECT * FROM sqlite_master UNION ALL   SELECT * FROM sqlite_temp_master) WHERE name = 'Shipper' AND type = 'table'\n",
      "2019-04-08 14:11:49,843 INFO sqlalchemy.engine.base.Engine ()\n",
      "2019-04-08 14:11:49,844 INFO sqlalchemy.engine.base.Engine PRAGMA index_list(\"Shipper\")\n",
      "2019-04-08 14:11:49,845 INFO sqlalchemy.engine.base.Engine ()\n",
      "2019-04-08 14:11:49,846 INFO sqlalchemy.engine.base.Engine PRAGMA index_list(\"Shipper\")\n",
      "2019-04-08 14:11:49,847 INFO sqlalchemy.engine.base.Engine ()\n",
      "2019-04-08 14:11:49,847 INFO sqlalchemy.engine.base.Engine SELECT sql FROM  (SELECT * FROM sqlite_master UNION ALL   SELECT * FROM sqlite_temp_master) WHERE name = 'Shipper' AND type = 'table'\n",
      "2019-04-08 14:11:49,848 INFO sqlalchemy.engine.base.Engine ()\n",
      "2019-04-08 14:11:49,849 INFO sqlalchemy.engine.base.Engine PRAGMA table_info(\"Supplier\")\n",
      "2019-04-08 14:11:49,850 INFO sqlalchemy.engine.base.Engine ()\n",
      "2019-04-08 14:11:49,852 INFO sqlalchemy.engine.base.Engine SELECT sql FROM  (SELECT * FROM sqlite_master UNION ALL   SELECT * FROM sqlite_temp_master) WHERE name = 'Supplier' AND type = 'table'\n",
      "2019-04-08 14:11:49,852 INFO sqlalchemy.engine.base.Engine ()\n",
      "2019-04-08 14:11:49,855 INFO sqlalchemy.engine.base.Engine PRAGMA foreign_key_list(\"Supplier\")\n",
      "2019-04-08 14:11:49,855 INFO sqlalchemy.engine.base.Engine ()\n",
      "2019-04-08 14:11:49,856 INFO sqlalchemy.engine.base.Engine SELECT sql FROM  (SELECT * FROM sqlite_master UNION ALL   SELECT * FROM sqlite_temp_master) WHERE name = 'Supplier' AND type = 'table'\n",
      "2019-04-08 14:11:49,857 INFO sqlalchemy.engine.base.Engine ()\n",
      "2019-04-08 14:11:49,858 INFO sqlalchemy.engine.base.Engine PRAGMA index_list(\"Supplier\")\n",
      "2019-04-08 14:11:49,858 INFO sqlalchemy.engine.base.Engine ()\n",
      "2019-04-08 14:11:49,859 INFO sqlalchemy.engine.base.Engine PRAGMA index_list(\"Supplier\")\n",
      "2019-04-08 14:11:49,860 INFO sqlalchemy.engine.base.Engine ()\n",
      "2019-04-08 14:11:49,861 INFO sqlalchemy.engine.base.Engine SELECT sql FROM  (SELECT * FROM sqlite_master UNION ALL   SELECT * FROM sqlite_temp_master) WHERE name = 'Supplier' AND type = 'table'\n",
      "2019-04-08 14:11:49,861 INFO sqlalchemy.engine.base.Engine ()\n",
      "2019-04-08 14:11:49,863 INFO sqlalchemy.engine.base.Engine PRAGMA table_info(\"Territory\")\n",
      "2019-04-08 14:11:49,863 INFO sqlalchemy.engine.base.Engine ()\n",
      "2019-04-08 14:11:49,864 INFO sqlalchemy.engine.base.Engine SELECT sql FROM  (SELECT * FROM sqlite_master UNION ALL   SELECT * FROM sqlite_temp_master) WHERE name = 'Territory' AND type = 'table'\n",
      "2019-04-08 14:11:49,865 INFO sqlalchemy.engine.base.Engine ()\n",
      "2019-04-08 14:11:49,866 INFO sqlalchemy.engine.base.Engine PRAGMA foreign_key_list(\"Territory\")\n",
      "2019-04-08 14:11:49,867 INFO sqlalchemy.engine.base.Engine ()\n",
      "2019-04-08 14:11:49,868 INFO sqlalchemy.engine.base.Engine SELECT sql FROM  (SELECT * FROM sqlite_master UNION ALL   SELECT * FROM sqlite_temp_master) WHERE name = 'Territory' AND type = 'table'\n",
      "2019-04-08 14:11:49,868 INFO sqlalchemy.engine.base.Engine ()\n",
      "2019-04-08 14:11:49,869 INFO sqlalchemy.engine.base.Engine PRAGMA index_list(\"Territory\")\n",
      "2019-04-08 14:11:49,869 INFO sqlalchemy.engine.base.Engine ()\n",
      "2019-04-08 14:11:49,870 INFO sqlalchemy.engine.base.Engine PRAGMA index_list(\"Territory\")\n",
      "2019-04-08 14:11:49,871 INFO sqlalchemy.engine.base.Engine ()\n",
      "2019-04-08 14:11:49,871 INFO sqlalchemy.engine.base.Engine PRAGMA index_info(\"sqlite_autoindex_Territory_1\")\n",
      "2019-04-08 14:11:49,872 INFO sqlalchemy.engine.base.Engine ()\n",
      "2019-04-08 14:11:49,873 INFO sqlalchemy.engine.base.Engine SELECT sql FROM  (SELECT * FROM sqlite_master UNION ALL   SELECT * FROM sqlite_temp_master) WHERE name = 'Territory' AND type = 'table'\n",
      "2019-04-08 14:11:49,873 INFO sqlalchemy.engine.base.Engine ()\n",
      "2019-04-08 14:11:49,874 INFO sqlalchemy.engine.base.Engine PRAGMA table_info(\"sqlite_sequence\")\n",
      "2019-04-08 14:11:49,875 INFO sqlalchemy.engine.base.Engine ()\n",
      "2019-04-08 14:11:49,876 INFO sqlalchemy.engine.base.Engine SELECT sql FROM  (SELECT * FROM sqlite_master UNION ALL   SELECT * FROM sqlite_temp_master) WHERE name = 'sqlite_sequence' AND type = 'table'\n",
      "2019-04-08 14:11:49,876 INFO sqlalchemy.engine.base.Engine ()\n",
      "2019-04-08 14:11:49,877 INFO sqlalchemy.engine.base.Engine PRAGMA foreign_key_list(\"sqlite_sequence\")\n",
      "2019-04-08 14:11:49,878 INFO sqlalchemy.engine.base.Engine ()\n",
      "2019-04-08 14:11:49,879 INFO sqlalchemy.engine.base.Engine SELECT sql FROM  (SELECT * FROM sqlite_master UNION ALL   SELECT * FROM sqlite_temp_master) WHERE name = 'sqlite_sequence' AND type = 'table'\n",
      "2019-04-08 14:11:49,880 INFO sqlalchemy.engine.base.Engine ()\n",
      "2019-04-08 14:11:49,880 INFO sqlalchemy.engine.base.Engine PRAGMA index_list(\"sqlite_sequence\")\n",
      "2019-04-08 14:11:49,881 INFO sqlalchemy.engine.base.Engine ()\n",
      "2019-04-08 14:11:49,882 INFO sqlalchemy.engine.base.Engine PRAGMA index_list(\"sqlite_sequence\")\n"
     ]
    },
    {
     "name": "stdout",
     "output_type": "stream",
     "text": [
      "2019-04-08 14:11:49,883 INFO sqlalchemy.engine.base.Engine ()\n",
      "2019-04-08 14:11:49,884 INFO sqlalchemy.engine.base.Engine SELECT sql FROM  (SELECT * FROM sqlite_master UNION ALL   SELECT * FROM sqlite_temp_master) WHERE name = 'sqlite_sequence' AND type = 'table'\n",
      "2019-04-08 14:11:49,884 INFO sqlalchemy.engine.base.Engine ()\n"
     ]
    }
   ],
   "source": [
    "# import sqalchemy, an ORM, and their query API for accessing database\n",
    "from sqlalchemy import *\n",
    "from sqlalchemy import MetaData\n",
    "from sqlalchemy.ext.automap import automap_base\n",
    "# from sqlalchemy.orm import relationship\n",
    "from sqlalchemy.sql import func\n",
    "\n",
    "# initial setup to later map table names to objects & columns to attributes\n",
    "##### START boilerplate\n",
    "metadata = MetaData()\n",
    "metadata.reflect(engine)\n",
    "Base = automap_base(metadata=metadata)\n",
    "\n",
    "Base.prepare(engine, reflect=True)\n",
    "##### START boilerplate"
   ]
  },
  {
   "cell_type": "code",
   "execution_count": 10,
   "metadata": {},
   "outputs": [],
   "source": [
    "# Mapping to classes\n",
    "Employee, Customer = Base.classes.Employee, Base.classes.Customer\n",
    "Product, Category = Base.classes.Product, Base.classes.Category\n",
    "Order, OrderDetail = Base.classes.Order, Base.classes.OrderDetail\n",
    "Shipper, Supplier = Base.classes.Shipper, Base.classes.Supplier"
   ]
  },
  {
   "cell_type": "code",
   "execution_count": null,
   "metadata": {},
   "outputs": [],
   "source": []
  },
  {
   "cell_type": "markdown",
   "metadata": {},
   "source": [
    "### Helper Methods"
   ]
  },
  {
   "cell_type": "code",
   "execution_count": 11,
   "metadata": {},
   "outputs": [],
   "source": [
    "# helper methods :)\n",
    "\n",
    "###\n",
    "### SAMPLING HELPER METHODS\n",
    "###\n",
    "\n",
    "# create sample of sample_size from data\n",
    "def create_sample(data, sample_size):\n",
    "    sample = []\n",
    "    while len(sample) != sample_size:\n",
    "        x = np.random.choice(data)\n",
    "        sample.append(x)\n",
    "    return sample\n",
    "\n",
    "def get_sample_mean(sample):\n",
    "    return sum(sample) / len(sample)\n",
    "\n",
    "# create sample distribution from data, using above two functions\n",
    "\n",
    "def create_sample_distribution(data, dist_size=100, sample_size=30):\n",
    "    sample_distribution = []\n",
    "    n = 0\n",
    "    while len(sample_distribution) != dist_size:\n",
    "        np.random.seed(n)\n",
    "        n+=1\n",
    "        sample = create_sample(data, sample_size)\n",
    "        sample_mean = get_sample_mean(sample)\n",
    "        sample_distribution.append(sample_mean)\n",
    "        \n",
    "    return sample_distribution\n",
    "    \n",
    "\n",
    "def effect_size_blurb(effect_size):\n",
    "    e_size = \"\"\n",
    "    if effect_size <= 0.20:\n",
    "        e_size = \"small\"\n",
    "    elif effect_size >0.20 and effect_size <=0.50:\n",
    "        e_size = \"small/medium\"\n",
    "    elif effect_size > 0.50 and effect_size <=0.80:\n",
    "        e_size = \"medium/large\"\n",
    "    elif effect_size > 0.80 and effect_size <=1.20:\n",
    "        e_size = \"large/very large\"\n",
    "    else:\n",
    "        e_size = \"huge\" \n",
    "        \n",
    "    init = \"Effect size is a measurement of the strength of a relationship between two variables on a numeric scale, and Cohen's d calculates this as the difference between two means divided by a standard deviation for the combined data. \"\n",
    "    init2 = \"Generally, 0.01 is considered very small, 0.20 small, 0.50 medium, 0.80 large, 1.20 very large, and 2.0 huge. \"\n",
    "    init3 = \"Typically, a lower Cohen's d score indicates the need for larger sample sizes. \"\n",
    "    init4 = \"With a cohen's d value of \" + str(round(effect_size, 3)) + \", we can say that the effect size is \" + e_size\n",
    "    \n",
    "    return init + init2 + init3 + init4"
   ]
  },
  {
   "cell_type": "markdown",
   "metadata": {},
   "source": [
    "# Hypothesis Tests\n",
    "***"
   ]
  },
  {
   "cell_type": "markdown",
   "metadata": {},
   "source": [
    "## Question 01: Do Discounts Increase The Overall Order Size?"
   ]
  },
  {
   "cell_type": "markdown",
   "metadata": {},
   "source": [
    "Economically, there is a negative relationship between price and demand - as price goes up, demand falls, and as price goes down, demand rises.  For this case study, I will look to see if the presence of discounts (decrease in price) increases the overall order size (quantity demanded) by comparing the average total quantities ordered in two groups - (1) Orders that have at least one item discounted (Discounted), and (2) Orders that contain no discounted items (Undiscounted)."
   ]
  },
  {
   "cell_type": "markdown",
   "metadata": {},
   "source": [
    "### Hypothesis Statement"
   ]
  },
  {
   "cell_type": "markdown",
   "metadata": {},
   "source": [
    "#### Null Hypothesis\n",
    "\n",
    ">**Ho:** Discounted Mean Quantity Ordered = Undiscounted Mean Quantity Ordered"
   ]
  },
  {
   "cell_type": "markdown",
   "metadata": {},
   "source": [
    "#### Alternate Hypothesis\n",
    "\n",
    ">**Ha:** Discounted Mean Quantity Ordered > Undiscounted Mean Quantity Ordered\n",
    "\n",
    "First, we have to query our database - aggregating the OrderDetails (line items) for each Order, and separating discounted and undiscounted orders."
   ]
  },
  {
   "cell_type": "markdown",
   "metadata": {},
   "source": [
    "### Query database for orders with and without any discounted items"
   ]
  },
  {
   "cell_type": "code",
   "execution_count": 12,
   "metadata": {},
   "outputs": [
    {
     "name": "stdout",
     "output_type": "stream",
     "text": [
      "2019-04-08 14:11:53,139 INFO sqlalchemy.engine.base.Engine SELECT anon_1.\"Id\", anon_1.\"OrderId\", anon_1.\"ProductId\", anon_1.\"UnitPrice\", anon_1.\"Quantity\", anon_1.\"Discount\", anon_1.\"CustomerId\", anon_1.\"TotalQuantity\", anon_1.\"MaxDiscount\", anon_1.\"MinDiscount\" \n",
      "FROM (SELECT \"OrderDetail\".\"Id\" AS \"Id\", \"OrderDetail\".\"OrderId\" AS \"OrderId\", \"OrderDetail\".\"ProductId\" AS \"ProductId\", \"OrderDetail\".\"UnitPrice\" AS \"UnitPrice\", \"OrderDetail\".\"Quantity\" AS \"Quantity\", \"OrderDetail\".\"Discount\" AS \"Discount\", \"OrderDetail\".\"CustomerId\" AS \"CustomerId\", sum(\"OrderDetail\".\"Quantity\") AS \"TotalQuantity\", max(\"OrderDetail\".\"Discount\") AS \"MaxDiscount\", min(\"OrderDetail\".\"Discount\") AS \"MinDiscount\" \n",
      "FROM \"OrderDetail\" GROUP BY \"OrderDetail\".\"OrderId\") AS anon_1 \n",
      "WHERE anon_1.\"MaxDiscount\" > ? GROUP BY anon_1.\"OrderId\"\n",
      "2019-04-08 14:11:53,140 INFO sqlalchemy.engine.base.Engine (0,)\n",
      "2019-04-08 14:11:53,153 INFO sqlalchemy.engine.base.Engine SELECT anon_1.\"Id\", anon_1.\"OrderId\", anon_1.\"ProductId\", anon_1.\"UnitPrice\", anon_1.\"Quantity\", anon_1.\"Discount\", anon_1.\"CustomerId\", anon_1.\"TotalQuantity\", anon_1.\"MaxDiscount\", anon_1.\"MinDiscount\" \n",
      "FROM (SELECT \"OrderDetail\".\"Id\" AS \"Id\", \"OrderDetail\".\"OrderId\" AS \"OrderId\", \"OrderDetail\".\"ProductId\" AS \"ProductId\", \"OrderDetail\".\"UnitPrice\" AS \"UnitPrice\", \"OrderDetail\".\"Quantity\" AS \"Quantity\", \"OrderDetail\".\"Discount\" AS \"Discount\", \"OrderDetail\".\"CustomerId\" AS \"CustomerId\", sum(\"OrderDetail\".\"Quantity\") AS \"TotalQuantity\", max(\"OrderDetail\".\"Discount\") AS \"MaxDiscount\", min(\"OrderDetail\".\"Discount\") AS \"MinDiscount\" \n",
      "FROM \"OrderDetail\" GROUP BY \"OrderDetail\".\"OrderId\") AS anon_1 \n",
      "WHERE anon_1.\"MaxDiscount\" = ? GROUP BY anon_1.\"OrderId\"\n",
      "2019-04-08 14:11:53,154 INFO sqlalchemy.engine.base.Engine (0,)\n"
     ]
    },
    {
     "name": "stderr",
     "output_type": "stream",
     "text": [
      "/anaconda3/lib/python3.7/site-packages/sqlalchemy/sql/sqltypes.py:603: SAWarning: Dialect sqlite+pysqlite does *not* support Decimal objects natively, and SQLAlchemy must convert from floating point - rounding errors and other issues may occur. Please consider storing Decimal numbers as strings or integers on this platform for lossless storage.\n",
      "  'storage.' % (dialect.name, dialect.driver))\n"
     ]
    }
   ],
   "source": [
    "# query OrderDetail => grouped (aggregated) by Order (Orders have many OrderDetails)\n",
    "# sum quantities across OrderDetail that belong to same Order\n",
    "# find MaxDiscount that belong to same Order (to determine non-discounted orders, which will = 0)\n",
    "subquery = session.query(OrderDetail, \n",
    "                         func.sum(OrderDetail.Quantity).label(\"TotalQuantity\"), \n",
    "                         func.max(OrderDetail.Discount).label(\"MaxDiscount\"), \n",
    "                         func.min(OrderDetail.Discount).label(\"MinDiscount\")\n",
    "                        ).group_by(OrderDetail.OrderId).subquery()\n",
    "\n",
    "query = session.query(subquery).filter(subquery.c.MaxDiscount > 0).group_by(subquery.c.OrderId)\n",
    "discounted_orders = pd.read_sql(query.statement, engine) # 380 total\n",
    "\n",
    "# same as query above, *EXCEPT* filtering for MaxDiscount == 0\n",
    "# this way, we have orders that have no items with discounts\n",
    "subquery2 = session.query(OrderDetail, \n",
    "                         func.sum(OrderDetail.Quantity).label(\"TotalQuantity\"), \n",
    "                         func.max(OrderDetail.Discount).label(\"MaxDiscount\"), \n",
    "                         func.min(OrderDetail.Discount).label(\"MinDiscount\")\n",
    "                        ).group_by(OrderDetail.OrderId).subquery()\n",
    "\n",
    "query2 = session.query(subquery2).filter(subquery2.c.MaxDiscount == 0).group_by(subquery2.c.OrderId)\n",
    "undiscounted_orders = pd.read_sql(query2.statement, engine) # 450 total"
   ]
  },
  {
   "cell_type": "markdown",
   "metadata": {},
   "source": [
    "### Normality and Variance Checks of Both Samples"
   ]
  },
  {
   "cell_type": "code",
   "execution_count": 13,
   "metadata": {},
   "outputs": [
    {
     "name": "stderr",
     "output_type": "stream",
     "text": [
      "/anaconda3/lib/python3.7/site-packages/scipy/stats/stats.py:1713: FutureWarning: Using a non-tuple sequence for multidimensional indexing is deprecated; use `arr[tuple(seq)]` instead of `arr[seq]`. In the future this will be interpreted as an array index, `arr[np.array(seq)]`, which will result either in an error or a different result.\n",
      "  return np.add.reduce(sorted[indexer] * weights, axis=axis) / sumval\n"
     ]
    },
    {
     "data": {
      "text/plain": [
       "<matplotlib.legend.Legend at 0x1a15bce588>"
      ]
     },
     "execution_count": 13,
     "metadata": {},
     "output_type": "execute_result"
    },
    {
     "data": {
      "image/png": "[encoded data removed]",
      "text/plain": [
       "<Figure size 432x288 with 1 Axes>"
      ]
     },
     "metadata": {
      "needs_background": "light"
     },
     "output_type": "display_data"
    }
   ],
   "source": [
    "# Take a look at the distributions of these orders' quantities\n",
    "sns.distplot(discounted_orders.Quantity, label=\"Discounted Orders\")\n",
    "sns.distplot(undiscounted_orders.Quantity, label=\"Undiscounted Orders\")\n",
    "plt.legend()"
   ]
  },
  {
   "cell_type": "markdown",
   "metadata": {},
   "source": [
    "#### Confirming Non-Normality of Distributions"
   ]
  },
  {
   "cell_type": "markdown",
   "metadata": {},
   "source": [
    "#### Variance Check of Both Samples"
   ]
  },
  {
   "cell_type": "markdown",
   "metadata": {},
   "source": [
    "Here, we'll use the Shapiro-Wilk normality test, which tests if a random sample comes from a normal distribution.\n",
    "\n",
    ">Ho: Sample data is normally distributed\n",
    "\n",
    ">Ha: Sample data is not normally distributed\n",
    "\n",
    "Here, if we get a p-value less than 0.05, we have to reject our null hypothesis that the data is normally distributed, and accept that the data is not from a normal distribution.  Ideally, we want the null hypothesis to not be rejected (but, correctly!), but that rarely happens with real data and large samples.  If the null hypothesis is rejectable, then we'll have to consider repeated sampling, normalization (log), or accepting the distribution given that our sample sizes are large enough."
   ]
  },
  {
   "cell_type": "code",
   "execution_count": 14,
   "metadata": {},
   "outputs": [
    {
     "name": "stdout",
     "output_type": "stream",
     "text": [
      "p-value for discounted orders:  1.4756438800923866e-14\n",
      "p-value for undiscounted orders:  2.308488827657349e-21\n",
      "t-stat for discounted orders:  0.9065327048301697\n",
      "t-stat for undiscounted orders:  0.8325416445732117\n"
     ]
    }
   ],
   "source": [
    "shapiro_discounted = stats.shapiro(discounted_orders.Quantity)\n",
    "shapiro_undiscounted = stats.shapiro(undiscounted_orders.Quantity)\n",
    "\n",
    "# p-value for discounted orders distribution test\n",
    "print(\"p-value for discounted orders: \", shapiro_discounted[1]) \n",
    "\n",
    "# p-value for undiscounted orders distribution test\n",
    "print(\"p-value for undiscounted orders: \", shapiro_undiscounted[1])\n",
    "\n",
    "print('t-stat for discounted orders: ', shapiro_discounted[0])\n",
    "print('t-stat for undiscounted orders: ', shapiro_undiscounted[0])\n",
    "# p-value (discounted) => reject null hypothesis => not normally distributed sample\n",
    "# p-value (undiscounted) => reject null hypothesis => not normally distributed sample"
   ]
  },
  {
   "cell_type": "markdown",
   "metadata": {},
   "source": [
    "Now, we have to check if the variances of these samples are the same, and we will do this by applying the Levene test through scipy's **stats.levene()** method. \n",
    "\n",
    "> Ho: Sample variances are the same (and come from populations with equal variances)\n",
    "\n",
    "> Ha: Sample variances are not the same\n",
    "\n",
    "Ideally, again, we want the null hypothesis to not be rejected."
   ]
  },
  {
   "cell_type": "code",
   "execution_count": 15,
   "metadata": {},
   "outputs": [
    {
     "data": {
      "text/plain": [
       "LeveneResult(statistic=2.7726510597324077, pvalue=0.0962655288672859)"
      ]
     },
     "execution_count": 15,
     "metadata": {},
     "output_type": "execute_result"
    }
   ],
   "source": [
    "stats.levene(discounted_orders.Quantity, undiscounted_orders.Quantity)\n",
    "# p-value of 0.0962, above our threshold of 0.05, so *accept* null hypothesis that variances are similar\n",
    "# and conclude that the sample variances are not from populations with equal variances"
   ]
  },
  {
   "cell_type": "markdown",
   "metadata": {},
   "source": [
    "### T-Test Both Samples & Analysis"
   ]
  },
  {
   "cell_type": "code",
   "execution_count": 16,
   "metadata": {},
   "outputs": [],
   "source": [
    "# helper method to measure effect size\n",
    "# represents the magnitude of differences between two groups on a given variable\n",
    "# with larger values representing a greater differentation between two groups on that variable\n",
    "\n",
    "def pooled_var(group1, group2, col_name=None):\n",
    "    n1, n2 = len(group1), len(group2)\n",
    "    if col_name == None:\n",
    "        var1 = group1.var()\n",
    "        var2 = group2.var()\n",
    "    else:\n",
    "        var1 = group1[col_name].var()\n",
    "        var2 = group2[col_name].var()\n",
    "        \n",
    "    \n",
    "    pooled_var = (n1 * var1 + n2 * var2) / (n1 + n2)\n",
    "    \n",
    "    return pooled_var\n",
    "\n",
    "# for calculating effect size\n",
    "def cohens_d(group1, group2, col_name=None):\n",
    "    if col_name == None:\n",
    "        diff = group1.mean() - group2.mean()\n",
    "    else:\n",
    "        diff = group1[col_name].mean() - group2[col_name].mean()\n",
    "    \n",
    "    # calculate pooled threshold\n",
    "    pooled_v = pooled_var(group1, group2, col_name)\n",
    "    \n",
    "    # calculate cohen's d statistic\n",
    "    d = diff / np.sqrt(pooled_v)\n",
    "    \n",
    "    return d"
   ]
  },
  {
   "cell_type": "code",
   "execution_count": 17,
   "metadata": {},
   "outputs": [
    {
     "name": "stdout",
     "output_type": "stream",
     "text": [
      "p-value = 1.028e-07\n",
      "t-stat = 5.238\n",
      "cohen d = -0.365\n"
     ]
    }
   ],
   "source": [
    "from statsmodels.stats.weightstats import ttest_ind\n",
    "# import scipy.stats\n",
    "\n",
    "tstat, pvalue, df = ttest_ind(discounted_orders.Quantity, undiscounted_orders.Quantity, alternative='larger')\n",
    "\n",
    "# calculate pooled variance\n",
    "pooled_v = pooled_var(undiscounted_orders, discounted_orders, \"Quantity\")\n",
    "# calculate effect size using cohen's d\n",
    "cohen_d = cohens_d(undiscounted_orders, discounted_orders, \"Quantity\")\n",
    "\n",
    "print('p-value = {0:1.3e}'.format(pvalue))\n",
    "print('t-stat = {0:1.3f}'.format(tstat))\n",
    "print('cohen d = {0:1.3f}'.format(cohen_d))\n",
    "\n",
    "e = effect_size_blurb(cohen_d)"
   ]
  },
  {
   "cell_type": "markdown",
   "metadata": {
    "variables": {
     "e": "&quot;Effect size is a measurement of the strength of a relationship between two variables on a numeric scale, and Cohen&#39;s d calculates this as the difference between two means divided by a standard deviation for the combined data. Generally, 0.01 is considered very small, 0.20 small, 0.50 medium, 0.80 large, 1.20 very large, and 2.0 huge. Typically, a lower Cohen&#39;s d score indicates the need for larger sample sizes. With a cohen&#39;s d value of -0.365, we can say that the effect size is small&quot;",
     "pvalue": "1.0277048388780602e-07",
     "tstat": "5.238460432956115"
    }
   },
   "source": [
    "Given the p-value of {{pvalue}}, which is < our set significance level of 0.05, and the t-statistic of {{tstat}}, we can confidently reject the null hypothesis in favor of our alternative hypothesis.  That is, we can say that the average quantity order of discounted orders and undiscounted orders are not the same, and discounted orders have a higher average quantity of items.  \n",
    "\n",
    "{{e}}\n"
   ]
  },
  {
   "cell_type": "markdown",
   "metadata": {},
   "source": [
    "## Question 01B: Do Discount Rates Have Different Effects On Demand? Are Higher Discounts More Effective In Increasing Quantity Demanded Than Lower Discounts?"
   ]
  },
  {
   "cell_type": "markdown",
   "metadata": {},
   "source": [
    "Same scenario as before - a decrease in price, typically, results in an increase in demand.  In theory, a greater decrease in price should result in a greater increase in quantity demanded. Let's take a look at the types of discounts that have been offered."
   ]
  },
  {
   "cell_type": "markdown",
   "metadata": {},
   "source": [
    "### Query Database\n",
    "\n",
    "#### Inspect Discount Rates and Frequency"
   ]
  },
  {
   "cell_type": "code",
   "execution_count": 18,
   "metadata": {},
   "outputs": [
    {
     "name": "stdout",
     "output_type": "stream",
     "text": [
      "2019-04-08 14:12:01,795 INFO sqlalchemy.engine.base.Engine SELECT anon_1.\"Discount\", anon_1.\"DiscountCount\" \n",
      "FROM (SELECT \"OrderDetail\".\"Discount\" AS \"Discount\", count(\"OrderDetail\".\"Discount\") AS \"DiscountCount\" \n",
      "FROM \"OrderDetail\" GROUP BY \"OrderDetail\".\"Discount\") AS anon_1 ORDER BY anon_1.\"DiscountCount\" DESC\n",
      "2019-04-08 14:12:01,796 INFO sqlalchemy.engine.base.Engine ()\n",
      "Total Number of OrderDetails: 2155\n"
     ]
    },
    {
     "data": {
      "text/html": [
       "<div>\n",
       "<style scoped>\n",
       "    .dataframe tbody tr th:only-of-type {\n",
       "        vertical-align: middle;\n",
       "    }\n",
       "\n",
       "    .dataframe tbody tr th {\n",
       "        vertical-align: top;\n",
       "    }\n",
       "\n",
       "    .dataframe thead th {\n",
       "        text-align: right;\n",
       "    }\n",
       "</style>\n",
       "<table border=\"1\" class=\"dataframe\">\n",
       "  <thead>\n",
       "    <tr style=\"text-align: right;\">\n",
       "      <th></th>\n",
       "      <th>Discount</th>\n",
       "      <th>DiscountCount</th>\n",
       "    </tr>\n",
       "  </thead>\n",
       "  <tbody>\n",
       "    <tr>\n",
       "      <th>0</th>\n",
       "      <td>0.00</td>\n",
       "      <td>1317</td>\n",
       "    </tr>\n",
       "    <tr>\n",
       "      <th>1</th>\n",
       "      <td>0.05</td>\n",
       "      <td>185</td>\n",
       "    </tr>\n",
       "    <tr>\n",
       "      <th>2</th>\n",
       "      <td>0.10</td>\n",
       "      <td>173</td>\n",
       "    </tr>\n",
       "    <tr>\n",
       "      <th>3</th>\n",
       "      <td>0.20</td>\n",
       "      <td>161</td>\n",
       "    </tr>\n",
       "    <tr>\n",
       "      <th>4</th>\n",
       "      <td>0.15</td>\n",
       "      <td>157</td>\n",
       "    </tr>\n",
       "    <tr>\n",
       "      <th>5</th>\n",
       "      <td>0.25</td>\n",
       "      <td>154</td>\n",
       "    </tr>\n",
       "    <tr>\n",
       "      <th>6</th>\n",
       "      <td>0.03</td>\n",
       "      <td>3</td>\n",
       "    </tr>\n",
       "    <tr>\n",
       "      <th>7</th>\n",
       "      <td>0.02</td>\n",
       "      <td>2</td>\n",
       "    </tr>\n",
       "    <tr>\n",
       "      <th>8</th>\n",
       "      <td>0.01</td>\n",
       "      <td>1</td>\n",
       "    </tr>\n",
       "    <tr>\n",
       "      <th>9</th>\n",
       "      <td>0.04</td>\n",
       "      <td>1</td>\n",
       "    </tr>\n",
       "    <tr>\n",
       "      <th>10</th>\n",
       "      <td>0.06</td>\n",
       "      <td>1</td>\n",
       "    </tr>\n",
       "  </tbody>\n",
       "</table>\n",
       "</div>"
      ],
      "text/plain": [
       "    Discount  DiscountCount\n",
       "0       0.00           1317\n",
       "1       0.05            185\n",
       "2       0.10            173\n",
       "3       0.20            161\n",
       "4       0.15            157\n",
       "5       0.25            154\n",
       "6       0.03              3\n",
       "7       0.02              2\n",
       "8       0.01              1\n",
       "9       0.04              1\n",
       "10      0.06              1"
      ]
     },
     "execution_count": 18,
     "metadata": {},
     "output_type": "execute_result"
    }
   ],
   "source": [
    "# query OrderDetail table for Discount & count the appearances of Discount\n",
    "subquery = session.query(OrderDetail.Discount,\n",
    "                      func.count(OrderDetail.Discount).label(\"DiscountCount\")\n",
    "                     ).group_by(OrderDetail.Discount).subquery()\n",
    "\n",
    "query = session.query(subquery\n",
    "                     ).order_by(subquery.c.DiscountCount.desc())\n",
    "\n",
    "discount_counts = pd.read_sql(query.statement, engine)\n",
    "print(\"Total Number of OrderDetails:\", discount_counts.DiscountCount.sum())\n",
    "discount_counts.head(11)"
   ]
  },
  {
   "cell_type": "markdown",
   "metadata": {},
   "source": [
    "<table>\n",
    "    <thead>\n",
    "        <tr>\n",
    "            <th colspan=\"3\" style=\"text-align: center\">Out of the 2,155 OrderDetails</th>\n",
    "        </tr>\n",
    "        <tr>\n",
    "            <th># Of OrderDetails</th>\n",
    "            <th>Discount</th>\n",
    "            <th>% Of All OrderDetails</th>\n",
    "        </tr>\n",
    "    </thead>\n",
    "    <tbody>\n",
    "        <tr>\n",
    "            <td style=\"text-align: center\">1,317</td>\n",
    "            <td style=\"text-align: center\">0%</td>\n",
    "            <td style=\"text-align: center\">61.1%</td>\n",
    "        </tr>\n",
    "        <tr>\n",
    "            <td style=\"text-align: center\">185</td>\n",
    "            <td style=\"text-align: center\">5%</td>\n",
    "            <td style=\"text-align: center\">8.5%</td>\n",
    "        </tr>\n",
    "        <tr>\n",
    "            <td style=\"text-align: center\">173</td>\n",
    "            <td style=\"text-align: center\">10%</td>\n",
    "            <td style=\"text-align: center\">8.0%</td>\n",
    "        </tr>\n",
    "        <tr>\n",
    "            <td style=\"text-align: center\">161</td>\n",
    "            <td style=\"text-align: center\">20%</td>\n",
    "            <td style=\"text-align: center\">7.5%</td>\n",
    "        </tr>\n",
    "        <tr>\n",
    "            <td style=\"text-align: center\">157</td>\n",
    "            <td style=\"text-align: center\">15%</td>\n",
    "            <td style=\"text-align: center\">7.3%</td>\n",
    "        </tr>\n",
    "        <tr>\n",
    "            <td style=\"text-align: center\">154</td>\n",
    "            <td style=\"text-align: center\">25%</td>\n",
    "            <td style=\"text-align: center\">7.1%</td>\n",
    "        </tr>\n",
    "    </tbody>\n",
    "</table>"
   ]
  },
  {
   "cell_type": "markdown",
   "metadata": {},
   "source": [
    "#### Query Function To Get Orders By Discount\n",
    "\n",
    "Now that we know what kind of discount rates have been offered and their frequency, we have a better idea of what we want to query.  Here, we'll write a function that takes a discount rate as its input, queries the OrderDetail table, and aggregates quantities ordered for the given discount rate per order:"
   ]
  },
  {
   "cell_type": "code",
   "execution_count": 19,
   "metadata": {},
   "outputs": [],
   "source": [
    "# takes Discount (fraction) as input and returns TotalQuantity\n",
    "# from OrderDetails that have the chosen Discount\n",
    "def query_orders_by_discount(discount):\n",
    "    query = session.query(OrderDetail.OrderId, \n",
    "                            func.sum(OrderDetail.Quantity).label(\"TotalQuantity\")\n",
    "                            ).filter(OrderDetail.Discount == discount).group_by(OrderDetail.OrderId)\n",
    "    orders = pd.read_sql(query.statement, engine)\n",
    "    return orders"
   ]
  },
  {
   "cell_type": "code",
   "execution_count": 20,
   "metadata": {},
   "outputs": [
    {
     "name": "stdout",
     "output_type": "stream",
     "text": [
      "2019-04-08 14:12:03,731 INFO sqlalchemy.engine.base.Engine SELECT \"OrderDetail\".\"OrderId\", sum(\"OrderDetail\".\"Quantity\") AS \"TotalQuantity\" \n",
      "FROM \"OrderDetail\" \n",
      "WHERE \"OrderDetail\".\"Discount\" = ? GROUP BY \"OrderDetail\".\"OrderId\"\n",
      "2019-04-08 14:12:03,732 INFO sqlalchemy.engine.base.Engine (0,)\n",
      "2019-04-08 14:12:03,738 INFO sqlalchemy.engine.base.Engine SELECT \"OrderDetail\".\"OrderId\", sum(\"OrderDetail\".\"Quantity\") AS \"TotalQuantity\" \n",
      "FROM \"OrderDetail\" \n",
      "WHERE \"OrderDetail\".\"Discount\" = ? GROUP BY \"OrderDetail\".\"OrderId\"\n",
      "2019-04-08 14:12:03,738 INFO sqlalchemy.engine.base.Engine (0.05,)\n",
      "2019-04-08 14:12:03,743 INFO sqlalchemy.engine.base.Engine SELECT \"OrderDetail\".\"OrderId\", sum(\"OrderDetail\".\"Quantity\") AS \"TotalQuantity\" \n",
      "FROM \"OrderDetail\" \n",
      "WHERE \"OrderDetail\".\"Discount\" = ? GROUP BY \"OrderDetail\".\"OrderId\"\n",
      "2019-04-08 14:12:03,743 INFO sqlalchemy.engine.base.Engine (0.1,)\n",
      "2019-04-08 14:12:03,748 INFO sqlalchemy.engine.base.Engine SELECT \"OrderDetail\".\"OrderId\", sum(\"OrderDetail\".\"Quantity\") AS \"TotalQuantity\" \n",
      "FROM \"OrderDetail\" \n",
      "WHERE \"OrderDetail\".\"Discount\" = ? GROUP BY \"OrderDetail\".\"OrderId\"\n",
      "2019-04-08 14:12:03,748 INFO sqlalchemy.engine.base.Engine (0.15,)\n",
      "2019-04-08 14:12:03,752 INFO sqlalchemy.engine.base.Engine SELECT \"OrderDetail\".\"OrderId\", sum(\"OrderDetail\".\"Quantity\") AS \"TotalQuantity\" \n",
      "FROM \"OrderDetail\" \n",
      "WHERE \"OrderDetail\".\"Discount\" = ? GROUP BY \"OrderDetail\".\"OrderId\"\n",
      "2019-04-08 14:12:03,753 INFO sqlalchemy.engine.base.Engine (0.2,)\n",
      "2019-04-08 14:12:03,758 INFO sqlalchemy.engine.base.Engine SELECT \"OrderDetail\".\"OrderId\", sum(\"OrderDetail\".\"Quantity\") AS \"TotalQuantity\" \n",
      "FROM \"OrderDetail\" \n",
      "WHERE \"OrderDetail\".\"Discount\" = ? GROUP BY \"OrderDetail\".\"OrderId\"\n",
      "2019-04-08 14:12:03,758 INFO sqlalchemy.engine.base.Engine (0.25,)\n"
     ]
    }
   ],
   "source": [
    "discount_0 = query_orders_by_discount(0) # full-price\n",
    "discount_5 = query_orders_by_discount(0.05)\n",
    "discount_10 = query_orders_by_discount(0.10)\n",
    "discount_15 = query_orders_by_discount(0.15)\n",
    "discount_20 = query_orders_by_discount(0.20)\n",
    "discount_25 = query_orders_by_discount(0.25)"
   ]
  },
  {
   "cell_type": "code",
   "execution_count": 21,
   "metadata": {},
   "outputs": [
    {
     "data": {
      "application/vnd.jupyter.widget-view+json": {
       "model_id": "1d8da85703c94ae0ba9f4d8bdf6d86ae",
       "version_major": 2,
       "version_minor": 0
      },
      "text/plain": [
       "interactive(children=(Dropdown(description='Table', options=('0%', '5%', '10%', '15%', '20%', '25%'), value='0…"
      ]
     },
     "metadata": {},
     "output_type": "display_data"
    }
   ],
   "source": [
    "# interactive to preview what the queries returned.\n",
    "preview_select = [\"0%\", \"5%\", \"10%\", \"15%\", \"20%\", \"25%\"]\n",
    "preview_hash = {\"0%\": discount_0, \"5%\": discount_5, \"10%\": discount_10, \"15%\": discount_15, \"20%\": discount_20, \"25%\": discount_25}\n",
    "@interact\n",
    "def table_preview(Table = preview_select, Preview = ['Head','Description']):\n",
    "    df = preview_hash[Table]\n",
    "    preview_return = {'Head':df.head(10), 'Description':df.describe()}\n",
    "    out = preview_return[Preview]\n",
    "    return out"
   ]
  },
  {
   "cell_type": "markdown",
   "metadata": {},
   "source": [
    "### Normality & Variance Checks"
   ]
  },
  {
   "cell_type": "code",
   "execution_count": 22,
   "metadata": {},
   "outputs": [
    {
     "data": {
      "text/plain": [
       "<matplotlib.legend.Legend at 0x1a16228780>"
      ]
     },
     "execution_count": 22,
     "metadata": {},
     "output_type": "execute_result"
    },
    {
     "data": {
      "image/png": "[encoded data removed]",
      "text/plain": [
       "<Figure size 864x216 with 2 Axes>"
      ]
     },
     "metadata": {
      "needs_background": "light"
     },
     "output_type": "display_data"
    },
    {
     "data": {
      "image/png": "[encoded data removed]",
      "text/plain": [
       "<Figure size 864x216 with 2 Axes>"
      ]
     },
     "metadata": {
      "needs_background": "light"
     },
     "output_type": "display_data"
    },
    {
     "data": {
      "image/png": "[encoded data removed]",
      "text/plain": [
       "<Figure size 864x216 with 2 Axes>"
      ]
     },
     "metadata": {
      "needs_background": "light"
     },
     "output_type": "display_data"
    }
   ],
   "source": [
    "# Take a look at the distributions of quantities ordered at given discount rates\n",
    "fig, (ax1, ax2) = plt.subplots(1,2, figsize=(12,3))\n",
    "p = sns.distplot(discount_0.TotalQuantity, label=\"Quantities @ Full Retail\", ax=ax1)\n",
    "p.legend()\n",
    "p = sns.distplot(discount_5.TotalQuantity, label=\"Quantities @ 5% Discount\", ax=ax2)\n",
    "p.legend()\n",
    "\n",
    "fig, (ax1, ax2) = plt.subplots(1,2, figsize=(12,3))\n",
    "p = sns.distplot(discount_10.TotalQuantity, label=\"Quantities @ 10% Discount\", ax=ax1)\n",
    "p.legend()\n",
    "p = sns.distplot(discount_15.TotalQuantity, label=\"Quantities @ 15% Discount\", ax=ax2)\n",
    "p.legend()\n",
    "\n",
    "fig, (ax1, ax2) = plt.subplots(1,2, figsize=(12,3))\n",
    "p = sns.distplot(discount_20.TotalQuantity, label=\"Quantities @ 20% Discount\", ax=ax1)\n",
    "p.legend()\n",
    "p = sns.distplot(discount_25.TotalQuantity, label=\"Quantities @ 25% Discount\", ax=ax2)\n",
    "p.legend()"
   ]
  },
  {
   "cell_type": "markdown",
   "metadata": {},
   "source": [
    "#### Confirming Non-Normality of Distributions\n",
    "\n",
    "Here, we'll use the Shapiro-Wilk normality test, which tests if a random sample comes from a normal distribution.\n",
    "\n",
    ">Ho: Sample data is normally distributed\n",
    "\n",
    ">Ha: Sample data is not normally distributed"
   ]
  },
  {
   "cell_type": "code",
   "execution_count": 23,
   "metadata": {},
   "outputs": [
    {
     "name": "stdout",
     "output_type": "stream",
     "text": [
      "p-value for normality:  5.044674471569341e-44\n",
      "t-stat for normality:  0.6599211692810059\n",
      "*_*_*_*_*\n",
      "p-value for normality:  1.6800632777017265e-18\n",
      "t-stat for normality:  0.659333348274231\n",
      "*_*_*_*_*\n",
      "p-value for normality:  3.6745625975761434e-17\n",
      "t-stat for normality:  0.6594877243041992\n",
      "*_*_*_*_*\n",
      "p-value for normality:  3.798118234800944e-17\n",
      "t-stat for normality:  0.6600745916366577\n",
      "*_*_*_*_*\n",
      "p-value for normality:  6.551650292757264e-17\n",
      "t-stat for normality:  0.6601555943489075\n",
      "*_*_*_*_*\n",
      "p-value for normality:  8.058693297745585e-17\n",
      "t-stat for normality:  0.6589568853378296\n",
      "*_*_*_*_*\n"
     ]
    }
   ],
   "source": [
    "discounts_list = [discount_0, discount_5, discount_10, discount_15, discount_20, discount_25]\n",
    "for discount in discounts_list:\n",
    "    shapiro_stat = stats.shapiro(discount)\n",
    "    print(\"p-value for normality: \", shapiro_stat[1])\n",
    "    print(\"t-stat for normality: \", shapiro_stat[0])\n",
    "    print(\"*_*_*_*_*\")"
   ]
  },
  {
   "cell_type": "markdown",
   "metadata": {},
   "source": [
    "Very low p-values across the board for all ranges of discounts, so we have to reject our null hypothesis that these samples are normally distributed."
   ]
  },
  {
   "cell_type": "markdown",
   "metadata": {},
   "source": [
    "### T-Test Both Samples & Analysis\n",
    "\n",
    "With non-normally distributed samples, we are going to use the Welch's t-test again, assuming unequal variances between the discount samples"
   ]
  },
  {
   "cell_type": "code",
   "execution_count": 24,
   "metadata": {},
   "outputs": [
    {
     "data": {
      "application/vnd.jupyter.widget-view+json": {
       "model_id": "18ecad15b0fa42ce94d7129d0c74cc03",
       "version_major": 2,
       "version_minor": 0
      },
      "text/plain": [
       "interactive(children=(Dropdown(description='Discount1', options=('25%', '20%', '15%', '10%', '5%', '0%'), valu…"
      ]
     },
     "metadata": {},
     "output_type": "display_data"
    }
   ],
   "source": [
    "@interact\n",
    "# creates a dropdown to compare discount rates via Welch's t-test\n",
    "# Given that we have set the \"alternative\"=\"larger\" as a parameter to ttest_ind()\n",
    "# this means Discount1 = \"Greater Discount % \n",
    "# AKA The mean that the Alternative Hypothesis says is higher\n",
    "# Discount2 = Lower Discount or Undiscounted Orders\n",
    "def table_preview(Discount1 = ['25%', '20%', '15%', '10%', '5%', '0%'], Discount2 = ['5%','10%','15%', '20%', '25%', '0%']):\n",
    "    \n",
    "    discount_dict = {\n",
    "        '0%': discount_0,\n",
    "        '5%': discount_5, \n",
    "        '10%':discount_10, \n",
    "        '15%':discount_15, \n",
    "        '20%': discount_20, \n",
    "        '25%': discount_25\n",
    "    }\n",
    "    selected_discount_1 = discount_dict[Discount1] # defaults to first in list\n",
    "    selected_discount_2 = discount_dict[Discount2] # defaults to first in list\n",
    "    \n",
    "    tstat, pvalue, df = ttest_ind(selected_discount_1.TotalQuantity, selected_discount_2.TotalQuantity, usevar='unequal', alternative='larger')\n",
    "    \n",
    "    # calculate pooled variance\n",
    "    pooled_v = pooled_var(selected_discount_1, selected_discount_2, \"TotalQuantity\")\n",
    "    \n",
    "    # calculate effect size using cohen's d\n",
    "    cohen_d = cohens_d(selected_discount_1, selected_discount_2, \"TotalQuantity\")\n",
    "    \n",
    "    print(\"Comparing {} Discount vs. {} Discount, we get the following:\".format(Discount1, Discount2))\n",
    "    print('p-value = {0:1.3e} \\n hey'.format(pvalue))\n",
    "    print('t-stat = {0:1.3f}'.format(tstat))\n",
    "    print('cohen d = {0:1.3f}'.format(cohen_d))"
   ]
  },
  {
   "cell_type": "markdown",
   "metadata": {},
   "source": [
    "<table>\n",
    "    <thead>\n",
    "        <tr>\n",
    "            <th>Comparison</th>\n",
    "            <th>P-Value</th>\n",
    "            <th>T-Stat</th>\n",
    "            <th>Cohen's d</th>\n",
    "            <th>Accept/Reject Null</th>\n",
    "            <th>Effect Size</th>\n",
    "            <th>Conclusion</th>\n",
    "        </tr>\n",
    "    </thead>\n",
    "    <tbody>\n",
    "        <tr>\n",
    "            <td>25% vs. Full Retail</td>\n",
    "            <td>1.655e-02 </td>\n",
    "            <td>2.167</td>\n",
    "            <td>0.306</td>\n",
    "            <td>Reject Null</td>\n",
    "            <td>Small</td>\n",
    "            <td>P value below 0.05, but above; high t-stat</td>\n",
    "        </tr>\n",
    "        <tr>\n",
    "            <td>20% vs. Full Retail</td>\n",
    "            <td>1.876e-02 </td>\n",
    "            <td>2.113</td>\n",
    "            <td>0.290</td>\n",
    "            <td>Reject Null</td>\n",
    "            <td>Small</td>\n",
    "            <td>P value below 0.05; high t-stat</td>\n",
    "        </tr>\n",
    "        <tr>\n",
    "            <td>15% vs. Full Retail</td>\n",
    "            <td>1.740e-02 </td>\n",
    "            <td>2.143</td>\n",
    "            <td>0.286</td>\n",
    "            <td>Reject Null</td>\n",
    "            <td>Small/Med</td>\n",
    "            <td>P value well below 0.05; high t-stat</td>\n",
    "        </tr>\n",
    "        <tr>\n",
    "            <td>10% vs. Full Retail</td>\n",
    "            <td>1.373e-02 </td>\n",
    "            <td>2.239</td>\n",
    "            <td>0.264</td>\n",
    "            <td>Reject Null</td>\n",
    "            <td>Small</td>\n",
    "            <td>P value well below 0.05; high t-stat</td>\n",
    "        </tr>\n",
    "        <tr>\n",
    "            <td>5% vs. Full Retail</td>\n",
    "            <td>7.153e-03 </td>\n",
    "            <td>2.489</td>\n",
    "            <td>0.292</td>\n",
    "            <td>Reject Null</td>\n",
    "            <td>Small</td>\n",
    "            <td>P value well below 0.05; high t-stat</td>\n",
    "        </tr>\n",
    "        <tr>\n",
    "            <td colspan=\"7\" style='text-align: center'>Comparison of Discounts vs. 5% Discount</td>\n",
    "        </tr>\n",
    "        <tr>\n",
    "            <td>25% vs. 5%</td>\n",
    "            <td>4.572e-01</td>\n",
    "            <td>0.108</td>\n",
    "            <td>0.017</td>\n",
    "            <td>Accept Null</td>\n",
    "            <td>Very Small</td>\n",
    "            <td>High P value; low t-stat</td>\n",
    "        </tr>\n",
    "        <tr>\n",
    "            <td>20% vs. 5%</td>\n",
    "            <td>4.979e-01 </td>\n",
    "            <td>0.005</td>\n",
    "            <td>0.001</td>\n",
    "            <td>Accept Null</td>\n",
    "            <td>Very Small</td>\n",
    "            <td>High P value; very low t-stat</td>\n",
    "        </tr>\n",
    "        <tr>\n",
    "            <td>15% vs. 5%</td>\n",
    "            <td>5.080e-01</td>\n",
    "            <td>-0.020</td>\n",
    "            <td>-0.003</td>\n",
    "            <td>Accept Null</td>\n",
    "            <td>Very Small</td>\n",
    "            <td>High P value; very low t-stat</td>\n",
    "        </tr>\n",
    "        <tr>\n",
    "            <td>10% vs. 5%</td>\n",
    "            <td>5.777e-01 </td>\n",
    "            <td>-0.196</td>\n",
    "            <td>-0.031</td>\n",
    "            <td>Accept Null</td>\n",
    "            <td>Very Small</td>\n",
    "            <td>High P value; very low t-stat</td>\n",
    "        </tr>\n",
    "    </tbody>\n",
    "</table>"
   ]
  },
  {
   "cell_type": "markdown",
   "metadata": {},
   "source": [
    "Looking at the above table, we can conclude that quantities ordered with discounts of 20%, 15%, 10%, and 5% are greater than the quantities ordered at full retail price.  Additionally, we can see that at discount rates of 15%, 10%, and 5%, we have the lowest p-values and highest t-stats.  Discount rates of 15% and 10% have a small-medium effect size while the other discount rates have smaller effect sizes.  \n",
    "\n",
    "This isn't surprising - at all discount rates (excluding 25%), we see an increase in total quantities ordered compared to full-retail-priced orders.  \n",
    "\n",
    "My initial takeaway is that, potentially, the higher discount rates at 25% and 20% are an indication of product liquidation.  That is, given that we are dealing with food products, with a discount that high, it could be the case that the company was trying to get rid of extra inventory (or products that are expiring soon and will have 0 value if not sold).\n",
    "\n",
    "Additionally, with the success of 10% and 5% discount rates (and with the lowest p-values, and highest t-stats), I caution that these products may be more popular (demanded), so, when discounted, demand increases across the board. It could also be the case that these products sold at a 10% and 5% discount have a higher price elasticity of demand (small change in price results in bigger increase in demand) than the products that had higher discount rates, which could be more inelastic (changes in price have a relatively small effect on the quantity of the good demanded).\n",
    "\n",
    "Going forward, I would consider looking at products that have been sold at different discount rates, and see how the quantity demanded for these change under different discount nrates."
   ]
  },
  {
   "cell_type": "markdown",
   "metadata": {},
   "source": [
    "## Question 02: Are All Types (Categories) of Products Impacted By Discounts?"
   ]
  },
  {
   "cell_type": "markdown",
   "metadata": {},
   "source": [
    "While I've found that discounts do increase quantity demanded overall, I want to see if all the product types are affected by discounts.  If some product categories do not see a significant increase in demand, it may be more profitable to discount such categories less frequently."
   ]
  },
  {
   "cell_type": "markdown",
   "metadata": {},
   "source": [
    "### Hypothesis Statement"
   ]
  },
  {
   "cell_type": "markdown",
   "metadata": {},
   "source": [
    "For each category, the null and alternate hypothesis will be:\n",
    "\n",
    "#### Null Hypothesis\n",
    "\n",
    ">**Ho:** Discounted Mean Quantity Ordered (Category) = Undiscounted Mean Quantity Ordered (Category)\n",
    "\n",
    "#### Alternate Hypothesis\n",
    "\n",
    ">**Ha:** Discounted Mean Quantity Ordered (Category) > Undiscounted Mean Quantity Ordered (Category)\n",
    "\n",
    "\n",
    "Again, I'll have to query the database for this information.  I'll want to be able to pass a category (by id) and get the OrderDetails that have products that belong to that category, separate OrderDetails by presence of Discount, and aggregate quantities ordered."
   ]
  },
  {
   "cell_type": "markdown",
   "metadata": {},
   "source": [
    "### Database Queries"
   ]
  },
  {
   "cell_type": "code",
   "execution_count": 27,
   "metadata": {},
   "outputs": [],
   "source": [
    "# Discount = 0, Return OrderDetails Quantities where product is from category_id\n",
    "def query_undiscounted_category_quantity(category_id):\n",
    "\n",
    "    query = session.query(OrderDetail.ProductId, OrderDetail.Discount, OrderDetail.Quantity, Product.ProductName, (Category.Id).label(\"CategoryId\"), Category.CategoryName\n",
    "                         ).join(Product, Product.Id == OrderDetail.ProductId\n",
    "                               ).join(Category, Category.Id == Product.CategoryId\n",
    "                                     ).filter(OrderDetail.Discount == 0\n",
    "                                             ).filter(Category.Id == category_id\n",
    "                                                     ).order_by(OrderDetail.Quantity.desc())\n",
    "    \n",
    "    order_details = pd.read_sql(query.statement, engine)\n",
    "\n",
    "    return order_details\n",
    "\n",
    "# Discount > 0, Return OrderDetails Quantities where product is from category_id\n",
    "def query_discounted_category_quantity(category_id):\n",
    "\n",
    "    query = session.query(OrderDetail.ProductId, OrderDetail.Discount, OrderDetail.Quantity, Product.ProductName, (Category.Id).label(\"CategoryId\"), Category.CategoryName\n",
    "                         ).join(Product, Product.Id == OrderDetail.ProductId\n",
    "                               ).join(Category, Category.Id == Product.CategoryId\n",
    "                                     ).filter(OrderDetail.Discount != 0\n",
    "                                             ).filter(Category.Id == category_id\n",
    "                                                     ).order_by(OrderDetail.Quantity.desc())\n",
    "\n",
    "    order_details = pd.read_sql(query.statement, engine)\n",
    "\n",
    "    return order_details\n",
    "\n",
    "    return order_details"
   ]
  },
  {
   "cell_type": "code",
   "execution_count": 28,
   "metadata": {},
   "outputs": [
    {
     "name": "stdout",
     "output_type": "stream",
     "text": [
      "2019-04-08 14:15:07,319 INFO sqlalchemy.engine.base.Engine SELECT \"OrderDetail\".\"ProductId\", \"OrderDetail\".\"Discount\", \"OrderDetail\".\"Quantity\", \"Product\".\"ProductName\", \"Category\".\"Id\" AS \"CategoryId\", \"Category\".\"CategoryName\" \n",
      "FROM \"OrderDetail\" JOIN \"Product\" ON \"Product\".\"Id\" = \"OrderDetail\".\"ProductId\" JOIN \"Category\" ON \"Category\".\"Id\" = \"Product\".\"CategoryId\" \n",
      "WHERE \"OrderDetail\".\"Discount\" = ? AND \"Category\".\"Id\" = ? ORDER BY \"OrderDetail\".\"Quantity\" DESC\n",
      "2019-04-08 14:15:07,320 INFO sqlalchemy.engine.base.Engine (0, 1)\n",
      "2019-04-08 14:15:07,326 INFO sqlalchemy.engine.base.Engine SELECT \"OrderDetail\".\"ProductId\", \"OrderDetail\".\"Discount\", \"OrderDetail\".\"Quantity\", \"Product\".\"ProductName\", \"Category\".\"Id\" AS \"CategoryId\", \"Category\".\"CategoryName\" \n",
      "FROM \"OrderDetail\" JOIN \"Product\" ON \"Product\".\"Id\" = \"OrderDetail\".\"ProductId\" JOIN \"Category\" ON \"Category\".\"Id\" = \"Product\".\"CategoryId\" \n",
      "WHERE \"OrderDetail\".\"Discount\" != ? AND \"Category\".\"Id\" = ? ORDER BY \"OrderDetail\".\"Quantity\" DESC\n",
      "2019-04-08 14:15:07,327 INFO sqlalchemy.engine.base.Engine (0, 1)\n",
      "2019-04-08 14:15:07,333 INFO sqlalchemy.engine.base.Engine SELECT \"OrderDetail\".\"ProductId\", \"OrderDetail\".\"Discount\", \"OrderDetail\".\"Quantity\", \"Product\".\"ProductName\", \"Category\".\"Id\" AS \"CategoryId\", \"Category\".\"CategoryName\" \n",
      "FROM \"OrderDetail\" JOIN \"Product\" ON \"Product\".\"Id\" = \"OrderDetail\".\"ProductId\" JOIN \"Category\" ON \"Category\".\"Id\" = \"Product\".\"CategoryId\" \n",
      "WHERE \"OrderDetail\".\"Discount\" = ? AND \"Category\".\"Id\" = ? ORDER BY \"OrderDetail\".\"Quantity\" DESC\n",
      "2019-04-08 14:15:07,333 INFO sqlalchemy.engine.base.Engine (0, 2)\n",
      "2019-04-08 14:15:07,340 INFO sqlalchemy.engine.base.Engine SELECT \"OrderDetail\".\"ProductId\", \"OrderDetail\".\"Discount\", \"OrderDetail\".\"Quantity\", \"Product\".\"ProductName\", \"Category\".\"Id\" AS \"CategoryId\", \"Category\".\"CategoryName\" \n",
      "FROM \"OrderDetail\" JOIN \"Product\" ON \"Product\".\"Id\" = \"OrderDetail\".\"ProductId\" JOIN \"Category\" ON \"Category\".\"Id\" = \"Product\".\"CategoryId\" \n",
      "WHERE \"OrderDetail\".\"Discount\" != ? AND \"Category\".\"Id\" = ? ORDER BY \"OrderDetail\".\"Quantity\" DESC\n",
      "2019-04-08 14:15:07,340 INFO sqlalchemy.engine.base.Engine (0, 2)\n",
      "2019-04-08 14:15:07,345 INFO sqlalchemy.engine.base.Engine SELECT \"OrderDetail\".\"ProductId\", \"OrderDetail\".\"Discount\", \"OrderDetail\".\"Quantity\", \"Product\".\"ProductName\", \"Category\".\"Id\" AS \"CategoryId\", \"Category\".\"CategoryName\" \n",
      "FROM \"OrderDetail\" JOIN \"Product\" ON \"Product\".\"Id\" = \"OrderDetail\".\"ProductId\" JOIN \"Category\" ON \"Category\".\"Id\" = \"Product\".\"CategoryId\" \n",
      "WHERE \"OrderDetail\".\"Discount\" = ? AND \"Category\".\"Id\" = ? ORDER BY \"OrderDetail\".\"Quantity\" DESC\n",
      "2019-04-08 14:15:07,346 INFO sqlalchemy.engine.base.Engine (0, 3)\n",
      "2019-04-08 14:15:07,352 INFO sqlalchemy.engine.base.Engine SELECT \"OrderDetail\".\"ProductId\", \"OrderDetail\".\"Discount\", \"OrderDetail\".\"Quantity\", \"Product\".\"ProductName\", \"Category\".\"Id\" AS \"CategoryId\", \"Category\".\"CategoryName\" \n",
      "FROM \"OrderDetail\" JOIN \"Product\" ON \"Product\".\"Id\" = \"OrderDetail\".\"ProductId\" JOIN \"Category\" ON \"Category\".\"Id\" = \"Product\".\"CategoryId\" \n",
      "WHERE \"OrderDetail\".\"Discount\" != ? AND \"Category\".\"Id\" = ? ORDER BY \"OrderDetail\".\"Quantity\" DESC\n",
      "2019-04-08 14:15:07,353 INFO sqlalchemy.engine.base.Engine (0, 3)\n",
      "2019-04-08 14:15:07,359 INFO sqlalchemy.engine.base.Engine SELECT \"OrderDetail\".\"ProductId\", \"OrderDetail\".\"Discount\", \"OrderDetail\".\"Quantity\", \"Product\".\"ProductName\", \"Category\".\"Id\" AS \"CategoryId\", \"Category\".\"CategoryName\" \n",
      "FROM \"OrderDetail\" JOIN \"Product\" ON \"Product\".\"Id\" = \"OrderDetail\".\"ProductId\" JOIN \"Category\" ON \"Category\".\"Id\" = \"Product\".\"CategoryId\" \n",
      "WHERE \"OrderDetail\".\"Discount\" = ? AND \"Category\".\"Id\" = ? ORDER BY \"OrderDetail\".\"Quantity\" DESC\n",
      "2019-04-08 14:15:07,359 INFO sqlalchemy.engine.base.Engine (0, 4)\n",
      "2019-04-08 14:15:07,366 INFO sqlalchemy.engine.base.Engine SELECT \"OrderDetail\".\"ProductId\", \"OrderDetail\".\"Discount\", \"OrderDetail\".\"Quantity\", \"Product\".\"ProductName\", \"Category\".\"Id\" AS \"CategoryId\", \"Category\".\"CategoryName\" \n",
      "FROM \"OrderDetail\" JOIN \"Product\" ON \"Product\".\"Id\" = \"OrderDetail\".\"ProductId\" JOIN \"Category\" ON \"Category\".\"Id\" = \"Product\".\"CategoryId\" \n",
      "WHERE \"OrderDetail\".\"Discount\" != ? AND \"Category\".\"Id\" = ? ORDER BY \"OrderDetail\".\"Quantity\" DESC\n",
      "2019-04-08 14:15:07,366 INFO sqlalchemy.engine.base.Engine (0, 4)\n",
      "2019-04-08 14:15:07,372 INFO sqlalchemy.engine.base.Engine SELECT \"OrderDetail\".\"ProductId\", \"OrderDetail\".\"Discount\", \"OrderDetail\".\"Quantity\", \"Product\".\"ProductName\", \"Category\".\"Id\" AS \"CategoryId\", \"Category\".\"CategoryName\" \n",
      "FROM \"OrderDetail\" JOIN \"Product\" ON \"Product\".\"Id\" = \"OrderDetail\".\"ProductId\" JOIN \"Category\" ON \"Category\".\"Id\" = \"Product\".\"CategoryId\" \n",
      "WHERE \"OrderDetail\".\"Discount\" = ? AND \"Category\".\"Id\" = ? ORDER BY \"OrderDetail\".\"Quantity\" DESC\n",
      "2019-04-08 14:15:07,373 INFO sqlalchemy.engine.base.Engine (0, 5)\n",
      "2019-04-08 14:15:07,379 INFO sqlalchemy.engine.base.Engine SELECT \"OrderDetail\".\"ProductId\", \"OrderDetail\".\"Discount\", \"OrderDetail\".\"Quantity\", \"Product\".\"ProductName\", \"Category\".\"Id\" AS \"CategoryId\", \"Category\".\"CategoryName\" \n",
      "FROM \"OrderDetail\" JOIN \"Product\" ON \"Product\".\"Id\" = \"OrderDetail\".\"ProductId\" JOIN \"Category\" ON \"Category\".\"Id\" = \"Product\".\"CategoryId\" \n",
      "WHERE \"OrderDetail\".\"Discount\" != ? AND \"Category\".\"Id\" = ? ORDER BY \"OrderDetail\".\"Quantity\" DESC\n",
      "2019-04-08 14:15:07,380 INFO sqlalchemy.engine.base.Engine (0, 5)\n",
      "2019-04-08 14:15:07,385 INFO sqlalchemy.engine.base.Engine SELECT \"OrderDetail\".\"ProductId\", \"OrderDetail\".\"Discount\", \"OrderDetail\".\"Quantity\", \"Product\".\"ProductName\", \"Category\".\"Id\" AS \"CategoryId\", \"Category\".\"CategoryName\" \n",
      "FROM \"OrderDetail\" JOIN \"Product\" ON \"Product\".\"Id\" = \"OrderDetail\".\"ProductId\" JOIN \"Category\" ON \"Category\".\"Id\" = \"Product\".\"CategoryId\" \n",
      "WHERE \"OrderDetail\".\"Discount\" = ? AND \"Category\".\"Id\" = ? ORDER BY \"OrderDetail\".\"Quantity\" DESC\n",
      "2019-04-08 14:15:07,386 INFO sqlalchemy.engine.base.Engine (0, 6)\n",
      "2019-04-08 14:15:07,392 INFO sqlalchemy.engine.base.Engine SELECT \"OrderDetail\".\"ProductId\", \"OrderDetail\".\"Discount\", \"OrderDetail\".\"Quantity\", \"Product\".\"ProductName\", \"Category\".\"Id\" AS \"CategoryId\", \"Category\".\"CategoryName\" \n",
      "FROM \"OrderDetail\" JOIN \"Product\" ON \"Product\".\"Id\" = \"OrderDetail\".\"ProductId\" JOIN \"Category\" ON \"Category\".\"Id\" = \"Product\".\"CategoryId\" \n",
      "WHERE \"OrderDetail\".\"Discount\" != ? AND \"Category\".\"Id\" = ? ORDER BY \"OrderDetail\".\"Quantity\" DESC\n",
      "2019-04-08 14:15:07,393 INFO sqlalchemy.engine.base.Engine (0, 6)\n",
      "2019-04-08 14:15:07,399 INFO sqlalchemy.engine.base.Engine SELECT \"OrderDetail\".\"ProductId\", \"OrderDetail\".\"Discount\", \"OrderDetail\".\"Quantity\", \"Product\".\"ProductName\", \"Category\".\"Id\" AS \"CategoryId\", \"Category\".\"CategoryName\" \n",
      "FROM \"OrderDetail\" JOIN \"Product\" ON \"Product\".\"Id\" = \"OrderDetail\".\"ProductId\" JOIN \"Category\" ON \"Category\".\"Id\" = \"Product\".\"CategoryId\" \n",
      "WHERE \"OrderDetail\".\"Discount\" = ? AND \"Category\".\"Id\" = ? ORDER BY \"OrderDetail\".\"Quantity\" DESC\n",
      "2019-04-08 14:15:07,400 INFO sqlalchemy.engine.base.Engine (0, 7)\n",
      "2019-04-08 14:15:07,406 INFO sqlalchemy.engine.base.Engine SELECT \"OrderDetail\".\"ProductId\", \"OrderDetail\".\"Discount\", \"OrderDetail\".\"Quantity\", \"Product\".\"ProductName\", \"Category\".\"Id\" AS \"CategoryId\", \"Category\".\"CategoryName\" \n",
      "FROM \"OrderDetail\" JOIN \"Product\" ON \"Product\".\"Id\" = \"OrderDetail\".\"ProductId\" JOIN \"Category\" ON \"Category\".\"Id\" = \"Product\".\"CategoryId\" \n",
      "WHERE \"OrderDetail\".\"Discount\" != ? AND \"Category\".\"Id\" = ? ORDER BY \"OrderDetail\".\"Quantity\" DESC\n",
      "2019-04-08 14:15:07,407 INFO sqlalchemy.engine.base.Engine (0, 7)\n",
      "2019-04-08 14:15:07,413 INFO sqlalchemy.engine.base.Engine SELECT \"OrderDetail\".\"ProductId\", \"OrderDetail\".\"Discount\", \"OrderDetail\".\"Quantity\", \"Product\".\"ProductName\", \"Category\".\"Id\" AS \"CategoryId\", \"Category\".\"CategoryName\" \n",
      "FROM \"OrderDetail\" JOIN \"Product\" ON \"Product\".\"Id\" = \"OrderDetail\".\"ProductId\" JOIN \"Category\" ON \"Category\".\"Id\" = \"Product\".\"CategoryId\" \n",
      "WHERE \"OrderDetail\".\"Discount\" = ? AND \"Category\".\"Id\" = ? ORDER BY \"OrderDetail\".\"Quantity\" DESC\n",
      "2019-04-08 14:15:07,414 INFO sqlalchemy.engine.base.Engine (0, 8)\n",
      "2019-04-08 14:15:07,420 INFO sqlalchemy.engine.base.Engine SELECT \"OrderDetail\".\"ProductId\", \"OrderDetail\".\"Discount\", \"OrderDetail\".\"Quantity\", \"Product\".\"ProductName\", \"Category\".\"Id\" AS \"CategoryId\", \"Category\".\"CategoryName\" \n",
      "FROM \"OrderDetail\" JOIN \"Product\" ON \"Product\".\"Id\" = \"OrderDetail\".\"ProductId\" JOIN \"Category\" ON \"Category\".\"Id\" = \"Product\".\"CategoryId\" \n",
      "WHERE \"OrderDetail\".\"Discount\" != ? AND \"Category\".\"Id\" = ? ORDER BY \"OrderDetail\".\"Quantity\" DESC\n"
     ]
    },
    {
     "name": "stdout",
     "output_type": "stream",
     "text": [
      "2019-04-08 14:15:07,421 INFO sqlalchemy.engine.base.Engine (0, 8)\n"
     ]
    }
   ],
   "source": [
    "categories_list = [{\"Id\": 1, \"CategoryName\": \"Beverages\"}, \n",
    "                  {\"Id\": 2, \"CategoryName\": \"Condiments\"},\n",
    "                  {\"Id\": 3, \"CategoryName\": \"Confections\"},\n",
    "                  {\"Id\": 4, \"CategoryName\": \"Dairy\"},\n",
    "                  {\"Id\": 5, \"CategoryName\": \"Grains/Cereals\"},\n",
    "                  {\"Id\": 6, \"CategoryName\": \"Meat/Poultry\"},\n",
    "                  {\"Id\": 7, \"CategoryName\": \"Produce\"},\n",
    "                  {\"Id\": 8, \"CategoryName\": \"Seafood\"}\n",
    "                 ]\n",
    "\n",
    "# iterate over categories and fetch order_details\n",
    "for category in categories_list:\n",
    "    category[\"undiscounted\"] = query_undiscounted_category_quantity(category[\"Id\"])\n",
    "    category[\"discounted\"] = query_discounted_category_quantity(category[\"Id\"])"
   ]
  },
  {
   "cell_type": "code",
   "execution_count": 29,
   "metadata": {},
   "outputs": [
    {
     "data": {
      "application/vnd.jupyter.widget-view+json": {
       "model_id": "e2a3db4eb97344d6b909fd2ec20d6b7d",
       "version_major": 2,
       "version_minor": 0
      },
      "text/plain": [
       "interactive(children=(Dropdown(description='Category', options=('Beverages', 'Condiments', 'Confections', 'Dai…"
      ]
     },
     "metadata": {},
     "output_type": "display_data"
    }
   ],
   "source": [
    "category_names = [d['CategoryName'] for d in categories_list]\n",
    "discount_type = [\"discounted\", \"undiscounted\"]\n",
    "@interact\n",
    "\n",
    "def table_preview(Category = category_names, Discount = discount_type, Preview = ['Head','Description']):\n",
    "    \n",
    "    for cat in categories_list:\n",
    "        if cat[\"CategoryName\"] == Category:\n",
    "            cat_df = cat[Discount]\n",
    "    \n",
    "    preview_return = {'Head': cat_df.head(10), 'Description': cat_df.describe()}\n",
    "    \n",
    "    return preview_return[Preview]"
   ]
  },
  {
   "cell_type": "markdown",
   "metadata": {},
   "source": [
    "### Normality & Variance Checks"
   ]
  },
  {
   "cell_type": "markdown",
   "metadata": {},
   "source": [
    "Here, we'll visualize the distributions of order quantities and use the Shapiro-Wilk normality test, which tests if a random sample comes from a normal distribution.\n",
    "\n",
    ">Ho: Sample data is normally distributed\n",
    "\n",
    ">Ha: Sample data is not normally distributed"
   ]
  },
  {
   "cell_type": "code",
   "execution_count": 30,
   "metadata": {},
   "outputs": [
    {
     "data": {
      "application/vnd.jupyter.widget-view+json": {
       "model_id": "db57a66350a84eaeb7079017e3742d81",
       "version_major": 2,
       "version_minor": 0
      },
      "text/plain": [
       "interactive(children=(Dropdown(description='Category', options=('Beverages', 'Condiments', 'Confections', 'Dai…"
      ]
     },
     "metadata": {},
     "output_type": "display_data"
    }
   ],
   "source": [
    "category_names = [d['CategoryName'] for d in categories_list]\n",
    "@interact\n",
    "\n",
    "def table_preview(Category = category_names):\n",
    "    \n",
    "    # find selected category, and get dataframes of discounted and undiscounted order details\n",
    "    for cat in categories_list:\n",
    "        if cat[\"CategoryName\"] == Category:\n",
    "            cat_df_discounted = cat['discounted']\n",
    "            cat_df_undiscounted = cat['undiscounted']\n",
    "    \n",
    "    # visualize distributions of discounted and undiscounted order details for selected category\n",
    "    fig, (ax1, ax2) = plt.subplots(1,2, figsize=(12,3))\n",
    "    p = sns.distplot(cat_df_discounted.Quantity, label=\"Quantities @ Discount\", ax=ax1)\n",
    "    p.legend()\n",
    "    p = sns.distplot(cat_df_undiscounted.Quantity, label=\"Quantities @ Full Retail\", ax=ax2)\n",
    "    p.legend()\n",
    "    \n",
    "    # shapiro test for normality\n",
    "    shapiro_stat_discounted = stats.shapiro(cat_df_discounted.Quantity)\n",
    "    shapiro_stat_undiscounted = stats.shapiro(cat_df_undiscounted.Quantity)\n",
    "    \n",
    "    # p-value < 0.05 => reject null hypothesis => not normally distributed\n",
    "    if shapiro_stat_discounted[1] < 0.05:\n",
    "        p_statement_discounted = \"Reject Null Hypothesis for {} - Not Normally Distributed\".format(Category)\n",
    "    else: \n",
    "        p_statement_discounted = \"Cannot Reject Null Hypothesis for {} - Normally Distributed\".format(Category)\n",
    "        \n",
    "    # p-value < 0.05 => reject null hypothesis => not normally distributed\n",
    "    if shapiro_stat_undiscounted[1] < 0.05:\n",
    "        p_statement_undiscounted = \"Reject Null Hypothesis for {} - Not Normally Distributed\".format(Category)\n",
    "    else: \n",
    "        p_statement_undiscounted = \"Cannot Reject Null Hypothesis for {} - Normally Distributed\".format(Category)\n",
    "    \n",
    "    print(\"P-Value for Normality (Discounted): \", shapiro_stat_discounted[1])\n",
    "    print(\"T-Stat for Normality (Discounted): \", shapiro_stat_discounted[0])\n",
    "    print(p_statement_discounted)\n",
    "    print(\"\\n*_*_*_*_*_*_*_*_*_*_*_*_*\\n\")\n",
    "    print(\"P-Value for Normality (Undiscounted): \", shapiro_stat_undiscounted[1])\n",
    "    print(\"T-Stat for Normality (Undiscounted): \", shapiro_stat_undiscounted[0])\n",
    "    print(p_statement_undiscounted)"
   ]
  },
  {
   "cell_type": "markdown",
   "metadata": {},
   "source": [
    "As expected, these are not normally distributed, so I will do repeated random sampling from each category and discount/undiscounted to get a sample distribution which is normally distributed and can be used in hypothesis testing."
   ]
  },
  {
   "cell_type": "markdown",
   "metadata": {},
   "source": [
    "### Repeated Sampling\n"
   ]
  },
  {
   "cell_type": "code",
   "execution_count": 31,
   "metadata": {},
   "outputs": [],
   "source": [
    "for category in categories_list:\n",
    "    sample_discounted_dist = create_sample_distribution(category[\"discounted\"].Quantity, dist_size=500, sample_size=30)\n",
    "    sample_undiscounted_dist = create_sample_distribution(category[\"undiscounted\"].Quantity, dist_size=500, sample_size=30)\n",
    "    category[\"discounted_sample\"] = pd.DataFrame(np.array(sample_discounted_dist))\n",
    "    category[\"undiscounted_sample\"] = pd.DataFrame(np.array(sample_undiscounted_dist))"
   ]
  },
  {
   "cell_type": "code",
   "execution_count": 32,
   "metadata": {},
   "outputs": [
    {
     "data": {
      "application/vnd.jupyter.widget-view+json": {
       "model_id": "535a5d824a76442a825028a1bbd70aee",
       "version_major": 2,
       "version_minor": 0
      },
      "text/plain": [
       "interactive(children=(Dropdown(description='Category', options=('Beverages', 'Condiments', 'Confections', 'Dai…"
      ]
     },
     "metadata": {},
     "output_type": "display_data"
    }
   ],
   "source": [
    "category_names = [d['CategoryName'] for d in categories_list]\n",
    "@interact\n",
    "\n",
    "def sample_distribution_preview(Category = category_names):\n",
    "    \n",
    "    # find selected category, and get dataframes of discounted and undiscounted samples\n",
    "    for cat in categories_list:\n",
    "        if cat[\"CategoryName\"] == Category:\n",
    "            cat_df_discounted_sample = cat['discounted_sample']\n",
    "            cat_df_undiscounted_sample = cat['undiscounted_sample']\n",
    "    \n",
    "    # visualize distributions of discounted and undiscounted samples for selected category\n",
    "    fig = plt.figure(figsize=(16,6))\n",
    "    sns.distplot(cat_df_discounted_sample, label=\"Discounted Averages\")\n",
    "    sns.distplot(cat_df_undiscounted_sample, label=\"Undiscounted Averages\")\n",
    "    plt.title(\"{}: Average Quantity Ordered (Discounted vs. Undiscounted)\".format(Category))\n",
    "    plt.xlabel(\"Quantity Ordered\")\n",
    "    plt.legend()"
   ]
  },
  {
   "cell_type": "markdown",
   "metadata": {},
   "source": [
    "Sample Distributions look normally distributed. Now, I will start hypothesis testing what I have."
   ]
  },
  {
   "cell_type": "markdown",
   "metadata": {},
   "source": [
    "### T-Test Both Samples & Analysis"
   ]
  },
  {
   "cell_type": "code",
   "execution_count": 33,
   "metadata": {},
   "outputs": [
    {
     "data": {
      "application/vnd.jupyter.widget-view+json": {
       "model_id": "7beffa7dd6594b7d99ebf10d9436d70e",
       "version_major": 2,
       "version_minor": 0
      },
      "text/plain": [
       "interactive(children=(Dropdown(description='Category', options=('Beverages', 'Condiments', 'Confections', 'Dai…"
      ]
     },
     "metadata": {},
     "output_type": "display_data"
    }
   ],
   "source": [
    "category_names = [d['CategoryName'] for d in categories_list]\n",
    "@interact\n",
    "\n",
    "def ttest_category(Category = category_names):\n",
    "    \n",
    "    for cat in categories_list:\n",
    "        if cat[\"CategoryName\"] == Category:\n",
    "            cat_discounted_sample_distribution = cat['discounted_sample']\n",
    "            cat_undiscounted_sample_distribution = cat['undiscounted_sample']\n",
    "    \n",
    "    tstat, pvalue, df = ttest_ind(cat_discounted_sample_distribution, cat_undiscounted_sample_distribution, usevar='unequal', alternative='larger')\n",
    "    \n",
    "    # calculate pooled variance\n",
    "    pooled_v = pooled_var(cat_discounted_sample_distribution, cat_undiscounted_sample_distribution)\n",
    "    \n",
    "    # calculate effect size using cohen's d\n",
    "    cohen_d = cohens_d(cat_discounted_sample_distribution, cat_undiscounted_sample_distribution)\n",
    "    \n",
    "    print(\"Comparing Discount vs. Uniscounted, we get the following:\")\n",
    "    print('p-value = {0:1.3e}'.format(pvalue[0]))\n",
    "    print('t-stat = {0:1.3f}'.format(tstat[0]))\n",
    "    print('cohen d = {0:1.3f}'.format(cohen_d[0]))"
   ]
  },
  {
   "cell_type": "markdown",
   "metadata": {},
   "source": [
    "#### T-Test Results"
   ]
  },
  {
   "cell_type": "markdown",
   "metadata": {},
   "source": [
    "<table>\n",
    "    <thead>\n",
    "        <tr>\n",
    "            <th>Category</th>\n",
    "            <th>P-Value</th>\n",
    "            <th>T-Stat</th>\n",
    "            <th>Cohen's d</th>\n",
    "            <th>Accept/Reject Null</th>\n",
    "            <th>Effect Size</th>\n",
    "        </tr>\n",
    "    </thead>\n",
    "    <tbody>\n",
    "        <tr>\n",
    "            <td>Beverages</td>\n",
    "            <td>4.291e-141</td>\n",
    "            <td>30.318</td>\n",
    "            <td>1.917</td>\n",
    "            <td>Reject Null</td>\n",
    "            <td>Very Large</td>\n",
    "        </tr>\n",
    "        <tr>\n",
    "            <td>Condiments</td>\n",
    "            <td>5.968e-163</td>\n",
    "            <td>34.643</td>\n",
    "            <td>2.191</td>\n",
    "            <td>Reject Null</td>\n",
    "            <td>Very Large</td>\n",
    "        </tr>\n",
    "        <tr>\n",
    "            <td>Confections</td>\n",
    "            <td>4.064e-13</td>\n",
    "            <td>7.254</td>\n",
    "            <td>0.459</td>\n",
    "            <td>Reject Null</td>\n",
    "            <td>Medium</td>\n",
    "        </tr>\n",
    "        <tr>\n",
    "            <td>Dairy</td>\n",
    "            <td>5.303e-161</td>\n",
    "            <td>33.044</td>\n",
    "            <td>2.090</td>\n",
    "            <td>Reject Null</td>\n",
    "            <td>Very Large</td>\n",
    "        </tr>\n",
    "        <tr>\n",
    "            <td>Grains/Cereal</td>\n",
    "            <td>3.331e-19</td>\n",
    "            <td>9.062</td>\n",
    "            <td>0.573</td>\n",
    "            <td>Reject Null</td>\n",
    "            <td>Medium</td>\n",
    "        </tr>\n",
    "        <tr>\n",
    "            <td>Meat/Poultry</td>\n",
    "            <td>9.306e-144</td>\n",
    "            <td>30.460</td>\n",
    "            <td>1.926</td>\n",
    "            <td>Reject Null</td>\n",
    "            <td>Very Large</td>\n",
    "        </tr>\n",
    "        <tr>\n",
    "            <td>Produce</td>\n",
    "            <td>5.545e-45</td>\n",
    "            <td>14.787</td>\n",
    "            <td>0.935</td>\n",
    "            <td>Reject Null</td>\n",
    "            <td>Large</td>\n",
    "        </tr>\n",
    "        <tr>\n",
    "            <td>Seafood</td>\n",
    "            <td>6.259e-82</td>\n",
    "            <td>21.041</td>\n",
    "            <td>1.331</td>\n",
    "            <td>Reject Null</td>\n",
    "            <td>Large</td>\n",
    "        </tr>\n",
    "    </tbody>\n",
    "</table>"
   ]
  },
  {
   "cell_type": "markdown",
   "metadata": {},
   "source": [
    "#### Analysis"
   ]
  },
  {
   "cell_type": "markdown",
   "metadata": {},
   "source": [
    "All categories saw a statistically significant increase in quantities ordered when discounted.  \n",
    "\n",
    "Beverages, Condiments, Dairy, and Meat/Poultry have a **very large** effect size and t-stats, while Produce and Seafood have a **large** effect size, and Confections and Grains/Cereals have a **Medium** effect size.\n",
    "\n",
    "For the next test, I want to compare the increase in quantities demanded across categories, to see if certain categories of products have a greater price elasticity of demand.  That is, I want to see if the % change in Quantity Demanded for Category A is greater than the % change in Quantity Demanded for Category B.  If I can find categories that have a greater price elasticity of demand, this might be something the executive team would want to consider when applying future discounts, because, assuming prices are relatively similar, you would want to discount products that will see a greater % increase in demand."
   ]
  },
  {
   "cell_type": "markdown",
   "metadata": {},
   "source": [
    "## Question 03:  Do Certain Categories of Products Have A Higher Price Elasticity of Demand?"
   ]
  },
  {
   "cell_type": "markdown",
   "metadata": {},
   "source": [
    "### Hypothesis Statement"
   ]
  },
  {
   "cell_type": "markdown",
   "metadata": {},
   "source": [
    "#### Null Hypothesis\n",
    "\n",
    ">**Ho:** The % Change In Quantity Demanded of Category A When Discounted = The % Change In Quantity Demanded of Category B When Discounted\n",
    "\n",
    "#### Alternate Hypothesis\n",
    "\n",
    ">**Ha:** The % Change In Quantity Demanded of Category A When Discounted > The % Change In Quantity Demanded of Category B When Discounted\n",
    "\n",
    "To analyze this, I will follow the same process as the previous test, but I will be calculating the mean change in quantities demanded (Qdiscounted - Qundiscounted).  Since categories will have different ranges of quantities demanded, I will scale them so that the % change in demand is comparable.\n",
    "\n",
    "As a starting point, I will initially compare Beverages & Condiments (which had large effect sizes) vs. Confections & Grains/Cereal (which had medium effect sizes).  If this goes smoothly, I'll compare Meat/Poultry & Seafood becausse they are more similar products."
   ]
  },
  {
   "cell_type": "markdown",
   "metadata": {},
   "source": [
    "### Prepare Data"
   ]
  },
  {
   "cell_type": "code",
   "execution_count": 34,
   "metadata": {},
   "outputs": [],
   "source": [
    "# use the previous samples, but creating a copy\n",
    "sample_cats = categories_list.copy()"
   ]
  },
  {
   "cell_type": "markdown",
   "metadata": {},
   "source": [
    "Given that the original (undiscounted) quantities of each of these categories is different, I need to scale them so that, when I compare them, I am comparing them properly.  That is, hypothetically, for example:\n",
    "\n",
    "Beverages Quantity Demanded: 20/order\n",
    "\n",
    "Beverages Quantity Demanded (Discounted): 30/order\n",
    "\n",
    "Mean Difference: 10/order\n",
    "\n",
    "Condiments Quantity Demanded: 100/order\n",
    "\n",
    "Condiments Quantity Demanded (Discounted): 115/order\n",
    "\n",
    "Mean Difference: 15/order\n",
    "\n",
    "It would be inaccurate to compare (10/order - 15/order) and say that the change in quantity demanded for condiments was greater, because when compared to the original quantity demanded, condiments only goes up 15% while beverages goes up 50%.  Therefore, I will be dividing the difference in quantities ordered by the original (undiscounted) mean, so that the result is the rate of change.\n",
    "\n",
    "Ex: (discounted_quantity_means - undiscounted_quantity_means) / undiscounted_quantity_means"
   ]
  },
  {
   "cell_type": "code",
   "execution_count": 35,
   "metadata": {},
   "outputs": [],
   "source": [
    "# calculate quantity demanged rate (of change)\n",
    "def calculate_qd_rate(category):\n",
    "    undiscounted, discounted = np.array(category[\"undiscounted_sample\"]), np.array(category[\"discounted_sample\"])\n",
    "    undiscounted_mean = np.mean(undiscounted)\n",
    "    rate_of_change = (discounted - undiscounted)/undiscounted_mean\n",
    "    category[\"rate_of_change_sample\"] = rate_of_change"
   ]
  },
  {
   "cell_type": "code",
   "execution_count": 36,
   "metadata": {},
   "outputs": [],
   "source": [
    "for cat in sample_cats:\n",
    "    calculate_qd_rate(cat) # add a key/value that holds sample distribution of rate change in QD"
   ]
  },
  {
   "cell_type": "markdown",
   "metadata": {},
   "source": [
    "### Visualize Distributions of QD Rate of Change"
   ]
  },
  {
   "cell_type": "code",
   "execution_count": 37,
   "metadata": {},
   "outputs": [
    {
     "data": {
      "application/vnd.jupyter.widget-view+json": {
       "model_id": "4bf1045a20e748afabce3347bc7c3f9c",
       "version_major": 2,
       "version_minor": 0
      },
      "text/plain": [
       "interactive(children=(Dropdown(description='Category', options=('Beverages', 'Condiments', 'Confections', 'Dai…"
      ]
     },
     "metadata": {},
     "output_type": "display_data"
    }
   ],
   "source": [
    "category_names = [d['CategoryName'] for d in sample_cats]\n",
    "category_names2 = category_names[::-1] # reversed\n",
    "@interact\n",
    "\n",
    "def sample_distribution_preview(Category = category_names, Category2 = category_names2):\n",
    "    \n",
    "    for cat in sample_cats:\n",
    "        if cat[\"CategoryName\"] == Category:\n",
    "            rate_sample = cat[\"rate_of_change_sample\"]\n",
    "    for cat in sample_cats:\n",
    "        if cat[\"CategoryName\"] == Category2: \n",
    "            rate_sample2 = cat[\"rate_of_change_sample\"]\n",
    "    \n",
    "    # visualize distributions of discounted and undiscounted samples for selected category\n",
    "    fig = plt.figure(figsize=(16,4))\n",
    "    sns.distplot(rate_sample, label=\"% Change QD Distribution ({})\".format(Category))\n",
    "    sns.distplot(rate_sample2, label=\"% Change QD Distribution ({})\".format(Category2))\n",
    "    plt.title(\"Sample Distributions of % QD Change for Discounted vs. Undiscounted\".format(Category))\n",
    "    plt.xlabel(\"% Change Quantity Ordered\")\n",
    "    plt.legend()"
   ]
  },
  {
   "cell_type": "markdown",
   "metadata": {},
   "source": [
    "It is clear (visually) that some categories have a greater price elasticity of demand, which makes sense as the effect sizes from the previous example hinted (Grans/Cereals had a smaller effect size than Beverages, and here, it looks like Beverages saw a greater increase in quantity demand).  So, let's test this out now."
   ]
  },
  {
   "cell_type": "markdown",
   "metadata": {},
   "source": [
    "### T-Test Rate of Change Between Categories & Analysis"
   ]
  },
  {
   "cell_type": "markdown",
   "metadata": {},
   "source": [
    "#### T-Test"
   ]
  },
  {
   "cell_type": "code",
   "execution_count": 38,
   "metadata": {},
   "outputs": [
    {
     "data": {
      "application/vnd.jupyter.widget-view+json": {
       "model_id": "1f2343c41a85446fa01f78c4f54c95cf",
       "version_major": 2,
       "version_minor": 0
      },
      "text/plain": [
       "interactive(children=(Dropdown(description='Category1', options=('Beverages', 'Condiments', 'Confections', 'Da…"
      ]
     },
     "metadata": {},
     "output_type": "display_data"
    }
   ],
   "source": [
    "category_names = [d['CategoryName'] for d in sample_cats]\n",
    "category_names2 = category_names[::-1] # reversed\n",
    "\n",
    "@interact\n",
    "\n",
    "def ttest_category_change(Category1 = category_names, Category2 = category_names2):\n",
    "    \n",
    "    for cat in sample_cats:\n",
    "        if cat[\"CategoryName\"] == Category1:\n",
    "            cat1 = cat\n",
    "            qd_rate_change_distribution1 = cat[\"rate_of_change_sample\"]\n",
    "    for cat in sample_cats:\n",
    "        if cat[\"CategoryName\"] == Category2:\n",
    "            cat2 = cat\n",
    "            qd_rate_change_distribution2 = cat[\"rate_of_change_sample\"]\n",
    "    \n",
    "    # assumed larger change passed in first\n",
    "    # so Ha would be distribution1 % Change > distribution2 % Change\n",
    "    tstat, pvalue, df = ttest_ind(qd_rate_change_distribution1, qd_rate_change_distribution2, usevar='unequal', alternative='larger')\n",
    "    \n",
    "    # calculate pooled variance\n",
    "    pooled_v = pooled_var(qd_rate_change_distribution1, qd_rate_change_distribution2)\n",
    "    \n",
    "    # calculate effect size using cohen's d\n",
    "    cohen_d = cohens_d(qd_rate_change_distribution1, qd_rate_change_distribution2)\n",
    "    \n",
    "    print(\"Comparing {} QD % Change vs. {} QD % Change:\".format(Category1, Category2))\n",
    "    print('p-value =    {0:1.3e}'.format(pvalue[0]))\n",
    "    print('t-stat =     {0:1.3f}'.format(tstat[0]))\n",
    "    print('cohen d =    {0:1.3f}'.format(cohen_d))"
   ]
  },
  {
   "cell_type": "markdown",
   "metadata": {},
   "source": [
    "#### Analysis"
   ]
  },
  {
   "cell_type": "markdown",
   "metadata": {},
   "source": [
    "It will be too time consuming to add all the possible combinations of comparison into the table below, so I will selectively choose a couple comparisons.  However, one can easily compare two categories above.\n",
    "\n",
    "Note: Given that I am using a T-Test with the param alternative=larger (which means that the alternative hypothesis is >, and not merely that the means are unequal), **Category1** is what a statistically significant, low p-value would conclude is larger.\n",
    "\n",
    "So if you want to test the (alternate) hypothesis that QD % change in Seafood is greater than the QD % change in Meat/Poultry, you would set Category1 as Seafood and Category2 as Meat/Poultry.  And if you wanted to test the (alternate) hypothesis that QD % change in Meat/Poultry is greater than QD % change in Seafood, you would set Category1 as Meat/Poultry and Category2 as Seafood."
   ]
  },
  {
   "cell_type": "markdown",
   "metadata": {},
   "source": [
    "<table>\n",
    "    <thead>\n",
    "        <tr>\n",
    "            <th style='text-align: center'>Ho</th>\n",
    "            <th style='text-align: center'>Ha</th>\n",
    "            <th style='text-align: center'>P-Value</th>\n",
    "            <th style='text-align: center'>T-Stat</th>\n",
    "            <th style='text-align: center'>Cohen's d</th>\n",
    "            <th style='text-align: center'>Accept/Reject Null</th>\n",
    "        </tr>\n",
    "    </thead>\n",
    "    <tbody>\n",
    "        <tr>\n",
    "            <td style='text-align: left'>Beverage QD % = Condiment QD %</td>\n",
    "            <td style='text-align: left'>Beverage QD % > Condiment QD %</td>\n",
    "            <td>1.000e+00</td>\n",
    "            <td>-5.038</td>\n",
    "            <td>-0.319</td>\n",
    "            <td>Accept</td>\n",
    "        </tr>\n",
    "        <tr>\n",
    "            <td style='text-align: left'>Beverage QD % = Dairy QD %</td>\n",
    "            <td style='text-align: left'>Beverage QD % > Dairy QD %</td>\n",
    "            <td>1.276e-01</td>\n",
    "            <td>1.139</td>\n",
    "            <td>0.072</td>\n",
    "            <td>Accept</td>\n",
    "        </tr>\n",
    "        <tr>\n",
    "            <td style='text-align: left'>Beverage QD % = Meat/Poultry QD %</td>\n",
    "            <td style='text-align: left'>Beverage QD % > Meat/Poultry QD %</td>\n",
    "            <td>1.000e+00</td>\n",
    "            <td>-5.618</td>\n",
    "            <td>-0.356</td>\n",
    "            <td>Accept</td>\n",
    "        </tr>\n",
    "        <tr>\n",
    "            <td style='text-align: left'>Beverage QD % = Seafood QD %</td>\n",
    "            <td style='text-align: left'>Beverage QD % > Seafood QD %</td>\n",
    "            <td>1.922e-33</td>\n",
    "            <td>12.469</td>\n",
    "            <td>0.789</td>\n",
    "            <td>Reject</td>\n",
    "        </tr>\n",
    "        <tr>\n",
    "            <td style='text-align: left'>Beverage QD % = Produce QD %</td>\n",
    "            <td style='text-align: left'>Beverage QD % > Produce QD %</td>\n",
    "            <td>8.423e-53</td>\n",
    "            <td>16.201</td>\n",
    "            <td>1.026</td>\n",
    "            <td>Reject</td>\n",
    "        </tr>\n",
    "        <tr><td colspan=\"6\"></td></tr>\n",
    "        <tr>\n",
    "            <td style='text-align: left'>Condiments QD % = Beverage QD %</td>\n",
    "            <td style='text-align: left'>Condiments QD % > Beverage QD %</td>\n",
    "            <td>2.816e-07</td>\n",
    "            <td>5.038</td>\n",
    "            <td>0.319</td>\n",
    "            <td>Reject</td>\n",
    "        </tr>\n",
    "        <tr>\n",
    "            <td style='text-align: left'>Condiments QD % = Meat/Poultry QD %</td>\n",
    "            <td style='text-align: left'>Condiments QD % > Meat/Poultry QD %</td>\n",
    "            <td>3.238e-01</td>\n",
    "            <td>0.457</td>\n",
    "            <td>0.029</td>\n",
    "            <td>Accept</td>\n",
    "        </tr>\n",
    "        <tr>\n",
    "            <td style='text-align: left'>Condiments QD % = Dairy QD %</td>\n",
    "            <td style='text-align: left'>Condiments QD % > Dairy QD %</td>\n",
    "            <td>3.739e-10</td>\n",
    "            <td>6.223</td>\n",
    "            <td>0.394</td>\n",
    "            <td>Reject</td>\n",
    "        </tr>\n",
    "        <tr>\n",
    "            <td style='text-align: left'>Condiments QD % = Seafood QD %</td>\n",
    "            <td style='text-align: left'>Condiments QD % > Seafood QD %</td>\n",
    "            <td>2.626e-51</td>\n",
    "            <td>16.106</td>\n",
    "            <td>1.020</td>\n",
    "            <td>Reject</td>\n",
    "        </tr>\n",
    "        <tr><td colspan=\"6\"></td></tr>\n",
    "        <tr>\n",
    "            <td style='text-align: left'>Meat/Poultry QD % = Beverage QD %</td>\n",
    "            <td style='text-align: left'>Meat/Poultry QD % > Beverage QD %</td>\n",
    "            <td>1.257e-08</td>\n",
    "            <td>5.618</td>\n",
    "            <td>0.356</td>\n",
    "            <td>Reject</td>\n",
    "        </tr>\n",
    "        <tr>\n",
    "            <td style='text-align: left'>Meat/Poultry QD % = Dairy QD %</td>\n",
    "            <td style='text-align: left'>Meat/Poultry QD % > Dairy QD %</td>\n",
    "            <td>6.542e-13</td>\n",
    "            <td>7.186</td>\n",
    "            <td>0.455</td>\n",
    "            <td>Reject</td>\n",
    "        </tr>\n",
    "        <tr>\n",
    "            <td style='text-align: left'>Meat/Poultry QD % = Condiments QD %</td>\n",
    "            <td style='text-align: left'>Meat/Poultry QD % > Condiments QD %</td>\n",
    "            <td>6.762e-01</td>\n",
    "            <td>-0.457</td>\n",
    "            <td>-0.029</td>\n",
    "            <td>Accept</td>\n",
    "        </tr>\n",
    "        <tr><td colspan=\"6\"></td></tr>\n",
    "        <tr>\n",
    "            <td style='text-align: left'>Dairy QD % = Beverage QD %</td>\n",
    "            <td style='text-align: left'>Dairy QD % > Beverage QD %</td>\n",
    "            <td>8.724e-01</td>\n",
    "            <td>-1.139</td>\n",
    "            <td>-0.072</td>\n",
    "            <td>Accept</td>\n",
    "        </tr>    \n",
    "    </tbody>\n",
    "</table>"
   ]
  },
  {
   "cell_type": "markdown",
   "metadata": {},
   "source": [
    "From the previous hypothesis test, we saw that the effect sizes were greatest for Beverages, Condiment, Dairy, & Meat/Poultry, so I focused on comparing these to see which had the greatest % change in quantity demanded.\n",
    "\n",
    "Beverage clearly saw a greater increase in QD than Seafood and Produce (as did Condiment, Dairy, Meat/Poultry but not shown in the table).  \n",
    "\n",
    "Meat/Poultry and Condiments had the greatest effect size from the previous test, and in this test, I could not show with statistical significance that one changed at a greater rate than the other.\n",
    "\n",
    "Of the categories that saw the greatest % increase in QD, Condiments & Meat/Poultry had a statistically significant greater increase than Beverage and Dairy, but all four, when compared to the other categories, showed a statistically significant higher price elasticity of demand.\n",
    "\n",
    "#### Takeaway\n",
    "\n",
    "If the company is looking to offer new discounts, or reappropriate discounts, they should focus their discounts in Condiments, Meat/Poultry, Beverage, & Dairy.  While every category sees an uptick in quantity demanded when discounted, these four categories see a greater increase relative to their respective original quantity demanded.  The company could consider offering fewer discounts in Seafood, Produce, Confections, and Grains/Cereal and more discounts in the categories with a higher price elasticity of demand.  Confections and Grains/Cereal saw the smallest increase in demand.\n",
    "\n",
    "That being said, this is not an end-all recommendation.  A greater increase in quantity demanded is moot if those products are significantly cheaper.  It is much more important to see a 5% increase in products that sell for \\\\$1000 than to see a \\\\20% increase  in products that sell for \\\\$10. \n",
    "\n",
    "#### Future Work\n",
    "\n",
    "It would be interesting to incorporate the unit prices with these quantities (UnitPrice x Quantity) to see what the change is in overall revenue. "
   ]
  },
  {
   "cell_type": "markdown",
   "metadata": {},
   "source": [
    "## Question 04: Are All (Customer) Regions Impacted By Discounts?"
   ]
  },
  {
   "cell_type": "markdown",
   "metadata": {},
   "source": [
    "### Hypothesis Statement"
   ]
  },
  {
   "cell_type": "markdown",
   "metadata": {},
   "source": [
    "The main question I will look at is if customers are equally responsive to discounts.  That is, do customers average quantity ordered increase by the same rate when discounted.  This is similar to the previous category comparison, except I'll be looking at changes in demand by region.\n",
    "\n",
    "For each of the top regions, the null and alternate hypothesis will be:\n",
    "\n",
    "#### Null Hypothesis\n",
    "\n",
    ">**Ho:** Discounted Mean Quantity Ordered (Region) = Undiscounted Mean Quantity Ordered (Region)\n",
    "\n",
    "#### Alternate Hypothesis\n",
    "\n",
    ">**Ha:** Discounted Mean Quantity Ordered (Region) > Undiscounted Mean Quantity Ordered (Region)\n"
   ]
  },
  {
   "cell_type": "markdown",
   "metadata": {},
   "source": [
    "### Query Database & Group Discount/Undiscounted by Region"
   ]
  },
  {
   "cell_type": "markdown",
   "metadata": {},
   "source": [
    "#### Peek at Regions & Customer Counts"
   ]
  },
  {
   "cell_type": "code",
   "execution_count": 39,
   "metadata": {},
   "outputs": [
    {
     "name": "stdout",
     "output_type": "stream",
     "text": [
      "2019-04-08 14:15:13,971 INFO sqlalchemy.engine.base.Engine SELECT \"Customer\".\"Region\" \n",
      "FROM \"Customer\"\n",
      "2019-04-08 14:15:13,972 INFO sqlalchemy.engine.base.Engine ()\n",
      "Western Europe     28\n",
      "South America      16\n",
      "North America      16\n",
      "Southern Europe    10\n",
      "British Isles       8\n",
      "Central America     5\n",
      "Northern Europe     4\n",
      "Scandinavia         3\n",
      "Eastern Europe      1\n",
      "Name: Region, dtype: int64\n"
     ]
    }
   ],
   "source": [
    "# Query the Customers table for the list of Regions (there's < 10)\n",
    "\n",
    "region_query = session.query(Customer.Region)\n",
    "region_df = pd.read_sql(region_query.statement, engine)\n",
    "print(region_df.Region.value_counts())\n",
    "\n",
    "# create list of dictionaries that will hold region orders data\n",
    "# only taking the larger regions by customer count\n",
    "top_regions_list = [{\"Region\": \"Western Europe\", \"Customers\": 28},\n",
    "           {\"Region\": \"South America\", \"Customers\": 16},\n",
    "           {\"Region\": \"North America\", \"Customers\": 16},\n",
    "           {\"Region\": \"Southern Europe\", \"Customers\": 10},\n",
    "           {\"Region\": \"British Isles\", \"Customers\": 8},\n",
    "          ]"
   ]
  },
  {
   "cell_type": "markdown",
   "metadata": {},
   "source": [
    "#### Function to Query Database By Region for Discounted/Undiscounted OrderDetails"
   ]
  },
  {
   "cell_type": "code",
   "execution_count": 40,
   "metadata": {},
   "outputs": [],
   "source": [
    "# Query OrderDetails, Filter Discount != 0, Join Order & Customer Table to get Region and filter for Region\n",
    "def query_undiscounted_region_quantity(region_name):\n",
    "\n",
    "    query = session.query(OrderDetail.Discount, OrderDetail.Quantity, Customer.Region\n",
    "        ).join(Order, Order.Id == OrderDetail.OrderId\n",
    "        ).join(Customer, Customer.Id == Order.CustomerId\n",
    "        ).filter(OrderDetail.Discount == 0, Customer.Region == region_name\n",
    "        ).order_by(OrderDetail.Quantity.desc())\n",
    "    \n",
    "    order_details_by_region = pd.read_sql(query.statement, engine)\n",
    "    \n",
    "    return order_details_by_region\n",
    "\n",
    "# Query OrderDetails, Filter Discount != 0, Join Order & Customer Table to get Region and filter for Region\n",
    "def query_discounted_region_quantity(region_name):\n",
    "\n",
    "    query = session.query(OrderDetail.Discount, OrderDetail.Quantity, Customer.Region\n",
    "        ).join(Order, Order.Id == OrderDetail.OrderId\n",
    "        ).join(Customer, Customer.Id == Order.CustomerId\n",
    "        ).filter(OrderDetail.Discount != 0, Customer.Region == region_name\n",
    "        ).order_by(OrderDetail.Quantity.desc())\n",
    "    \n",
    "    order_details_by_region = pd.read_sql(query.statement, engine)\n",
    "    \n",
    "    return order_details_by_region"
   ]
  },
  {
   "cell_type": "code",
   "execution_count": 41,
   "metadata": {},
   "outputs": [
    {
     "name": "stdout",
     "output_type": "stream",
     "text": [
      "2019-04-08 14:15:16,763 INFO sqlalchemy.engine.base.Engine SELECT \"OrderDetail\".\"Discount\", \"OrderDetail\".\"Quantity\", \"Customer\".\"Region\" \n",
      "FROM \"OrderDetail\" JOIN \"Order\" ON \"Order\".\"Id\" = \"OrderDetail\".\"OrderId\" JOIN \"Customer\" ON \"Customer\".\"Id\" = \"Order\".\"CustomerId\" \n",
      "WHERE \"OrderDetail\".\"Discount\" = ? AND \"Customer\".\"Region\" = ? ORDER BY \"OrderDetail\".\"Quantity\" DESC\n",
      "2019-04-08 14:15:16,764 INFO sqlalchemy.engine.base.Engine (0, 'Western Europe')\n",
      "2019-04-08 14:15:16,770 INFO sqlalchemy.engine.base.Engine SELECT \"OrderDetail\".\"Discount\", \"OrderDetail\".\"Quantity\", \"Customer\".\"Region\" \n",
      "FROM \"OrderDetail\" JOIN \"Order\" ON \"Order\".\"Id\" = \"OrderDetail\".\"OrderId\" JOIN \"Customer\" ON \"Customer\".\"Id\" = \"Order\".\"CustomerId\" \n",
      "WHERE \"OrderDetail\".\"Discount\" != ? AND \"Customer\".\"Region\" = ? ORDER BY \"OrderDetail\".\"Quantity\" DESC\n",
      "2019-04-08 14:15:16,771 INFO sqlalchemy.engine.base.Engine (0, 'Western Europe')\n",
      "2019-04-08 14:15:16,778 INFO sqlalchemy.engine.base.Engine SELECT \"OrderDetail\".\"Discount\", \"OrderDetail\".\"Quantity\", \"Customer\".\"Region\" \n",
      "FROM \"OrderDetail\" JOIN \"Order\" ON \"Order\".\"Id\" = \"OrderDetail\".\"OrderId\" JOIN \"Customer\" ON \"Customer\".\"Id\" = \"Order\".\"CustomerId\" \n",
      "WHERE \"OrderDetail\".\"Discount\" = ? AND \"Customer\".\"Region\" = ? ORDER BY \"OrderDetail\".\"Quantity\" DESC\n",
      "2019-04-08 14:15:16,778 INFO sqlalchemy.engine.base.Engine (0, 'South America')\n",
      "2019-04-08 14:15:16,785 INFO sqlalchemy.engine.base.Engine SELECT \"OrderDetail\".\"Discount\", \"OrderDetail\".\"Quantity\", \"Customer\".\"Region\" \n",
      "FROM \"OrderDetail\" JOIN \"Order\" ON \"Order\".\"Id\" = \"OrderDetail\".\"OrderId\" JOIN \"Customer\" ON \"Customer\".\"Id\" = \"Order\".\"CustomerId\" \n",
      "WHERE \"OrderDetail\".\"Discount\" != ? AND \"Customer\".\"Region\" = ? ORDER BY \"OrderDetail\".\"Quantity\" DESC\n",
      "2019-04-08 14:15:16,786 INFO sqlalchemy.engine.base.Engine (0, 'South America')\n",
      "2019-04-08 14:15:16,791 INFO sqlalchemy.engine.base.Engine SELECT \"OrderDetail\".\"Discount\", \"OrderDetail\".\"Quantity\", \"Customer\".\"Region\" \n",
      "FROM \"OrderDetail\" JOIN \"Order\" ON \"Order\".\"Id\" = \"OrderDetail\".\"OrderId\" JOIN \"Customer\" ON \"Customer\".\"Id\" = \"Order\".\"CustomerId\" \n",
      "WHERE \"OrderDetail\".\"Discount\" = ? AND \"Customer\".\"Region\" = ? ORDER BY \"OrderDetail\".\"Quantity\" DESC\n",
      "2019-04-08 14:15:16,792 INFO sqlalchemy.engine.base.Engine (0, 'North America')\n",
      "2019-04-08 14:15:16,798 INFO sqlalchemy.engine.base.Engine SELECT \"OrderDetail\".\"Discount\", \"OrderDetail\".\"Quantity\", \"Customer\".\"Region\" \n",
      "FROM \"OrderDetail\" JOIN \"Order\" ON \"Order\".\"Id\" = \"OrderDetail\".\"OrderId\" JOIN \"Customer\" ON \"Customer\".\"Id\" = \"Order\".\"CustomerId\" \n",
      "WHERE \"OrderDetail\".\"Discount\" != ? AND \"Customer\".\"Region\" = ? ORDER BY \"OrderDetail\".\"Quantity\" DESC\n",
      "2019-04-08 14:15:16,798 INFO sqlalchemy.engine.base.Engine (0, 'North America')\n",
      "2019-04-08 14:15:16,805 INFO sqlalchemy.engine.base.Engine SELECT \"OrderDetail\".\"Discount\", \"OrderDetail\".\"Quantity\", \"Customer\".\"Region\" \n",
      "FROM \"OrderDetail\" JOIN \"Order\" ON \"Order\".\"Id\" = \"OrderDetail\".\"OrderId\" JOIN \"Customer\" ON \"Customer\".\"Id\" = \"Order\".\"CustomerId\" \n",
      "WHERE \"OrderDetail\".\"Discount\" = ? AND \"Customer\".\"Region\" = ? ORDER BY \"OrderDetail\".\"Quantity\" DESC\n",
      "2019-04-08 14:15:16,805 INFO sqlalchemy.engine.base.Engine (0, 'Southern Europe')\n",
      "2019-04-08 14:15:16,811 INFO sqlalchemy.engine.base.Engine SELECT \"OrderDetail\".\"Discount\", \"OrderDetail\".\"Quantity\", \"Customer\".\"Region\" \n",
      "FROM \"OrderDetail\" JOIN \"Order\" ON \"Order\".\"Id\" = \"OrderDetail\".\"OrderId\" JOIN \"Customer\" ON \"Customer\".\"Id\" = \"Order\".\"CustomerId\" \n",
      "WHERE \"OrderDetail\".\"Discount\" != ? AND \"Customer\".\"Region\" = ? ORDER BY \"OrderDetail\".\"Quantity\" DESC\n",
      "2019-04-08 14:15:16,812 INFO sqlalchemy.engine.base.Engine (0, 'Southern Europe')\n",
      "2019-04-08 14:15:16,818 INFO sqlalchemy.engine.base.Engine SELECT \"OrderDetail\".\"Discount\", \"OrderDetail\".\"Quantity\", \"Customer\".\"Region\" \n",
      "FROM \"OrderDetail\" JOIN \"Order\" ON \"Order\".\"Id\" = \"OrderDetail\".\"OrderId\" JOIN \"Customer\" ON \"Customer\".\"Id\" = \"Order\".\"CustomerId\" \n",
      "WHERE \"OrderDetail\".\"Discount\" = ? AND \"Customer\".\"Region\" = ? ORDER BY \"OrderDetail\".\"Quantity\" DESC\n",
      "2019-04-08 14:15:16,819 INFO sqlalchemy.engine.base.Engine (0, 'British Isles')\n",
      "2019-04-08 14:15:16,825 INFO sqlalchemy.engine.base.Engine SELECT \"OrderDetail\".\"Discount\", \"OrderDetail\".\"Quantity\", \"Customer\".\"Region\" \n",
      "FROM \"OrderDetail\" JOIN \"Order\" ON \"Order\".\"Id\" = \"OrderDetail\".\"OrderId\" JOIN \"Customer\" ON \"Customer\".\"Id\" = \"Order\".\"CustomerId\" \n",
      "WHERE \"OrderDetail\".\"Discount\" != ? AND \"Customer\".\"Region\" = ? ORDER BY \"OrderDetail\".\"Quantity\" DESC\n",
      "2019-04-08 14:15:16,826 INFO sqlalchemy.engine.base.Engine (0, 'British Isles')\n"
     ]
    }
   ],
   "source": [
    "# iterate over top_regions list and fetch order_details\n",
    "for region in top_regions_list:\n",
    "    region[\"undiscounted\"] = query_undiscounted_region_quantity(region[\"Region\"])\n",
    "    region[\"discounted\"] = query_discounted_region_quantity(region[\"Region\"])"
   ]
  },
  {
   "cell_type": "code",
   "execution_count": 42,
   "metadata": {},
   "outputs": [
    {
     "data": {
      "text/html": [
       "<div>\n",
       "<style scoped>\n",
       "    .dataframe tbody tr th:only-of-type {\n",
       "        vertical-align: middle;\n",
       "    }\n",
       "\n",
       "    .dataframe tbody tr th {\n",
       "        vertical-align: top;\n",
       "    }\n",
       "\n",
       "    .dataframe thead th {\n",
       "        text-align: right;\n",
       "    }\n",
       "</style>\n",
       "<table border=\"1\" class=\"dataframe\">\n",
       "  <thead>\n",
       "    <tr style=\"text-align: right;\">\n",
       "      <th></th>\n",
       "      <th>Discount</th>\n",
       "      <th>Quantity</th>\n",
       "      <th>Region</th>\n",
       "    </tr>\n",
       "  </thead>\n",
       "  <tbody>\n",
       "    <tr>\n",
       "      <th>0</th>\n",
       "      <td>0.10</td>\n",
       "      <td>130</td>\n",
       "      <td>Western Europe</td>\n",
       "    </tr>\n",
       "    <tr>\n",
       "      <th>1</th>\n",
       "      <td>0.10</td>\n",
       "      <td>120</td>\n",
       "      <td>Western Europe</td>\n",
       "    </tr>\n",
       "    <tr>\n",
       "      <th>2</th>\n",
       "      <td>0.25</td>\n",
       "      <td>120</td>\n",
       "      <td>Western Europe</td>\n",
       "    </tr>\n",
       "    <tr>\n",
       "      <th>3</th>\n",
       "      <td>0.05</td>\n",
       "      <td>120</td>\n",
       "      <td>Western Europe</td>\n",
       "    </tr>\n",
       "    <tr>\n",
       "      <th>4</th>\n",
       "      <td>0.15</td>\n",
       "      <td>100</td>\n",
       "      <td>Western Europe</td>\n",
       "    </tr>\n",
       "    <tr>\n",
       "      <th>5</th>\n",
       "      <td>0.20</td>\n",
       "      <td>100</td>\n",
       "      <td>Western Europe</td>\n",
       "    </tr>\n",
       "    <tr>\n",
       "      <th>6</th>\n",
       "      <td>0.15</td>\n",
       "      <td>100</td>\n",
       "      <td>Western Europe</td>\n",
       "    </tr>\n",
       "    <tr>\n",
       "      <th>7</th>\n",
       "      <td>0.20</td>\n",
       "      <td>90</td>\n",
       "      <td>Western Europe</td>\n",
       "    </tr>\n",
       "    <tr>\n",
       "      <th>8</th>\n",
       "      <td>0.05</td>\n",
       "      <td>90</td>\n",
       "      <td>Western Europe</td>\n",
       "    </tr>\n",
       "    <tr>\n",
       "      <th>9</th>\n",
       "      <td>0.15</td>\n",
       "      <td>84</td>\n",
       "      <td>Western Europe</td>\n",
       "    </tr>\n",
       "  </tbody>\n",
       "</table>\n",
       "</div>"
      ],
      "text/plain": [
       "   Discount  Quantity          Region\n",
       "0      0.10       130  Western Europe\n",
       "1      0.10       120  Western Europe\n",
       "2      0.25       120  Western Europe\n",
       "3      0.05       120  Western Europe\n",
       "4      0.15       100  Western Europe\n",
       "5      0.20       100  Western Europe\n",
       "6      0.15       100  Western Europe\n",
       "7      0.20        90  Western Europe\n",
       "8      0.05        90  Western Europe\n",
       "9      0.15        84  Western Europe"
      ]
     },
     "execution_count": 42,
     "metadata": {},
     "output_type": "execute_result"
    }
   ],
   "source": [
    "# looking at a single region's discounted Quantity counts in OrderDetails\n",
    "hhh = top_regions_list[0][\"discounted\"]\n",
    "hhh.head(10)"
   ]
  },
  {
   "cell_type": "markdown",
   "metadata": {},
   "source": [
    "### Normality & Variance Checks"
   ]
  },
  {
   "cell_type": "markdown",
   "metadata": {},
   "source": [
    "Here, we'll visualize the distributions of order quantities and use the Shapiro-Wilk normality test, which tests if a random sample comes from a normal distribution.\n",
    "\n",
    ">Ho: Sample data is normally distributed\n",
    "\n",
    ">Ha: Sample data is not normally distributed"
   ]
  },
  {
   "cell_type": "code",
   "execution_count": 43,
   "metadata": {},
   "outputs": [
    {
     "data": {
      "application/vnd.jupyter.widget-view+json": {
       "model_id": "e5fc798657154b029c751c76d6b3180e",
       "version_major": 2,
       "version_minor": 0
      },
      "text/plain": [
       "interactive(children=(Dropdown(description='Region', options=('Western Europe', 'South America', 'North Americ…"
      ]
     },
     "metadata": {},
     "output_type": "display_data"
    }
   ],
   "source": [
    "region_names = [d['Region'] for d in top_regions_list]\n",
    "@interact\n",
    "\n",
    "def table_preview(Region = region_names):\n",
    "    \n",
    "    # find selected region, and get dataframes of discounted and undiscounted order details\n",
    "    for reg in top_regions_list:\n",
    "        if reg[\"Region\"] == Region:\n",
    "            reg_df_discounted = reg['discounted']\n",
    "            reg_df_undiscounted = reg['undiscounted']\n",
    "    \n",
    "    # visualize distributions of discounted and undiscounted order details for selected region\n",
    "    fig, (ax1, ax2) = plt.subplots(1,2, figsize=(12,3))\n",
    "    p = sns.distplot(reg_df_discounted.Quantity, label=\"Quantities @ Discount\", ax=ax1)\n",
    "    p.legend()\n",
    "    p = sns.distplot(reg_df_undiscounted.Quantity, label=\"Quantities @ Full Retail\", ax=ax2)\n",
    "    p.legend()\n",
    "    \n",
    "    # shapiro test for normality\n",
    "    shapiro_stat_discounted = stats.shapiro(reg_df_discounted.Quantity)\n",
    "    shapiro_stat_undiscounted = stats.shapiro(reg_df_undiscounted.Quantity)\n",
    "    \n",
    "    # p-value < 0.05 => reject null hypothesis => not normally distributed\n",
    "    if shapiro_stat_discounted[1] < 0.05:\n",
    "        p_statement_discounted = \"Reject Null Hypothesis for {} - Not Normally Distributed\".format(Region)\n",
    "    else: \n",
    "        p_statement_discounted = \"Cannot Reject Null Hypothesis for {} - Normally Distributed\".format(Region)\n",
    "        \n",
    "    # p-value < 0.05 => reject null hypothesis => not normally distributed\n",
    "    if shapiro_stat_undiscounted[1] < 0.05:\n",
    "        p_statement_undiscounted = \"Reject Null Hypothesis for {} - Not Normally Distributed\".format(Region)\n",
    "    else: \n",
    "        p_statement_undiscounted = \"Cannot Reject Null Hypothesis for {} - Normally Distributed\".format(Region)\n",
    "    \n",
    "    print(\"P-Value for Normality (Discounted): \", shapiro_stat_discounted[1])\n",
    "    print(\"T-Stat for Normality (Discounted): \", shapiro_stat_discounted[0])\n",
    "    print(p_statement_discounted)\n",
    "    print(\"\\n*_*_*_*_*_*_*_*_*_*_*_*_*\\n\")\n",
    "    print(\"P-Value for Normality (Undiscounted): \", shapiro_stat_undiscounted[1])\n",
    "    print(\"T-Stat for Normality (Undiscounted): \", shapiro_stat_undiscounted[0])\n",
    "    print(p_statement_undiscounted)"
   ]
  },
  {
   "cell_type": "markdown",
   "metadata": {},
   "source": [
    "As expected, these are not normally distributed, so I will do repeated random sampling from each region and discount/undiscounted to get a sample distribution which is normally distributed and can be used in hypothesis testing."
   ]
  },
  {
   "cell_type": "markdown",
   "metadata": {},
   "source": [
    "### Repeated Sampling"
   ]
  },
  {
   "cell_type": "code",
   "execution_count": 44,
   "metadata": {},
   "outputs": [],
   "source": [
    "for region in top_regions_list:\n",
    "    sample_discounted_dist = create_sample_distribution(region[\"discounted\"].Quantity, dist_size=500, sample_size=30)\n",
    "    sample_undiscounted_dist = create_sample_distribution(region[\"undiscounted\"].Quantity, dist_size=500, sample_size=30)\n",
    "    region[\"discounted_sample\"] = pd.DataFrame(np.array(sample_discounted_dist))\n",
    "    region[\"undiscounted_sample\"] = pd.DataFrame(np.array(sample_undiscounted_dist))"
   ]
  },
  {
   "cell_type": "markdown",
   "metadata": {},
   "source": [
    "#### Preview Sampling Distributions"
   ]
  },
  {
   "cell_type": "code",
   "execution_count": 45,
   "metadata": {},
   "outputs": [
    {
     "data": {
      "application/vnd.jupyter.widget-view+json": {
       "model_id": "ea24e440ede54813a9810596d493ba2f",
       "version_major": 2,
       "version_minor": 0
      },
      "text/plain": [
       "interactive(children=(Dropdown(description='Region', options=('Western Europe', 'South America', 'North Americ…"
      ]
     },
     "metadata": {},
     "output_type": "display_data"
    }
   ],
   "source": [
    "region_names = [d['Region'] for d in top_regions_list]\n",
    "@interact\n",
    "\n",
    "def sample_distribution_preview(Region = region_names):\n",
    "    \n",
    "    # find selected region, and get dataframes of discounted and undiscounted samples\n",
    "    for reg in top_regions_list:\n",
    "        if reg[\"Region\"] == Region:\n",
    "            reg_df_discounted_sample = reg['discounted_sample']\n",
    "            reg_df_undiscounted_sample = reg['undiscounted_sample']\n",
    "    \n",
    "    # visualize distributions of discounted and undiscounted samples for selected region\n",
    "    fig = plt.figure(figsize=(16,4))\n",
    "    sns.distplot(reg_df_discounted_sample, label=\"Sample Dist. (Discounted)\")\n",
    "    sns.distplot(reg_df_undiscounted_sample, label=\"Sample Dist. (Undiscounted)\")\n",
    "    plt.title(\"{} Sample Distributions (Discounted & Undiscounted)\".format(Region))\n",
    "    plt.xlabel(\"Quantity Ordered\")\n",
    "    plt.legend()"
   ]
  },
  {
   "cell_type": "markdown",
   "metadata": {},
   "source": [
    "### T-Test Both Samples & Analysis"
   ]
  },
  {
   "cell_type": "code",
   "execution_count": 46,
   "metadata": {},
   "outputs": [
    {
     "data": {
      "application/vnd.jupyter.widget-view+json": {
       "model_id": "6c344955a1c641248bda42a933d6c1bb",
       "version_major": 2,
       "version_minor": 0
      },
      "text/plain": [
       "interactive(children=(Dropdown(description='Region', options=('Western Europe', 'South America', 'North Americ…"
      ]
     },
     "metadata": {},
     "output_type": "display_data"
    }
   ],
   "source": [
    "region_names = [d['Region'] for d in top_regions_list]\n",
    "@interact\n",
    "\n",
    "def ttest_category(Region = region_names):\n",
    "    \n",
    "    for reg in top_regions_list:\n",
    "        if reg[\"Region\"] == Region:\n",
    "            reg_discounted_sample_distribution = reg['discounted_sample']\n",
    "            reg_undiscounted_sample_distribution = reg['undiscounted_sample']\n",
    "    \n",
    "    tstat, pvalue, df = ttest_ind(reg_discounted_sample_distribution, reg_undiscounted_sample_distribution, usevar='unequal', alternative='larger')\n",
    "    \n",
    "    # calculate pooled variance\n",
    "    pooled_v = pooled_var(reg_discounted_sample_distribution, reg_undiscounted_sample_distribution)\n",
    "    \n",
    "    # calculate effect size using cohen's d\n",
    "    cohen_d = cohens_d(reg_discounted_sample_distribution, reg_undiscounted_sample_distribution)\n",
    "    \n",
    "    print(\"Comparing Discount vs. Uniscounted, we get the following:\")\n",
    "    print('p-value = {0:1.3e}'.format(pvalue[0]))\n",
    "    print('t-stat = {0:1.3f}'.format(tstat[0]))\n",
    "    print('cohen d = {0:1.3f}'.format(cohen_d[0]))"
   ]
  },
  {
   "cell_type": "markdown",
   "metadata": {},
   "source": [
    "#### T-Test Results"
   ]
  },
  {
   "cell_type": "markdown",
   "metadata": {},
   "source": [
    "<table>\n",
    "    <thead>\n",
    "        <tr>\n",
    "            <th>Region</th>\n",
    "            <th>P-Value</th>\n",
    "            <th>T-Stat</th>\n",
    "            <th>Cohen's d</th>\n",
    "            <th>Accept/Reject Null</th>\n",
    "            <th>Effect Size</th>\n",
    "        </tr>\n",
    "    </thead>\n",
    "    <tbody>\n",
    "        <tr>\n",
    "            <td>Western Europe</td>\n",
    "            <td>2.361e-37</td>\n",
    "            <td>13.272</td>\n",
    "            <td>0.839</td>\n",
    "            <td>Reject Null</td>\n",
    "            <td>Medium</td>\n",
    "        </tr>\n",
    "        <tr>\n",
    "            <td>South America</td>\n",
    "            <td>1.000e+00</td>\n",
    "            <td>-8.719</td>\n",
    "            <td>-0.551</td>\n",
    "            <td>Accept Null</td>\n",
    "            <td>Low</td>\n",
    "        </tr>\n",
    "        <tr>\n",
    "            <td>North America</td>\n",
    "            <td>5.106e-123</td>\n",
    "            <td>27.322</td>\n",
    "            <td>1.728</td>\n",
    "            <td>Reject Null</td>\n",
    "            <td>Very Large</td>\n",
    "        </tr>\n",
    "        <tr>\n",
    "            <td>Southern Europe</td>\n",
    "            <td>1.210e-195</td>\n",
    "            <td>37.885</td>\n",
    "            <td>2.396</td>\n",
    "            <td>Reject Null</td>\n",
    "            <td>Very Large</td>\n",
    "        </tr>\n",
    "        <tr>\n",
    "            <td>British Isles</td>\n",
    "            <td>1.069e-316</td>\n",
    "            <td>59.454</td>\n",
    "            <td>3.760</td>\n",
    "            <td>Reject Null</td>\n",
    "            <td>Very Large</td>\n",
    "        </tr>\n",
    "    </tbody>\n",
    "</table>"
   ]
  },
  {
   "cell_type": "markdown",
   "metadata": {},
   "source": [
    "#### Analysis"
   ]
  },
  {
   "cell_type": "markdown",
   "metadata": {},
   "source": [
    "All regions saw a statistically significant increase in quantities ordered when discounted, except for South America. What are they doing??\n",
    "\n",
    "North America, Southern Europe, & The British Isles have a **very large** effect size and t-stats, while Western Europe has a **medium/large** effect size.\n",
    "\n",
    "As a follow up to this test, I will, as before with categories, look at \\\\% change in quantity demanded for the remaining four regions."
   ]
  },
  {
   "cell_type": "markdown",
   "metadata": {},
   "source": [
    "## Question 05: Do Certain Regions Have a Higher Price Elasticity of Demand?"
   ]
  },
  {
   "cell_type": "markdown",
   "metadata": {},
   "source": [
    "### Hypothesis Statement"
   ]
  },
  {
   "cell_type": "markdown",
   "metadata": {},
   "source": [
    "#### Null Hypothesis\n",
    "\n",
    ">**Ho:** The % Change In Quantity Demanded by Region A When Discounted = The % Change In Quantity Demanded by Region B When Discounted\n",
    "\n",
    "#### Alternate Hypothesis\n",
    "\n",
    ">**Ha:** The % Change In Quantity Demanded by Region A When Discounted > The % Change In Quantity Demanded by Region B When Discounted\n",
    "\n",
    "To analyze this, I will follow the same process as the previous test, but I will be calculating the mean change in quantities demanded (Qdiscounted - Qundiscounted).  Since regions will have different ranges of quantities demanded, I will scale them so that the % change in demand is comparable."
   ]
  },
  {
   "cell_type": "markdown",
   "metadata": {},
   "source": [
    "### Prepare Data"
   ]
  },
  {
   "cell_type": "code",
   "execution_count": 47,
   "metadata": {},
   "outputs": [],
   "source": [
    "# use the previous samples, but creating a copy\n",
    "sample_regions = top_regions_list.copy()"
   ]
  },
  {
   "cell_type": "markdown",
   "metadata": {},
   "source": [
    "#### Calculate \\% Quantity Demand Change"
   ]
  },
  {
   "cell_type": "code",
   "execution_count": 48,
   "metadata": {},
   "outputs": [],
   "source": [
    "# actually already defined the method when testing categories, so we'll use it again:\n",
    "# calculate_qd_rate(region):\n",
    "\n",
    "for reg in sample_regions:\n",
    "    calculate_qd_rate(reg) # add a key/value that holds sample distribution of rate change in QD"
   ]
  },
  {
   "cell_type": "markdown",
   "metadata": {},
   "source": [
    "### Visualize Distributions of QD Rate of Change"
   ]
  },
  {
   "cell_type": "code",
   "execution_count": 49,
   "metadata": {},
   "outputs": [
    {
     "data": {
      "application/vnd.jupyter.widget-view+json": {
       "model_id": "bd44ffa3f6614fdea1a811fe569cf700",
       "version_major": 2,
       "version_minor": 0
      },
      "text/plain": [
       "interactive(children=(Dropdown(description='Region', options=('Western Europe', 'South America', 'North Americ…"
      ]
     },
     "metadata": {},
     "output_type": "display_data"
    }
   ],
   "source": [
    "region_names = [d['Region'] for d in sample_regions]\n",
    "region_names2 = region_names[::-1] # reversed\n",
    "@interact\n",
    "\n",
    "def sample_distribution_preview(Region = region_names, Region2 = region_names2):\n",
    "    \n",
    "    for reg in sample_regions:\n",
    "        if reg[\"Region\"] == Region:\n",
    "            rate_sample = reg[\"rate_of_change_sample\"]\n",
    "    for reg in sample_regions:\n",
    "        if reg[\"Region\"] == Region2: \n",
    "            rate_sample2 = reg[\"rate_of_change_sample\"]\n",
    "    \n",
    "    # visualize distributions of discounted and undiscounted samples for selected region\n",
    "    fig = plt.figure(figsize=(16,6))\n",
    "    sns.distplot(rate_sample, label=\"% Change QD ({})\".format(Region))\n",
    "    sns.distplot(rate_sample2, label=\"% Change QD ({})\".format(Region2))\n",
    "    plt.title(\"Distributions of % QD Change After Discounts\".format(Region))\n",
    "    plt.xlabel(\"% Change Quantity Ordered\")\n",
    "    plt.legend()"
   ]
  },
  {
   "cell_type": "markdown",
   "metadata": {},
   "source": [
    "It is clear (visually) that some regions have a greater price elasticity of demand, which makes sense as the effect sizes from the previous example hinted. So, let's test this out now."
   ]
  },
  {
   "cell_type": "markdown",
   "metadata": {},
   "source": [
    "### T-Test Rate of Change Between Regions & Analysis\n"
   ]
  },
  {
   "cell_type": "markdown",
   "metadata": {},
   "source": [
    "#### T-Test"
   ]
  },
  {
   "cell_type": "code",
   "execution_count": 50,
   "metadata": {},
   "outputs": [
    {
     "data": {
      "application/vnd.jupyter.widget-view+json": {
       "model_id": "c936e05583184fad8696a586d3489d91",
       "version_major": 2,
       "version_minor": 0
      },
      "text/plain": [
       "interactive(children=(Dropdown(description='Region1', options=('Western Europe', 'South America', 'North Ameri…"
      ]
     },
     "metadata": {},
     "output_type": "display_data"
    }
   ],
   "source": [
    "region_names = [d['Region'] for d in sample_regions]\n",
    "region_names2 = region_names[::-1] # reversed\n",
    "\n",
    "@interact\n",
    "\n",
    "def ttest_region_change(Region1 = region_names, Region2 = region_names2):\n",
    "    \n",
    "    for reg in sample_regions:\n",
    "        if reg[\"Region\"] == Region1:\n",
    "            reg1 = reg\n",
    "            qd_rate_change_distribution1 = reg[\"rate_of_change_sample\"]\n",
    "    for reg in sample_regions:\n",
    "        if reg[\"Region\"] == Region2:\n",
    "            reg2 = reg\n",
    "            qd_rate_change_distribution2 = reg[\"rate_of_change_sample\"]\n",
    "    \n",
    "    # assumed larger change passed in first\n",
    "    # so Ha would be distribution1 % Change > distribution2 % Change\n",
    "    tstat, pvalue, df = ttest_ind(qd_rate_change_distribution1, qd_rate_change_distribution2, usevar='unequal', alternative='larger')\n",
    "    \n",
    "    # calculate pooled variance\n",
    "    pooled_v = pooled_var(qd_rate_change_distribution1, qd_rate_change_distribution2)\n",
    "    \n",
    "    # calculate effect size using cohen's d\n",
    "    cohen_d = cohens_d(qd_rate_change_distribution1, qd_rate_change_distribution2)\n",
    "    \n",
    "    print(\"Comparing {} QD % Change vs. {} QD % Change:\".format(Region1, Region2))\n",
    "    print('p-value =    {0:1.3e}'.format(pvalue[0]))\n",
    "    print('t-stat =     {0:1.3f}'.format(tstat[0]))\n",
    "    print('cohen d =    {0:1.3f}'.format(cohen_d))"
   ]
  },
  {
   "cell_type": "markdown",
   "metadata": {},
   "source": [
    "#### Analysis"
   ]
  },
  {
   "cell_type": "markdown",
   "metadata": {},
   "source": [
    "As before, you can compare the top regions by switching the dropdowns, with Region1 representing the Region, that if the Null Hypothesis is rejected, would have the greater percent change in quantity demanded.  \n",
    "\n",
    "Below, are a couple examples, but not all:"
   ]
  },
  {
   "cell_type": "markdown",
   "metadata": {},
   "source": [
    "<table>\n",
    "    <thead>\n",
    "        <tr>\n",
    "            <th style='text-align: center'>Ho</th>\n",
    "            <th style='text-align: center'>Ha</th>\n",
    "            <th style='text-align: center'>P-Value</th>\n",
    "            <th style='text-align: center'>T-Stat</th>\n",
    "            <th style='text-align: center'>Cohen's d</th>\n",
    "            <th style='text-align: center'>Accept/Reject Null</th>\n",
    "        </tr>\n",
    "    </thead>\n",
    "    <tbody>\n",
    "        <tr>\n",
    "            <td style='text-align: left'>Southern Europe QD % = Western Europe QD %</td>\n",
    "            <td style='text-align: left'>Southern Europe QD % > Western Europe QD %</td>\n",
    "            <td>1.575e-108</td>\n",
    "            <td>25.686</td>\n",
    "            <td>1.626</td>\n",
    "            <td>Reject Null</td>\n",
    "        </tr>\n",
    "        <tr>\n",
    "            <td style='text-align: left'>Southern Europe QD % = North America QD %</td>\n",
    "            <td style='text-align: left'>Southern Europe QD % > North America QD %</td>\n",
    "            <td>9.812e-08</td>\n",
    "            <td>5.240</td>\n",
    "            <td>0.332</td>\n",
    "            <td>Reject Null</td>\n",
    "        </tr>\n",
    "        <tr>\n",
    "            <td style='text-align: left'>Southern Europe QD % = British Isles QD %</td>\n",
    "            <td style='text-align: left'>Southern Europe QD % > British Isles QD %</td>\n",
    "            <td>1.000e+00</td>\n",
    "            <td>-22.787</td>\n",
    "            <td>-1.443</td>\n",
    "            <td>Accept Null</td>\n",
    "        </tr>\n",
    "        <tr>\n",
    "            <td style='text-align: left'>North America QD % = Western Europe QD %</td>\n",
    "            <td style='text-align: left'>North America QD % > Western Europe QD %</td>\n",
    "            <td>2.495e-82</td>\n",
    "            <td>21.314</td>\n",
    "            <td>1.349</td>\n",
    "            <td>Reject Null</td>\n",
    "        </tr>\n",
    "        <tr>\n",
    "            <td style='text-align: left'>British Isles QD % = North America QD %</td>\n",
    "            <td style='text-align: left'>British Isles QD % > North America QD %</td>\n",
    "            <td>1.624e-129</td>\n",
    "            <td>28.540</td>\n",
    "            <td>1.807</td>\n",
    "            <td>Reject Null</td>\n",
    "        </tr>\n",
    "        <tr>\n",
    "            <td style='text-align: left'>British Isles QD % = Western Europe QD %</td>\n",
    "            <td style='text-align: left'>British Isles QD % > Western Europe QD %</td>\n",
    "            <td>2.644e-239</td>\n",
    "            <td>48.951</td>\n",
    "            <td>3.099</td>\n",
    "            <td>Reject Null</td>\n",
    "        </tr>\n",
    "        <tr>\n",
    "            <td style='text-align: left'>British Isles QD % = Southern Europe QD %</td>\n",
    "            <td style='text-align: left'>British Isles QD % > Southern Europe QD %</td>\n",
    "            <td>9.844e-93</td>\n",
    "            <td>22.787</td>\n",
    "            <td>1.443</td>\n",
    "            <td>Reject Null</td>\n",
    "        </tr>\n",
    "    </tbody>\n",
    "</table>"
   ]
  },
  {
   "cell_type": "markdown",
   "metadata": {},
   "source": [
    "The British Isles saw the greatest percent increase in quantity demanded, having statistically significant results when compared to all the top regions (by customer count).  After the British Isles, Southern Europe saw the next greatest percent increase in quantity demanded, having statistically significant results when compared the the remaining regions.  These two are followed by North America and Western Europe, respectively."
   ]
  },
  {
   "cell_type": "markdown",
   "metadata": {},
   "source": [
    "#### Takeaway"
   ]
  },
  {
   "cell_type": "markdown",
   "metadata": {},
   "source": [
    "If the company is considering offering a new round of discounts, or reappropriating current discounts by region:\n",
    "\n",
    "1) Customers from **British Isles** have the highest price elasticity of demand, and show a greater percent increase in quantity demanded.  If that region's overall, nominal demand is on par with the other regions, and is not merely a \"small customer\", the company could consider focusing here.\n",
    "\n",
    "2) That being said, it is not as if North America, Western Europe, and Southern Europe did not show an increase in demand (as the previous hypothesis test showed). So, don't ignore these.  If any of North America, Western Europe, and Southern Europe make up a significant percent of the company's overall sales, they should consider on focusing here.\n",
    "\n",
    "That being said, this is not an end-all recommendation.  A greater increase in quantity demanded is moot if those products are significantly cheaper.  It is much more important to see a 5% increase in products that sell for \\\\$1000 than to see a \\20% increase  in products that sell for \\\\$10. "
   ]
  },
  {
   "cell_type": "markdown",
   "metadata": {},
   "source": [
    "#### Future Work"
   ]
  },
  {
   "cell_type": "markdown",
   "metadata": {},
   "source": [
    "It would be interesting to incorporate the unit prices with these quantities (UnitPrice x Quantity) to see what the change is in overall revenue. Additionally, I don't know what's going on in South America - I would consider looking at it again, but this is only fictional data."
   ]
  },
  {
   "cell_type": "markdown",
   "metadata": {},
   "source": [
    "# Conclusion\n",
    "***"
   ]
  },
  {
   "cell_type": "markdown",
   "metadata": {},
   "source": [
    "## Takeaways"
   ]
  },
  {
   "cell_type": "markdown",
   "metadata": {},
   "source": [
    "If discounts are fundamental to your sales and/or growth, focus on the categories that showed a greater percent increase in demand.  Likewise, focus on the regions that react more positively to discounting.  "
   ]
  },
  {
   "cell_type": "markdown",
   "metadata": {},
   "source": [
    "## Future Work"
   ]
  },
  {
   "cell_type": "markdown",
   "metadata": {},
   "source": [
    "If this were a real company, there's a ton more I would be interested in investigating.  I'd love to incorporate prices into the previous tests, which would not be too hard, because it's one simple calculation (price * quantity), and the same process/structure of hypothesis testing.  (That's ignoring cost of goods and actual profit considerations because none of that information was immediately available.)  Almost every column of information that was available and not clearly inaccurate (your employee hire dates are in the future, ya know) would be something I would want to look into, given time and confirmation of its potential "
   ]
  },
  {
   "cell_type": "markdown",
   "metadata": {},
   "source": [
    "# Extra\n",
    "***"
   ]
  },
  {
   "cell_type": "markdown",
   "metadata": {},
   "source": [
    "## Aside"
   ]
  },
  {
   "cell_type": "markdown",
   "metadata": {},
   "source": [
    "I spent a third of a day, two or three times, trying to get SQLAlchemy to play nicely with our dummy dataset.  It's unfortunate that the database did **not have actual foreign key constraints** in the tables, and even more infortunate that sqlite does not support adding foreign key constraints when trying to run schema migrations.  It was too cumbersome to migrate to a different database, and, even when trying to rename a table, create a new table, and copy the old table's data into the new one, I ran into errors.  While I'm almost positive I could have monkey-patched this situation, and I think I was close several times (which is why I kept trying), it still would be been much nicer/cleaner/faster to be able to actually use the relationships that were supposed to exist.  My advice to this fictitious company is to actually care about its data.  Yes, things are never 100%, but you'll go nowhere fast with how you're persisting your (should be, valuable) transaction records.\n",
    "\n",
    ":(\n",
    "\n"
   ]
  },
  {
   "cell_type": "markdown",
   "metadata": {},
   "source": [
    "## Resources (Incomplete)"
   ]
  },
  {
   "cell_type": "markdown",
   "metadata": {},
   "source": [
    "Collection of links referenced when working on the project, including learn.co labs/solutions, SQLAlchemy documentation, and other helpful links\n",
    "\n",
    "<table>\n",
    "    <thead>\n",
    "        <tr>\n",
    "            <th>Link</th>\n",
    "            <th>Type</th>\n",
    "            <th>Notes</th>\n",
    "        </tr>\n",
    "    </thead>\n",
    "    <tbody>\n",
    "        <tr>\n",
    "            <td style='text-align: left'><a href=\"https://learn.co/tracks/data-science-career-v1-1/module-2-advanced-data-retrieval-and-analysis/section-15-an-introduction-to-orms/querying-with-sqlalchemy\">Querying with SQLAlchemy</a></td>\n",
    "            <td>Learn.co</td>\n",
    "            <td></td>\n",
    "        </tr>\n",
    "        <tr>\n",
    "            <td style='text-align: left'><a href=\"https://github.com/learn-co-students/dsc-2-13-11-queries-with-sqlalchemy-lab-online-ds-ft-021119/tree/solution\">Querying with SQLAlchemy - Lab (Solution)</a></td>\n",
    "            <td>Learn.co</td>\n",
    "            <td></td>\n",
    "        </tr>\n",
    "        <tr>\n",
    "            <td style='text-align: left'><a href=\"https://learn.co/tracks/data-science-career-v1-1/module-2-advanced-data-retrieval-and-analysis/section-15-an-introduction-to-orms/using-an-orm\">Using an ORM</a></td>\n",
    "            <td>Learn.co</td>\n",
    "            <td></td>\n",
    "        </tr>\n",
    "        <tr>\n",
    "            <td style='text-align: left'><a href=\"https://github.com/learn-co-students/dsc-2-13-08-using-an-orm-lab-online-ds-ft-021119/tree/solution\">Using an ORM - Lab (Solution)</a></td>\n",
    "            <td>Learn.co</td>\n",
    "            <td></td>\n",
    "        </tr>\n",
    "        <tr>\n",
    "            <td style='text-align: left'><a href=\"https://github.com/learn-co-students/dsc-2-13-04-review-using-sqlite-lab-online-ds-ft-021119/tree/solution\">Using Sqlite - Lab (Solution)</a></td>\n",
    "            <td>Learn.co</td>\n",
    "            <td></td>\n",
    "        </tr>\n",
    "        <tr>\n",
    "            <td style='text-align: left'><a href=\"https://blog.miguelgrinberg.com/post/nested-queries-with-sqlalchemy-orm\">Nested Queries with SQLAlchemy</a></td>\n",
    "            <td>Blog/Tutorial</td>\n",
    "            <td></td>\n",
    "        </tr>\n",
    "        <tr>\n",
    "            <td style='text-align: left'><a href=\"https://github.com/learn-co-students/dsc-2-20-09-2-sample-t-tests-lab-online-ds-ft-021119/tree/solution\">Two Sample T-Test - Lab (Solution)</a></td>\n",
    "            <td>Learn.co</td>\n",
    "            <td></td>\n",
    "        </tr>\n",
    "        <tr>\n",
    "            <td style='text-align: left'><a href=\"https://learn.co/tracks/data-science-career-v1-1/module-2-advanced-data-retrieval-and-analysis/section-20-hypothesis-and-ab-testing/effect-sizes\">Effect Size (Cohen d)</a></td>\n",
    "            <td>Learn.co</td>\n",
    "            <td></td>\n",
    "        </tr>\n",
    "        <tr>\n",
    "            <td style='text-align: left'><a href=\"https://www.statisticssolutions.com/statistical-analyses-effect-size/\">Effect Size</a></td>\n",
    "            <td>Reference</td>\n",
    "            <td></td>\n",
    "        </tr>\n",
    "        <tr>\n",
    "            <td style='text-align: left'><a href=\"https://learn.co/tracks/data-science-career-v1-1/module-2-advanced-data-retrieval-and-analysis/section-19-distributions-and-sampling/introduction-to-sampling\">Introduction to Sampling</a></td>\n",
    "            <td>Learn.co</td>\n",
    "            <td></td>\n",
    "        </tr>\n",
    "        <tr>\n",
    "            <td style='text-align: left'><a href=\"https://learn.co/tracks/data-science-career-v1-1/module-2-advanced-data-retrieval-and-analysis/section-20-hypothesis-and-ab-testing/anova\">ANOVA</a></td>\n",
    "            <td>Learn.co</td>\n",
    "            <td></td>\n",
    "        </tr>\n",
    "        <tr>\n",
    "            <td style='text-align: left'><a href=\"https://github.com/learn-co-students/dsc-2-20-20-anova-lab-online-ds-ft-021119/tree/solution\">ANOVA - Lab (Solution</a></td>\n",
    "            <td>Learn.co</td>\n",
    "            <td></td>\n",
    "        </tr>\n",
    "        <tr>\n",
    "            <td style='text-align: left'><a href=\"https://github.com/learn-co-students/dsc-2-19-13-central-limit-theorem-lab-online-ds-ft-021119/tree/solution\">Central Limit Theorem - Lab (Solution)</a></td>\n",
    "            <td>Learn.co</td>\n",
    "            <td></td>\n",
    "        </tr>\n",
    "        <tr>\n",
    "            <td style='text-align: left'><a href=\"\"></a></td>\n",
    "            <td></td>\n",
    "            <td></td>\n",
    "        </tr>\n",
    "        <tr>\n",
    "            <td style='text-align: left'><a href=\"\"></a></td>\n",
    "            <td></td>\n",
    "            <td></td>\n",
    "        </tr>\n",
    "        <tr>\n",
    "            <td style='text-align: left'><a href=\"\"></a></td>\n",
    "            <td></td>\n",
    "            <td></td>\n",
    "        </tr>\n",
    "        <tr>\n",
    "            <td style='text-align: left'><a href=\"\"></a></td>\n",
    "            <td></td>\n",
    "            <td></td>\n",
    "        </tr>\n",
    "        <tr>\n",
    "            <td style='text-align: left'><a href=\"\"></a></td>\n",
    "            <td></td>\n",
    "            <td></td>\n",
    "        </tr>\n",
    "        <tr>\n",
    "            <td style='text-align: left'><a href=\"\"></a></td>\n",
    "            <td></td>\n",
    "            <td></td>\n",
    "        </tr>\n",
    "    </tbody>\n",
    "</table>\n"
   ]
  },
  {
   "cell_type": "markdown",
   "metadata": {},
   "source": [
    "## Presentation Visualizations"
   ]
  },
  {
   "cell_type": "code",
   "execution_count": 51,
   "metadata": {},
   "outputs": [],
   "source": [
    "from collections import OrderedDict\n",
    "# sample_regions_df = pd.DataFrame(sample_regions)\n",
    "# sample_regions_df.head()\n",
    "\n",
    "sample_regions_data = []\n",
    "for reg in sample_regions:\n",
    "    name = reg[\"Region\"]\n",
    "    mean_discount = np.mean(reg[\"discounted_sample\"])\n",
    "    mean_ndiscount = np.mean(reg[\"undiscounted_sample\"])\n",
    "    mean_roc = mean_discount - mean_ndiscount\n",
    "    ha = {\"Region\": name, \"MeanDiscount\": mean_discount, \"MeanUndiscounted\": mean_ndiscount, \"MeanROC\": mean_roc}\n",
    "    sample_regions_data.append(ha)\n",
    "\n",
    "sample_regions_df = pd.DataFrame(sample_regions_data)"
   ]
  },
  {
   "cell_type": "code",
   "execution_count": 52,
   "metadata": {},
   "outputs": [],
   "source": [
    "sample_regions_df.MeanDiscount = sample_regions_df.MeanDiscount.astype('float64')\n",
    "sample_regions_df.MeanUndiscounted = sample_regions_df.MeanUndiscounted.astype('float64')\n",
    "sample_regions_df.MeanROC = sample_regions_df.MeanROC.astype('float64')"
   ]
  },
  {
   "cell_type": "code",
   "execution_count": 53,
   "metadata": {},
   "outputs": [
    {
     "data": {
      "text/plain": [
       "<matplotlib.legend.Legend at 0x1a163b31d0>"
      ]
     },
     "execution_count": 53,
     "metadata": {},
     "output_type": "execute_result"
    },
    {
     "data": {
      "image/png": "[encoded data removed]",
      "text/plain": [
       "<Figure size 1152x576 with 1 Axes>"
      ]
     },
     "metadata": {
      "needs_background": "light"
     },
     "output_type": "display_data"
    }
   ],
   "source": [
    "fig, ax = plt.subplots(figsize=(16,8))\n",
    "# sns.set(font_scale=1.5)\n",
    "sns.barplot(x=sample_regions_df.Region, y=sample_regions_df.MeanDiscount, color=\"#0984e3\", label=\"Discounted\")\n",
    "sns.barplot(x=sample_regions_df.Region, y=sample_regions_df.MeanUndiscounted, color=\"#74b9ff\", label=\"Full Price\")\n",
    "ax.set_title(\"Average Order Quantity By Region\")\n",
    "ax.set_ylim(0, 40)\n",
    "plt.ylabel(\"Average Order Quantities\")\n",
    "plt.legend()"
   ]
  },
  {
   "cell_type": "code",
   "execution_count": 54,
   "metadata": {},
   "outputs": [],
   "source": [
    "sample_cats_data = []\n",
    "for cat in sample_cats:\n",
    "    name = cat[\"CategoryName\"]\n",
    "    mean_discount = np.mean(cat[\"discounted_sample\"])\n",
    "    mean_ndiscount = np.mean(cat[\"undiscounted_sample\"])\n",
    "    mean_roc = mean_discount - mean_ndiscount\n",
    "    ha = {\"Category\": name, \"MeanDiscount\": mean_discount, \"MeanUndiscounted\": mean_ndiscount, \"MeanROC\": mean_roc}\n",
    "    sample_cats_data.append(ha)\n",
    "\n",
    "sample_cats_df = pd.DataFrame(sample_cats_data)"
   ]
  },
  {
   "cell_type": "code",
   "execution_count": 55,
   "metadata": {},
   "outputs": [],
   "source": [
    "sample_cats_df.MeanDiscount = sample_cats_df.MeanDiscount.astype('float64')\n",
    "sample_cats_df.MeanUndiscounted = sample_cats_df.MeanUndiscounted.astype('float64')\n",
    "sample_cats_df.MeanROC = sample_cats_df.MeanROC.astype('float64')"
   ]
  },
  {
   "cell_type": "code",
   "execution_count": 56,
   "metadata": {},
   "outputs": [
    {
     "data": {
      "text/html": [
       "<div>\n",
       "<style scoped>\n",
       "    .dataframe tbody tr th:only-of-type {\n",
       "        vertical-align: middle;\n",
       "    }\n",
       "\n",
       "    .dataframe tbody tr th {\n",
       "        vertical-align: top;\n",
       "    }\n",
       "\n",
       "    .dataframe thead th {\n",
       "        text-align: right;\n",
       "    }\n",
       "</style>\n",
       "<table border=\"1\" class=\"dataframe\">\n",
       "  <thead>\n",
       "    <tr style=\"text-align: right;\">\n",
       "      <th></th>\n",
       "      <th>Category</th>\n",
       "      <th>MeanDiscount</th>\n",
       "      <th>MeanROC</th>\n",
       "      <th>MeanUndiscounted</th>\n",
       "    </tr>\n",
       "  </thead>\n",
       "  <tbody>\n",
       "    <tr>\n",
       "      <th>0</th>\n",
       "      <td>Beverages</td>\n",
       "      <td>27.725067</td>\n",
       "      <td>6.907333</td>\n",
       "      <td>20.817733</td>\n",
       "    </tr>\n",
       "    <tr>\n",
       "      <th>1</th>\n",
       "      <td>Condiments</td>\n",
       "      <td>29.544867</td>\n",
       "      <td>8.289333</td>\n",
       "      <td>21.255533</td>\n",
       "    </tr>\n",
       "    <tr>\n",
       "      <th>2</th>\n",
       "      <td>Confections</td>\n",
       "      <td>24.439667</td>\n",
       "      <td>1.431000</td>\n",
       "      <td>23.008667</td>\n",
       "    </tr>\n",
       "    <tr>\n",
       "      <th>3</th>\n",
       "      <td>Dairy</td>\n",
       "      <td>29.313000</td>\n",
       "      <td>7.120267</td>\n",
       "      <td>22.192733</td>\n",
       "    </tr>\n",
       "    <tr>\n",
       "      <th>4</th>\n",
       "      <td>Grains/Cereals</td>\n",
       "      <td>24.541133</td>\n",
       "      <td>1.869400</td>\n",
       "      <td>22.671733</td>\n",
       "    </tr>\n",
       "  </tbody>\n",
       "</table>\n",
       "</div>"
      ],
      "text/plain": [
       "         Category  MeanDiscount   MeanROC  MeanUndiscounted\n",
       "0       Beverages     27.725067  6.907333         20.817733\n",
       "1      Condiments     29.544867  8.289333         21.255533\n",
       "2     Confections     24.439667  1.431000         23.008667\n",
       "3           Dairy     29.313000  7.120267         22.192733\n",
       "4  Grains/Cereals     24.541133  1.869400         22.671733"
      ]
     },
     "execution_count": 56,
     "metadata": {},
     "output_type": "execute_result"
    }
   ],
   "source": [
    "sample_cats_df.head()"
   ]
  },
  {
   "cell_type": "code",
   "execution_count": 57,
   "metadata": {},
   "outputs": [
    {
     "data": {
      "text/plain": [
       "<matplotlib.legend.Legend at 0x1a167bdb00>"
      ]
     },
     "execution_count": 57,
     "metadata": {},
     "output_type": "execute_result"
    },
    {
     "data": {
      "image/png": "[encoded data removed]",
      "text/plain": [
       "<Figure size 1152x576 with 1 Axes>"
      ]
     },
     "metadata": {
      "needs_background": "light"
     },
     "output_type": "display_data"
    }
   ],
   "source": [
    "fig, ax = plt.subplots(figsize=(16,8))\n",
    "# sns.set(font_scale=1.5)\n",
    "sns.barplot(x=sample_cats_df.Category, y=sample_cats_df.MeanDiscount, color=\"#0984e3\", label=\"Discounted\")\n",
    "sns.barplot(x=sample_cats_df.Category, y=sample_cats_df.MeanUndiscounted, color=\"#74b9ff\", label=\"Full Price\")\n",
    "ax.set_title(\"Average Order Quantity By Category\")\n",
    "ax.set_ylim(0, 40)\n",
    "plt.ylabel(\"Average Order Quantities\")\n",
    "plt.legend()"
   ]
  },
  {
   "cell_type": "code",
   "execution_count": 75,
   "metadata": {},
   "outputs": [],
   "source": [
    "# Discount = 0, Return OrderDetails Quantities where product is from category_id\n",
    "def query_category_quantity(category_id):\n",
    "\n",
    "    query = session.query(OrderDetail.ProductId, OrderDetail.Discount, func.count(OrderDetail.Id).label(\"Tot\"), Product.ProductName, (Category.Id).label(\"CategoryId\"), Category.CategoryName\n",
    "                         ).join(Product, Product.Id == OrderDetail.ProductId\n",
    "                               ).join(Category, Category.Id == Product.CategoryId\n",
    "                                     ).filter(Category.Id == category_id\n",
    "                                                     ).group_by(Category.Id).order_by(OrderDetail.Quantity.desc())\n",
    "    \n",
    "    order_details = pd.read_sql(query.statement, engine)\n",
    "\n",
    "    return order_details\n",
    "\n",
    "c_list = [{\"Id\": 1, \"CategoryName\": \"Beverages\"}, \n",
    "                  {\"Id\": 2, \"CategoryName\": \"Condiments\"},\n",
    "                  {\"Id\": 3, \"CategoryName\": \"Confections\"},\n",
    "                  {\"Id\": 4, \"CategoryName\": \"Dairy\"},\n",
    "                  {\"Id\": 5, \"CategoryName\": \"Grains/Cereals\"},\n",
    "                  {\"Id\": 6, \"CategoryName\": \"Meat/Poultry\"},\n",
    "                  {\"Id\": 7, \"CategoryName\": \"Produce\"},\n",
    "                  {\"Id\": 8, \"CategoryName\": \"Seafood\"}\n",
    "                 ]\n",
    "\n",
    "# iterate over categories and fetch order_details"
   ]
  },
  {
   "cell_type": "code",
   "execution_count": 76,
   "metadata": {},
   "outputs": [
    {
     "name": "stdout",
     "output_type": "stream",
     "text": [
      "2019-04-08 14:29:33,063 INFO sqlalchemy.engine.base.Engine SELECT \"OrderDetail\".\"ProductId\", \"OrderDetail\".\"Discount\", count(\"OrderDetail\".\"Id\") AS \"Tot\", \"Product\".\"ProductName\", \"Category\".\"Id\" AS \"CategoryId\", \"Category\".\"CategoryName\" \n",
      "FROM \"OrderDetail\" JOIN \"Product\" ON \"Product\".\"Id\" = \"OrderDetail\".\"ProductId\" JOIN \"Category\" ON \"Category\".\"Id\" = \"Product\".\"CategoryId\" \n",
      "WHERE \"Category\".\"Id\" = ? GROUP BY \"Category\".\"Id\" ORDER BY \"OrderDetail\".\"Quantity\" DESC\n",
      "2019-04-08 14:29:33,064 INFO sqlalchemy.engine.base.Engine (1,)\n"
     ]
    },
    {
     "data": {
      "text/html": [
       "<div>\n",
       "<style scoped>\n",
       "    .dataframe tbody tr th:only-of-type {\n",
       "        vertical-align: middle;\n",
       "    }\n",
       "\n",
       "    .dataframe tbody tr th {\n",
       "        vertical-align: top;\n",
       "    }\n",
       "\n",
       "    .dataframe thead th {\n",
       "        text-align: right;\n",
       "    }\n",
       "</style>\n",
       "<table border=\"1\" class=\"dataframe\">\n",
       "  <thead>\n",
       "    <tr style=\"text-align: right;\">\n",
       "      <th></th>\n",
       "      <th>ProductId</th>\n",
       "      <th>Discount</th>\n",
       "      <th>Tot</th>\n",
       "      <th>ProductName</th>\n",
       "      <th>CategoryId</th>\n",
       "      <th>CategoryName</th>\n",
       "    </tr>\n",
       "  </thead>\n",
       "  <tbody>\n",
       "    <tr>\n",
       "      <th>0</th>\n",
       "      <td>39</td>\n",
       "      <td>0.0</td>\n",
       "      <td>404</td>\n",
       "      <td>Chartreuse verte</td>\n",
       "      <td>1</td>\n",
       "      <td>Beverages</td>\n",
       "    </tr>\n",
       "  </tbody>\n",
       "</table>\n",
       "</div>"
      ],
      "text/plain": [
       "   ProductId  Discount  Tot       ProductName  CategoryId CategoryName\n",
       "0         39       0.0  404  Chartreuse verte           1    Beverages"
      ]
     },
     "execution_count": 76,
     "metadata": {},
     "output_type": "execute_result"
    }
   ],
   "source": [
    "ccc = query_category_quantity(1)\n",
    "ccc.head()"
   ]
  },
  {
   "cell_type": "code",
   "execution_count": 77,
   "metadata": {},
   "outputs": [
    {
     "name": "stdout",
     "output_type": "stream",
     "text": [
      "2019-04-08 14:29:39,206 INFO sqlalchemy.engine.base.Engine SELECT \"OrderDetail\".\"ProductId\", \"OrderDetail\".\"Discount\", count(\"OrderDetail\".\"Id\") AS \"Tot\", \"Product\".\"ProductName\", \"Category\".\"Id\" AS \"CategoryId\", \"Category\".\"CategoryName\" \n",
      "FROM \"OrderDetail\" JOIN \"Product\" ON \"Product\".\"Id\" = \"OrderDetail\".\"ProductId\" JOIN \"Category\" ON \"Category\".\"Id\" = \"Product\".\"CategoryId\" \n",
      "WHERE \"Category\".\"Id\" = ? GROUP BY \"Category\".\"Id\" ORDER BY \"OrderDetail\".\"Quantity\" DESC\n",
      "2019-04-08 14:29:39,206 INFO sqlalchemy.engine.base.Engine (1,)\n",
      "2019-04-08 14:29:39,212 INFO sqlalchemy.engine.base.Engine SELECT \"OrderDetail\".\"ProductId\", \"OrderDetail\".\"Discount\", count(\"OrderDetail\".\"Id\") AS \"Tot\", \"Product\".\"ProductName\", \"Category\".\"Id\" AS \"CategoryId\", \"Category\".\"CategoryName\" \n",
      "FROM \"OrderDetail\" JOIN \"Product\" ON \"Product\".\"Id\" = \"OrderDetail\".\"ProductId\" JOIN \"Category\" ON \"Category\".\"Id\" = \"Product\".\"CategoryId\" \n",
      "WHERE \"Category\".\"Id\" = ? GROUP BY \"Category\".\"Id\" ORDER BY \"OrderDetail\".\"Quantity\" DESC\n",
      "2019-04-08 14:29:39,213 INFO sqlalchemy.engine.base.Engine (2,)\n",
      "2019-04-08 14:29:39,219 INFO sqlalchemy.engine.base.Engine SELECT \"OrderDetail\".\"ProductId\", \"OrderDetail\".\"Discount\", count(\"OrderDetail\".\"Id\") AS \"Tot\", \"Product\".\"ProductName\", \"Category\".\"Id\" AS \"CategoryId\", \"Category\".\"CategoryName\" \n",
      "FROM \"OrderDetail\" JOIN \"Product\" ON \"Product\".\"Id\" = \"OrderDetail\".\"ProductId\" JOIN \"Category\" ON \"Category\".\"Id\" = \"Product\".\"CategoryId\" \n",
      "WHERE \"Category\".\"Id\" = ? GROUP BY \"Category\".\"Id\" ORDER BY \"OrderDetail\".\"Quantity\" DESC\n",
      "2019-04-08 14:29:39,220 INFO sqlalchemy.engine.base.Engine (3,)\n",
      "2019-04-08 14:29:39,225 INFO sqlalchemy.engine.base.Engine SELECT \"OrderDetail\".\"ProductId\", \"OrderDetail\".\"Discount\", count(\"OrderDetail\".\"Id\") AS \"Tot\", \"Product\".\"ProductName\", \"Category\".\"Id\" AS \"CategoryId\", \"Category\".\"CategoryName\" \n",
      "FROM \"OrderDetail\" JOIN \"Product\" ON \"Product\".\"Id\" = \"OrderDetail\".\"ProductId\" JOIN \"Category\" ON \"Category\".\"Id\" = \"Product\".\"CategoryId\" \n",
      "WHERE \"Category\".\"Id\" = ? GROUP BY \"Category\".\"Id\" ORDER BY \"OrderDetail\".\"Quantity\" DESC\n",
      "2019-04-08 14:29:39,226 INFO sqlalchemy.engine.base.Engine (4,)\n",
      "2019-04-08 14:29:39,232 INFO sqlalchemy.engine.base.Engine SELECT \"OrderDetail\".\"ProductId\", \"OrderDetail\".\"Discount\", count(\"OrderDetail\".\"Id\") AS \"Tot\", \"Product\".\"ProductName\", \"Category\".\"Id\" AS \"CategoryId\", \"Category\".\"CategoryName\" \n",
      "FROM \"OrderDetail\" JOIN \"Product\" ON \"Product\".\"Id\" = \"OrderDetail\".\"ProductId\" JOIN \"Category\" ON \"Category\".\"Id\" = \"Product\".\"CategoryId\" \n",
      "WHERE \"Category\".\"Id\" = ? GROUP BY \"Category\".\"Id\" ORDER BY \"OrderDetail\".\"Quantity\" DESC\n",
      "2019-04-08 14:29:39,233 INFO sqlalchemy.engine.base.Engine (5,)\n",
      "2019-04-08 14:29:39,238 INFO sqlalchemy.engine.base.Engine SELECT \"OrderDetail\".\"ProductId\", \"OrderDetail\".\"Discount\", count(\"OrderDetail\".\"Id\") AS \"Tot\", \"Product\".\"ProductName\", \"Category\".\"Id\" AS \"CategoryId\", \"Category\".\"CategoryName\" \n",
      "FROM \"OrderDetail\" JOIN \"Product\" ON \"Product\".\"Id\" = \"OrderDetail\".\"ProductId\" JOIN \"Category\" ON \"Category\".\"Id\" = \"Product\".\"CategoryId\" \n",
      "WHERE \"Category\".\"Id\" = ? GROUP BY \"Category\".\"Id\" ORDER BY \"OrderDetail\".\"Quantity\" DESC\n",
      "2019-04-08 14:29:39,239 INFO sqlalchemy.engine.base.Engine (6,)\n",
      "2019-04-08 14:29:39,245 INFO sqlalchemy.engine.base.Engine SELECT \"OrderDetail\".\"ProductId\", \"OrderDetail\".\"Discount\", count(\"OrderDetail\".\"Id\") AS \"Tot\", \"Product\".\"ProductName\", \"Category\".\"Id\" AS \"CategoryId\", \"Category\".\"CategoryName\" \n",
      "FROM \"OrderDetail\" JOIN \"Product\" ON \"Product\".\"Id\" = \"OrderDetail\".\"ProductId\" JOIN \"Category\" ON \"Category\".\"Id\" = \"Product\".\"CategoryId\" \n",
      "WHERE \"Category\".\"Id\" = ? GROUP BY \"Category\".\"Id\" ORDER BY \"OrderDetail\".\"Quantity\" DESC\n",
      "2019-04-08 14:29:39,245 INFO sqlalchemy.engine.base.Engine (7,)\n",
      "2019-04-08 14:29:39,251 INFO sqlalchemy.engine.base.Engine SELECT \"OrderDetail\".\"ProductId\", \"OrderDetail\".\"Discount\", count(\"OrderDetail\".\"Id\") AS \"Tot\", \"Product\".\"ProductName\", \"Category\".\"Id\" AS \"CategoryId\", \"Category\".\"CategoryName\" \n",
      "FROM \"OrderDetail\" JOIN \"Product\" ON \"Product\".\"Id\" = \"OrderDetail\".\"ProductId\" JOIN \"Category\" ON \"Category\".\"Id\" = \"Product\".\"CategoryId\" \n",
      "WHERE \"Category\".\"Id\" = ? GROUP BY \"Category\".\"Id\" ORDER BY \"OrderDetail\".\"Quantity\" DESC\n",
      "2019-04-08 14:29:39,252 INFO sqlalchemy.engine.base.Engine (8,)\n"
     ]
    }
   ],
   "source": [
    "for category in c_list:\n",
    "    df = query_category_quantity(category[\"Id\"])\n",
    "    df.Tot = df.Tot.astype('int')\n",
    "    category[\"orders\"] = df"
   ]
  },
  {
   "cell_type": "code",
   "execution_count": 78,
   "metadata": {},
   "outputs": [
    {
     "name": "stdout",
     "output_type": "stream",
     "text": [
      "orders_count\n",
      "[0    404\n",
      "Name: Tot, dtype: int64, 0    216\n",
      "Name: Tot, dtype: int64, 0    334\n",
      "Name: Tot, dtype: int64, 0    366\n",
      "Name: Tot, dtype: int64, 0    196\n",
      "Name: Tot, dtype: int64, 0    173\n",
      "Name: Tot, dtype: int64, 0    136\n",
      "Name: Tot, dtype: int64, 0    330\n",
      "Name: Tot, dtype: int64]\n",
      "names\n",
      "['Beverages', 'Condiments', 'Confections', 'Dairy', 'Grains/Cereals', 'Meat/Poultry', 'Produce', 'Seafood']\n",
      "0    2155\n",
      "Name: Tot, dtype: int64\n"
     ]
    }
   ],
   "source": [
    "orders_count = []\n",
    "names = []\n",
    "for c in c_list:\n",
    "    coun = c[\"orders\"][\"Tot\"]\n",
    "    orders_count.append(coun)\n",
    "    names.append(c[\"CategoryName\"])\n",
    "    \n",
    "print(\"orders_count\")\n",
    "print(orders_count)\n",
    "print(\"names\")\n",
    "print(names)\n",
    "print(sum(orders_count))"
   ]
  },
  {
   "cell_type": "code",
   "execution_count": 79,
   "metadata": {},
   "outputs": [],
   "source": [
    "percentage = []\n",
    "total = sum(orders_count)\n",
    "for c in orders_count:\n",
    "    percentage.append(c / total)\n"
   ]
  },
  {
   "cell_type": "code",
   "execution_count": 87,
   "metadata": {},
   "outputs": [
    {
     "data": {
      "text/plain": [
       "<matplotlib.legend.Legend at 0x1a16ec2b70>"
      ]
     },
     "execution_count": 87,
     "metadata": {},
     "output_type": "execute_result"
    },
    {
     "data": {
      "image/png": "[encoded data removed]",
      "text/plain": [
       "<Figure size 576x576 with 1 Axes>"
      ]
     },
     "metadata": {},
     "output_type": "display_data"
    }
   ],
   "source": [
    "fig, ax = plt.subplots(figsize=(8,8))\n",
    "plt.rcParams['font.size']=16\n",
    "labels = names\n",
    "color_palette_list = ['#55efc4', '#00b894', '#00cec9', '#81ecec', '#74b9ff', '#0984e3', '#6c5ce7', '#a29bfe']\n",
    "ax.pie(percentage, labels=labels, autopct='%1.0f%%', shadow=False, colors=color_palette_list, startangle=0, pctdistance=1.1, labeldistance=1.3)\n",
    "ax.axis('equal')\n",
    "ax.legend(frameon=False, bbox_to_anchor=(1.5, 0.8))\n"
   ]
  },
  {
   "cell_type": "code",
   "execution_count": null,
   "metadata": {},
   "outputs": [],
   "source": []
  }
 ],
 "metadata": {
  "kernelspec": {
   "display_name": "Python 3",
   "language": "python",
   "name": "python3"
  },
  "language_info": {
   "codemirror_mode": {
    "name": "ipython",
    "version": 3
   },
   "file_extension": ".py",
   "mimetype": "text/x-python",
   "name": "python",
   "nbconvert_exporter": "python",
   "pygments_lexer": "ipython3",
   "version": "3.7.1"
  },
  "toc": {
   "base_numbering": 1,
   "nav_menu": {},
   "number_sections": true,
   "sideBar": true,
   "skip_h1_title": false,
   "title_cell": "Table of Contents",
   "title_sidebar": "Contents",
   "toc_cell": false,
   "toc_position": {},
   "toc_section_display": true,
   "toc_window_display": false
  }
 },
 "nbformat": 4,
 "nbformat_minor": 2
}
