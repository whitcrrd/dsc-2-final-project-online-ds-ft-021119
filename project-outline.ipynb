{
 "cells": [
  {
   "cell_type": "code",
   "execution_count": 1,
   "metadata": {},
   "outputs": [],
   "source": [
    "# Reed Whitcraft\n",
    "# Mod 02 Final Project"
   ]
  },
  {
   "cell_type": "markdown",
   "metadata": {
    "heading_collapsed": true
   },
   "source": [
    "# Table of Contents\n",
    "***\n",
    "\n",
    "    1. Observation\n",
    "    2. Examine Research\n",
    "    3. Form Hypothesis\n",
    "    4. Conduct Experiment\n",
    "    5. Analyze Experimental Results\n",
    "    6. Draw Conclusions"
   ]
  },
  {
   "cell_type": "markdown",
   "metadata": {
    "heading_collapsed": true
   },
   "source": [
    "# Lab Links\n",
    "***\n",
    "- [Querying with SQLAlchemy](https://learn.co/tracks/data-science-career-v1-1/module-2-advanced-data-retrieval-and-analysis/section-15-an-introduction-to-orms/querying-with-sqlalchemy)\n",
    "- [Querying with SQLAlchemy - Lab (Solution)](https://github.com/learn-co-students/dsc-2-13-11-queries-with-sqlalchemy-lab-online-ds-ft-021119/tree/solution)\n",
    "- [Using an ORM](https://learn.co/tracks/data-science-career-v1-1/module-2-advanced-data-retrieval-and-analysis/section-15-an-introduction-to-orms/using-an-orm)\n",
    "- [Using an ORM - Lab (Solution)](https://github.com/learn-co-students/dsc-2-13-08-using-an-orm-lab-online-ds-ft-021119/tree/solution)\n",
    "- [Using Sqlite - Lab (Solution)](https://github.com/learn-co-students/dsc-2-13-04-review-using-sqlite-lab-online-ds-ft-021119/tree/solution)\n",
    "- [Nested Queries with SQLAlchemy](https://blog.miguelgrinberg.com/post/nested-queries-with-sqlalchemy-orm)\n",
    "- [Two Sample T-Test - Lab (Solution)](https://github.com/learn-co-students/dsc-2-20-09-2-sample-t-tests-lab-online-ds-ft-021119/tree/solution)\n",
    "- [Learn.co - Effect Size (Cohen d)](https://learn.co/tracks/data-science-career-v1-1/module-2-advanced-data-retrieval-and-analysis/section-20-hypothesis-and-ab-testing/effect-sizes)\n",
    "- [Effect Size](https://www.statisticssolutions.com/statistical-analyses-effect-size/)\n",
    "- [Introduction to Sampling](https://learn.co/tracks/data-science-career-v1-1/module-2-advanced-data-retrieval-and-analysis/section-19-distributions-and-sampling/introduction-to-sampling)\n"
   ]
  },
  {
   "cell_type": "markdown",
   "metadata": {},
   "source": [
    "# Database Details\n",
    "\n",
    "<table>\n",
    "    <thead>\n",
    "        <tr>\n",
    "            <th>Table Name</th>\n",
    "            <th>Primary Key</th>\n",
    "            <th>Foreign Key(s)</th>\n",
    "            <th>Count</th>\n",
    "        </tr>\n",
    "    </thead>\n",
    "    <tbody>\n",
    "        <tr><td>Product</td><td>d</td><td>d</td><td>77</td></tr>\n",
    "        <tr><td>Category</td><td>d</td><td>d</td><td>8</td></tr>\n",
    "        <tr><td>Order</td><td>d</td><td>d</td><td>830</td></tr>\n",
    "        <tr><td>OrderDetail</td><td>d</td><td>d</td><td>2155</td></tr>\n",
    "        <tr><td>Customer</td><td>d</td><td>d</td><td>91</td></tr>\n",
    "    </tbody>\n",
    "</table>"
   ]
  },
  {
   "cell_type": "code",
   "execution_count": 30,
   "metadata": {},
   "outputs": [],
   "source": [
    "# import dependencies\n",
    "import pandas as pd\n",
    "import numpy as np\n",
    "import seaborn as sns\n",
    "import sqlalchemy\n",
    "import sqlite3 as sql\n",
    "import matplotlib.pyplot as plt\n",
    "%matplotlib inline\n",
    "import seaborn as sns\n",
    "from sqlalchemy import create_engine\n",
    "from sqlalchemy.orm import Session, sessionmaker\n",
    "from sqlalchemy import inspect\n",
    "from ipywidgets import interact, interactive"
   ]
  },
  {
   "cell_type": "code",
   "execution_count": 54,
   "metadata": {},
   "outputs": [],
   "source": [
    "# helper methods :)\n",
    "\n",
    "def effect_size_blurb(effect_size):\n",
    "    e_size = \"\"\n",
    "    if effect_size <= 0.20:\n",
    "        e_size = \"small\"\n",
    "    elif effect_size >0.20 and effect_size <=0.50:\n",
    "        e_size = \"small/medium\"\n",
    "    elif effect_size > 0.50 and effect_size <=0.80:\n",
    "        e_size = \"medium/large\"\n",
    "    elif effect_size > 0.80 and effect_size <=1.20:\n",
    "        e_size = \"large/very large\"\n",
    "    else:\n",
    "        e_size = \"huge\" \n",
    "        \n",
    "    init = \"Effect size is a measurement of the strength of a relationship between two variables on a numeric scale, and Cohen's d calculates this as the difference between two means divided by a standard deviation for the combined data. \"\n",
    "    init2 = \"Generally, 0.01 is considered very small, 0.20 small, 0.50 medium, 0.80 large, 1.20 very large, and 2.0 huge. \"\n",
    "    init3 = \"Typically, a lower Cohen's d score indicates the need for larger sample sizes. \"\n",
    "    init4 = \"With a cohen's d value of \" + str(round(effect_size, 3)) + \", we can say that the effect size is \" + e_size\n",
    "    \n",
    "    return init + init2 + init3 + init4\n",
    "    \n",
    "    "
   ]
  },
  {
   "cell_type": "code",
   "execution_count": 79,
   "metadata": {},
   "outputs": [
    {
     "name": "stdout",
     "output_type": "stream",
     "text": [
      "['Employee', 'Category', 'Customer', 'Shipper', 'Supplier', 'Order', 'Product', 'OrderDetail', 'CustomerCustomerDemo', 'CustomerDemographic', 'Region', 'Territory', 'EmployeeTerritory']\n"
     ]
    }
   ],
   "source": [
    "# Open a connection to the sql server. I'll use sqlite3 for now, but I may switch to another sql module later if I need it.\n",
    "connect = sql.connect('Northwind_small.sqlite')\n",
    "c = connect.cursor()\n",
    "# Get table names\n",
    "raw = c.execute(\"\"\"select name from sqlite_master where type = 'table'\"\"\").fetchall()\n",
    "tables = []\n",
    "for table in raw:\n",
    "    tables.append(table[0])\n",
    "    \n",
    "print(tables)"
   ]
  },
  {
   "cell_type": "code",
   "execution_count": 61,
   "metadata": {},
   "outputs": [
    {
     "data": {
      "application/vnd.jupyter.widget-view+json": {
       "model_id": "51b77ae27f054f60b0287be3411c0bba",
       "version_major": 2,
       "version_minor": 0
      },
      "text/plain": [
       "interactive(children=(Dropdown(description='Table', options=('Employee', 'Category', 'Customer', 'Shipper', 'S…"
      ]
     },
     "metadata": {},
     "output_type": "display_data"
    }
   ],
   "source": [
    "@interact\n",
    "def table_preview(Table = tables, Preview = ['Head','Description', 'Shape','Unique','Types']):\n",
    "    statement = \"SELECT * FROM [\" + Table + \"]\"\n",
    "    print(statement)\n",
    "    df = pd.read_sql_query(statement, connect)\n",
    "    preview_return = {'Head':df.head(10), 'Description':df.describe(), \n",
    "                      'Shape':df.shape, 'Unique':df.nunique(axis = 0), 'Types':df.dtypes}\n",
    "    out = preview_return[Preview]\n",
    "    return out"
   ]
  },
  {
   "cell_type": "code",
   "execution_count": 34,
   "metadata": {},
   "outputs": [
    {
     "name": "stdout",
     "output_type": "stream",
     "text": [
      "2019-04-03 11:07:21,674 INFO sqlalchemy.engine.base.Engine SELECT CAST('test plain returns' AS VARCHAR(60)) AS anon_1\n",
      "2019-04-03 11:07:21,674 INFO sqlalchemy.engine.base.Engine ()\n",
      "2019-04-03 11:07:21,675 INFO sqlalchemy.engine.base.Engine SELECT CAST('test unicode returns' AS VARCHAR(60)) AS anon_1\n",
      "2019-04-03 11:07:21,676 INFO sqlalchemy.engine.base.Engine ()\n",
      "2019-04-03 11:07:21,677 INFO sqlalchemy.engine.base.Engine SELECT name FROM sqlite_master WHERE type='table' ORDER BY name\n",
      "2019-04-03 11:07:21,678 INFO sqlalchemy.engine.base.Engine ()\n",
      "['Category', 'Customer', 'CustomerCustomerDemo', 'CustomerDemographic', 'Employee', 'EmployeeTerritory', 'Order', 'OrderDetail', 'Product', 'Region', 'Shipper', 'Supplier', 'Territory']\n"
     ]
    }
   ],
   "source": [
    "# connecting to database\n",
    "engine = create_engine(\"sqlite:///Northwind_small.sqlite\", echo=True)\n",
    "Session = sessionmaker(bind=engine)\n",
    "session = Session()\n",
    "inspector = inspect(engine)\n",
    "print(inspector.get_table_names()) # print table names"
   ]
  },
  {
   "cell_type": "code",
   "execution_count": 35,
   "metadata": {},
   "outputs": [],
   "source": [
    "from sqlalchemy.sql import func"
   ]
  },
  {
   "cell_type": "code",
   "execution_count": 36,
   "metadata": {},
   "outputs": [
    {
     "name": "stdout",
     "output_type": "stream",
     "text": [
      "2019-04-03 11:07:24,314 INFO sqlalchemy.engine.base.Engine SELECT name FROM sqlite_master WHERE type='table' ORDER BY name\n",
      "2019-04-03 11:07:24,315 INFO sqlalchemy.engine.base.Engine ()\n",
      "2019-04-03 11:07:24,318 INFO sqlalchemy.engine.base.Engine PRAGMA table_info(\"Category\")\n",
      "2019-04-03 11:07:24,319 INFO sqlalchemy.engine.base.Engine ()\n",
      "2019-04-03 11:07:24,321 INFO sqlalchemy.engine.base.Engine SELECT sql FROM  (SELECT * FROM sqlite_master UNION ALL   SELECT * FROM sqlite_temp_master) WHERE name = 'Category' AND type = 'table'\n",
      "2019-04-03 11:07:24,321 INFO sqlalchemy.engine.base.Engine ()\n",
      "2019-04-03 11:07:24,323 INFO sqlalchemy.engine.base.Engine PRAGMA foreign_key_list(\"Category\")\n",
      "2019-04-03 11:07:24,324 INFO sqlalchemy.engine.base.Engine ()\n",
      "2019-04-03 11:07:24,325 INFO sqlalchemy.engine.base.Engine SELECT sql FROM  (SELECT * FROM sqlite_master UNION ALL   SELECT * FROM sqlite_temp_master) WHERE name = 'Category' AND type = 'table'\n",
      "2019-04-03 11:07:24,325 INFO sqlalchemy.engine.base.Engine ()\n",
      "2019-04-03 11:07:24,327 INFO sqlalchemy.engine.base.Engine PRAGMA index_list(\"Category\")\n",
      "2019-04-03 11:07:24,328 INFO sqlalchemy.engine.base.Engine ()\n",
      "2019-04-03 11:07:24,330 INFO sqlalchemy.engine.base.Engine PRAGMA index_list(\"Category\")\n",
      "2019-04-03 11:07:24,330 INFO sqlalchemy.engine.base.Engine ()\n",
      "2019-04-03 11:07:24,332 INFO sqlalchemy.engine.base.Engine SELECT sql FROM  (SELECT * FROM sqlite_master UNION ALL   SELECT * FROM sqlite_temp_master) WHERE name = 'Category' AND type = 'table'\n",
      "2019-04-03 11:07:24,333 INFO sqlalchemy.engine.base.Engine ()\n",
      "2019-04-03 11:07:24,334 INFO sqlalchemy.engine.base.Engine PRAGMA table_info(\"Customer\")\n",
      "2019-04-03 11:07:24,335 INFO sqlalchemy.engine.base.Engine ()\n",
      "2019-04-03 11:07:24,338 INFO sqlalchemy.engine.base.Engine SELECT sql FROM  (SELECT * FROM sqlite_master UNION ALL   SELECT * FROM sqlite_temp_master) WHERE name = 'Customer' AND type = 'table'\n",
      "2019-04-03 11:07:24,339 INFO sqlalchemy.engine.base.Engine ()\n",
      "2019-04-03 11:07:24,341 INFO sqlalchemy.engine.base.Engine PRAGMA foreign_key_list(\"Customer\")\n",
      "2019-04-03 11:07:24,342 INFO sqlalchemy.engine.base.Engine ()\n",
      "2019-04-03 11:07:24,343 INFO sqlalchemy.engine.base.Engine SELECT sql FROM  (SELECT * FROM sqlite_master UNION ALL   SELECT * FROM sqlite_temp_master) WHERE name = 'Customer' AND type = 'table'\n",
      "2019-04-03 11:07:24,344 INFO sqlalchemy.engine.base.Engine ()\n",
      "2019-04-03 11:07:24,346 INFO sqlalchemy.engine.base.Engine PRAGMA index_list(\"Customer\")\n",
      "2019-04-03 11:07:24,347 INFO sqlalchemy.engine.base.Engine ()\n",
      "2019-04-03 11:07:24,349 INFO sqlalchemy.engine.base.Engine PRAGMA index_list(\"Customer\")\n",
      "2019-04-03 11:07:24,349 INFO sqlalchemy.engine.base.Engine ()\n",
      "2019-04-03 11:07:24,351 INFO sqlalchemy.engine.base.Engine PRAGMA index_info(\"sqlite_autoindex_Customer_1\")\n",
      "2019-04-03 11:07:24,351 INFO sqlalchemy.engine.base.Engine ()\n",
      "2019-04-03 11:07:24,353 INFO sqlalchemy.engine.base.Engine SELECT sql FROM  (SELECT * FROM sqlite_master UNION ALL   SELECT * FROM sqlite_temp_master) WHERE name = 'Customer' AND type = 'table'\n",
      "2019-04-03 11:07:24,354 INFO sqlalchemy.engine.base.Engine ()\n",
      "2019-04-03 11:07:24,355 INFO sqlalchemy.engine.base.Engine PRAGMA table_info(\"CustomerCustomerDemo\")\n",
      "2019-04-03 11:07:24,357 INFO sqlalchemy.engine.base.Engine ()\n",
      "2019-04-03 11:07:24,358 INFO sqlalchemy.engine.base.Engine SELECT sql FROM  (SELECT * FROM sqlite_master UNION ALL   SELECT * FROM sqlite_temp_master) WHERE name = 'CustomerCustomerDemo' AND type = 'table'\n",
      "2019-04-03 11:07:24,359 INFO sqlalchemy.engine.base.Engine ()\n",
      "2019-04-03 11:07:24,361 INFO sqlalchemy.engine.base.Engine PRAGMA foreign_key_list(\"CustomerCustomerDemo\")\n",
      "2019-04-03 11:07:24,361 INFO sqlalchemy.engine.base.Engine ()\n",
      "2019-04-03 11:07:24,362 INFO sqlalchemy.engine.base.Engine SELECT sql FROM  (SELECT * FROM sqlite_master UNION ALL   SELECT * FROM sqlite_temp_master) WHERE name = 'CustomerCustomerDemo' AND type = 'table'\n",
      "2019-04-03 11:07:24,363 INFO sqlalchemy.engine.base.Engine ()\n",
      "2019-04-03 11:07:24,364 INFO sqlalchemy.engine.base.Engine PRAGMA index_list(\"CustomerCustomerDemo\")\n",
      "2019-04-03 11:07:24,365 INFO sqlalchemy.engine.base.Engine ()\n",
      "2019-04-03 11:07:24,366 INFO sqlalchemy.engine.base.Engine PRAGMA index_list(\"CustomerCustomerDemo\")\n",
      "2019-04-03 11:07:24,367 INFO sqlalchemy.engine.base.Engine ()\n",
      "2019-04-03 11:07:24,368 INFO sqlalchemy.engine.base.Engine PRAGMA index_info(\"sqlite_autoindex_CustomerCustomerDemo_1\")\n",
      "2019-04-03 11:07:24,369 INFO sqlalchemy.engine.base.Engine ()\n",
      "2019-04-03 11:07:24,370 INFO sqlalchemy.engine.base.Engine SELECT sql FROM  (SELECT * FROM sqlite_master UNION ALL   SELECT * FROM sqlite_temp_master) WHERE name = 'CustomerCustomerDemo' AND type = 'table'\n",
      "2019-04-03 11:07:24,371 INFO sqlalchemy.engine.base.Engine ()\n",
      "2019-04-03 11:07:24,373 INFO sqlalchemy.engine.base.Engine PRAGMA table_info(\"CustomerDemographic\")\n",
      "2019-04-03 11:07:24,373 INFO sqlalchemy.engine.base.Engine ()\n",
      "2019-04-03 11:07:24,375 INFO sqlalchemy.engine.base.Engine SELECT sql FROM  (SELECT * FROM sqlite_master UNION ALL   SELECT * FROM sqlite_temp_master) WHERE name = 'CustomerDemographic' AND type = 'table'\n",
      "2019-04-03 11:07:24,376 INFO sqlalchemy.engine.base.Engine ()\n",
      "2019-04-03 11:07:24,378 INFO sqlalchemy.engine.base.Engine PRAGMA foreign_key_list(\"CustomerDemographic\")\n",
      "2019-04-03 11:07:24,379 INFO sqlalchemy.engine.base.Engine ()\n",
      "2019-04-03 11:07:24,380 INFO sqlalchemy.engine.base.Engine SELECT sql FROM  (SELECT * FROM sqlite_master UNION ALL   SELECT * FROM sqlite_temp_master) WHERE name = 'CustomerDemographic' AND type = 'table'\n",
      "2019-04-03 11:07:24,380 INFO sqlalchemy.engine.base.Engine ()\n",
      "2019-04-03 11:07:24,382 INFO sqlalchemy.engine.base.Engine PRAGMA index_list(\"CustomerDemographic\")\n",
      "2019-04-03 11:07:24,382 INFO sqlalchemy.engine.base.Engine ()\n",
      "2019-04-03 11:07:24,384 INFO sqlalchemy.engine.base.Engine PRAGMA index_list(\"CustomerDemographic\")\n",
      "2019-04-03 11:07:24,385 INFO sqlalchemy.engine.base.Engine ()\n",
      "2019-04-03 11:07:24,386 INFO sqlalchemy.engine.base.Engine PRAGMA index_info(\"sqlite_autoindex_CustomerDemographic_1\")\n",
      "2019-04-03 11:07:24,387 INFO sqlalchemy.engine.base.Engine ()\n",
      "2019-04-03 11:07:24,388 INFO sqlalchemy.engine.base.Engine SELECT sql FROM  (SELECT * FROM sqlite_master UNION ALL   SELECT * FROM sqlite_temp_master) WHERE name = 'CustomerDemographic' AND type = 'table'\n",
      "2019-04-03 11:07:24,388 INFO sqlalchemy.engine.base.Engine ()\n",
      "2019-04-03 11:07:24,389 INFO sqlalchemy.engine.base.Engine PRAGMA table_info(\"Employee\")\n",
      "2019-04-03 11:07:24,390 INFO sqlalchemy.engine.base.Engine ()\n",
      "2019-04-03 11:07:24,393 INFO sqlalchemy.engine.base.Engine SELECT sql FROM  (SELECT * FROM sqlite_master UNION ALL   SELECT * FROM sqlite_temp_master) WHERE name = 'Employee' AND type = 'table'\n",
      "2019-04-03 11:07:24,393 INFO sqlalchemy.engine.base.Engine ()\n",
      "2019-04-03 11:07:24,395 INFO sqlalchemy.engine.base.Engine PRAGMA foreign_key_list(\"Employee\")\n",
      "2019-04-03 11:07:24,395 INFO sqlalchemy.engine.base.Engine ()\n",
      "2019-04-03 11:07:24,397 INFO sqlalchemy.engine.base.Engine SELECT sql FROM  (SELECT * FROM sqlite_master UNION ALL   SELECT * FROM sqlite_temp_master) WHERE name = 'Employee' AND type = 'table'\n",
      "2019-04-03 11:07:24,398 INFO sqlalchemy.engine.base.Engine ()\n",
      "2019-04-03 11:07:24,399 INFO sqlalchemy.engine.base.Engine PRAGMA index_list(\"Employee\")\n",
      "2019-04-03 11:07:24,400 INFO sqlalchemy.engine.base.Engine ()\n",
      "2019-04-03 11:07:24,401 INFO sqlalchemy.engine.base.Engine PRAGMA index_list(\"Employee\")\n",
      "2019-04-03 11:07:24,402 INFO sqlalchemy.engine.base.Engine ()\n",
      "2019-04-03 11:07:24,403 INFO sqlalchemy.engine.base.Engine SELECT sql FROM  (SELECT * FROM sqlite_master UNION ALL   SELECT * FROM sqlite_temp_master) WHERE name = 'Employee' AND type = 'table'\n",
      "2019-04-03 11:07:24,404 INFO sqlalchemy.engine.base.Engine ()\n",
      "2019-04-03 11:07:24,406 INFO sqlalchemy.engine.base.Engine PRAGMA table_info(\"EmployeeTerritory\")\n",
      "2019-04-03 11:07:24,407 INFO sqlalchemy.engine.base.Engine ()\n",
      "2019-04-03 11:07:24,410 INFO sqlalchemy.engine.base.Engine SELECT sql FROM  (SELECT * FROM sqlite_master UNION ALL   SELECT * FROM sqlite_temp_master) WHERE name = 'EmployeeTerritory' AND type = 'table'\n",
      "2019-04-03 11:07:24,410 INFO sqlalchemy.engine.base.Engine ()\n"
     ]
    },
    {
     "name": "stdout",
     "output_type": "stream",
     "text": [
      "2019-04-03 11:07:24,412 INFO sqlalchemy.engine.base.Engine PRAGMA foreign_key_list(\"EmployeeTerritory\")\n",
      "2019-04-03 11:07:24,413 INFO sqlalchemy.engine.base.Engine ()\n",
      "2019-04-03 11:07:24,414 INFO sqlalchemy.engine.base.Engine SELECT sql FROM  (SELECT * FROM sqlite_master UNION ALL   SELECT * FROM sqlite_temp_master) WHERE name = 'EmployeeTerritory' AND type = 'table'\n",
      "2019-04-03 11:07:24,414 INFO sqlalchemy.engine.base.Engine ()\n",
      "2019-04-03 11:07:24,415 INFO sqlalchemy.engine.base.Engine PRAGMA index_list(\"EmployeeTerritory\")\n",
      "2019-04-03 11:07:24,415 INFO sqlalchemy.engine.base.Engine ()\n",
      "2019-04-03 11:07:24,416 INFO sqlalchemy.engine.base.Engine PRAGMA index_list(\"EmployeeTerritory\")\n",
      "2019-04-03 11:07:24,417 INFO sqlalchemy.engine.base.Engine ()\n",
      "2019-04-03 11:07:24,420 INFO sqlalchemy.engine.base.Engine PRAGMA index_info(\"sqlite_autoindex_EmployeeTerritory_1\")\n",
      "2019-04-03 11:07:24,423 INFO sqlalchemy.engine.base.Engine ()\n",
      "2019-04-03 11:07:24,424 INFO sqlalchemy.engine.base.Engine SELECT sql FROM  (SELECT * FROM sqlite_master UNION ALL   SELECT * FROM sqlite_temp_master) WHERE name = 'EmployeeTerritory' AND type = 'table'\n",
      "2019-04-03 11:07:24,425 INFO sqlalchemy.engine.base.Engine ()\n",
      "2019-04-03 11:07:24,427 INFO sqlalchemy.engine.base.Engine PRAGMA table_info(\"Order\")\n",
      "2019-04-03 11:07:24,428 INFO sqlalchemy.engine.base.Engine ()\n",
      "2019-04-03 11:07:24,432 INFO sqlalchemy.engine.base.Engine SELECT sql FROM  (SELECT * FROM sqlite_master UNION ALL   SELECT * FROM sqlite_temp_master) WHERE name = 'Order' AND type = 'table'\n",
      "2019-04-03 11:07:24,433 INFO sqlalchemy.engine.base.Engine ()\n",
      "2019-04-03 11:07:24,434 INFO sqlalchemy.engine.base.Engine PRAGMA foreign_key_list(\"Order\")\n",
      "2019-04-03 11:07:24,436 INFO sqlalchemy.engine.base.Engine ()\n",
      "2019-04-03 11:07:24,437 INFO sqlalchemy.engine.base.Engine SELECT sql FROM  (SELECT * FROM sqlite_master UNION ALL   SELECT * FROM sqlite_temp_master) WHERE name = 'Order' AND type = 'table'\n",
      "2019-04-03 11:07:24,440 INFO sqlalchemy.engine.base.Engine ()\n",
      "2019-04-03 11:07:24,441 INFO sqlalchemy.engine.base.Engine PRAGMA index_list(\"Order\")\n",
      "2019-04-03 11:07:24,442 INFO sqlalchemy.engine.base.Engine ()\n",
      "2019-04-03 11:07:24,444 INFO sqlalchemy.engine.base.Engine PRAGMA index_list(\"Order\")\n",
      "2019-04-03 11:07:24,445 INFO sqlalchemy.engine.base.Engine ()\n",
      "2019-04-03 11:07:24,447 INFO sqlalchemy.engine.base.Engine SELECT sql FROM  (SELECT * FROM sqlite_master UNION ALL   SELECT * FROM sqlite_temp_master) WHERE name = 'Order' AND type = 'table'\n",
      "2019-04-03 11:07:24,448 INFO sqlalchemy.engine.base.Engine ()\n",
      "2019-04-03 11:07:24,457 INFO sqlalchemy.engine.base.Engine PRAGMA table_info(\"OrderDetail\")\n",
      "2019-04-03 11:07:24,459 INFO sqlalchemy.engine.base.Engine ()\n",
      "2019-04-03 11:07:24,461 INFO sqlalchemy.engine.base.Engine SELECT sql FROM  (SELECT * FROM sqlite_master UNION ALL   SELECT * FROM sqlite_temp_master) WHERE name = 'OrderDetail' AND type = 'table'\n",
      "2019-04-03 11:07:24,462 INFO sqlalchemy.engine.base.Engine ()\n",
      "2019-04-03 11:07:24,464 INFO sqlalchemy.engine.base.Engine PRAGMA foreign_key_list(\"OrderDetail\")\n",
      "2019-04-03 11:07:24,465 INFO sqlalchemy.engine.base.Engine ()\n",
      "2019-04-03 11:07:24,466 INFO sqlalchemy.engine.base.Engine SELECT sql FROM  (SELECT * FROM sqlite_master UNION ALL   SELECT * FROM sqlite_temp_master) WHERE name = 'OrderDetail' AND type = 'table'\n",
      "2019-04-03 11:07:24,467 INFO sqlalchemy.engine.base.Engine ()\n",
      "2019-04-03 11:07:24,468 INFO sqlalchemy.engine.base.Engine PRAGMA index_list(\"OrderDetail\")\n",
      "2019-04-03 11:07:24,469 INFO sqlalchemy.engine.base.Engine ()\n",
      "2019-04-03 11:07:24,470 INFO sqlalchemy.engine.base.Engine PRAGMA index_list(\"OrderDetail\")\n",
      "2019-04-03 11:07:24,471 INFO sqlalchemy.engine.base.Engine ()\n",
      "2019-04-03 11:07:24,472 INFO sqlalchemy.engine.base.Engine PRAGMA index_info(\"sqlite_autoindex_OrderDetail_1\")\n",
      "2019-04-03 11:07:24,473 INFO sqlalchemy.engine.base.Engine ()\n",
      "2019-04-03 11:07:24,474 INFO sqlalchemy.engine.base.Engine SELECT sql FROM  (SELECT * FROM sqlite_master UNION ALL   SELECT * FROM sqlite_temp_master) WHERE name = 'OrderDetail' AND type = 'table'\n",
      "2019-04-03 11:07:24,475 INFO sqlalchemy.engine.base.Engine ()\n",
      "2019-04-03 11:07:24,477 INFO sqlalchemy.engine.base.Engine PRAGMA table_info(\"Product\")\n",
      "2019-04-03 11:07:24,479 INFO sqlalchemy.engine.base.Engine ()\n",
      "2019-04-03 11:07:24,482 INFO sqlalchemy.engine.base.Engine SELECT sql FROM  (SELECT * FROM sqlite_master UNION ALL   SELECT * FROM sqlite_temp_master) WHERE name = 'Product' AND type = 'table'\n",
      "2019-04-03 11:07:24,483 INFO sqlalchemy.engine.base.Engine ()\n",
      "2019-04-03 11:07:24,485 INFO sqlalchemy.engine.base.Engine PRAGMA foreign_key_list(\"Product\")\n",
      "2019-04-03 11:07:24,486 INFO sqlalchemy.engine.base.Engine ()\n",
      "2019-04-03 11:07:24,487 INFO sqlalchemy.engine.base.Engine SELECT sql FROM  (SELECT * FROM sqlite_master UNION ALL   SELECT * FROM sqlite_temp_master) WHERE name = 'Product' AND type = 'table'\n",
      "2019-04-03 11:07:24,488 INFO sqlalchemy.engine.base.Engine ()\n",
      "2019-04-03 11:07:24,490 INFO sqlalchemy.engine.base.Engine PRAGMA index_list(\"Product\")\n",
      "2019-04-03 11:07:24,492 INFO sqlalchemy.engine.base.Engine ()\n",
      "2019-04-03 11:07:24,494 INFO sqlalchemy.engine.base.Engine PRAGMA index_list(\"Product\")\n",
      "2019-04-03 11:07:24,494 INFO sqlalchemy.engine.base.Engine ()\n",
      "2019-04-03 11:07:24,496 INFO sqlalchemy.engine.base.Engine SELECT sql FROM  (SELECT * FROM sqlite_master UNION ALL   SELECT * FROM sqlite_temp_master) WHERE name = 'Product' AND type = 'table'\n",
      "2019-04-03 11:07:24,497 INFO sqlalchemy.engine.base.Engine ()\n",
      "2019-04-03 11:07:24,499 INFO sqlalchemy.engine.base.Engine PRAGMA table_info(\"Region\")\n",
      "2019-04-03 11:07:24,500 INFO sqlalchemy.engine.base.Engine ()\n",
      "2019-04-03 11:07:24,503 INFO sqlalchemy.engine.base.Engine SELECT sql FROM  (SELECT * FROM sqlite_master UNION ALL   SELECT * FROM sqlite_temp_master) WHERE name = 'Region' AND type = 'table'\n",
      "2019-04-03 11:07:24,504 INFO sqlalchemy.engine.base.Engine ()\n",
      "2019-04-03 11:07:24,505 INFO sqlalchemy.engine.base.Engine PRAGMA foreign_key_list(\"Region\")\n",
      "2019-04-03 11:07:24,506 INFO sqlalchemy.engine.base.Engine ()\n",
      "2019-04-03 11:07:24,508 INFO sqlalchemy.engine.base.Engine SELECT sql FROM  (SELECT * FROM sqlite_master UNION ALL   SELECT * FROM sqlite_temp_master) WHERE name = 'Region' AND type = 'table'\n",
      "2019-04-03 11:07:24,508 INFO sqlalchemy.engine.base.Engine ()\n",
      "2019-04-03 11:07:24,510 INFO sqlalchemy.engine.base.Engine PRAGMA index_list(\"Region\")\n",
      "2019-04-03 11:07:24,511 INFO sqlalchemy.engine.base.Engine ()\n",
      "2019-04-03 11:07:24,512 INFO sqlalchemy.engine.base.Engine PRAGMA index_list(\"Region\")\n",
      "2019-04-03 11:07:24,513 INFO sqlalchemy.engine.base.Engine ()\n",
      "2019-04-03 11:07:24,515 INFO sqlalchemy.engine.base.Engine SELECT sql FROM  (SELECT * FROM sqlite_master UNION ALL   SELECT * FROM sqlite_temp_master) WHERE name = 'Region' AND type = 'table'\n",
      "2019-04-03 11:07:24,517 INFO sqlalchemy.engine.base.Engine ()\n",
      "2019-04-03 11:07:24,519 INFO sqlalchemy.engine.base.Engine PRAGMA table_info(\"Shipper\")\n",
      "2019-04-03 11:07:24,520 INFO sqlalchemy.engine.base.Engine ()\n",
      "2019-04-03 11:07:24,522 INFO sqlalchemy.engine.base.Engine SELECT sql FROM  (SELECT * FROM sqlite_master UNION ALL   SELECT * FROM sqlite_temp_master) WHERE name = 'Shipper' AND type = 'table'\n",
      "2019-04-03 11:07:24,523 INFO sqlalchemy.engine.base.Engine ()\n",
      "2019-04-03 11:07:24,525 INFO sqlalchemy.engine.base.Engine PRAGMA foreign_key_list(\"Shipper\")\n",
      "2019-04-03 11:07:24,526 INFO sqlalchemy.engine.base.Engine ()\n",
      "2019-04-03 11:07:24,528 INFO sqlalchemy.engine.base.Engine SELECT sql FROM  (SELECT * FROM sqlite_master UNION ALL   SELECT * FROM sqlite_temp_master) WHERE name = 'Shipper' AND type = 'table'\n",
      "2019-04-03 11:07:24,529 INFO sqlalchemy.engine.base.Engine ()\n",
      "2019-04-03 11:07:24,530 INFO sqlalchemy.engine.base.Engine PRAGMA index_list(\"Shipper\")\n",
      "2019-04-03 11:07:24,531 INFO sqlalchemy.engine.base.Engine ()\n",
      "2019-04-03 11:07:24,533 INFO sqlalchemy.engine.base.Engine PRAGMA index_list(\"Shipper\")\n",
      "2019-04-03 11:07:24,534 INFO sqlalchemy.engine.base.Engine ()\n",
      "2019-04-03 11:07:24,538 INFO sqlalchemy.engine.base.Engine SELECT sql FROM  (SELECT * FROM sqlite_master UNION ALL   SELECT * FROM sqlite_temp_master) WHERE name = 'Shipper' AND type = 'table'\n",
      "2019-04-03 11:07:24,539 INFO sqlalchemy.engine.base.Engine ()\n"
     ]
    },
    {
     "name": "stdout",
     "output_type": "stream",
     "text": [
      "2019-04-03 11:07:24,540 INFO sqlalchemy.engine.base.Engine PRAGMA table_info(\"Supplier\")\n",
      "2019-04-03 11:07:24,542 INFO sqlalchemy.engine.base.Engine ()\n",
      "2019-04-03 11:07:24,545 INFO sqlalchemy.engine.base.Engine SELECT sql FROM  (SELECT * FROM sqlite_master UNION ALL   SELECT * FROM sqlite_temp_master) WHERE name = 'Supplier' AND type = 'table'\n",
      "2019-04-03 11:07:24,546 INFO sqlalchemy.engine.base.Engine ()\n",
      "2019-04-03 11:07:24,548 INFO sqlalchemy.engine.base.Engine PRAGMA foreign_key_list(\"Supplier\")\n",
      "2019-04-03 11:07:24,549 INFO sqlalchemy.engine.base.Engine ()\n",
      "2019-04-03 11:07:24,551 INFO sqlalchemy.engine.base.Engine SELECT sql FROM  (SELECT * FROM sqlite_master UNION ALL   SELECT * FROM sqlite_temp_master) WHERE name = 'Supplier' AND type = 'table'\n",
      "2019-04-03 11:07:24,552 INFO sqlalchemy.engine.base.Engine ()\n",
      "2019-04-03 11:07:24,554 INFO sqlalchemy.engine.base.Engine PRAGMA index_list(\"Supplier\")\n",
      "2019-04-03 11:07:24,555 INFO sqlalchemy.engine.base.Engine ()\n",
      "2019-04-03 11:07:24,556 INFO sqlalchemy.engine.base.Engine PRAGMA index_list(\"Supplier\")\n",
      "2019-04-03 11:07:24,557 INFO sqlalchemy.engine.base.Engine ()\n",
      "2019-04-03 11:07:24,558 INFO sqlalchemy.engine.base.Engine SELECT sql FROM  (SELECT * FROM sqlite_master UNION ALL   SELECT * FROM sqlite_temp_master) WHERE name = 'Supplier' AND type = 'table'\n",
      "2019-04-03 11:07:24,559 INFO sqlalchemy.engine.base.Engine ()\n",
      "2019-04-03 11:07:24,560 INFO sqlalchemy.engine.base.Engine PRAGMA table_info(\"Territory\")\n",
      "2019-04-03 11:07:24,561 INFO sqlalchemy.engine.base.Engine ()\n",
      "2019-04-03 11:07:24,566 INFO sqlalchemy.engine.base.Engine SELECT sql FROM  (SELECT * FROM sqlite_master UNION ALL   SELECT * FROM sqlite_temp_master) WHERE name = 'Territory' AND type = 'table'\n",
      "2019-04-03 11:07:24,567 INFO sqlalchemy.engine.base.Engine ()\n",
      "2019-04-03 11:07:24,569 INFO sqlalchemy.engine.base.Engine PRAGMA foreign_key_list(\"Territory\")\n",
      "2019-04-03 11:07:24,570 INFO sqlalchemy.engine.base.Engine ()\n",
      "2019-04-03 11:07:24,572 INFO sqlalchemy.engine.base.Engine SELECT sql FROM  (SELECT * FROM sqlite_master UNION ALL   SELECT * FROM sqlite_temp_master) WHERE name = 'Territory' AND type = 'table'\n",
      "2019-04-03 11:07:24,572 INFO sqlalchemy.engine.base.Engine ()\n",
      "2019-04-03 11:07:24,574 INFO sqlalchemy.engine.base.Engine PRAGMA index_list(\"Territory\")\n",
      "2019-04-03 11:07:24,574 INFO sqlalchemy.engine.base.Engine ()\n",
      "2019-04-03 11:07:24,575 INFO sqlalchemy.engine.base.Engine PRAGMA index_list(\"Territory\")\n",
      "2019-04-03 11:07:24,576 INFO sqlalchemy.engine.base.Engine ()\n",
      "2019-04-03 11:07:24,577 INFO sqlalchemy.engine.base.Engine PRAGMA index_info(\"sqlite_autoindex_Territory_1\")\n",
      "2019-04-03 11:07:24,578 INFO sqlalchemy.engine.base.Engine ()\n",
      "2019-04-03 11:07:24,579 INFO sqlalchemy.engine.base.Engine SELECT sql FROM  (SELECT * FROM sqlite_master UNION ALL   SELECT * FROM sqlite_temp_master) WHERE name = 'Territory' AND type = 'table'\n",
      "2019-04-03 11:07:24,580 INFO sqlalchemy.engine.base.Engine ()\n"
     ]
    }
   ],
   "source": [
    "from sqlalchemy import MetaData\n",
    "from sqlalchemy.ext.automap import automap_base\n",
    "\n",
    "metadata = MetaData()\n",
    "metadata.reflect(engine)\n",
    "Base = automap_base(metadata=metadata)\n",
    "Base.prepare()"
   ]
  },
  {
   "cell_type": "code",
   "execution_count": 37,
   "metadata": {},
   "outputs": [],
   "source": [
    "# Mapping to classes\n",
    "Employee, Customer = Base.classes.Employee, Base.classes.Customer\n",
    "Product, Category = Base.classes.Product, Base.classes.Category\n",
    "Order, OrderDetail = Base.classes.Order, Base.classes.OrderDetail"
   ]
  },
  {
   "cell_type": "markdown",
   "metadata": {},
   "source": [
    "## 3.1 Hypothesis Test 01\n",
    "\n",
    "### Question: Do discounts increase the overall order size?\n",
    "\n",
    "Economically, there is a negative relationship between price and demand - as price goes up, demand falls, and as price goes down, demand rises.  For this case study, I will look to see if the presence of discounts (decrease in price) increases the overall order size (quantity demanded) by comparing the average total quantities ordered in two groups - (1) Orders that have at least one item discounted (Discounted), and (2) Orders that contain no discounted items (Undiscounted).\n",
    "\n",
    "Formally,\n",
    "\n",
    "#### Null Hypothesis\n",
    "\n",
    ">**Ho:** Discounted Mean Quantity Ordered = Undiscounted Mean Quantity Ordered\n",
    "\n",
    "#### Alternate Hypothesis\n",
    "\n",
    ">**Ha:** Discounted Mean Quantity Ordered > Undiscounted Mean Quantity Ordered\n",
    "\n",
    "First, we have to query our database - aggregating the OrderDetails (line items) for each Order, and separating discounted and undiscounted orders."
   ]
  },
  {
   "cell_type": "raw",
   "metadata": {},
   "source": []
  },
  {
   "cell_type": "code",
   "execution_count": 38,
   "metadata": {},
   "outputs": [
    {
     "name": "stdout",
     "output_type": "stream",
     "text": [
      "2019-04-03 11:07:40,750 INFO sqlalchemy.engine.base.Engine SELECT anon_1.\"Id\", anon_1.\"OrderId\", anon_1.\"ProductId\", anon_1.\"UnitPrice\", anon_1.\"Quantity\", anon_1.\"Discount\", anon_1.\"TotalQuantity\", anon_1.\"MaxDiscount\", anon_1.\"MinDiscount\" \n",
      "FROM (SELECT \"OrderDetail\".\"Id\" AS \"Id\", \"OrderDetail\".\"OrderId\" AS \"OrderId\", \"OrderDetail\".\"ProductId\" AS \"ProductId\", \"OrderDetail\".\"UnitPrice\" AS \"UnitPrice\", \"OrderDetail\".\"Quantity\" AS \"Quantity\", \"OrderDetail\".\"Discount\" AS \"Discount\", sum(\"OrderDetail\".\"Quantity\") AS \"TotalQuantity\", max(\"OrderDetail\".\"Discount\") AS \"MaxDiscount\", min(\"OrderDetail\".\"Discount\") AS \"MinDiscount\" \n",
      "FROM \"OrderDetail\" GROUP BY \"OrderDetail\".\"OrderId\") AS anon_1 \n",
      "WHERE anon_1.\"MaxDiscount\" > ? GROUP BY anon_1.\"OrderId\"\n",
      "2019-04-03 11:07:40,750 INFO sqlalchemy.engine.base.Engine (0,)\n",
      "2019-04-03 11:07:40,765 INFO sqlalchemy.engine.base.Engine SELECT anon_1.\"Id\", anon_1.\"OrderId\", anon_1.\"ProductId\", anon_1.\"UnitPrice\", anon_1.\"Quantity\", anon_1.\"Discount\", anon_1.\"TotalQuantity\", anon_1.\"MaxDiscount\", anon_1.\"MinDiscount\" \n",
      "FROM (SELECT \"OrderDetail\".\"Id\" AS \"Id\", \"OrderDetail\".\"OrderId\" AS \"OrderId\", \"OrderDetail\".\"ProductId\" AS \"ProductId\", \"OrderDetail\".\"UnitPrice\" AS \"UnitPrice\", \"OrderDetail\".\"Quantity\" AS \"Quantity\", \"OrderDetail\".\"Discount\" AS \"Discount\", sum(\"OrderDetail\".\"Quantity\") AS \"TotalQuantity\", max(\"OrderDetail\".\"Discount\") AS \"MaxDiscount\", min(\"OrderDetail\".\"Discount\") AS \"MinDiscount\" \n",
      "FROM \"OrderDetail\" GROUP BY \"OrderDetail\".\"OrderId\") AS anon_1 \n",
      "WHERE anon_1.\"MaxDiscount\" = ? GROUP BY anon_1.\"OrderId\"\n",
      "2019-04-03 11:07:40,765 INFO sqlalchemy.engine.base.Engine (0,)\n"
     ]
    }
   ],
   "source": [
    "# query OrderDetail => grouped (aggregated) by Order (Orders have many OrderDetails)\n",
    "# sum quantities across OrderDetail that belong to same Order\n",
    "# find MaxDiscount that belong to same Order (to determine non-discounted orders, which will = 0)\n",
    "subquery = session.query(OrderDetail, \n",
    "                         func.sum(OrderDetail.Quantity).label(\"TotalQuantity\"), \n",
    "                         func.max(OrderDetail.Discount).label(\"MaxDiscount\"), \n",
    "                         func.min(OrderDetail.Discount).label(\"MinDiscount\")\n",
    "                        ).group_by(OrderDetail.OrderId).subquery()\n",
    "\n",
    "query = session.query(subquery).filter(subquery.c.MaxDiscount > 0).group_by(subquery.c.OrderId)\n",
    "undiscounted_orders = pd.read_sql(query.statement, engine) # 450\n",
    "\n",
    "# same as query above, *EXCEPT* filtering for MaxDiscount == 0\n",
    "# this way, we have orders that have no items with discounts\n",
    "subquery2 = session.query(OrderDetail, \n",
    "                         func.sum(OrderDetail.Quantity).label(\"TotalQuantity\"), \n",
    "                         func.max(OrderDetail.Discount).label(\"MaxDiscount\"), \n",
    "                         func.min(OrderDetail.Discount).label(\"MinDiscount\")\n",
    "                        ).group_by(OrderDetail.OrderId).subquery()\n",
    "\n",
    "query2 = session.query(subquery2).filter(subquery2.c.MaxDiscount == 0).group_by(subquery2.c.OrderId)\n",
    "discounted_orders = pd.read_sql(query2.statement, engine) # 380"
   ]
  },
  {
   "cell_type": "code",
   "execution_count": 39,
   "metadata": {},
   "outputs": [
    {
     "data": {
      "text/plain": [
       "<matplotlib.legend.Legend at 0x1a18989320>"
      ]
     },
     "execution_count": 39,
     "metadata": {},
     "output_type": "execute_result"
    },
    {
     "data": {
      "image/png": "[encoded data removed]",
      "text/plain": [
       "<Figure size 432x288 with 1 Axes>"
      ]
     },
     "metadata": {
      "needs_background": "light"
     },
     "output_type": "display_data"
    }
   ],
   "source": [
    "# Take a look at the distributions of these orders' quantities\n",
    "sns.distplot(discounted_orders.Quantity, label=\"Discounted Orders\")\n",
    "sns.distplot(undiscounted_orders.Quantity, label=\"Undiscounted Orders\")\n",
    "plt.legend()"
   ]
  },
  {
   "cell_type": "code",
   "execution_count": 40,
   "metadata": {},
   "outputs": [],
   "source": [
    "# Normalize the orders because hypothesis test has this as an assumption\n",
    "log_undiscounted = np.log(undiscounted_orders.Quantity)\n",
    "log_discounted = np.log(discounted_orders.Quantity)\n",
    "undiscounted_orders.Quantity = log_undiscounted\n",
    "discounted_orders.Quantity = log_discounted"
   ]
  },
  {
   "cell_type": "code",
   "execution_count": 41,
   "metadata": {},
   "outputs": [
    {
     "data": {
      "text/plain": [
       "<matplotlib.legend.Legend at 0x1a18ca2400>"
      ]
     },
     "execution_count": 41,
     "metadata": {},
     "output_type": "execute_result"
    },
    {
     "data": {
      "image/png": "[encoded data removed]",
      "text/plain": [
       "<Figure size 432x288 with 1 Axes>"
      ]
     },
     "metadata": {
      "needs_background": "light"
     },
     "output_type": "display_data"
    }
   ],
   "source": [
    "# Second look at the distributions\n",
    "sns.distplot(discounted_orders.Quantity, label=\"Discounted Orders\")\n",
    "sns.distplot(undiscounted_orders.Quantity, label=\"Undiscounted Orders\")\n",
    "plt.legend()"
   ]
  },
  {
   "cell_type": "code",
   "execution_count": 42,
   "metadata": {},
   "outputs": [],
   "source": [
    "# helper method to measure effect size\n",
    "# represents the magnitude of differences between two groups on a given variable\n",
    "# with larger values representing a greater differentation between two groups on that variable\n",
    "\n",
    "def pooled_var(group1, group2, col_name):\n",
    "    n1, n2 = len(group1), len(group2)\n",
    "    var1 = group1[col_name].var()\n",
    "    var2 = group2[col_name].var()\n",
    "    \n",
    "    pooled_var = (n1 * var1 + n2 * var2) / (n1 + n2)\n",
    "    \n",
    "    return pooled_var\n",
    "\n",
    "# for calculating effect size\n",
    "def cohens_d(group1, group2, col_name):\n",
    "    diff = group1[col_name].mean() - group2[col_name].mean()\n",
    "    \n",
    "    # calculate pooled threshold\n",
    "    pooled_v = pooled_var(group1, group2, col_name)\n",
    "    \n",
    "    # calculate cohen's d statistic\n",
    "    d = diff / np.sqrt(pooled_v)\n",
    "    \n",
    "    return d"
   ]
  },
  {
   "cell_type": "code",
   "execution_count": 43,
   "metadata": {},
   "outputs": [
    {
     "name": "stdout",
     "output_type": "stream",
     "text": [
      "p-value = 1.122e-10\n",
      "t-stat = 6.423\n",
      "cohen d = 0.448\n"
     ]
    }
   ],
   "source": [
    "from statsmodels.stats.weightstats import ttest_ind\n",
    "# import scipy.stats\n",
    "\n",
    "tstat, pvalue, df = ttest_ind(undiscounted_orders.Quantity, discounted_orders.Quantity, alternative='larger')\n",
    "\n",
    "# calculate pooled variance\n",
    "pooled_v = pooled_var(undiscounted_orders, discounted_orders, \"Quantity\")\n",
    "# calculate effect size using cohen's d\n",
    "cohen_d = cohens_d(undiscounted_orders, discounted_orders, \"Quantity\")\n",
    "\n",
    "print('p-value = {0:1.3e}'.format(pvalue))\n",
    "print('t-stat = {0:1.3f}'.format(tstat))\n",
    "print('cohen d = {0:1.3f}'.format(cohen_d))\n",
    "\n",
    "e = effect_size_blurb(cohen_d)"
   ]
  },
  {
   "cell_type": "markdown",
   "metadata": {
    "variables": {
     "e": "&quot;Effect size is a measurement of the strength of a relationship between two variables on a numeric scale, and Cohen&#39;s d calculates this as the difference between two means divided by a standard deviation for the combined data. Generally, 0.01 is considered very small, 0.20 small, 0.50 medium, 0.80 large, 1.20 very large, and 2.0 huge. Typically, a lower Cohen&#39;s d score indicates the need for larger sample sizes. With a cohen&#39;s d value of 0.448, we can say that the effect size is small/medium&quot;",
     "pvalue": "1.1223833625875127e-10",
     "tstat": "6.4234264623822055"
    }
   },
   "source": [
    "Given the p-value of {{pvalue}}, which is < our set significance level of 0.05, and the t-statistic of {{tstat}}, we can confidently reject the null hypothesis in favor of our alternative hypothesis.  That is, we can say that the average quantity order of discounted orders and undiscounted orders are not the same, and discounted orders have a higher average quantity of items.  \n",
    "\n",
    "{{e}}\n"
   ]
  },
  {
   "cell_type": "code",
   "execution_count": 33,
   "metadata": {},
   "outputs": [
    {
     "name": "stdout",
     "output_type": "stream",
     "text": [
      "2019-04-02 22:08:28,882 INFO sqlalchemy.engine.base.Engine SELECT anon_1.\"Id\", anon_1.\"OrderId\", anon_1.\"ProductId\", anon_1.\"UnitPrice\", anon_1.\"Quantity\", anon_1.\"Discount\", anon_1.\"TotalQuantity\", anon_1.\"MaxDiscount\", anon_1.\"MinDiscount\" \n",
      "FROM (SELECT \"OrderDetail\".\"Id\" AS \"Id\", \"OrderDetail\".\"OrderId\" AS \"OrderId\", \"OrderDetail\".\"ProductId\" AS \"ProductId\", \"OrderDetail\".\"UnitPrice\" AS \"UnitPrice\", \"OrderDetail\".\"Quantity\" AS \"Quantity\", \"OrderDetail\".\"Discount\" AS \"Discount\", sum(\"OrderDetail\".\"Quantity\") AS \"TotalQuantity\", max(\"OrderDetail\".\"Discount\") AS \"MaxDiscount\", min(\"OrderDetail\".\"Discount\") AS \"MinDiscount\" \n",
      "FROM \"OrderDetail\" GROUP BY \"OrderDetail\".\"OrderId\") AS anon_1 \n",
      "WHERE anon_1.\"MaxDiscount\" > ? GROUP BY anon_1.\"OrderId\"\n",
      "2019-04-02 22:08:28,883 INFO sqlalchemy.engine.base.Engine (0,)\n",
      "2019-04-02 22:08:28,894 INFO sqlalchemy.engine.base.Engine SELECT anon_1.\"Id\", anon_1.\"OrderId\", anon_1.\"ProductId\", anon_1.\"UnitPrice\", anon_1.\"Quantity\", anon_1.\"Discount\", anon_1.\"TotalQuantity\", anon_1.\"MaxDiscount\", anon_1.\"MinDiscount\" \n",
      "FROM (SELECT \"OrderDetail\".\"Id\" AS \"Id\", \"OrderDetail\".\"OrderId\" AS \"OrderId\", \"OrderDetail\".\"ProductId\" AS \"ProductId\", \"OrderDetail\".\"UnitPrice\" AS \"UnitPrice\", \"OrderDetail\".\"Quantity\" AS \"Quantity\", \"OrderDetail\".\"Discount\" AS \"Discount\", sum(\"OrderDetail\".\"Quantity\") AS \"TotalQuantity\", max(\"OrderDetail\".\"Discount\") AS \"MaxDiscount\", min(\"OrderDetail\".\"Discount\") AS \"MinDiscount\" \n",
      "FROM \"OrderDetail\" GROUP BY \"OrderDetail\".\"OrderId\") AS anon_1 \n",
      "WHERE anon_1.\"MaxDiscount\" = ? GROUP BY anon_1.\"OrderId\"\n",
      "2019-04-02 22:08:28,895 INFO sqlalchemy.engine.base.Engine (0,)\n"
     ]
    }
   ],
   "source": [
    "# query OrderDetail => grouped (aggregated) by Order (Orders have many OrderDetails)\n",
    "# sum quantities across OrderDetail that belong to same Order\n",
    "# find MaxDiscount that belong to same Order (to determine non-discounted orders, which will = 0)\n",
    "subquery = session.query(OrderDetail, \n",
    "                         func.sum(OrderDetail.Quantity).label(\"TotalQuantity\"), \n",
    "                         func.max(OrderDetail.Discount).label(\"MaxDiscount\"), \n",
    "                         func.min(OrderDetail.Discount).label(\"MinDiscount\")\n",
    "                        ).group_by(OrderDetail.OrderId).subquery()\n",
    "\n",
    "query = session.query(subquery).filter(subquery.c.MaxDiscount > 0).group_by(subquery.c.OrderId)\n",
    "undiscounted_orders = pd.read_sql(query.statement, engine) # 450\n",
    "\n",
    "# same as query above, *EXCEPT* filtering for MaxDiscount == 0\n",
    "# this way, we have orders that have no items with discounts\n",
    "subquery2 = session.query(OrderDetail, \n",
    "                         func.sum(OrderDetail.Quantity).label(\"TotalQuantity\"), \n",
    "                         func.max(OrderDetail.Discount).label(\"MaxDiscount\"), \n",
    "                         func.min(OrderDetail.Discount).label(\"MinDiscount\")\n",
    "                        ).group_by(OrderDetail.OrderId).subquery()\n",
    "\n",
    "query2 = session.query(subquery2).filter(subquery2.c.MaxDiscount == 0).group_by(subquery2.c.OrderId)\n",
    "discounted_orders = pd.read_sql(query2.statement, engine) # 380"
   ]
  },
  {
   "cell_type": "markdown",
   "metadata": {},
   "source": [
    "## 3.1 Hypothesis Test 02\n",
    "\n",
    "### Question: Do discount rates have different effects on demand? Are higher discounts more effective in increasing quantity demanded than lower discounts?\n",
    "\n",
    "Same scenario as before - a decrease in price, typically, results in an increase in demand.  In theory, a greater decrease in price should result in a greater increase in quantity demanded. Let's take a look at the types of discounts that have been offered.\n",
    "\n"
   ]
  },
  {
   "cell_type": "code",
   "execution_count": 53,
   "metadata": {},
   "outputs": [
    {
     "name": "stdout",
     "output_type": "stream",
     "text": [
      "2019-04-03 11:24:57,139 INFO sqlalchemy.engine.base.Engine SELECT anon_1.\"Discount\", anon_1.\"DiscountCount\" \n",
      "FROM (SELECT \"OrderDetail\".\"Discount\" AS \"Discount\", count(\"OrderDetail\".\"Discount\") AS \"DiscountCount\" \n",
      "FROM \"OrderDetail\" GROUP BY \"OrderDetail\".\"Discount\") AS anon_1 ORDER BY anon_1.\"DiscountCount\" DESC\n",
      "2019-04-03 11:24:57,140 INFO sqlalchemy.engine.base.Engine ()\n",
      "Total Number of OrderDetails: 2155\n"
     ]
    },
    {
     "data": {
      "text/html": [
       "<div>\n",
       "<style scoped>\n",
       "    .dataframe tbody tr th:only-of-type {\n",
       "        vertical-align: middle;\n",
       "    }\n",
       "\n",
       "    .dataframe tbody tr th {\n",
       "        vertical-align: top;\n",
       "    }\n",
       "\n",
       "    .dataframe thead th {\n",
       "        text-align: right;\n",
       "    }\n",
       "</style>\n",
       "<table border=\"1\" class=\"dataframe\">\n",
       "  <thead>\n",
       "    <tr style=\"text-align: right;\">\n",
       "      <th></th>\n",
       "      <th>Discount</th>\n",
       "      <th>DiscountCount</th>\n",
       "    </tr>\n",
       "  </thead>\n",
       "  <tbody>\n",
       "    <tr>\n",
       "      <th>0</th>\n",
       "      <td>0.00</td>\n",
       "      <td>1317</td>\n",
       "    </tr>\n",
       "    <tr>\n",
       "      <th>1</th>\n",
       "      <td>0.05</td>\n",
       "      <td>185</td>\n",
       "    </tr>\n",
       "    <tr>\n",
       "      <th>2</th>\n",
       "      <td>0.10</td>\n",
       "      <td>173</td>\n",
       "    </tr>\n",
       "    <tr>\n",
       "      <th>3</th>\n",
       "      <td>0.20</td>\n",
       "      <td>161</td>\n",
       "    </tr>\n",
       "    <tr>\n",
       "      <th>4</th>\n",
       "      <td>0.15</td>\n",
       "      <td>157</td>\n",
       "    </tr>\n",
       "    <tr>\n",
       "      <th>5</th>\n",
       "      <td>0.25</td>\n",
       "      <td>154</td>\n",
       "    </tr>\n",
       "    <tr>\n",
       "      <th>6</th>\n",
       "      <td>0.03</td>\n",
       "      <td>3</td>\n",
       "    </tr>\n",
       "    <tr>\n",
       "      <th>7</th>\n",
       "      <td>0.02</td>\n",
       "      <td>2</td>\n",
       "    </tr>\n",
       "    <tr>\n",
       "      <th>8</th>\n",
       "      <td>0.01</td>\n",
       "      <td>1</td>\n",
       "    </tr>\n",
       "    <tr>\n",
       "      <th>9</th>\n",
       "      <td>0.04</td>\n",
       "      <td>1</td>\n",
       "    </tr>\n",
       "    <tr>\n",
       "      <th>10</th>\n",
       "      <td>0.06</td>\n",
       "      <td>1</td>\n",
       "    </tr>\n",
       "  </tbody>\n",
       "</table>\n",
       "</div>"
      ],
      "text/plain": [
       "    Discount  DiscountCount\n",
       "0       0.00           1317\n",
       "1       0.05            185\n",
       "2       0.10            173\n",
       "3       0.20            161\n",
       "4       0.15            157\n",
       "5       0.25            154\n",
       "6       0.03              3\n",
       "7       0.02              2\n",
       "8       0.01              1\n",
       "9       0.04              1\n",
       "10      0.06              1"
      ]
     },
     "execution_count": 53,
     "metadata": {},
     "output_type": "execute_result"
    }
   ],
   "source": [
    "# query OrderDetail table for Discount & count the appearances of Discount\n",
    "subquery = session.query(OrderDetail.Discount,\n",
    "                      func.count(OrderDetail.Discount).label(\"DiscountCount\")\n",
    "                     ).group_by(OrderDetail.Discount).subquery()\n",
    "\n",
    "query = session.query(subquery\n",
    "                     ).order_by(subquery.c.DiscountCount.desc())\n",
    "\n",
    "discount_counts = pd.read_sql(query.statement, engine)\n",
    "print(\"Total Number of OrderDetails:\", discount_counts.DiscountCount.sum())\n",
    "discount_counts.head(11)"
   ]
  },
  {
   "cell_type": "markdown",
   "metadata": {},
   "source": [
    "<table>\n",
    "    <thead>\n",
    "        <tr>\n",
    "            <th colspan=\"3\" style=\"text-align: center\">Out of the 2,155 OrderDetails</th>\n",
    "        </tr>\n",
    "        <tr>\n",
    "            <th># Of OrderDetails</th>\n",
    "            <th>Discount</th>\n",
    "            <th>% Of All OrderDetails</th>\n",
    "        </tr>\n",
    "    </thead>\n",
    "    <tbody>\n",
    "        <tr>\n",
    "            <td style=\"text-align: center\">1,317</td>\n",
    "            <td style=\"text-align: center\">0%</td>\n",
    "            <td style=\"text-align: center\">61.1%</td>\n",
    "        </tr>\n",
    "        <tr>\n",
    "            <td style=\"text-align: center\">185</td>\n",
    "            <td style=\"text-align: center\">5%</td>\n",
    "            <td style=\"text-align: center\">8.5%</td>\n",
    "        </tr>\n",
    "        <tr>\n",
    "            <td style=\"text-align: center\">173</td>\n",
    "            <td style=\"text-align: center\">10%</td>\n",
    "            <td style=\"text-align: center\">8.0%</td>\n",
    "        </tr>\n",
    "        <tr>\n",
    "            <td style=\"text-align: center\">161</td>\n",
    "            <td style=\"text-align: center\">20%</td>\n",
    "            <td style=\"text-align: center\">7.5%</td>\n",
    "        </tr>\n",
    "        <tr>\n",
    "            <td style=\"text-align: center\">157</td>\n",
    "            <td style=\"text-align: center\">15%</td>\n",
    "            <td style=\"text-align: center\">7.3%</td>\n",
    "        </tr>\n",
    "        <tr>\n",
    "            <td style=\"text-align: center\">154</td>\n",
    "            <td style=\"text-align: center\">25%</td>\n",
    "            <td style=\"text-align: center\">7.1%</td>\n",
    "        </tr>\n",
    "    </tbody>\n",
    "</table>"
   ]
  },
  {
   "cell_type": "code",
   "execution_count": 82,
   "metadata": {},
   "outputs": [],
   "source": [
    "# takes Discount (fraction) as input and returns TotalQuantity\n",
    "# from OrderDetails that have the chosen Discount\n",
    "def query_orders_by_discount(discount):\n",
    "    query = session.query(OrderDetail.OrderId, \n",
    "                            func.sum(OrderDetail.Quantity).label(\"TotalQuantity\")\n",
    "                            ).filter(OrderDetail.Discount == discount).group_by(OrderDetail.OrderId)\n",
    "    orders = pd.read_sql(query.statement, engine)\n",
    "    return orders"
   ]
  },
  {
   "cell_type": "code",
   "execution_count": 120,
   "metadata": {},
   "outputs": [
    {
     "name": "stdout",
     "output_type": "stream",
     "text": [
      "2019-04-03 16:09:05,030 INFO sqlalchemy.engine.base.Engine SELECT \"OrderDetail\".\"OrderId\", sum(\"OrderDetail\".\"Quantity\") AS \"TotalQuantity\" \n",
      "FROM \"OrderDetail\" \n",
      "WHERE \"OrderDetail\".\"Discount\" = ? GROUP BY \"OrderDetail\".\"OrderId\"\n",
      "2019-04-03 16:09:05,030 INFO sqlalchemy.engine.base.Engine (0,)\n",
      "2019-04-03 16:09:05,037 INFO sqlalchemy.engine.base.Engine SELECT \"OrderDetail\".\"OrderId\", sum(\"OrderDetail\".\"Quantity\") AS \"TotalQuantity\" \n",
      "FROM \"OrderDetail\" \n",
      "WHERE \"OrderDetail\".\"Discount\" = ? GROUP BY \"OrderDetail\".\"OrderId\"\n",
      "2019-04-03 16:09:05,038 INFO sqlalchemy.engine.base.Engine (0.05,)\n",
      "2019-04-03 16:09:05,042 INFO sqlalchemy.engine.base.Engine SELECT \"OrderDetail\".\"OrderId\", sum(\"OrderDetail\".\"Quantity\") AS \"TotalQuantity\" \n",
      "FROM \"OrderDetail\" \n",
      "WHERE \"OrderDetail\".\"Discount\" = ? GROUP BY \"OrderDetail\".\"OrderId\"\n",
      "2019-04-03 16:09:05,043 INFO sqlalchemy.engine.base.Engine (0.1,)\n",
      "2019-04-03 16:09:05,047 INFO sqlalchemy.engine.base.Engine SELECT \"OrderDetail\".\"OrderId\", sum(\"OrderDetail\".\"Quantity\") AS \"TotalQuantity\" \n",
      "FROM \"OrderDetail\" \n",
      "WHERE \"OrderDetail\".\"Discount\" = ? GROUP BY \"OrderDetail\".\"OrderId\"\n",
      "2019-04-03 16:09:05,048 INFO sqlalchemy.engine.base.Engine (0.15,)\n",
      "2019-04-03 16:09:05,052 INFO sqlalchemy.engine.base.Engine SELECT \"OrderDetail\".\"OrderId\", sum(\"OrderDetail\".\"Quantity\") AS \"TotalQuantity\" \n",
      "FROM \"OrderDetail\" \n",
      "WHERE \"OrderDetail\".\"Discount\" = ? GROUP BY \"OrderDetail\".\"OrderId\"\n",
      "2019-04-03 16:09:05,053 INFO sqlalchemy.engine.base.Engine (0.2,)\n",
      "2019-04-03 16:09:05,058 INFO sqlalchemy.engine.base.Engine SELECT \"OrderDetail\".\"OrderId\", sum(\"OrderDetail\".\"Quantity\") AS \"TotalQuantity\" \n",
      "FROM \"OrderDetail\" \n",
      "WHERE \"OrderDetail\".\"Discount\" = ? GROUP BY \"OrderDetail\".\"OrderId\"\n",
      "2019-04-03 16:09:05,059 INFO sqlalchemy.engine.base.Engine (0.25,)\n"
     ]
    }
   ],
   "source": [
    "discount_0 = query_orders_by_discount(0)\n",
    "discount_5 = query_orders_by_discount(0.05)\n",
    "discount_10 = query_orders_by_discount(0.10)\n",
    "discount_15 = query_orders_by_discount(0.15)\n",
    "discount_20 = query_orders_by_discount(0.20)\n",
    "discount_25 = query_orders_by_discount(0.25)"
   ]
  },
  {
   "cell_type": "code",
   "execution_count": 121,
   "metadata": {},
   "outputs": [
    {
     "data": {
      "application/vnd.jupyter.widget-view+json": {
       "model_id": "f25772e587044f2c830d581c9c87a4c6",
       "version_major": 2,
       "version_minor": 0
      },
      "text/plain": [
       "interactive(children=(Dropdown(description='Table', options=('0%', '5%', '10%', '15%', '20%', '25%'), value='0…"
      ]
     },
     "metadata": {},
     "output_type": "display_data"
    }
   ],
   "source": [
    "preview_select = [\"0%\", \"5%\", \"10%\", \"15%\", \"20%\", \"25%\"]\n",
    "preview_hash = {\"0%\": discount_0, \"5%\": discount_5, \"10%\": discount_10, \"15%\": discount_15, \"20%\": discount_20, \"25%\": discount_25}\n",
    "@interact\n",
    "def table_preview(Table = preview_select, Preview = ['Head','Description']):\n",
    "    df = preview_hash[Table]\n",
    "    preview_return = {'Head':df.head(10), 'Description':df.describe()}\n",
    "    out = preview_return[Preview]\n",
    "    return out"
   ]
  },
  {
   "cell_type": "code",
   "execution_count": 122,
   "metadata": {},
   "outputs": [
    {
     "data": {
      "text/plain": [
       "<matplotlib.legend.Legend at 0x1a1bcc45f8>"
      ]
     },
     "execution_count": 122,
     "metadata": {},
     "output_type": "execute_result"
    },
    {
     "data": {
      "image/png": "[encoded data removed]",
      "text/plain": [
       "<Figure size 864x216 with 1 Axes>"
      ]
     },
     "metadata": {
      "needs_background": "light"
     },
     "output_type": "display_data"
    },
    {
     "data": {
      "image/png": "[encoded data removed]",
      "text/plain": [
       "<Figure size 864x216 with 1 Axes>"
      ]
     },
     "metadata": {
      "needs_background": "light"
     },
     "output_type": "display_data"
    },
    {
     "data": {
      "image/png": "[encoded data removed]",
      "text/plain": [
       "<Figure size 864x216 with 1 Axes>"
      ]
     },
     "metadata": {
      "needs_background": "light"
     },
     "output_type": "display_data"
    },
    {
     "data": {
      "image/png": "[encoded data removed]",
      "text/plain": [
       "<Figure size 864x216 with 1 Axes>"
      ]
     },
     "metadata": {
      "needs_background": "light"
     },
     "output_type": "display_data"
    },
    {
     "data": {
      "image/png": "[encoded data removed]",
      "text/plain": [
       "<Figure size 864x216 with 1 Axes>"
      ]
     },
     "metadata": {
      "needs_background": "light"
     },
     "output_type": "display_data"
    },
    {
     "data": {
      "image/png": "[encoded data removed]",
      "text/plain": [
       "<Figure size 864x216 with 1 Axes>"
      ]
     },
     "metadata": {
      "needs_background": "light"
     },
     "output_type": "display_data"
    }
   ],
   "source": [
    "# Take a look at the distributions of quantities ordered at given discount rates\n",
    "fig = plt.figure(figsize=(12,3))\n",
    "sns.distplot(discount_0.TotalQuantity, label=\"Quantities @ Full Retail\")\n",
    "plt.legend()\n",
    "fig = plt.figure(figsize=(12,3))\n",
    "sns.distplot(discount_5.TotalQuantity, label=\"Quantities @ 5% Discount\")\n",
    "plt.legend()\n",
    "fig = plt.figure(figsize=(12,3))\n",
    "sns.distplot(discount_10.TotalQuantity, label=\"Quantities @ 10% Discount\")\n",
    "plt.legend()\n",
    "fig = plt.figure(figsize=(12,3))\n",
    "sns.distplot(discount_15.TotalQuantity, label=\"Quantities @ 15% Discount\")\n",
    "plt.legend()\n",
    "fig = plt.figure(figsize=(12,3))\n",
    "sns.distplot(discount_20.TotalQuantity, label=\"Quantities @ 20% Discount\")\n",
    "plt.legend()\n",
    "fig = plt.figure(figsize=(12,3))\n",
    "sns.distplot(discount_25.TotalQuantity, label=\"Quantities @ 25% Discount\")\n",
    "plt.legend()\n"
   ]
  },
  {
   "cell_type": "markdown",
   "metadata": {},
   "source": [
    "Looking at the distributions of quantities ordered at each discount level, we can see that none of them are perfectly normally distributed, and they are skewed, so before comparing different discount rates, let's normalize each of these."
   ]
  },
  {
   "cell_type": "code",
   "execution_count": 123,
   "metadata": {},
   "outputs": [],
   "source": [
    "# take log of TotalQuantity\n",
    "log_discount_0 = np.log(discount_0.TotalQuantity)\n",
    "log_discount_5 = np.log(discount_5.TotalQuantity)\n",
    "log_discount_10 = np.log(discount_10.TotalQuantity)\n",
    "log_discount_15 = np.log(discount_15.TotalQuantity)\n",
    "log_discount_20 = np.log(discount_20.TotalQuantity)\n",
    "log_discount_25 = np.log(discount_25.TotalQuantity)\n",
    "\n",
    "# overwrite original data\n",
    "discount_0.TotalQuantity = log_discount_0\n",
    "discount_5.TotalQuantity = log_discount_5\n",
    "discount_10.TotalQuantity = log_discount_10\n",
    "discount_15.TotalQuantity = log_discount_15\n",
    "discount_20.TotalQuantity = log_discount_20\n",
    "discount_25.TotalQuantity = log_discount_25"
   ]
  },
  {
   "cell_type": "code",
   "execution_count": 132,
   "metadata": {},
   "outputs": [
    {
     "data": {
      "text/plain": [
       "<matplotlib.legend.Legend at 0x1a1bbe76a0>"
      ]
     },
     "execution_count": 132,
     "metadata": {},
     "output_type": "execute_result"
    },
    {
     "data": {
      "image/png": "[encoded data removed]",
      "text/plain": [
       "<Figure size 864x216 with 1 Axes>"
      ]
     },
     "metadata": {
      "needs_background": "light"
     },
     "output_type": "display_data"
    },
    {
     "data": {
      "image/png": "[encoded data removed]",
      "text/plain": [
       "<Figure size 864x216 with 1 Axes>"
      ]
     },
     "metadata": {
      "needs_background": "light"
     },
     "output_type": "display_data"
    },
    {
     "data": {
      "image/png": "[encoded data removed]",
      "text/plain": [
       "<Figure size 864x216 with 1 Axes>"
      ]
     },
     "metadata": {
      "needs_background": "light"
     },
     "output_type": "display_data"
    },
    {
     "data": {
      "image/png": "[encoded data removed]",
      "text/plain": [
       "<Figure size 864x216 with 1 Axes>"
      ]
     },
     "metadata": {
      "needs_background": "light"
     },
     "output_type": "display_data"
    },
    {
     "data": {
      "image/png": "[encoded data removed]",
      "text/plain": [
       "<Figure size 864x216 with 1 Axes>"
      ]
     },
     "metadata": {
      "needs_background": "light"
     },
     "output_type": "display_data"
    },
    {
     "data": {
      "image/png": "[encoded data removed]",
      "text/plain": [
       "<Figure size 864x216 with 1 Axes>"
      ]
     },
     "metadata": {
      "needs_background": "light"
     },
     "output_type": "display_data"
    }
   ],
   "source": [
    "# Take a look at the normalized distributions of quantities ordered at given discount rates\n",
    "fig = plt.figure(figsize=(12,3))\n",
    "sns.distplot(discount_0.TotalQuantity, label=\"Quantities @ Full Retail\")\n",
    "plt.legend()\n",
    "fig = plt.figure(figsize=(12,3))\n",
    "sns.distplot(discount_5.TotalQuantity, label=\"Quantities @ 5% Discount\")\n",
    "plt.legend()\n",
    "fig = plt.figure(figsize=(12,3))\n",
    "sns.distplot(discount_10.TotalQuantity, label=\"Quantities @ 10% Discount\")\n",
    "plt.legend()\n",
    "fig = plt.figure(figsize=(12,3))\n",
    "sns.distplot(discount_15.TotalQuantity, label=\"Quantities @ 15% Discount\")\n",
    "plt.legend()\n",
    "fig = plt.figure(figsize=(12,3))\n",
    "sns.distplot(discount_20.TotalQuantity, label=\"Quantities @ 20% Discount\")\n",
    "plt.legend()\n",
    "fig = plt.figure(figsize=(12,3))\n",
    "sns.distplot(discount_25.TotalQuantity, label=\"Quantities @ 25% Discount\")\n",
    "plt.legend()\n"
   ]
  },
  {
   "cell_type": "code",
   "execution_count": 125,
   "metadata": {},
   "outputs": [
    {
     "name": "stdout",
     "output_type": "stream",
     "text": [
      "p-value = 6.386e-01 \n",
      " hey\n",
      "t-stat = -0.355\n",
      "cohen d = -0.056\n"
     ]
    }
   ],
   "source": [
    "from statsmodels.stats.weightstats import ttest_ind\n",
    "# import scipy.stats\n",
    "\n",
    "tstat, pvalue, df = ttest_ind(discount_5.TotalQuantity, discount_10.TotalQuantity, alternative='larger')\n",
    "\n",
    "# calculate pooled variance\n",
    "pooled_v = pooled_var(discount_5, discount_10, \"TotalQuantity\")\n",
    "# calculate effect size using cohen's d\n",
    "cohen_d = cohens_d(discount_5, discount_10, \"TotalQuantity\")\n",
    "\n",
    "print('p-value = {0:1.3e} \\n hey'.format(pvalue))\n",
    "print('t-stat = {0:1.3f}'.format(tstat))\n",
    "print('cohen d = {0:1.3f}'.format(cohen_d))\n",
    "\n",
    "e = effect_size_blurb(cohen_d)"
   ]
  },
  {
   "cell_type": "code",
   "execution_count": 133,
   "metadata": {},
   "outputs": [
    {
     "data": {
      "application/vnd.jupyter.widget-view+json": {
       "model_id": "26717357f5c84b25bd01b66ffddbc800",
       "version_major": 2,
       "version_minor": 0
      },
      "text/plain": [
       "interactive(children=(Dropdown(description='Discount1', options=('25%', '20%', '15%', '10%', '5%', '0%'), valu…"
      ]
     },
     "metadata": {},
     "output_type": "display_data"
    }
   ],
   "source": [
    "@interact\n",
    "def table_preview(Discount1 = ['25%', '20%', '15%', '10%', '5%', '0%'], Discount2 = ['5%','10%','15%', '20%', '25%', '0%']):\n",
    "    \n",
    "    discount_dict = {\n",
    "        '0%': discount_0,\n",
    "        '5%': discount_5, \n",
    "        '10%':discount_10, \n",
    "        '15%':discount_15, \n",
    "        '20%': discount_20, \n",
    "        '25%': discount_25\n",
    "    }\n",
    "    selected_discount_1 = discount_dict[Discount1]\n",
    "    selected_discount_2 = discount_dict[Discount2]\n",
    "    tstat, pvalue, df = ttest_ind(selected_discount_1.TotalQuantity, selected_discount_2.TotalQuantity, usevar='unequal', alternative='larger')\n",
    "    \n",
    "    # calculate pooled variance\n",
    "    pooled_v = pooled_var(selected_discount_1, selected_discount_2, \"TotalQuantity\")\n",
    "    \n",
    "    # calculate effect size using cohen's d\n",
    "    cohen_d = cohens_d(selected_discount_1, selected_discount_2, \"TotalQuantity\")\n",
    "    \n",
    "    print(\"Comparing {} Discount vs. {} Discount, we get the following:\".format(Discount1, Discount2))\n",
    "    print('p-value = {0:1.3e} \\n hey'.format(pvalue))\n",
    "    print('t-stat = {0:1.3f}'.format(tstat))\n",
    "    print('cohen d = {0:1.3f}'.format(cohen_d))"
   ]
  },
  {
   "cell_type": "markdown",
   "metadata": {},
   "source": [
    "<table>\n",
    "    <thead>\n",
    "        <tr>\n",
    "            <th>Comparison</th>\n",
    "            <th>P-Value</th>\n",
    "            <th>T-Stat</th>\n",
    "            <th>Cohen's d</th>\n",
    "            <th>Accept/Reject Null</th>\n",
    "            <th>Effect Size</th>\n",
    "            <th>Conclusion</th>\n",
    "        </tr>\n",
    "    </thead>\n",
    "    <tbody>\n",
    "        <tr>\n",
    "            <td>25% vs. Full Retail</td>\n",
    "            <td>5.348e-02</td>\n",
    "            <td>1.630</td>\n",
    "            <td>0.228</td>\n",
    "            <td>Accept Null</td>\n",
    "            <td>Small</td>\n",
    "            <td>P value close to 0.05, but above; low t-stat</td>\n",
    "        </tr>\n",
    "        <tr>\n",
    "            <td>20% vs. Full Retail</td>\n",
    "            <td>1.239e-02</td>\n",
    "            <td>2.283</td>\n",
    "            <td>0.285</td>\n",
    "            <td>Reject Null</td>\n",
    "            <td>Small</td>\n",
    "            <td>P value below 0.05; high t-stat</td>\n",
    "        </tr>\n",
    "        <tr>\n",
    "            <td>15% vs. Full Retail</td>\n",
    "            <td>3.923e-03 </td>\n",
    "            <td>2.716</td>\n",
    "            <td>0.320</td>\n",
    "            <td>Reject Null</td>\n",
    "            <td>Small/Med</td>\n",
    "            <td>P value well below 0.05; high t-stat</td>\n",
    "        </tr>\n",
    "        <tr>\n",
    "            <td>10% vs. Full Retail</td>\n",
    "            <td>2.017e-04</td>\n",
    "            <td>3.659</td>\n",
    "            <td>0.388</td>\n",
    "            <td>Reject Null</td>\n",
    "            <td>Small/Med</td>\n",
    "            <td>P value well below 0.05; very high t-stat</td>\n",
    "        </tr>\n",
    "        <tr>\n",
    "            <td>5% vs. Full Retail</td>\n",
    "            <td>1.898e-03</td>\n",
    "            <td>2.956</td>\n",
    "            <td>0.331</td>\n",
    "            <td>Reject Null</td>\n",
    "            <td>Small</td>\n",
    "            <td>P value well beloe 0.05; bery high t-stat</td>\n",
    "        </tr>\n",
    "        <tr>\n",
    "            <td colspan=\"7\" style='text-align: center'>Comparison of Discounts vs. 5% Discount</td>\n",
    "        </tr>\n",
    "        <tr>\n",
    "            <td>25% vs. 5%</td>\n",
    "            <td>7.159e-01</td>\n",
    "            <td>-0.572</td>\n",
    "            <td>-0.093</td>\n",
    "            <td>Accept Null</td>\n",
    "            <td>Very Small</td>\n",
    "            <td>High P value; low t-stat</td>\n",
    "        </tr>\n",
    "        <tr>\n",
    "            <td>20% vs. 5%</td>\n",
    "            <td>6.131e-01 </td>\n",
    "            <td>-0.288</td>\n",
    "            <td>-0.046</td>\n",
    "            <td>Accept Null</td>\n",
    "            <td>Very Small</td>\n",
    "            <td>High P value; very low t-stat</td>\n",
    "        </tr>\n",
    "        <tr>\n",
    "            <td>15% vs. 5%</td>\n",
    "            <td>5.310e-01 </td>\n",
    "            <td>-0.078</td>\n",
    "            <td>-0.012</td>\n",
    "            <td>Accept Null</td>\n",
    "            <td>Very Small</td>\n",
    "            <td>High P value; very low t-stat</td>\n",
    "        </tr>\n",
    "        <tr>\n",
    "            <td>10% vs. 5%</td>\n",
    "            <td>3.599e-01 </td>\n",
    "            <td>0.359</td>\n",
    "            <td>0.056</td>\n",
    "            <td>Accept Null</td>\n",
    "            <td>Very Small</td>\n",
    "            <td>High P value; very low t-stat</td>\n",
    "        </tr>\n",
    "    </tbody>\n",
    "</table>"
   ]
  },
  {
   "cell_type": "markdown",
   "metadata": {},
   "source": [
    "Looking at the above table, we can conclude that quantities ordered with discounts of 20%, 15%, 10%, and 5% are greater than the quantities ordered at full retail price.  Additionally, we can see that at discount rates of 15%, 10%, and 5%, we have the lowest p-values and highest t-stats.  Discount rates of 15% and 10% have a small-medium effect size while the other discount rates have smaller effect sizes.  \n",
    "\n",
    "This isn't surprising - at all discount rates (excluding 25%), we see an increase in total quantities ordered compared to full-retail-priced orders.  \n",
    "\n",
    "My initial takeaway is that, potentially, the higher discount rates at 25% and 20% are an indication of product liquidation.  That is, given that we are dealing with food products, with a discount that high, it could be the case that the company was trying to get rid of extra inventory (or products that are expiring soon and will have 0 value if not sold).\n",
    "\n",
    "Additionally, with the success of 10% and 5% discount rates (and with the lowest p-values, and highest t-stats), I caution that these products may be more popular (demanded), so, when discounted, demand increases across the board. It could also be the case that these products sold at a 10% and 5% discount have a higher price elasticity of demand (small change in price results in bigger increase in demand) than the products that had higher discount rates, which could be more inelastic (changes in price have a relatively small effect on the quantity of the good demanded).\n",
    "\n",
    "Going forward, I would consider looking at products that have been sold at different discount rates, and see how the quantity demanded for these change under different discount nrates."
   ]
  },
  {
   "cell_type": "code",
   "execution_count": null,
   "metadata": {},
   "outputs": [],
   "source": []
  },
  {
   "cell_type": "code",
   "execution_count": null,
   "metadata": {},
   "outputs": [],
   "source": []
  },
  {
   "cell_type": "markdown",
   "metadata": {},
   "source": [
    "Formally,\n",
    "\n",
    "#### Null Hypothesis\n",
    "\n",
    ">**Ho:** Discounted Mean Quantity Ordered (Single Product) = Undiscounted Mean Quantity Ordered (Single Product)\n",
    "\n",
    "#### Alternate Hypothesis\n",
    "\n",
    ">**Ha:** Discounted Mean Quantity Ordered (Single Product) > Undiscounted Mean Quantity Ordered (Single Product)\n",
    "\n",
    "First, we have to query our database - iterating across the OrderDetails, counting the ProductId repetitions as \"OrderCount\" (unique per OrderDetail, unique per Order), and then sorting (descending) to see what the top products look like."
   ]
  },
  {
   "cell_type": "code",
   "execution_count": null,
   "metadata": {},
   "outputs": [],
   "source": []
  },
  {
   "cell_type": "markdown",
   "metadata": {},
   "source": [
    "# **NEED FEEBACK**\n",
    "\n",
    "**What is the best way to access \"OrderCount\" (custom/labeled query - could be count/sum/aggregation/min/max) in SQLAlchemy without having to break query into subquery? I assume there is a cleaner method, but, at the moment, this is working and I need to push.**"
   ]
  },
  {
   "cell_type": "code",
   "execution_count": 58,
   "metadata": {},
   "outputs": [
    {
     "name": "stdout",
     "output_type": "stream",
     "text": [
      "2019-04-02 23:09:41,793 INFO sqlalchemy.engine.base.Engine SELECT anon_1.\"Id\", anon_1.\"OrderId\", anon_1.\"ProductId\", anon_1.\"UnitPrice\", anon_1.\"Quantity\", anon_1.\"Discount\", anon_1.\"OrderCount\", anon_1.\"TotalQuantity\" \n",
      "FROM (SELECT \"OrderDetail\".\"Id\" AS \"Id\", \"OrderDetail\".\"OrderId\" AS \"OrderId\", \"OrderDetail\".\"ProductId\" AS \"ProductId\", \"OrderDetail\".\"UnitPrice\" AS \"UnitPrice\", \"OrderDetail\".\"Quantity\" AS \"Quantity\", \"OrderDetail\".\"Discount\" AS \"Discount\", count(\"OrderDetail\".\"ProductId\") AS \"OrderCount\", sum(\"OrderDetail\".\"Quantity\") AS \"TotalQuantity\" \n",
      "FROM \"OrderDetail\" GROUP BY \"OrderDetail\".\"ProductId\") AS anon_1 ORDER BY anon_1.\"OrderCount\" DESC\n",
      "2019-04-02 23:09:41,793 INFO sqlalchemy.engine.base.Engine ()\n",
      "         Id  OrderId  ProductId  UnitPrice  Quantity  Discount  OrderCount  \\\n",
      "0  10255/59    10255         59       44.0        30      0.00          54   \n",
      "1  10254/24    10254         24        3.6        15      0.15          51   \n",
      "2  10253/31    10253         31       10.0        20      0.00          51   \n",
      "3  10252/60    10252         60       27.2        40      0.00          51   \n",
      "4  10262/56    10262         56       30.4         2      0.00          50   \n",
      "\n",
      "   TotalQuantity  \n",
      "0           1496  \n",
      "1           1125  \n",
      "2           1397  \n",
      "3           1577  \n",
      "4           1263  \n"
     ]
    }
   ],
   "source": [
    "# query OrderDetail table, count ProductId repetitions (unique per Order), group by ProductId\n",
    "product_query = session.query(OrderDetail, \n",
    "                              func.count(OrderDetail.ProductId\n",
    "                                        ).label(\"OrderCount\")\n",
    "                              , func.sum(OrderDetail.Quantity\n",
    "                                        ).label(\"TotalQuantity\")\n",
    "                             ).group_by(OrderDetail.ProductId).subquery()\n",
    "\n",
    "# sort the initial query by OrderCount DESC\n",
    "q = session.query(product_query\n",
    "                 ).order_by(product_query.c.OrderCount.desc())\n",
    "product_df = pd.read_sql(q.statement, engine)\n",
    "print(product_df.head())\n",
    "c = list(product_df.ProductId[0:3]) # top 3 productIds in the most orders\n"
   ]
  },
  {
   "cell_type": "code",
   "execution_count": 38,
   "metadata": {},
   "outputs": [
    {
     "data": {
      "text/html": [
       "<div>\n",
       "<style scoped>\n",
       "    .dataframe tbody tr th:only-of-type {\n",
       "        vertical-align: middle;\n",
       "    }\n",
       "\n",
       "    .dataframe tbody tr th {\n",
       "        vertical-align: top;\n",
       "    }\n",
       "\n",
       "    .dataframe thead th {\n",
       "        text-align: right;\n",
       "    }\n",
       "</style>\n",
       "<table border=\"1\" class=\"dataframe\">\n",
       "  <thead>\n",
       "    <tr style=\"text-align: right;\">\n",
       "      <th></th>\n",
       "      <th>Id</th>\n",
       "      <th>OrderId</th>\n",
       "      <th>ProductId</th>\n",
       "      <th>UnitPrice</th>\n",
       "      <th>Quantity</th>\n",
       "      <th>Discount</th>\n",
       "      <th>TotalQuantity</th>\n",
       "    </tr>\n",
       "  </thead>\n",
       "  <tbody>\n",
       "    <tr>\n",
       "      <th>0</th>\n",
       "      <td>10285/1</td>\n",
       "      <td>10285</td>\n",
       "      <td>1</td>\n",
       "      <td>14.4</td>\n",
       "      <td>45</td>\n",
       "      <td>0.2</td>\n",
       "      <td>828</td>\n",
       "    </tr>\n",
       "    <tr>\n",
       "      <th>1</th>\n",
       "      <td>10255/2</td>\n",
       "      <td>10255</td>\n",
       "      <td>2</td>\n",
       "      <td>15.2</td>\n",
       "      <td>20</td>\n",
       "      <td>0.0</td>\n",
       "      <td>1057</td>\n",
       "    </tr>\n",
       "    <tr>\n",
       "      <th>2</th>\n",
       "      <td>10289/3</td>\n",
       "      <td>10289</td>\n",
       "      <td>3</td>\n",
       "      <td>8.0</td>\n",
       "      <td>30</td>\n",
       "      <td>0.0</td>\n",
       "      <td>328</td>\n",
       "    </tr>\n",
       "    <tr>\n",
       "      <th>3</th>\n",
       "      <td>10309/4</td>\n",
       "      <td>10309</td>\n",
       "      <td>4</td>\n",
       "      <td>17.6</td>\n",
       "      <td>20</td>\n",
       "      <td>0.0</td>\n",
       "      <td>453</td>\n",
       "    </tr>\n",
       "    <tr>\n",
       "      <th>4</th>\n",
       "      <td>10258/5</td>\n",
       "      <td>10258</td>\n",
       "      <td>5</td>\n",
       "      <td>17.0</td>\n",
       "      <td>65</td>\n",
       "      <td>0.2</td>\n",
       "      <td>298</td>\n",
       "    </tr>\n",
       "  </tbody>\n",
       "</table>\n",
       "</div>"
      ],
      "text/plain": [
       "        Id  OrderId  ProductId  UnitPrice  Quantity  Discount  TotalQuantity\n",
       "0  10285/1    10285          1       14.4        45       0.2            828\n",
       "1  10255/2    10255          2       15.2        20       0.0           1057\n",
       "2  10289/3    10289          3        8.0        30       0.0            328\n",
       "3  10309/4    10309          4       17.6        20       0.0            453\n",
       "4  10258/5    10258          5       17.0        65       0.2            298"
      ]
     },
     "execution_count": 38,
     "metadata": {},
     "output_type": "execute_result"
    }
   ],
   "source": [
    "product_df.head(5)"
   ]
  },
  {
   "cell_type": "code",
   "execution_count": null,
   "metadata": {},
   "outputs": [],
   "source": []
  },
  {
   "cell_type": "code",
   "execution_count": null,
   "metadata": {},
   "outputs": [],
   "source": []
  },
  {
   "cell_type": "code",
   "execution_count": null,
   "metadata": {},
   "outputs": [],
   "source": []
  },
  {
   "cell_type": "code",
   "execution_count": null,
   "metadata": {},
   "outputs": [],
   "source": []
  },
  {
   "cell_type": "code",
   "execution_count": null,
   "metadata": {},
   "outputs": [],
   "source": []
  },
  {
   "cell_type": "code",
   "execution_count": null,
   "metadata": {},
   "outputs": [],
   "source": []
  },
  {
   "cell_type": "code",
   "execution_count": null,
   "metadata": {},
   "outputs": [],
   "source": []
  },
  {
   "cell_type": "code",
   "execution_count": null,
   "metadata": {},
   "outputs": [],
   "source": []
  },
  {
   "cell_type": "code",
   "execution_count": null,
   "metadata": {},
   "outputs": [],
   "source": []
  },
  {
   "cell_type": "code",
   "execution_count": null,
   "metadata": {},
   "outputs": [],
   "source": []
  },
  {
   "cell_type": "code",
   "execution_count": null,
   "metadata": {},
   "outputs": [],
   "source": []
  },
  {
   "cell_type": "code",
   "execution_count": null,
   "metadata": {},
   "outputs": [],
   "source": []
  },
  {
   "cell_type": "code",
   "execution_count": null,
   "metadata": {},
   "outputs": [],
   "source": []
  },
  {
   "cell_type": "markdown",
   "metadata": {
    "variables": {
     "e": "&quot;Effect size is a measurement of the strength of a relationship between two variables on a numeric scale, and Cohen&#39;s d calculates this as the difference between two means divided by a standard deviation for the combined data. Generally, 0.01 is considered very small, 0.20 small, 0.50 medium, 0.80 large, 1.20 very large, and 2.0 huge. Typically, a lower Cohen&#39;s d score indicates the need for larger sample sizes. With a cohen&#39;s d value of 0.365, we can say that the effect size is small/medium&quot;",
     "pvalue": "1.0277048388780602e-07"
    }
   },
   "source": []
  },
  {
   "cell_type": "markdown",
   "metadata": {},
   "source": [
    "    - 380 Orders without discounts\n",
    "    - 450 Orders with discounts\n",
    "    - 830 Orders Total"
   ]
  },
  {
   "cell_type": "code",
   "execution_count": 23,
   "metadata": {},
   "outputs": [
    {
     "name": "stdout",
     "output_type": "stream",
     "text": [
      "2019-04-01 17:40:04,286 INFO sqlalchemy.engine.base.Engine SELECT \"OrderDetail\".\"Id\", \"OrderDetail\".\"OrderId\", \"OrderDetail\".\"ProductId\", \"OrderDetail\".\"UnitPrice\", \"OrderDetail\".\"Quantity\", \"OrderDetail\".\"Discount\" \n",
      "FROM \"OrderDetail\" \n",
      "WHERE \"OrderDetail\".\"Discount\" > ?\n",
      "2019-04-01 17:40:04,287 INFO sqlalchemy.engine.base.Engine (0,)\n"
     ]
    },
    {
     "data": {
      "text/html": [
       "<div>\n",
       "<style scoped>\n",
       "    .dataframe tbody tr th:only-of-type {\n",
       "        vertical-align: middle;\n",
       "    }\n",
       "\n",
       "    .dataframe tbody tr th {\n",
       "        vertical-align: top;\n",
       "    }\n",
       "\n",
       "    .dataframe thead th {\n",
       "        text-align: right;\n",
       "    }\n",
       "</style>\n",
       "<table border=\"1\" class=\"dataframe\">\n",
       "  <thead>\n",
       "    <tr style=\"text-align: right;\">\n",
       "      <th></th>\n",
       "      <th>Id</th>\n",
       "      <th>OrderId</th>\n",
       "      <th>ProductId</th>\n",
       "      <th>UnitPrice</th>\n",
       "      <th>Quantity</th>\n",
       "      <th>Discount</th>\n",
       "    </tr>\n",
       "  </thead>\n",
       "  <tbody>\n",
       "    <tr>\n",
       "      <th>0</th>\n",
       "      <td>10250/51</td>\n",
       "      <td>10250</td>\n",
       "      <td>51</td>\n",
       "      <td>42.4</td>\n",
       "      <td>35</td>\n",
       "      <td>0.15</td>\n",
       "    </tr>\n",
       "    <tr>\n",
       "      <th>1</th>\n",
       "      <td>10250/65</td>\n",
       "      <td>10250</td>\n",
       "      <td>65</td>\n",
       "      <td>16.8</td>\n",
       "      <td>15</td>\n",
       "      <td>0.15</td>\n",
       "    </tr>\n",
       "    <tr>\n",
       "      <th>2</th>\n",
       "      <td>10251/22</td>\n",
       "      <td>10251</td>\n",
       "      <td>22</td>\n",
       "      <td>16.8</td>\n",
       "      <td>6</td>\n",
       "      <td>0.05</td>\n",
       "    </tr>\n",
       "    <tr>\n",
       "      <th>3</th>\n",
       "      <td>10251/57</td>\n",
       "      <td>10251</td>\n",
       "      <td>57</td>\n",
       "      <td>15.6</td>\n",
       "      <td>15</td>\n",
       "      <td>0.05</td>\n",
       "    </tr>\n",
       "    <tr>\n",
       "      <th>4</th>\n",
       "      <td>10252/20</td>\n",
       "      <td>10252</td>\n",
       "      <td>20</td>\n",
       "      <td>64.8</td>\n",
       "      <td>40</td>\n",
       "      <td>0.05</td>\n",
       "    </tr>\n",
       "  </tbody>\n",
       "</table>\n",
       "</div>"
      ],
      "text/plain": [
       "         Id  OrderId  ProductId  UnitPrice  Quantity  Discount\n",
       "0  10250/51    10250         51       42.4        35      0.15\n",
       "1  10250/65    10250         65       16.8        15      0.15\n",
       "2  10251/22    10251         22       16.8         6      0.05\n",
       "3  10251/57    10251         57       15.6        15      0.05\n",
       "4  10252/20    10252         20       64.8        40      0.05"
      ]
     },
     "execution_count": 23,
     "metadata": {},
     "output_type": "execute_result"
    }
   ],
   "source": [
    "q = session.query(OrderDetail).filter(OrderDetail.Discount > 0)\n",
    "df = pd.read_sql(q.statement, engine)\n",
    "df.head()"
   ]
  },
  {
   "cell_type": "code",
   "execution_count": 69,
   "metadata": {},
   "outputs": [
    {
     "name": "stdout",
     "output_type": "stream",
     "text": [
      "2019-04-01 19:53:32,030 INFO sqlalchemy.engine.base.Engine SELECT \"OrderDetail\".\"Id\", \"OrderDetail\".\"OrderId\", \"OrderDetail\".\"ProductId\", \"OrderDetail\".\"UnitPrice\", \"OrderDetail\".\"Quantity\", \"OrderDetail\".\"Discount\" \n",
      "FROM \"OrderDetail\" \n",
      "WHERE \"OrderDetail\".\"Discount\" = ? GROUP BY \"OrderDetail\".\"OrderId\"\n",
      "2019-04-01 19:53:32,031 INFO sqlalchemy.engine.base.Engine (0,)\n",
      "613\n"
     ]
    },
    {
     "data": {
      "text/html": [
       "<div>\n",
       "<style scoped>\n",
       "    .dataframe tbody tr th:only-of-type {\n",
       "        vertical-align: middle;\n",
       "    }\n",
       "\n",
       "    .dataframe tbody tr th {\n",
       "        vertical-align: top;\n",
       "    }\n",
       "\n",
       "    .dataframe thead th {\n",
       "        text-align: right;\n",
       "    }\n",
       "</style>\n",
       "<table border=\"1\" class=\"dataframe\">\n",
       "  <thead>\n",
       "    <tr style=\"text-align: right;\">\n",
       "      <th></th>\n",
       "      <th>Id</th>\n",
       "      <th>OrderId</th>\n",
       "      <th>ProductId</th>\n",
       "      <th>UnitPrice</th>\n",
       "      <th>Quantity</th>\n",
       "      <th>Discount</th>\n",
       "    </tr>\n",
       "  </thead>\n",
       "  <tbody>\n",
       "    <tr>\n",
       "      <th>0</th>\n",
       "      <td>10248/11</td>\n",
       "      <td>10248</td>\n",
       "      <td>11</td>\n",
       "      <td>14.0</td>\n",
       "      <td>12</td>\n",
       "      <td>0.0</td>\n",
       "    </tr>\n",
       "    <tr>\n",
       "      <th>1</th>\n",
       "      <td>10249/14</td>\n",
       "      <td>10249</td>\n",
       "      <td>14</td>\n",
       "      <td>18.6</td>\n",
       "      <td>9</td>\n",
       "      <td>0.0</td>\n",
       "    </tr>\n",
       "    <tr>\n",
       "      <th>2</th>\n",
       "      <td>10250/41</td>\n",
       "      <td>10250</td>\n",
       "      <td>41</td>\n",
       "      <td>7.7</td>\n",
       "      <td>10</td>\n",
       "      <td>0.0</td>\n",
       "    </tr>\n",
       "    <tr>\n",
       "      <th>3</th>\n",
       "      <td>10251/65</td>\n",
       "      <td>10251</td>\n",
       "      <td>65</td>\n",
       "      <td>16.8</td>\n",
       "      <td>20</td>\n",
       "      <td>0.0</td>\n",
       "    </tr>\n",
       "    <tr>\n",
       "      <th>4</th>\n",
       "      <td>10252/60</td>\n",
       "      <td>10252</td>\n",
       "      <td>60</td>\n",
       "      <td>27.2</td>\n",
       "      <td>40</td>\n",
       "      <td>0.0</td>\n",
       "    </tr>\n",
       "  </tbody>\n",
       "</table>\n",
       "</div>"
      ],
      "text/plain": [
       "         Id  OrderId  ProductId  UnitPrice  Quantity  Discount\n",
       "0  10248/11    10248         11       14.0        12       0.0\n",
       "1  10249/14    10249         14       18.6         9       0.0\n",
       "2  10250/41    10250         41        7.7        10       0.0\n",
       "3  10251/65    10251         65       16.8        20       0.0\n",
       "4  10252/60    10252         60       27.2        40       0.0"
      ]
     },
     "execution_count": 69,
     "metadata": {},
     "output_type": "execute_result"
    }
   ],
   "source": [
    "q = session.query(OrderDetail).filter(OrderDetail.Discount == 0).group_by(OrderDetail.OrderId)\n",
    "df = pd.read_sql(q.statement, engine)\n",
    "print(len(df))\n",
    "df.head()"
   ]
  },
  {
   "cell_type": "code",
   "execution_count": 67,
   "metadata": {},
   "outputs": [
    {
     "name": "stdout",
     "output_type": "stream",
     "text": [
      "2019-04-01 19:53:12,795 INFO sqlalchemy.engine.base.Engine SELECT \"OrderDetail\".\"Id\", \"OrderDetail\".\"OrderId\", \"OrderDetail\".\"ProductId\", \"OrderDetail\".\"UnitPrice\", \"OrderDetail\".\"Quantity\", \"OrderDetail\".\"Discount\" \n",
      "FROM \"OrderDetail\" \n",
      "WHERE \"OrderDetail\".\"OrderId\" NOT IN (?, ?, ?, ?, ?, ?, ?, ?, ?, ?, ?, ?, ?, ?, ?, ?, ?, ?, ?, ?, ?, ?, ?, ?, ?, ?, ?, ?, ?, ?, ?, ?, ?, ?, ?, ?, ?, ?, ?, ?, ?, ?, ?, ?, ?, ?, ?, ?, ?, ?, ?, ?, ?, ?, ?, ?, ?, ?, ?, ?, ?, ?, ?, ?, ?, ?, ?, ?, ?, ?, ?, ?, ?, ?, ?, ?, ?, ?, ?, ?, ?, ?, ?, ?, ?, ?, ?, ?, ?, ?, ?, ?, ?, ?, ?, ?, ?, ?, ?, ?, ?, ?, ?, ?, ?, ?, ?, ?, ?, ?, ?, ?, ?, ?, ?, ?, ?, ?, ?, ?, ?, ?, ?, ?, ?, ?, ?, ?, ?, ?, ?, ?, ?, ?, ?, ?, ?, ?, ?, ?, ?, ?, ?, ?, ?, ?, ?, ?, ?, ?, ?, ?, ?, ?, ?, ?, ?, ?, ?, ?, ?, ?, ?, ?, ?, ?, ?, ?, ?, ?, ?, ?, ?, ?, ?, ?, ?, ?, ?, ?, ?, ?, ?, ?, ?, ?, ?, ?, ?, ?, ?, ?, ?, ?, ?, ?, ?, ?, ?, ?, ?, ?, ?, ?, ?, ?, ?, ?, ?, ?, ?, ?, ?, ?, ?, ?, ?, ?, ?, ?, ?, ?, ?, ?, ?, ?, ?, ?, ?, ?, ?, ?, ?, ?, ?, ?, ?, ?, ?, ?, ?, ?, ?, ?, ?, ?, ?, ?, ?, ?, ?, ?, ?, ?, ?, ?, ?, ?, ?, ?, ?, ?, ?, ?, ?, ?, ?, ?, ?, ?, ?, ?, ?, ?, ?, ?, ?, ?, ?, ?, ?, ?, ?, ?, ?, ?, ?, ?, ?, ?, ?, ?, ?, ?, ?, ?, ?, ?, ?, ?, ?, ?, ?, ?, ?, ?, ?, ?, ?, ?, ?, ?, ?, ?, ?, ?, ?, ?, ?, ?, ?, ?, ?, ?, ?, ?, ?, ?, ?, ?, ?, ?, ?, ?, ?, ?, ?, ?, ?, ?, ?, ?, ?, ?, ?, ?, ?, ?, ?, ?, ?, ?, ?, ?, ?, ?, ?, ?, ?, ?, ?, ?, ?, ?, ?, ?, ?, ?, ?, ?, ?, ?, ?, ?, ?, ?, ?, ?, ?, ?) GROUP BY \"OrderDetail\".\"OrderId\"\n",
      "2019-04-01 19:53:12,796 INFO sqlalchemy.engine.base.Engine (10250, 10251, 10252, 10254, 10258, 10260, 10262, 10263, 10264, 10266, 10267, 10269, 10273, 10275, 10279, 10284, 10285, 10287, 10288, 10291, 10298, 10303, 10305, 10314, 10324, 10327, 10329, 10330, 10332, 10333, 10335, 10336, 10339, 10340, 10341, 10342, 10343, 10344, 10346, 10347, 10348, 10350, 10351, 10352, 10353, 10357, 10358, 10359, 10361, 10368, 10369, 10370, 10371, 10372, 10373, 10376, 10377, 10379, 10380, 10385, 10388, 10390, 10393, 10395, 10397, 10398, 10403, 10404, 10406, 10411, 10412, 10414, 10417, 10419, 10420, 10421, 10424, 10425, 10429, 10430, 10431, 10434, 10436, 10438, 10440, 10443, 10446, 10450, 10451, 10452, 10453, 10454, 10456, 10459, 10460, 10461, 10464, 10465, 10469, 10472, 10475, 10476, 10477, 10478, 10483, 10485, 10487, 10488, 10489, 10491, 10492, 10493, 10496, 10500, 10506, 10507, 10510, 10511, 10512, 10513, 10515, 10516, 10519, 10522, 10523, 10525, 10526, 10527, 10528, 10533, 10534, 10535, 10536, 10541, 10542, 10543, 10547, 10548, 10549, 10550, 10551, 10554, 10555, 10559, 10560, 10562, 10564, 10565, 10566, 10567, 10569, 10570, 10571, 10572, 10580, 10581, 10583, 10584, 10586, 10588, 10590, 10592, 10593, 10595, 10596, 10597, 10602, 10603, 10604, 10605, 10606, 10610, 10613, 10616, 10617, 10622, 10623, 10627, 10630, 10631, 10632, 10633, 10635, 10637, 10640, 10642, 10643, 10644, 10646, 10648, 10650, 10651, 10652, 10653, 10654, 10655, 10656, 10658, 10659, 10661, 10663, 10664, 10667, 10668, 10672, 10677, 10680, 10681, 10686, 10687, 10688, 10689, 10690, 10693, 10697, 10698, 10700, 10701, 10707, 10712, 10714, 10717, 10719, 10721, 10727, 10730, 10731, 10735, 10740, 10741, 10743, 10744, 10750, 10751, 10755, 10756, 10760, 10761, 10764, 10765, 10769, 10770, 10773, 10774, 10776, 10777, 10781, 10784, 10786, 10787, 10788, 10790, 10791, 10794, 10795, 10796, 10799, 10800, 10801, 10802, 10803, 10804, 10806, 10808, 10812, 10813, 10814, 10816, 10817, 10823, 10832, 10833, 10834, 10835, 10837, 10838, 10839, 10840, 10843, 10845, 10847, 10849, 10850, 10851, 10854, 10855, 10857, 10859, 10863, 10865, 10866, 10868, 10871, 10872, 10875, 10877, 10878, 10880, 10882, 10884, 10891, 10892, 10894, 10899, 10900, 10902, 10905, 10908, 10912, 10913, 10918, 10923, 10924, 10925, 10930, 10931, 10932, 10935, 10936, 10938, 10939, 10941, 10944, 10951, 10952, 10953, 10954, 10955, 10959, 10960, 10961, 10963, 10966, 10970, 10978, 10980, 10983, 10985, 10988, 10990, 10991, 10993, 10994, 10997, 10999, 11000, 11002, 11006, 11008, 11009, 11011, 11012, 11014, 11020, 11021, 11025, 11027, 11030, 11033, 11034, 11038, 11041, 11046, 11047, 11049, 11050, 11051, 11052, 11053, 11062, 11063, 11064, 11065, 11068, 11070, 11071, 11074, 11075, 11076, 11077)\n",
      "450\n"
     ]
    },
    {
     "data": {
      "text/html": [
       "<div>\n",
       "<style scoped>\n",
       "    .dataframe tbody tr th:only-of-type {\n",
       "        vertical-align: middle;\n",
       "    }\n",
       "\n",
       "    .dataframe tbody tr th {\n",
       "        vertical-align: top;\n",
       "    }\n",
       "\n",
       "    .dataframe thead th {\n",
       "        text-align: right;\n",
       "    }\n",
       "</style>\n",
       "<table border=\"1\" class=\"dataframe\">\n",
       "  <thead>\n",
       "    <tr style=\"text-align: right;\">\n",
       "      <th></th>\n",
       "      <th>Id</th>\n",
       "      <th>OrderId</th>\n",
       "      <th>ProductId</th>\n",
       "      <th>UnitPrice</th>\n",
       "      <th>Quantity</th>\n",
       "      <th>Discount</th>\n",
       "    </tr>\n",
       "  </thead>\n",
       "  <tbody>\n",
       "    <tr>\n",
       "      <th>0</th>\n",
       "      <td>10248/11</td>\n",
       "      <td>10248</td>\n",
       "      <td>11</td>\n",
       "      <td>14.0</td>\n",
       "      <td>12</td>\n",
       "      <td>0.0</td>\n",
       "    </tr>\n",
       "    <tr>\n",
       "      <th>1</th>\n",
       "      <td>10249/14</td>\n",
       "      <td>10249</td>\n",
       "      <td>14</td>\n",
       "      <td>18.6</td>\n",
       "      <td>9</td>\n",
       "      <td>0.0</td>\n",
       "    </tr>\n",
       "    <tr>\n",
       "      <th>2</th>\n",
       "      <td>10253/31</td>\n",
       "      <td>10253</td>\n",
       "      <td>31</td>\n",
       "      <td>10.0</td>\n",
       "      <td>20</td>\n",
       "      <td>0.0</td>\n",
       "    </tr>\n",
       "    <tr>\n",
       "      <th>3</th>\n",
       "      <td>10255/2</td>\n",
       "      <td>10255</td>\n",
       "      <td>2</td>\n",
       "      <td>15.2</td>\n",
       "      <td>20</td>\n",
       "      <td>0.0</td>\n",
       "    </tr>\n",
       "    <tr>\n",
       "      <th>4</th>\n",
       "      <td>10256/53</td>\n",
       "      <td>10256</td>\n",
       "      <td>53</td>\n",
       "      <td>26.2</td>\n",
       "      <td>15</td>\n",
       "      <td>0.0</td>\n",
       "    </tr>\n",
       "  </tbody>\n",
       "</table>\n",
       "</div>"
      ],
      "text/plain": [
       "         Id  OrderId  ProductId  UnitPrice  Quantity  Discount\n",
       "0  10248/11    10248         11       14.0        12       0.0\n",
       "1  10249/14    10249         14       18.6         9       0.0\n",
       "2  10253/31    10253         31       10.0        20       0.0\n",
       "3   10255/2    10255          2       15.2        20       0.0\n",
       "4  10256/53    10256         53       26.2        15       0.0"
      ]
     },
     "execution_count": 67,
     "metadata": {},
     "output_type": "execute_result"
    }
   ],
   "source": [
    "order_ids_no_discounts = df.OrderId.tolist()\n",
    "order_ids_no_discounts\n",
    "\n",
    "q = session.query(OrderDetail).filter(~OrderDetail.OrderId.in_(order_ids_no_discounts)).group_by(OrderDetail.OrderId)\n",
    "df = pd.read_sql(q.statement, engine)\n",
    "print(len(df))\n",
    "df.head()\n"
   ]
  },
  {
   "cell_type": "code",
   "execution_count": 26,
   "metadata": {},
   "outputs": [
    {
     "name": "stdout",
     "output_type": "stream",
     "text": [
      "2019-04-01 17:45:38,317 INFO sqlalchemy.engine.base.Engine SELECT \"OrderDetail\".\"Id\", \"OrderDetail\".\"OrderId\", \"OrderDetail\".\"ProductId\", \"OrderDetail\".\"UnitPrice\", \"OrderDetail\".\"Quantity\", \"OrderDetail\".\"Discount\" \n",
      "FROM \"OrderDetail\" GROUP BY \"OrderDetail\".\"OrderId\"\n",
      "2019-04-01 17:45:38,318 INFO sqlalchemy.engine.base.Engine ()\n"
     ]
    },
    {
     "data": {
      "text/html": [
       "<div>\n",
       "<style scoped>\n",
       "    .dataframe tbody tr th:only-of-type {\n",
       "        vertical-align: middle;\n",
       "    }\n",
       "\n",
       "    .dataframe tbody tr th {\n",
       "        vertical-align: top;\n",
       "    }\n",
       "\n",
       "    .dataframe thead th {\n",
       "        text-align: right;\n",
       "    }\n",
       "</style>\n",
       "<table border=\"1\" class=\"dataframe\">\n",
       "  <thead>\n",
       "    <tr style=\"text-align: right;\">\n",
       "      <th></th>\n",
       "      <th>Id</th>\n",
       "      <th>OrderId</th>\n",
       "      <th>ProductId</th>\n",
       "      <th>UnitPrice</th>\n",
       "      <th>Quantity</th>\n",
       "      <th>Discount</th>\n",
       "    </tr>\n",
       "  </thead>\n",
       "  <tbody>\n",
       "    <tr>\n",
       "      <th>0</th>\n",
       "      <td>10248/11</td>\n",
       "      <td>10248</td>\n",
       "      <td>11</td>\n",
       "      <td>14.0</td>\n",
       "      <td>12</td>\n",
       "      <td>0.00</td>\n",
       "    </tr>\n",
       "    <tr>\n",
       "      <th>1</th>\n",
       "      <td>10249/14</td>\n",
       "      <td>10249</td>\n",
       "      <td>14</td>\n",
       "      <td>18.6</td>\n",
       "      <td>9</td>\n",
       "      <td>0.00</td>\n",
       "    </tr>\n",
       "    <tr>\n",
       "      <th>2</th>\n",
       "      <td>10250/41</td>\n",
       "      <td>10250</td>\n",
       "      <td>41</td>\n",
       "      <td>7.7</td>\n",
       "      <td>10</td>\n",
       "      <td>0.00</td>\n",
       "    </tr>\n",
       "    <tr>\n",
       "      <th>3</th>\n",
       "      <td>10251/22</td>\n",
       "      <td>10251</td>\n",
       "      <td>22</td>\n",
       "      <td>16.8</td>\n",
       "      <td>6</td>\n",
       "      <td>0.05</td>\n",
       "    </tr>\n",
       "    <tr>\n",
       "      <th>4</th>\n",
       "      <td>10252/20</td>\n",
       "      <td>10252</td>\n",
       "      <td>20</td>\n",
       "      <td>64.8</td>\n",
       "      <td>40</td>\n",
       "      <td>0.05</td>\n",
       "    </tr>\n",
       "  </tbody>\n",
       "</table>\n",
       "</div>"
      ],
      "text/plain": [
       "         Id  OrderId  ProductId  UnitPrice  Quantity  Discount\n",
       "0  10248/11    10248         11       14.0        12      0.00\n",
       "1  10249/14    10249         14       18.6         9      0.00\n",
       "2  10250/41    10250         41        7.7        10      0.00\n",
       "3  10251/22    10251         22       16.8         6      0.05\n",
       "4  10252/20    10252         20       64.8        40      0.05"
      ]
     },
     "execution_count": 26,
     "metadata": {},
     "output_type": "execute_result"
    }
   ],
   "source": [
    "q = session.query(OrderDetail).group_by(OrderDetail.OrderId)\n",
    "df = pd.read_sql(q.statement, engine)\n",
    "df.head()"
   ]
  },
  {
   "cell_type": "code",
   "execution_count": 50,
   "metadata": {},
   "outputs": [
    {
     "name": "stdout",
     "output_type": "stream",
     "text": [
      "2019-04-01 19:17:08,962 INFO sqlalchemy.engine.base.Engine SELECT \"OrderDetail\".\"Id\", \"OrderDetail\".\"OrderId\", \"OrderDetail\".\"ProductId\", \"OrderDetail\".\"UnitPrice\", \"OrderDetail\".\"Quantity\", \"OrderDetail\".\"Discount\", count(\"OrderDetail\".\"OrderId\") AS \"OCount\", sum(\"OrderDetail\".\"Quantity\") AS \"TotalQuantity\", sum(\"OrderDetail\".\"Discount\") AS \"TotalDiscount\" \n",
      "FROM \"OrderDetail\" GROUP BY \"OrderDetail\".\"OrderId\"\n",
      "2019-04-01 19:17:08,963 INFO sqlalchemy.engine.base.Engine ()\n"
     ]
    },
    {
     "data": {
      "text/plain": [
       "2     283\n",
       "3     248\n",
       "1     137\n",
       "4     125\n",
       "5      33\n",
       "6       3\n",
       "25      1\n",
       "Name: OCount, dtype: int64"
      ]
     },
     "execution_count": 50,
     "metadata": {},
     "output_type": "execute_result"
    }
   ],
   "source": [
    "q = session.query(OrderDetail, func.count(OrderDetail.OrderId).label(\"OCount\"), func.sum(OrderDetail.Quantity).label(\"TotalQuantity\"), func.sum(OrderDetail.Discount).label(\"TotalDiscount\")).group_by(OrderDetail.OrderId)\n",
    "df = pd.read_sql(q.statement, engine)\n",
    "df.head()\n",
    "# df.TotalDiscount.value_counts()\n",
    "# df.OCount.value_counts()\n",
    "df.OCount.value_counts()"
   ]
  },
  {
   "cell_type": "code",
   "execution_count": 41,
   "metadata": {},
   "outputs": [
    {
     "name": "stdout",
     "output_type": "stream",
     "text": [
      "2019-04-01 18:36:16,051 INFO sqlalchemy.engine.base.Engine SELECT \"OrderDetail\".\"Id\", \"OrderDetail\".\"OrderId\", \"OrderDetail\".\"ProductId\", \"OrderDetail\".\"UnitPrice\", \"OrderDetail\".\"Quantity\", \"OrderDetail\".\"Discount\", \"Order\".\"Id\", \"Order\".\"CustomerId\", \"Order\".\"EmployeeId\", \"Order\".\"OrderDate\", \"Order\".\"RequiredDate\", \"Order\".\"ShippedDate\", \"Order\".\"ShipVia\", \"Order\".\"Freight\", \"Order\".\"ShipName\", \"Order\".\"ShipAddress\", \"Order\".\"ShipCity\", \"Order\".\"ShipRegion\", \"Order\".\"ShipPostalCode\", \"Order\".\"ShipCountry\", sum(\"OrderDetail\".\"Quantity\") AS \"TotalQuantity\", sum(\"OrderDetail\".\"Discount\") AS \"TotalDiscount\" \n",
      "FROM \"OrderDetail\", \"Order\" GROUP BY \"OrderDetail\".\"OrderId\"\n",
      "2019-04-01 18:36:16,053 INFO sqlalchemy.engine.base.Engine ()\n"
     ]
    },
    {
     "name": "stderr",
     "output_type": "stream",
     "text": [
      "/anaconda3/lib/python3.7/site-packages/sqlalchemy/sql/base.py:527: SAWarning: Column 'Id' on table <sqlalchemy.sql.selectable.Select at 0x1a1fd35a90; Select object> being replaced by Column('Id', INTEGER(), table=<Select object>, primary_key=True, nullable=False), which has the same key.  Consider use_labels for select() statements.\n",
      "  (key, getattr(existing, 'table', None), value))\n"
     ]
    },
    {
     "data": {
      "text/html": [
       "<div>\n",
       "<style scoped>\n",
       "    .dataframe tbody tr th:only-of-type {\n",
       "        vertical-align: middle;\n",
       "    }\n",
       "\n",
       "    .dataframe tbody tr th {\n",
       "        vertical-align: top;\n",
       "    }\n",
       "\n",
       "    .dataframe thead th {\n",
       "        text-align: right;\n",
       "    }\n",
       "</style>\n",
       "<table border=\"1\" class=\"dataframe\">\n",
       "  <thead>\n",
       "    <tr style=\"text-align: right;\">\n",
       "      <th></th>\n",
       "      <th>Id</th>\n",
       "      <th>OrderId</th>\n",
       "      <th>ProductId</th>\n",
       "      <th>UnitPrice</th>\n",
       "      <th>Quantity</th>\n",
       "      <th>Discount</th>\n",
       "      <th>Id</th>\n",
       "      <th>CustomerId</th>\n",
       "      <th>EmployeeId</th>\n",
       "      <th>OrderDate</th>\n",
       "      <th>...</th>\n",
       "      <th>ShipVia</th>\n",
       "      <th>Freight</th>\n",
       "      <th>ShipName</th>\n",
       "      <th>ShipAddress</th>\n",
       "      <th>ShipCity</th>\n",
       "      <th>ShipRegion</th>\n",
       "      <th>ShipPostalCode</th>\n",
       "      <th>ShipCountry</th>\n",
       "      <th>TotalQuantity</th>\n",
       "      <th>TotalDiscount</th>\n",
       "    </tr>\n",
       "  </thead>\n",
       "  <tbody>\n",
       "    <tr>\n",
       "      <th>0</th>\n",
       "      <td>10248/11</td>\n",
       "      <td>10248</td>\n",
       "      <td>11</td>\n",
       "      <td>14.0</td>\n",
       "      <td>12</td>\n",
       "      <td>0.00</td>\n",
       "      <td>10248</td>\n",
       "      <td>VINET</td>\n",
       "      <td>5</td>\n",
       "      <td>2012-07-04</td>\n",
       "      <td>...</td>\n",
       "      <td>3</td>\n",
       "      <td>32.38</td>\n",
       "      <td>Vins et alcools Chevalier</td>\n",
       "      <td>59 rue de l'Abbaye</td>\n",
       "      <td>Reims</td>\n",
       "      <td>Western Europe</td>\n",
       "      <td>51100</td>\n",
       "      <td>France</td>\n",
       "      <td>22410</td>\n",
       "      <td>0.0</td>\n",
       "    </tr>\n",
       "    <tr>\n",
       "      <th>1</th>\n",
       "      <td>10249/14</td>\n",
       "      <td>10249</td>\n",
       "      <td>14</td>\n",
       "      <td>18.6</td>\n",
       "      <td>9</td>\n",
       "      <td>0.00</td>\n",
       "      <td>10248</td>\n",
       "      <td>VINET</td>\n",
       "      <td>5</td>\n",
       "      <td>2012-07-04</td>\n",
       "      <td>...</td>\n",
       "      <td>3</td>\n",
       "      <td>32.38</td>\n",
       "      <td>Vins et alcools Chevalier</td>\n",
       "      <td>59 rue de l'Abbaye</td>\n",
       "      <td>Reims</td>\n",
       "      <td>Western Europe</td>\n",
       "      <td>51100</td>\n",
       "      <td>France</td>\n",
       "      <td>40670</td>\n",
       "      <td>0.0</td>\n",
       "    </tr>\n",
       "    <tr>\n",
       "      <th>2</th>\n",
       "      <td>10250/41</td>\n",
       "      <td>10250</td>\n",
       "      <td>41</td>\n",
       "      <td>7.7</td>\n",
       "      <td>10</td>\n",
       "      <td>0.00</td>\n",
       "      <td>10248</td>\n",
       "      <td>VINET</td>\n",
       "      <td>5</td>\n",
       "      <td>2012-07-04</td>\n",
       "      <td>...</td>\n",
       "      <td>3</td>\n",
       "      <td>32.38</td>\n",
       "      <td>Vins et alcools Chevalier</td>\n",
       "      <td>59 rue de l'Abbaye</td>\n",
       "      <td>Reims</td>\n",
       "      <td>Western Europe</td>\n",
       "      <td>51100</td>\n",
       "      <td>France</td>\n",
       "      <td>49800</td>\n",
       "      <td>249.0</td>\n",
       "    </tr>\n",
       "    <tr>\n",
       "      <th>3</th>\n",
       "      <td>10251/22</td>\n",
       "      <td>10251</td>\n",
       "      <td>22</td>\n",
       "      <td>16.8</td>\n",
       "      <td>6</td>\n",
       "      <td>0.05</td>\n",
       "      <td>10248</td>\n",
       "      <td>VINET</td>\n",
       "      <td>5</td>\n",
       "      <td>2012-07-04</td>\n",
       "      <td>...</td>\n",
       "      <td>3</td>\n",
       "      <td>32.38</td>\n",
       "      <td>Vins et alcools Chevalier</td>\n",
       "      <td>59 rue de l'Abbaye</td>\n",
       "      <td>Reims</td>\n",
       "      <td>Western Europe</td>\n",
       "      <td>51100</td>\n",
       "      <td>France</td>\n",
       "      <td>34030</td>\n",
       "      <td>83.0</td>\n",
       "    </tr>\n",
       "    <tr>\n",
       "      <th>4</th>\n",
       "      <td>10252/20</td>\n",
       "      <td>10252</td>\n",
       "      <td>20</td>\n",
       "      <td>64.8</td>\n",
       "      <td>40</td>\n",
       "      <td>0.05</td>\n",
       "      <td>10248</td>\n",
       "      <td>VINET</td>\n",
       "      <td>5</td>\n",
       "      <td>2012-07-04</td>\n",
       "      <td>...</td>\n",
       "      <td>3</td>\n",
       "      <td>32.38</td>\n",
       "      <td>Vins et alcools Chevalier</td>\n",
       "      <td>59 rue de l'Abbaye</td>\n",
       "      <td>Reims</td>\n",
       "      <td>Western Europe</td>\n",
       "      <td>51100</td>\n",
       "      <td>France</td>\n",
       "      <td>87150</td>\n",
       "      <td>83.0</td>\n",
       "    </tr>\n",
       "  </tbody>\n",
       "</table>\n",
       "<p>5 rows × 22 columns</p>\n",
       "</div>"
      ],
      "text/plain": [
       "         Id  OrderId  ProductId  UnitPrice  Quantity  Discount     Id  \\\n",
       "0  10248/11    10248         11       14.0        12      0.00  10248   \n",
       "1  10249/14    10249         14       18.6         9      0.00  10248   \n",
       "2  10250/41    10250         41        7.7        10      0.00  10248   \n",
       "3  10251/22    10251         22       16.8         6      0.05  10248   \n",
       "4  10252/20    10252         20       64.8        40      0.05  10248   \n",
       "\n",
       "  CustomerId  EmployeeId   OrderDate      ...      ShipVia Freight  \\\n",
       "0      VINET           5  2012-07-04      ...            3   32.38   \n",
       "1      VINET           5  2012-07-04      ...            3   32.38   \n",
       "2      VINET           5  2012-07-04      ...            3   32.38   \n",
       "3      VINET           5  2012-07-04      ...            3   32.38   \n",
       "4      VINET           5  2012-07-04      ...            3   32.38   \n",
       "\n",
       "                    ShipName         ShipAddress ShipCity      ShipRegion  \\\n",
       "0  Vins et alcools Chevalier  59 rue de l'Abbaye    Reims  Western Europe   \n",
       "1  Vins et alcools Chevalier  59 rue de l'Abbaye    Reims  Western Europe   \n",
       "2  Vins et alcools Chevalier  59 rue de l'Abbaye    Reims  Western Europe   \n",
       "3  Vins et alcools Chevalier  59 rue de l'Abbaye    Reims  Western Europe   \n",
       "4  Vins et alcools Chevalier  59 rue de l'Abbaye    Reims  Western Europe   \n",
       "\n",
       "  ShipPostalCode ShipCountry TotalQuantity TotalDiscount  \n",
       "0          51100      France         22410           0.0  \n",
       "1          51100      France         40670           0.0  \n",
       "2          51100      France         49800         249.0  \n",
       "3          51100      France         34030          83.0  \n",
       "4          51100      France         87150          83.0  \n",
       "\n",
       "[5 rows x 22 columns]"
      ]
     },
     "execution_count": 41,
     "metadata": {},
     "output_type": "execute_result"
    }
   ],
   "source": [
    "q = session.query(OrderDetail, Order., func.sum(OrderDetail.Quantity).label(\"TotalQuantity\"), func.sum(OrderDetail.Discount).label(\"TotalDiscount\")).group_by(OrderDetail.OrderId)\n",
    "df = pd.read_sql(q.statement, engine)\n",
    "df.head()"
   ]
  },
  {
   "cell_type": "code",
   "execution_count": 38,
   "metadata": {},
   "outputs": [
    {
     "name": "stdout",
     "output_type": "stream",
     "text": [
      "2019-04-01 18:31:17,697 INFO sqlalchemy.engine.base.Engine SELECT \"Product\".\"Id\", \"Product\".\"ProductName\", \"Product\".\"SupplierId\", \"Product\".\"CategoryId\", \"Product\".\"QuantityPerUnit\", \"Product\".\"UnitPrice\", \"Product\".\"UnitsInStock\", \"Product\".\"UnitsOnOrder\", \"Product\".\"ReorderLevel\", \"Product\".\"Discontinued\" \n",
      "FROM \"Product\"\n",
      "2019-04-01 18:31:17,698 INFO sqlalchemy.engine.base.Engine ()\n"
     ]
    },
    {
     "data": {
      "text/plain": [
       "77"
      ]
     },
     "execution_count": 38,
     "metadata": {},
     "output_type": "execute_result"
    }
   ],
   "source": [
    "q = session.query(Product)\n",
    "df = pd.read_sql(q.statement, engine)\n",
    "df.head()\n",
    "len(df)"
   ]
  },
  {
   "cell_type": "code",
   "execution_count": null,
   "metadata": {},
   "outputs": [],
   "source": []
  },
  {
   "cell_type": "code",
   "execution_count": 6,
   "metadata": {},
   "outputs": [],
   "source": [
    "# helper methods\n",
    "def get_columns_info(col_name):\n",
    "    cols_list = inspector.get_columns(col_name)\n",
    "    print(\"Table Name: {}\".format(col_name))\n",
    "    print(\"\")\n",
    "    for column in cols_list:\n",
    "        print(\"Name: {} \\t\\t Type: {}\".format(column['name'], column['type']))"
   ]
  },
  {
   "cell_type": "code",
   "execution_count": 7,
   "metadata": {},
   "outputs": [],
   "source": [
    "# get_columns_info('Order')"
   ]
  },
  {
   "cell_type": "code",
   "execution_count": 8,
   "metadata": {},
   "outputs": [],
   "source": [
    "# get_columns_info('Orderdetail')"
   ]
  },
  {
   "cell_type": "code",
   "execution_count": 9,
   "metadata": {},
   "outputs": [],
   "source": [
    "# get_columns_info('Product')"
   ]
  },
  {
   "cell_type": "code",
   "execution_count": 10,
   "metadata": {},
   "outputs": [],
   "source": [
    "# get_columns_info('Category')"
   ]
  },
  {
   "cell_type": "code",
   "execution_count": 90,
   "metadata": {},
   "outputs": [
    {
     "name": "stdout",
     "output_type": "stream",
     "text": [
      "2019-04-01 13:41:47,908 INFO sqlalchemy.engine.base.Engine SELECT unitprice, quantity, discount from orderdetail\n",
      "2019-04-01 13:41:47,909 INFO sqlalchemy.engine.base.Engine ()\n"
     ]
    },
    {
     "data": {
      "text/html": [
       "<div>\n",
       "<style scoped>\n",
       "    .dataframe tbody tr th:only-of-type {\n",
       "        vertical-align: middle;\n",
       "    }\n",
       "\n",
       "    .dataframe tbody tr th {\n",
       "        vertical-align: top;\n",
       "    }\n",
       "\n",
       "    .dataframe thead th {\n",
       "        text-align: right;\n",
       "    }\n",
       "</style>\n",
       "<table border=\"1\" class=\"dataframe\">\n",
       "  <thead>\n",
       "    <tr style=\"text-align: right;\">\n",
       "      <th></th>\n",
       "      <th>UnitPrice</th>\n",
       "      <th>Quantity</th>\n",
       "      <th>Discount</th>\n",
       "    </tr>\n",
       "  </thead>\n",
       "  <tbody>\n",
       "    <tr>\n",
       "      <th>count</th>\n",
       "      <td>2155.000000</td>\n",
       "      <td>2155.000000</td>\n",
       "      <td>2155.000000</td>\n",
       "    </tr>\n",
       "    <tr>\n",
       "      <th>mean</th>\n",
       "      <td>26.218520</td>\n",
       "      <td>23.812993</td>\n",
       "      <td>0.056167</td>\n",
       "    </tr>\n",
       "    <tr>\n",
       "      <th>std</th>\n",
       "      <td>29.827418</td>\n",
       "      <td>19.022047</td>\n",
       "      <td>0.083450</td>\n",
       "    </tr>\n",
       "    <tr>\n",
       "      <th>min</th>\n",
       "      <td>2.000000</td>\n",
       "      <td>1.000000</td>\n",
       "      <td>0.000000</td>\n",
       "    </tr>\n",
       "    <tr>\n",
       "      <th>25%</th>\n",
       "      <td>12.000000</td>\n",
       "      <td>10.000000</td>\n",
       "      <td>0.000000</td>\n",
       "    </tr>\n",
       "    <tr>\n",
       "      <th>50%</th>\n",
       "      <td>18.400000</td>\n",
       "      <td>20.000000</td>\n",
       "      <td>0.000000</td>\n",
       "    </tr>\n",
       "    <tr>\n",
       "      <th>75%</th>\n",
       "      <td>32.000000</td>\n",
       "      <td>30.000000</td>\n",
       "      <td>0.100000</td>\n",
       "    </tr>\n",
       "    <tr>\n",
       "      <th>max</th>\n",
       "      <td>263.500000</td>\n",
       "      <td>130.000000</td>\n",
       "      <td>0.250000</td>\n",
       "    </tr>\n",
       "  </tbody>\n",
       "</table>\n",
       "</div>"
      ],
      "text/plain": [
       "         UnitPrice     Quantity     Discount\n",
       "count  2155.000000  2155.000000  2155.000000\n",
       "mean     26.218520    23.812993     0.056167\n",
       "std      29.827418    19.022047     0.083450\n",
       "min       2.000000     1.000000     0.000000\n",
       "25%      12.000000    10.000000     0.000000\n",
       "50%      18.400000    20.000000     0.000000\n",
       "75%      32.000000    30.000000     0.100000\n",
       "max     263.500000   130.000000     0.250000"
      ]
     },
     "execution_count": 90,
     "metadata": {},
     "output_type": "execute_result"
    }
   ],
   "source": [
    "q = '''SELECT unitprice, quantity, discount from orderdetail'''\n",
    "df = pd.read_sql_query(q, engine)\n",
    "df.describe()"
   ]
  },
  {
   "cell_type": "code",
   "execution_count": 91,
   "metadata": {},
   "outputs": [
    {
     "data": {
      "text/plain": [
       "0.00    1317\n",
       "0.05     185\n",
       "0.10     173\n",
       "0.20     161\n",
       "0.15     157\n",
       "0.25     154\n",
       "0.03       3\n",
       "0.02       2\n",
       "0.01       1\n",
       "0.04       1\n",
       "0.06       1\n",
       "Name: Discount, dtype: int64"
      ]
     },
     "execution_count": 91,
     "metadata": {},
     "output_type": "execute_result"
    }
   ],
   "source": [
    "df.Discount.value_counts()"
   ]
  },
  {
   "cell_type": "code",
   "execution_count": 88,
   "metadata": {},
   "outputs": [
    {
     "name": "stdout",
     "output_type": "stream",
     "text": [
      "2019-04-01 13:34:48,396 INFO sqlalchemy.engine.base.Engine SELECT SUM(quantity) as total_quantity, OrderId FROM Orderdetail JOIN [Order] on Orderdetail.OrderId = \"Order\".Id WHERE Orderdetail.discount > 0 GROUP BY Orderdetail.OrderId ORDER BY total_quantity DESC\n",
      "2019-04-01 13:34:48,397 INFO sqlalchemy.engine.base.Engine ()\n"
     ]
    },
    {
     "data": {
      "text/html": [
       "<div>\n",
       "<style scoped>\n",
       "    .dataframe tbody tr th:only-of-type {\n",
       "        vertical-align: middle;\n",
       "    }\n",
       "\n",
       "    .dataframe tbody tr th {\n",
       "        vertical-align: top;\n",
       "    }\n",
       "\n",
       "    .dataframe thead th {\n",
       "        text-align: right;\n",
       "    }\n",
       "</style>\n",
       "<table border=\"1\" class=\"dataframe\">\n",
       "  <thead>\n",
       "    <tr style=\"text-align: right;\">\n",
       "      <th></th>\n",
       "      <th>total_quantity</th>\n",
       "      <th>OrderId</th>\n",
       "    </tr>\n",
       "  </thead>\n",
       "  <tbody>\n",
       "    <tr>\n",
       "      <th>0</th>\n",
       "      <td>288</td>\n",
       "      <td>10847</td>\n",
       "    </tr>\n",
       "    <tr>\n",
       "      <th>1</th>\n",
       "      <td>260</td>\n",
       "      <td>11030</td>\n",
       "    </tr>\n",
       "    <tr>\n",
       "      <th>2</th>\n",
       "      <td>238</td>\n",
       "      <td>10451</td>\n",
       "    </tr>\n",
       "    <tr>\n",
       "      <th>3</th>\n",
       "      <td>215</td>\n",
       "      <td>10595</td>\n",
       "    </tr>\n",
       "    <tr>\n",
       "      <th>4</th>\n",
       "      <td>211</td>\n",
       "      <td>10324</td>\n",
       "    </tr>\n",
       "  </tbody>\n",
       "</table>\n",
       "</div>"
      ],
      "text/plain": [
       "   total_quantity  OrderId\n",
       "0             288    10847\n",
       "1             260    11030\n",
       "2             238    10451\n",
       "3             215    10595\n",
       "4             211    10324"
      ]
     },
     "execution_count": 88,
     "metadata": {},
     "output_type": "execute_result"
    }
   ],
   "source": [
    "no_discount_q = '''SELECT SUM(quantity) as total_quantity, OrderId FROM Orderdetail JOIN [Order] on Orderdetail.OrderId = \"Order\".Id WHERE Orderdetail.discount > 0 GROUP BY Orderdetail.OrderId ORDER BY total_quantity DESC'''\n",
    "df = pd.read_sql_query(no_discount_q, engine)\n",
    "df.head()"
   ]
  },
  {
   "cell_type": "code",
   "execution_count": 97,
   "metadata": {},
   "outputs": [
    {
     "name": "stdout",
     "output_type": "stream",
     "text": [
      "2019-04-01 14:05:57,974 INFO sqlalchemy.engine.base.Engine SELECT * FROM orderdetail WHERE OrderId = 11030\n",
      "2019-04-01 14:05:57,975 INFO sqlalchemy.engine.base.Engine ()\n"
     ]
    },
    {
     "data": {
      "text/plain": [
       "0.25    3\n",
       "0.00    1\n",
       "Name: Discount, dtype: int64"
      ]
     },
     "execution_count": 97,
     "metadata": {},
     "output_type": "execute_result"
    }
   ],
   "source": [
    "q = '''SELECT * FROM orderdetail WHERE OrderId = 11030'''\n",
    "df = pd.read_sql_query(q, engine)\n",
    "df.Discount.value_counts()"
   ]
  },
  {
   "cell_type": "code",
   "execution_count": 109,
   "metadata": {},
   "outputs": [
    {
     "name": "stdout",
     "output_type": "stream",
     "text": [
      "2019-04-01 14:19:15,776 INFO sqlalchemy.engine.base.Engine SELECT product.Id, product.ProductName, product.CategoryId, product.UnitPrice as ProductUnitPrice, Orderdetail.OrderId, Orderdetail.ProductId, Orderdetail.UnitPrice, Orderdetail.Quantity, Orderdetail.Discount FROM PRODUCT JOIN ORDERDETAIL ON product.Id = OrderDetail.ProductId\n",
      "2019-04-01 14:19:15,777 INFO sqlalchemy.engine.base.Engine ()\n"
     ]
    },
    {
     "data": {
      "text/html": [
       "<div>\n",
       "<style scoped>\n",
       "    .dataframe tbody tr th:only-of-type {\n",
       "        vertical-align: middle;\n",
       "    }\n",
       "\n",
       "    .dataframe tbody tr th {\n",
       "        vertical-align: top;\n",
       "    }\n",
       "\n",
       "    .dataframe thead th {\n",
       "        text-align: right;\n",
       "    }\n",
       "</style>\n",
       "<table border=\"1\" class=\"dataframe\">\n",
       "  <thead>\n",
       "    <tr style=\"text-align: right;\">\n",
       "      <th></th>\n",
       "      <th>Id</th>\n",
       "      <th>CategoryId</th>\n",
       "      <th>ProductUnitPrice</th>\n",
       "      <th>OrderId</th>\n",
       "      <th>ProductId</th>\n",
       "      <th>UnitPrice</th>\n",
       "      <th>Quantity</th>\n",
       "      <th>Discount</th>\n",
       "    </tr>\n",
       "  </thead>\n",
       "  <tbody>\n",
       "    <tr>\n",
       "      <th>count</th>\n",
       "      <td>2155.000000</td>\n",
       "      <td>2155.000000</td>\n",
       "      <td>2155.000000</td>\n",
       "      <td>2155.000000</td>\n",
       "      <td>2155.000000</td>\n",
       "      <td>2155.000000</td>\n",
       "      <td>2155.000000</td>\n",
       "      <td>2155.000000</td>\n",
       "    </tr>\n",
       "    <tr>\n",
       "      <th>mean</th>\n",
       "      <td>40.793039</td>\n",
       "      <td>4.135499</td>\n",
       "      <td>27.948687</td>\n",
       "      <td>10659.375870</td>\n",
       "      <td>40.793039</td>\n",
       "      <td>26.218520</td>\n",
       "      <td>23.812993</td>\n",
       "      <td>0.056167</td>\n",
       "    </tr>\n",
       "    <tr>\n",
       "      <th>std</th>\n",
       "      <td>22.159019</td>\n",
       "      <td>2.378567</td>\n",
       "      <td>31.610706</td>\n",
       "      <td>241.378032</td>\n",
       "      <td>22.159019</td>\n",
       "      <td>29.827418</td>\n",
       "      <td>19.022047</td>\n",
       "      <td>0.083450</td>\n",
       "    </tr>\n",
       "    <tr>\n",
       "      <th>min</th>\n",
       "      <td>1.000000</td>\n",
       "      <td>1.000000</td>\n",
       "      <td>2.500000</td>\n",
       "      <td>10248.000000</td>\n",
       "      <td>1.000000</td>\n",
       "      <td>2.000000</td>\n",
       "      <td>1.000000</td>\n",
       "      <td>0.000000</td>\n",
       "    </tr>\n",
       "    <tr>\n",
       "      <th>25%</th>\n",
       "      <td>22.000000</td>\n",
       "      <td>2.000000</td>\n",
       "      <td>12.500000</td>\n",
       "      <td>10451.000000</td>\n",
       "      <td>22.000000</td>\n",
       "      <td>12.000000</td>\n",
       "      <td>10.000000</td>\n",
       "      <td>0.000000</td>\n",
       "    </tr>\n",
       "    <tr>\n",
       "      <th>50%</th>\n",
       "      <td>41.000000</td>\n",
       "      <td>4.000000</td>\n",
       "      <td>19.450000</td>\n",
       "      <td>10657.000000</td>\n",
       "      <td>41.000000</td>\n",
       "      <td>18.400000</td>\n",
       "      <td>20.000000</td>\n",
       "      <td>0.000000</td>\n",
       "    </tr>\n",
       "    <tr>\n",
       "      <th>75%</th>\n",
       "      <td>60.000000</td>\n",
       "      <td>6.000000</td>\n",
       "      <td>34.000000</td>\n",
       "      <td>10862.500000</td>\n",
       "      <td>60.000000</td>\n",
       "      <td>32.000000</td>\n",
       "      <td>30.000000</td>\n",
       "      <td>0.100000</td>\n",
       "    </tr>\n",
       "    <tr>\n",
       "      <th>max</th>\n",
       "      <td>77.000000</td>\n",
       "      <td>8.000000</td>\n",
       "      <td>263.500000</td>\n",
       "      <td>11077.000000</td>\n",
       "      <td>77.000000</td>\n",
       "      <td>263.500000</td>\n",
       "      <td>130.000000</td>\n",
       "      <td>0.250000</td>\n",
       "    </tr>\n",
       "  </tbody>\n",
       "</table>\n",
       "</div>"
      ],
      "text/plain": [
       "                Id   CategoryId  ProductUnitPrice       OrderId    ProductId  \\\n",
       "count  2155.000000  2155.000000       2155.000000   2155.000000  2155.000000   \n",
       "mean     40.793039     4.135499         27.948687  10659.375870    40.793039   \n",
       "std      22.159019     2.378567         31.610706    241.378032    22.159019   \n",
       "min       1.000000     1.000000          2.500000  10248.000000     1.000000   \n",
       "25%      22.000000     2.000000         12.500000  10451.000000    22.000000   \n",
       "50%      41.000000     4.000000         19.450000  10657.000000    41.000000   \n",
       "75%      60.000000     6.000000         34.000000  10862.500000    60.000000   \n",
       "max      77.000000     8.000000        263.500000  11077.000000    77.000000   \n",
       "\n",
       "         UnitPrice     Quantity     Discount  \n",
       "count  2155.000000  2155.000000  2155.000000  \n",
       "mean     26.218520    23.812993     0.056167  \n",
       "std      29.827418    19.022047     0.083450  \n",
       "min       2.000000     1.000000     0.000000  \n",
       "25%      12.000000    10.000000     0.000000  \n",
       "50%      18.400000    20.000000     0.000000  \n",
       "75%      32.000000    30.000000     0.100000  \n",
       "max     263.500000   130.000000     0.250000  "
      ]
     },
     "execution_count": 109,
     "metadata": {},
     "output_type": "execute_result"
    }
   ],
   "source": [
    "q = '''SELECT product.Id, product.ProductName, product.CategoryId, product.UnitPrice as ProductUnitPrice, Orderdetail.OrderId, Orderdetail.ProductId, Orderdetail.UnitPrice, Orderdetail.Quantity, Orderdetail.Discount FROM PRODUCT JOIN ORDERDETAIL ON product.Id = OrderDetail.ProductId'''\n",
    "df = pd.read_sql_query(q, engine)\n",
    "df.head()\n",
    "df.describe()"
   ]
  },
  {
   "cell_type": "code",
   "execution_count": 79,
   "metadata": {},
   "outputs": [
    {
     "name": "stdout",
     "output_type": "stream",
     "text": [
      "2019-03-31 19:58:26,827 INFO sqlalchemy.engine.base.Engine SELECT COUNT(ProductId) FROM Product JOIN Orderdetail on product.Id = Orderdetail.ProductId GROUP BY orderdetail.OrderId\n",
      "2019-03-31 19:58:26,828 INFO sqlalchemy.engine.base.Engine ()\n"
     ]
    },
    {
     "data": {
      "text/html": [
       "<div>\n",
       "<style scoped>\n",
       "    .dataframe tbody tr th:only-of-type {\n",
       "        vertical-align: middle;\n",
       "    }\n",
       "\n",
       "    .dataframe tbody tr th {\n",
       "        vertical-align: top;\n",
       "    }\n",
       "\n",
       "    .dataframe thead th {\n",
       "        text-align: right;\n",
       "    }\n",
       "</style>\n",
       "<table border=\"1\" class=\"dataframe\">\n",
       "  <thead>\n",
       "    <tr style=\"text-align: right;\">\n",
       "      <th></th>\n",
       "      <th>COUNT(ProductId)</th>\n",
       "    </tr>\n",
       "  </thead>\n",
       "  <tbody>\n",
       "    <tr>\n",
       "      <th>0</th>\n",
       "      <td>3</td>\n",
       "    </tr>\n",
       "    <tr>\n",
       "      <th>1</th>\n",
       "      <td>2</td>\n",
       "    </tr>\n",
       "    <tr>\n",
       "      <th>2</th>\n",
       "      <td>3</td>\n",
       "    </tr>\n",
       "    <tr>\n",
       "      <th>3</th>\n",
       "      <td>3</td>\n",
       "    </tr>\n",
       "    <tr>\n",
       "      <th>4</th>\n",
       "      <td>3</td>\n",
       "    </tr>\n",
       "    <tr>\n",
       "      <th>5</th>\n",
       "      <td>3</td>\n",
       "    </tr>\n",
       "    <tr>\n",
       "      <th>6</th>\n",
       "      <td>3</td>\n",
       "    </tr>\n",
       "    <tr>\n",
       "      <th>7</th>\n",
       "      <td>4</td>\n",
       "    </tr>\n",
       "    <tr>\n",
       "      <th>8</th>\n",
       "      <td>2</td>\n",
       "    </tr>\n",
       "    <tr>\n",
       "      <th>9</th>\n",
       "      <td>3</td>\n",
       "    </tr>\n",
       "    <tr>\n",
       "      <th>10</th>\n",
       "      <td>3</td>\n",
       "    </tr>\n",
       "    <tr>\n",
       "      <th>11</th>\n",
       "      <td>2</td>\n",
       "    </tr>\n",
       "    <tr>\n",
       "      <th>12</th>\n",
       "      <td>4</td>\n",
       "    </tr>\n",
       "    <tr>\n",
       "      <th>13</th>\n",
       "      <td>2</td>\n",
       "    </tr>\n",
       "    <tr>\n",
       "      <th>14</th>\n",
       "      <td>3</td>\n",
       "    </tr>\n",
       "    <tr>\n",
       "      <th>15</th>\n",
       "      <td>4</td>\n",
       "    </tr>\n",
       "    <tr>\n",
       "      <th>16</th>\n",
       "      <td>2</td>\n",
       "    </tr>\n",
       "    <tr>\n",
       "      <th>17</th>\n",
       "      <td>2</td>\n",
       "    </tr>\n",
       "    <tr>\n",
       "      <th>18</th>\n",
       "      <td>1</td>\n",
       "    </tr>\n",
       "    <tr>\n",
       "      <th>19</th>\n",
       "      <td>3</td>\n",
       "    </tr>\n",
       "    <tr>\n",
       "      <th>20</th>\n",
       "      <td>2</td>\n",
       "    </tr>\n",
       "    <tr>\n",
       "      <th>21</th>\n",
       "      <td>2</td>\n",
       "    </tr>\n",
       "    <tr>\n",
       "      <th>22</th>\n",
       "      <td>2</td>\n",
       "    </tr>\n",
       "    <tr>\n",
       "      <th>23</th>\n",
       "      <td>1</td>\n",
       "    </tr>\n",
       "    <tr>\n",
       "      <th>24</th>\n",
       "      <td>3</td>\n",
       "    </tr>\n",
       "    <tr>\n",
       "      <th>25</th>\n",
       "      <td>5</td>\n",
       "    </tr>\n",
       "    <tr>\n",
       "      <th>26</th>\n",
       "      <td>2</td>\n",
       "    </tr>\n",
       "    <tr>\n",
       "      <th>27</th>\n",
       "      <td>2</td>\n",
       "    </tr>\n",
       "    <tr>\n",
       "      <th>28</th>\n",
       "      <td>2</td>\n",
       "    </tr>\n",
       "    <tr>\n",
       "      <th>29</th>\n",
       "      <td>2</td>\n",
       "    </tr>\n",
       "    <tr>\n",
       "      <th>30</th>\n",
       "      <td>4</td>\n",
       "    </tr>\n",
       "    <tr>\n",
       "      <th>31</th>\n",
       "      <td>1</td>\n",
       "    </tr>\n",
       "    <tr>\n",
       "      <th>32</th>\n",
       "      <td>3</td>\n",
       "    </tr>\n",
       "    <tr>\n",
       "      <th>33</th>\n",
       "      <td>3</td>\n",
       "    </tr>\n",
       "    <tr>\n",
       "      <th>34</th>\n",
       "      <td>2</td>\n",
       "    </tr>\n",
       "    <tr>\n",
       "      <th>35</th>\n",
       "      <td>4</td>\n",
       "    </tr>\n",
       "    <tr>\n",
       "      <th>36</th>\n",
       "      <td>4</td>\n",
       "    </tr>\n",
       "    <tr>\n",
       "      <th>37</th>\n",
       "      <td>3</td>\n",
       "    </tr>\n",
       "    <tr>\n",
       "      <th>38</th>\n",
       "      <td>2</td>\n",
       "    </tr>\n",
       "    <tr>\n",
       "      <th>39</th>\n",
       "      <td>3</td>\n",
       "    </tr>\n",
       "    <tr>\n",
       "      <th>40</th>\n",
       "      <td>2</td>\n",
       "    </tr>\n",
       "    <tr>\n",
       "      <th>41</th>\n",
       "      <td>2</td>\n",
       "    </tr>\n",
       "    <tr>\n",
       "      <th>42</th>\n",
       "      <td>4</td>\n",
       "    </tr>\n",
       "    <tr>\n",
       "      <th>43</th>\n",
       "      <td>3</td>\n",
       "    </tr>\n",
       "    <tr>\n",
       "      <th>44</th>\n",
       "      <td>1</td>\n",
       "    </tr>\n",
       "    <tr>\n",
       "      <th>45</th>\n",
       "      <td>4</td>\n",
       "    </tr>\n",
       "    <tr>\n",
       "      <th>46</th>\n",
       "      <td>5</td>\n",
       "    </tr>\n",
       "    <tr>\n",
       "      <th>47</th>\n",
       "      <td>1</td>\n",
       "    </tr>\n",
       "    <tr>\n",
       "      <th>48</th>\n",
       "      <td>3</td>\n",
       "    </tr>\n",
       "    <tr>\n",
       "      <th>49</th>\n",
       "      <td>2</td>\n",
       "    </tr>\n",
       "  </tbody>\n",
       "</table>\n",
       "</div>"
      ],
      "text/plain": [
       "    COUNT(ProductId)\n",
       "0                  3\n",
       "1                  2\n",
       "2                  3\n",
       "3                  3\n",
       "4                  3\n",
       "5                  3\n",
       "6                  3\n",
       "7                  4\n",
       "8                  2\n",
       "9                  3\n",
       "10                 3\n",
       "11                 2\n",
       "12                 4\n",
       "13                 2\n",
       "14                 3\n",
       "15                 4\n",
       "16                 2\n",
       "17                 2\n",
       "18                 1\n",
       "19                 3\n",
       "20                 2\n",
       "21                 2\n",
       "22                 2\n",
       "23                 1\n",
       "24                 3\n",
       "25                 5\n",
       "26                 2\n",
       "27                 2\n",
       "28                 2\n",
       "29                 2\n",
       "30                 4\n",
       "31                 1\n",
       "32                 3\n",
       "33                 3\n",
       "34                 2\n",
       "35                 4\n",
       "36                 4\n",
       "37                 3\n",
       "38                 2\n",
       "39                 3\n",
       "40                 2\n",
       "41                 2\n",
       "42                 4\n",
       "43                 3\n",
       "44                 1\n",
       "45                 4\n",
       "46                 5\n",
       "47                 1\n",
       "48                 3\n",
       "49                 2"
      ]
     },
     "execution_count": 79,
     "metadata": {},
     "output_type": "execute_result"
    }
   ],
   "source": [
    "# df = pd.read_sql_query('''SELECT * FROM orderdetail GROUP BY OrderId''', engine)\n",
    "# df = pd.read_sql_query('''SELECT * FROM \"order\"''', engine)\n",
    "# df.head(30)\n",
    "q = '''SELECT COUNT(ProductId) FROM Product JOIN Orderdetail on product.Id = Orderdetail.ProductId GROUP BY orderdetail.OrderId'''\n",
    "\n",
    "df = pd.read_sql_query(q, engine)\n",
    "df.head(50)"
   ]
  },
  {
   "cell_type": "code",
   "execution_count": null,
   "metadata": {},
   "outputs": [],
   "source": []
  },
  {
   "cell_type": "code",
   "execution_count": null,
   "metadata": {},
   "outputs": [],
   "source": []
  },
  {
   "cell_type": "code",
   "execution_count": null,
   "metadata": {},
   "outputs": [],
   "source": []
  },
  {
   "cell_type": "code",
   "execution_count": null,
   "metadata": {},
   "outputs": [],
   "source": []
  },
  {
   "cell_type": "code",
   "execution_count": null,
   "metadata": {},
   "outputs": [],
   "source": []
  },
  {
   "cell_type": "code",
   "execution_count": null,
   "metadata": {},
   "outputs": [],
   "source": []
  },
  {
   "cell_type": "code",
   "execution_count": null,
   "metadata": {},
   "outputs": [],
   "source": []
  },
  {
   "cell_type": "code",
   "execution_count": null,
   "metadata": {},
   "outputs": [],
   "source": []
  },
  {
   "cell_type": "code",
   "execution_count": null,
   "metadata": {},
   "outputs": [],
   "source": []
  },
  {
   "cell_type": "code",
   "execution_count": null,
   "metadata": {},
   "outputs": [],
   "source": []
  },
  {
   "cell_type": "code",
   "execution_count": null,
   "metadata": {},
   "outputs": [],
   "source": []
  },
  {
   "cell_type": "code",
   "execution_count": null,
   "metadata": {},
   "outputs": [],
   "source": []
  },
  {
   "cell_type": "code",
   "execution_count": null,
   "metadata": {},
   "outputs": [],
   "source": []
  },
  {
   "cell_type": "code",
   "execution_count": null,
   "metadata": {},
   "outputs": [],
   "source": []
  },
  {
   "cell_type": "code",
   "execution_count": 41,
   "metadata": {},
   "outputs": [],
   "source": [
    "# conn = sqlite3.connect('Northwind_small.sqlite')\n",
    "# c = conn.cursor()\n",
    "\n",
    "# def query_all_table(table_name):\n",
    "#     sql_string = \"SELECT * FROM \" + table_name\n",
    "#     all_rows = c.execute(sql_string).fetchall()\n",
    "#     print(\"The number of {} is {}\".format(table_name, len(all_rows)))\n",
    "#     return all_rows\n",
    "\n",
    "# def query_and_fetch(sql_string):\n",
    "#     return c.execute(sql_string).fetchall()"
   ]
  },
  {
   "cell_type": "code",
   "execution_count": 46,
   "metadata": {},
   "outputs": [
    {
     "name": "stdout",
     "output_type": "stream",
     "text": [
      "The number of product is 77\n",
      "The number of category is 8\n",
      "The number of 'order' is 830\n",
      "The number of orderdetail is 2155\n",
      "The number of customer is 91\n"
     ]
    }
   ],
   "source": [
    "# products = query_all_table('product')\n",
    "# categories = query_all_table('category')\n",
    "# orders = query_all_table(\"'order'\")\n",
    "# order_details = query_all_table('orderdetail')\n",
    "# customers = query_all_table('customer')"
   ]
  },
  {
   "cell_type": "code",
   "execution_count": null,
   "metadata": {},
   "outputs": [],
   "source": []
  },
  {
   "cell_type": "code",
   "execution_count": null,
   "metadata": {},
   "outputs": [],
   "source": []
  },
  {
   "cell_type": "code",
   "execution_count": null,
   "metadata": {},
   "outputs": [],
   "source": []
  }
 ],
 "metadata": {
  "kernelspec": {
   "display_name": "Python 3",
   "language": "python",
   "name": "python3"
  },
  "language_info": {
   "codemirror_mode": {
    "name": "ipython",
    "version": 3
   },
   "file_extension": ".py",
   "mimetype": "text/x-python",
   "name": "python",
   "nbconvert_exporter": "python",
   "pygments_lexer": "ipython3",
   "version": "3.7.1"
  },
  "toc": {
   "base_numbering": 1,
   "nav_menu": {},
   "number_sections": true,
   "sideBar": true,
   "skip_h1_title": false,
   "title_cell": "Table of Contents",
   "title_sidebar": "Contents",
   "toc_cell": false,
   "toc_position": {},
   "toc_section_display": true,
   "toc_window_display": false
  }
 },
 "nbformat": 4,
 "nbformat_minor": 2
}
